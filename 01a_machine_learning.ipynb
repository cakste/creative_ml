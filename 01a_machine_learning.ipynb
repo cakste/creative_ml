{
 "cells": [
  {
   "cell_type": "markdown",
   "metadata": {},
   "source": [
    "# Creative machine learning - Machine Learning\n",
    "\n",
    "### Author: Philippe Esling (esling@ircam.fr)\n",
    "\n",
    "In this course we will cover\n",
    "1. A [first definition](#definition) on the concept of machine learning\n",
    "2. An introduction to a simple problem of [linear regression](#regression)\n",
    "4. A detailed implementation of [simple linear regression](#linear)\n",
    "3. An explanation on [model capacity and overfitting](#capacity)\n",
    "4. Two [exercises](#exercises) to explore regression and classification\n",
    "4. An introduction to the [audio datasets](#audio) that we will use"
   ]
  },
  {
   "cell_type": "markdown",
   "metadata": {},
   "source": [
    "<a id=\"definition\"></a>\n",
    "## Defining machine learning\n",
    "\n",
    "In all natural process, there exists complex relations between sets $\\mathcal{X} \\mapsto \\mathcal{Y}$. This can relate some objects with their names, or a cause to a consequence. In most cases, _we do not know the precise relations_ between these sets, all we have is _observations_ such as pairs $(x,y)$, composed of input data $x \\in \\mathcal{X}$, which have a corresponding expected output $y \\in \\mathcal{Y}$. The overarching goal of machine learning is to approximate such _unknown processes_ as a function $\\mathcal{F}_{\\theta}$, which _transforms_ input data $x$ into output data $y$.\n",
    "\n",
    "\n",
    "<center>\n",
    "<img src=\"images/01_machine_learning_basic.png\" align=\"center\"/>\n",
    "</center>\n",
    "\n",
    "Hence, machine learning aims to understand and model the relationship between some (usually complex and high-dimensional) inputs $\\mathbf{x}\\in\\mathcal{X}\\subset\\mathbb{R}^{\\mathcal{X}}$ and outputs $\\mathbf{y}\\in\\mathcal{Y}\\subset\\mathbb{R}^{\\mathcal{Y}}$, given by a set of data examples $\\mathcal{D}=\\left\\{(x_1,y_1),\\cdots,(x_N,y_N)\\right\\}$. This is achieved by defining a parametric model $f_{\\mathbf{\\theta}}\\in\\mathcal{F}$ inside a family of functions $\\mathcal{F}$, which depends on parameters $\\mathbf{\\theta} \\in \\mathbf{\\Theta}$ and that could approximate the underlying relationship. The _learning_ aspect refers to the adjustment of the parameters $\\mathbf{\\theta}$ in order to obtain the best approximation of the given task\n",
    "$$\n",
    "\\begin{equation}\n",
    "f_{\\mathbf{\\theta}}(\\mathbf{x}) = \\bar{\\mathbf{y}}\\approx \\mathbf{y}.\n",
    "\\end{equation}\n",
    "$$\n",
    "\n",
    "Hence, the major elements that we have to define in any machine learning problems are\n",
    "1. **Dataset** : $\\mathcal{D}=\\left\\{(x_1,y_1),\\cdots,(x_N,y_N)\\right\\}$. This dataset has to be representative of the relation $f:\\mathcal{X} \\mapsto \\mathcal{Y}$ that we are looking to model\n",
    "2. **Model** : Our parametric approximation $\\bar{\\mathbf{y}} = f_{\\mathbf{\\theta}}(\\mathbf{x})$, where the choice of family $f_{\\mathbf{\\theta}}\\in\\mathcal{F}$ is critical\n",
    "3. **Loss** : $\\mathcal{L}\\left( \\bar{\\mathbf{y}}, \\mathbf{y} \\mid f_{\\theta}, \\theta \\right)$ allows to measure the amount of errors made by our model\n",
    "4. **Optimization** : Method to find $\\theta^{*}\\in\\Theta$ so that our model minimizes the loss\n",
    "$$\\theta^{*}= \\underset{\\theta}{\\text{argmin }} \\mathcal{L}\\left( \\bar{\\mathbf{y}}, \\mathbf{y} \\mid f_{\\theta}, \\theta \\right)$$\n",
    "\n",
    "\n",
    "To observe this idea in simple setups, we are going to use the `numpy` library and also initialize the homemade course library `cml` and style for future plotting and exercise. We also set the random generator to a fixed point with `rng = np.random.RandomState(1)`, to ensure reproducibility"
   ]
  },
  {
   "cell_type": "code",
   "execution_count": 83,
   "metadata": {
    "tags": []
   },
   "outputs": [
    {
     "data": {
      "text/html": [
       "<div class=\"bk-root\">\n",
       "        <a href=\"https://bokeh.org\" target=\"_blank\" class=\"bk-logo bk-logo-small bk-logo-notebook\"></a>\n",
       "        <span id=\"4515\">Loading BokehJS ...</span>\n",
       "    </div>\n"
      ]
     },
     "metadata": {},
     "output_type": "display_data"
    },
    {
     "data": {
      "application/javascript": [
       "(function(root) {\n",
       "  function now() {\n",
       "    return new Date();\n",
       "  }\n",
       "\n",
       "  const force = true;\n",
       "\n",
       "  if (typeof root._bokeh_onload_callbacks === \"undefined\" || force === true) {\n",
       "    root._bokeh_onload_callbacks = [];\n",
       "    root._bokeh_is_loading = undefined;\n",
       "  }\n",
       "\n",
       "const JS_MIME_TYPE = 'application/javascript';\n",
       "  const HTML_MIME_TYPE = 'text/html';\n",
       "  const EXEC_MIME_TYPE = 'application/vnd.bokehjs_exec.v0+json';\n",
       "  const CLASS_NAME = 'output_bokeh rendered_html';\n",
       "\n",
       "  /**\n",
       "   * Render data to the DOM node\n",
       "   */\n",
       "  function render(props, node) {\n",
       "    const script = document.createElement(\"script\");\n",
       "    node.appendChild(script);\n",
       "  }\n",
       "\n",
       "  /**\n",
       "   * Handle when an output is cleared or removed\n",
       "   */\n",
       "  function handleClearOutput(event, handle) {\n",
       "    const cell = handle.cell;\n",
       "\n",
       "    const id = cell.output_area._bokeh_element_id;\n",
       "    const server_id = cell.output_area._bokeh_server_id;\n",
       "    // Clean up Bokeh references\n",
       "    if (id != null && id in Bokeh.index) {\n",
       "      Bokeh.index[id].model.document.clear();\n",
       "      delete Bokeh.index[id];\n",
       "    }\n",
       "\n",
       "    if (server_id !== undefined) {\n",
       "      // Clean up Bokeh references\n",
       "      const cmd_clean = \"from bokeh.io.state import curstate; print(curstate().uuid_to_server['\" + server_id + \"'].get_sessions()[0].document.roots[0]._id)\";\n",
       "      cell.notebook.kernel.execute(cmd_clean, {\n",
       "        iopub: {\n",
       "          output: function(msg) {\n",
       "            const id = msg.content.text.trim();\n",
       "            if (id in Bokeh.index) {\n",
       "              Bokeh.index[id].model.document.clear();\n",
       "              delete Bokeh.index[id];\n",
       "            }\n",
       "          }\n",
       "        }\n",
       "      });\n",
       "      // Destroy server and session\n",
       "      const cmd_destroy = \"import bokeh.io.notebook as ion; ion.destroy_server('\" + server_id + \"')\";\n",
       "      cell.notebook.kernel.execute(cmd_destroy);\n",
       "    }\n",
       "  }\n",
       "\n",
       "  /**\n",
       "   * Handle when a new output is added\n",
       "   */\n",
       "  function handleAddOutput(event, handle) {\n",
       "    const output_area = handle.output_area;\n",
       "    const output = handle.output;\n",
       "\n",
       "    // limit handleAddOutput to display_data with EXEC_MIME_TYPE content only\n",
       "    if ((output.output_type != \"display_data\") || (!Object.prototype.hasOwnProperty.call(output.data, EXEC_MIME_TYPE))) {\n",
       "      return\n",
       "    }\n",
       "\n",
       "    const toinsert = output_area.element.find(\".\" + CLASS_NAME.split(' ')[0]);\n",
       "\n",
       "    if (output.metadata[EXEC_MIME_TYPE][\"id\"] !== undefined) {\n",
       "      toinsert[toinsert.length - 1].firstChild.textContent = output.data[JS_MIME_TYPE];\n",
       "      // store reference to embed id on output_area\n",
       "      output_area._bokeh_element_id = output.metadata[EXEC_MIME_TYPE][\"id\"];\n",
       "    }\n",
       "    if (output.metadata[EXEC_MIME_TYPE][\"server_id\"] !== undefined) {\n",
       "      const bk_div = document.createElement(\"div\");\n",
       "      bk_div.innerHTML = output.data[HTML_MIME_TYPE];\n",
       "      const script_attrs = bk_div.children[0].attributes;\n",
       "      for (let i = 0; i < script_attrs.length; i++) {\n",
       "        toinsert[toinsert.length - 1].firstChild.setAttribute(script_attrs[i].name, script_attrs[i].value);\n",
       "        toinsert[toinsert.length - 1].firstChild.textContent = bk_div.children[0].textContent\n",
       "      }\n",
       "      // store reference to server id on output_area\n",
       "      output_area._bokeh_server_id = output.metadata[EXEC_MIME_TYPE][\"server_id\"];\n",
       "    }\n",
       "  }\n",
       "\n",
       "  function register_renderer(events, OutputArea) {\n",
       "\n",
       "    function append_mime(data, metadata, element) {\n",
       "      // create a DOM node to render to\n",
       "      const toinsert = this.create_output_subarea(\n",
       "        metadata,\n",
       "        CLASS_NAME,\n",
       "        EXEC_MIME_TYPE\n",
       "      );\n",
       "      this.keyboard_manager.register_events(toinsert);\n",
       "      // Render to node\n",
       "      const props = {data: data, metadata: metadata[EXEC_MIME_TYPE]};\n",
       "      render(props, toinsert[toinsert.length - 1]);\n",
       "      element.append(toinsert);\n",
       "      return toinsert\n",
       "    }\n",
       "\n",
       "    /* Handle when an output is cleared or removed */\n",
       "    events.on('clear_output.CodeCell', handleClearOutput);\n",
       "    events.on('delete.Cell', handleClearOutput);\n",
       "\n",
       "    /* Handle when a new output is added */\n",
       "    events.on('output_added.OutputArea', handleAddOutput);\n",
       "\n",
       "    /**\n",
       "     * Register the mime type and append_mime function with output_area\n",
       "     */\n",
       "    OutputArea.prototype.register_mime_type(EXEC_MIME_TYPE, append_mime, {\n",
       "      /* Is output safe? */\n",
       "      safe: true,\n",
       "      /* Index of renderer in `output_area.display_order` */\n",
       "      index: 0\n",
       "    });\n",
       "  }\n",
       "\n",
       "  // register the mime type if in Jupyter Notebook environment and previously unregistered\n",
       "  if (root.Jupyter !== undefined) {\n",
       "    const events = require('base/js/events');\n",
       "    const OutputArea = require('notebook/js/outputarea').OutputArea;\n",
       "\n",
       "    if (OutputArea.prototype.mime_types().indexOf(EXEC_MIME_TYPE) == -1) {\n",
       "      register_renderer(events, OutputArea);\n",
       "    }\n",
       "  }\n",
       "  if (typeof (root._bokeh_timeout) === \"undefined\" || force === true) {\n",
       "    root._bokeh_timeout = Date.now() + 5000;\n",
       "    root._bokeh_failed_load = false;\n",
       "  }\n",
       "\n",
       "  const NB_LOAD_WARNING = {'data': {'text/html':\n",
       "     \"<div style='background-color: #fdd'>\\n\"+\n",
       "     \"<p>\\n\"+\n",
       "     \"BokehJS does not appear to have successfully loaded. If loading BokehJS from CDN, this \\n\"+\n",
       "     \"may be due to a slow or bad network connection. Possible fixes:\\n\"+\n",
       "     \"</p>\\n\"+\n",
       "     \"<ul>\\n\"+\n",
       "     \"<li>re-rerun `output_notebook()` to attempt to load from CDN again, or</li>\\n\"+\n",
       "     \"<li>use INLINE resources instead, as so:</li>\\n\"+\n",
       "     \"</ul>\\n\"+\n",
       "     \"<code>\\n\"+\n",
       "     \"from bokeh.resources import INLINE\\n\"+\n",
       "     \"output_notebook(resources=INLINE)\\n\"+\n",
       "     \"</code>\\n\"+\n",
       "     \"</div>\"}};\n",
       "\n",
       "  function display_loaded() {\n",
       "    const el = document.getElementById(\"4515\");\n",
       "    if (el != null) {\n",
       "      el.textContent = \"BokehJS is loading...\";\n",
       "    }\n",
       "    if (root.Bokeh !== undefined) {\n",
       "      if (el != null) {\n",
       "        el.textContent = \"BokehJS \" + root.Bokeh.version + \" successfully loaded.\";\n",
       "      }\n",
       "    } else if (Date.now() < root._bokeh_timeout) {\n",
       "      setTimeout(display_loaded, 100)\n",
       "    }\n",
       "  }\n",
       "\n",
       "  function run_callbacks() {\n",
       "    try {\n",
       "      root._bokeh_onload_callbacks.forEach(function(callback) {\n",
       "        if (callback != null)\n",
       "          callback();\n",
       "      });\n",
       "    } finally {\n",
       "      delete root._bokeh_onload_callbacks\n",
       "    }\n",
       "    console.debug(\"Bokeh: all callbacks have finished\");\n",
       "  }\n",
       "\n",
       "  function load_libs(css_urls, js_urls, callback) {\n",
       "    if (css_urls == null) css_urls = [];\n",
       "    if (js_urls == null) js_urls = [];\n",
       "\n",
       "    root._bokeh_onload_callbacks.push(callback);\n",
       "    if (root._bokeh_is_loading > 0) {\n",
       "      console.debug(\"Bokeh: BokehJS is being loaded, scheduling callback at\", now());\n",
       "      return null;\n",
       "    }\n",
       "    if (js_urls == null || js_urls.length === 0) {\n",
       "      run_callbacks();\n",
       "      return null;\n",
       "    }\n",
       "    console.debug(\"Bokeh: BokehJS not loaded, scheduling load and callback at\", now());\n",
       "    root._bokeh_is_loading = css_urls.length + js_urls.length;\n",
       "\n",
       "    function on_load() {\n",
       "      root._bokeh_is_loading--;\n",
       "      if (root._bokeh_is_loading === 0) {\n",
       "        console.debug(\"Bokeh: all BokehJS libraries/stylesheets loaded\");\n",
       "        run_callbacks()\n",
       "      }\n",
       "    }\n",
       "\n",
       "    function on_error(url) {\n",
       "      console.error(\"failed to load \" + url);\n",
       "    }\n",
       "\n",
       "    for (let i = 0; i < css_urls.length; i++) {\n",
       "      const url = css_urls[i];\n",
       "      const element = document.createElement(\"link\");\n",
       "      element.onload = on_load;\n",
       "      element.onerror = on_error.bind(null, url);\n",
       "      element.rel = \"stylesheet\";\n",
       "      element.type = \"text/css\";\n",
       "      element.href = url;\n",
       "      console.debug(\"Bokeh: injecting link tag for BokehJS stylesheet: \", url);\n",
       "      document.body.appendChild(element);\n",
       "    }\n",
       "\n",
       "    for (let i = 0; i < js_urls.length; i++) {\n",
       "      const url = js_urls[i];\n",
       "      const element = document.createElement('script');\n",
       "      element.onload = on_load;\n",
       "      element.onerror = on_error.bind(null, url);\n",
       "      element.async = false;\n",
       "      element.src = url;\n",
       "      console.debug(\"Bokeh: injecting script tag for BokehJS library: \", url);\n",
       "      document.head.appendChild(element);\n",
       "    }\n",
       "  };\n",
       "\n",
       "  function inject_raw_css(css) {\n",
       "    const element = document.createElement(\"style\");\n",
       "    element.appendChild(document.createTextNode(css));\n",
       "    document.body.appendChild(element);\n",
       "  }\n",
       "\n",
       "  const js_urls = [\"https://cdnjs.cloudflare.com/ajax/libs/ace/1.4.11/ace.js\", \"https://cdnjs.cloudflare.com/ajax/libs/ace/1.4.11/ext-language_tools.js\", \"https://cdnjs.cloudflare.com/ajax/libs/ace/1.4.11/ext-modelist.js\", \"https://cdn.bokeh.org/bokeh/release/bokeh-2.4.3.min.js\", \"https://cdn.bokeh.org/bokeh/release/bokeh-gl-2.4.3.min.js\", \"https://cdn.bokeh.org/bokeh/release/bokeh-widgets-2.4.3.min.js\", \"https://cdn.bokeh.org/bokeh/release/bokeh-tables-2.4.3.min.js\", \"https://cdn.bokeh.org/bokeh/release/bokeh-mathjax-2.4.3.min.js\", \"https://unpkg.com/@holoviz/panel@0.14.4/dist/panel.min.js\"];\n",
       "  const css_urls = [];\n",
       "\n",
       "  const inline_js = [    function(Bokeh) {\n",
       "      Bokeh.set_log_level(\"info\");\n",
       "    },\n",
       "function(Bokeh) {\n",
       "    }\n",
       "  ];\n",
       "\n",
       "  function run_inline_js() {\n",
       "    if (root.Bokeh !== undefined || force === true) {\n",
       "          for (let i = 0; i < inline_js.length; i++) {\n",
       "      inline_js[i].call(root, root.Bokeh);\n",
       "    }\n",
       "if (force === true) {\n",
       "        display_loaded();\n",
       "      }} else if (Date.now() < root._bokeh_timeout) {\n",
       "      setTimeout(run_inline_js, 100);\n",
       "    } else if (!root._bokeh_failed_load) {\n",
       "      console.log(\"Bokeh: BokehJS failed to load within specified timeout.\");\n",
       "      root._bokeh_failed_load = true;\n",
       "    } else if (force !== true) {\n",
       "      const cell = $(document.getElementById(\"4515\")).parents('.cell').data().cell;\n",
       "      cell.output_area.append_execute_result(NB_LOAD_WARNING)\n",
       "    }\n",
       "  }\n",
       "\n",
       "  if (root._bokeh_is_loading === 0) {\n",
       "    console.debug(\"Bokeh: BokehJS loaded, going straight to plotting\");\n",
       "    run_inline_js();\n",
       "  } else {\n",
       "    load_libs(css_urls, js_urls, function() {\n",
       "      console.debug(\"Bokeh: BokehJS plotting callback run at\", now());\n",
       "      run_inline_js();\n",
       "    });\n",
       "  }\n",
       "}(window));"
      ],
      "application/vnd.bokehjs_load.v0+json": "(function(root) {\n  function now() {\n    return new Date();\n  }\n\n  const force = true;\n\n  if (typeof root._bokeh_onload_callbacks === \"undefined\" || force === true) {\n    root._bokeh_onload_callbacks = [];\n    root._bokeh_is_loading = undefined;\n  }\n\n\n  if (typeof (root._bokeh_timeout) === \"undefined\" || force === true) {\n    root._bokeh_timeout = Date.now() + 5000;\n    root._bokeh_failed_load = false;\n  }\n\n  const NB_LOAD_WARNING = {'data': {'text/html':\n     \"<div style='background-color: #fdd'>\\n\"+\n     \"<p>\\n\"+\n     \"BokehJS does not appear to have successfully loaded. If loading BokehJS from CDN, this \\n\"+\n     \"may be due to a slow or bad network connection. Possible fixes:\\n\"+\n     \"</p>\\n\"+\n     \"<ul>\\n\"+\n     \"<li>re-rerun `output_notebook()` to attempt to load from CDN again, or</li>\\n\"+\n     \"<li>use INLINE resources instead, as so:</li>\\n\"+\n     \"</ul>\\n\"+\n     \"<code>\\n\"+\n     \"from bokeh.resources import INLINE\\n\"+\n     \"output_notebook(resources=INLINE)\\n\"+\n     \"</code>\\n\"+\n     \"</div>\"}};\n\n  function display_loaded() {\n    const el = document.getElementById(\"4515\");\n    if (el != null) {\n      el.textContent = \"BokehJS is loading...\";\n    }\n    if (root.Bokeh !== undefined) {\n      if (el != null) {\n        el.textContent = \"BokehJS \" + root.Bokeh.version + \" successfully loaded.\";\n      }\n    } else if (Date.now() < root._bokeh_timeout) {\n      setTimeout(display_loaded, 100)\n    }\n  }\n\n  function run_callbacks() {\n    try {\n      root._bokeh_onload_callbacks.forEach(function(callback) {\n        if (callback != null)\n          callback();\n      });\n    } finally {\n      delete root._bokeh_onload_callbacks\n    }\n    console.debug(\"Bokeh: all callbacks have finished\");\n  }\n\n  function load_libs(css_urls, js_urls, callback) {\n    if (css_urls == null) css_urls = [];\n    if (js_urls == null) js_urls = [];\n\n    root._bokeh_onload_callbacks.push(callback);\n    if (root._bokeh_is_loading > 0) {\n      console.debug(\"Bokeh: BokehJS is being loaded, scheduling callback at\", now());\n      return null;\n    }\n    if (js_urls == null || js_urls.length === 0) {\n      run_callbacks();\n      return null;\n    }\n    console.debug(\"Bokeh: BokehJS not loaded, scheduling load and callback at\", now());\n    root._bokeh_is_loading = css_urls.length + js_urls.length;\n\n    function on_load() {\n      root._bokeh_is_loading--;\n      if (root._bokeh_is_loading === 0) {\n        console.debug(\"Bokeh: all BokehJS libraries/stylesheets loaded\");\n        run_callbacks()\n      }\n    }\n\n    function on_error(url) {\n      console.error(\"failed to load \" + url);\n    }\n\n    for (let i = 0; i < css_urls.length; i++) {\n      const url = css_urls[i];\n      const element = document.createElement(\"link\");\n      element.onload = on_load;\n      element.onerror = on_error.bind(null, url);\n      element.rel = \"stylesheet\";\n      element.type = \"text/css\";\n      element.href = url;\n      console.debug(\"Bokeh: injecting link tag for BokehJS stylesheet: \", url);\n      document.body.appendChild(element);\n    }\n\n    for (let i = 0; i < js_urls.length; i++) {\n      const url = js_urls[i];\n      const element = document.createElement('script');\n      element.onload = on_load;\n      element.onerror = on_error.bind(null, url);\n      element.async = false;\n      element.src = url;\n      console.debug(\"Bokeh: injecting script tag for BokehJS library: \", url);\n      document.head.appendChild(element);\n    }\n  };\n\n  function inject_raw_css(css) {\n    const element = document.createElement(\"style\");\n    element.appendChild(document.createTextNode(css));\n    document.body.appendChild(element);\n  }\n\n  const js_urls = [\"https://cdnjs.cloudflare.com/ajax/libs/ace/1.4.11/ace.js\", \"https://cdnjs.cloudflare.com/ajax/libs/ace/1.4.11/ext-language_tools.js\", \"https://cdnjs.cloudflare.com/ajax/libs/ace/1.4.11/ext-modelist.js\", \"https://cdn.bokeh.org/bokeh/release/bokeh-2.4.3.min.js\", \"https://cdn.bokeh.org/bokeh/release/bokeh-gl-2.4.3.min.js\", \"https://cdn.bokeh.org/bokeh/release/bokeh-widgets-2.4.3.min.js\", \"https://cdn.bokeh.org/bokeh/release/bokeh-tables-2.4.3.min.js\", \"https://cdn.bokeh.org/bokeh/release/bokeh-mathjax-2.4.3.min.js\", \"https://unpkg.com/@holoviz/panel@0.14.4/dist/panel.min.js\"];\n  const css_urls = [];\n\n  const inline_js = [    function(Bokeh) {\n      Bokeh.set_log_level(\"info\");\n    },\nfunction(Bokeh) {\n    }\n  ];\n\n  function run_inline_js() {\n    if (root.Bokeh !== undefined || force === true) {\n          for (let i = 0; i < inline_js.length; i++) {\n      inline_js[i].call(root, root.Bokeh);\n    }\nif (force === true) {\n        display_loaded();\n      }} else if (Date.now() < root._bokeh_timeout) {\n      setTimeout(run_inline_js, 100);\n    } else if (!root._bokeh_failed_load) {\n      console.log(\"Bokeh: BokehJS failed to load within specified timeout.\");\n      root._bokeh_failed_load = true;\n    } else if (force !== true) {\n      const cell = $(document.getElementById(\"4515\")).parents('.cell').data().cell;\n      cell.output_area.append_execute_result(NB_LOAD_WARNING)\n    }\n  }\n\n  if (root._bokeh_is_loading === 0) {\n    console.debug(\"Bokeh: BokehJS loaded, going straight to plotting\");\n    run_inline_js();\n  } else {\n    load_libs(css_urls, js_urls, function() {\n      console.debug(\"Bokeh: BokehJS plotting callback run at\", now());\n      run_inline_js();\n    });\n  }\n}(window));"
     },
     "metadata": {},
     "output_type": "display_data"
    },
    {
     "name": "stderr",
     "output_type": "stream",
     "text": [
      "WARNING:param.panel_extension: A HoloViz extension was loaded previously. This means the extension is already initialized and custom css_files resources could not be loaded. If you are loading custom extensions with pn.extension(...) ensure that this is calledbefore any other HoloViz extension such as hvPlot or HoloViews.\n"
     ]
    },
    {
     "data": {
      "application/javascript": [
       "(function(root) {\n",
       "  function now() {\n",
       "    return new Date();\n",
       "  }\n",
       "\n",
       "  var force = true;\n",
       "\n",
       "  if (typeof root._bokeh_onload_callbacks === \"undefined\" || force === true) {\n",
       "    root._bokeh_onload_callbacks = [];\n",
       "    root._bokeh_is_loading = undefined;\n",
       "  }\n",
       "\n",
       "  if (typeof (root._bokeh_timeout) === \"undefined\" || force === true) {\n",
       "    root._bokeh_timeout = Date.now() + 5000;\n",
       "    root._bokeh_failed_load = false;\n",
       "  }\n",
       "\n",
       "  function run_callbacks() {\n",
       "    try {\n",
       "      root._bokeh_onload_callbacks.forEach(function(callback) {\n",
       "        if (callback != null)\n",
       "          callback();\n",
       "      });\n",
       "    } finally {\n",
       "      delete root._bokeh_onload_callbacks\n",
       "    }\n",
       "    console.debug(\"Bokeh: all callbacks have finished\");\n",
       "  }\n",
       "\n",
       "  function load_libs(css_urls, js_urls, js_modules, callback) {\n",
       "    if (css_urls == null) css_urls = [];\n",
       "    if (js_urls == null) js_urls = [];\n",
       "    if (js_modules == null) js_modules = [];\n",
       "\n",
       "    root._bokeh_onload_callbacks.push(callback);\n",
       "    if (root._bokeh_is_loading > 0) {\n",
       "      console.debug(\"Bokeh: BokehJS is being loaded, scheduling callback at\", now());\n",
       "      return null;\n",
       "    }\n",
       "    if (js_urls.length === 0 && js_modules.length === 0) {\n",
       "      run_callbacks();\n",
       "      return null;\n",
       "    }\n",
       "    console.debug(\"Bokeh: BokehJS not loaded, scheduling load and callback at\", now());\n",
       "\n",
       "    function on_load() {\n",
       "      root._bokeh_is_loading--;\n",
       "      if (root._bokeh_is_loading === 0) {\n",
       "        console.debug(\"Bokeh: all BokehJS libraries/stylesheets loaded\");\n",
       "        run_callbacks()\n",
       "      }\n",
       "    }\n",
       "\n",
       "    function on_error() {\n",
       "      console.error(\"failed to load \" + url);\n",
       "    }\n",
       "\n",
       "    for (var i = 0; i < css_urls.length; i++) {\n",
       "      var url = css_urls[i];\n",
       "      const element = document.createElement(\"link\");\n",
       "      element.onload = on_load;\n",
       "      element.onerror = on_error;\n",
       "      element.rel = \"stylesheet\";\n",
       "      element.type = \"text/css\";\n",
       "      element.href = url;\n",
       "      console.debug(\"Bokeh: injecting link tag for BokehJS stylesheet: \", url);\n",
       "      document.body.appendChild(element);\n",
       "    }\n",
       "\n",
       "    var skip = [];\n",
       "    if (window.requirejs) {\n",
       "      window.requirejs.config({'packages': {}, 'paths': {'ace': '//cdnjs.cloudflare.com/ajax/libs/ace/1.4.7', 'gridstack': 'https://cdn.jsdelivr.net/npm/gridstack@4.2.5/dist/gridstack-h5', 'notyf': 'https://cdn.jsdelivr.net/npm/notyf@3/notyf.min'}, 'shim': {'ace/ext-language_tools': {'deps': ['ace/ace']}, 'ace/ext-modelist': {'deps': ['ace/ace']}, 'gridstack': {'exports': 'GridStack'}}});\n",
       "      require([\"ace/ace\"], function(ace) {\n",
       "\twindow.ace = ace\n",
       "\ton_load()\n",
       "      })\n",
       "      require([\"ace/ext-language_tools\"], function() {\n",
       "\ton_load()\n",
       "      })\n",
       "      require([\"ace/ext-modelist\"], function() {\n",
       "\ton_load()\n",
       "      })\n",
       "      require([\"gridstack\"], function(GridStack) {\n",
       "\twindow.GridStack = GridStack\n",
       "\ton_load()\n",
       "      })\n",
       "      require([\"notyf\"], function() {\n",
       "\ton_load()\n",
       "      })\n",
       "      root._bokeh_is_loading = css_urls.length + 5;\n",
       "    } else {\n",
       "      root._bokeh_is_loading = css_urls.length + js_urls.length + js_modules.length;\n",
       "    }    if (((window['ace'] !== undefined) && (!(window['ace'] instanceof HTMLElement))) || window.requirejs) {\n",
       "      var urls = ['https://cdnjs.cloudflare.com/ajax/libs/ace/1.4.11/ace.js', 'https://cdnjs.cloudflare.com/ajax/libs/ace/1.4.11/ext-language_tools.js', 'https://cdnjs.cloudflare.com/ajax/libs/ace/1.4.11/ext-modelist.js'];\n",
       "      for (var i = 0; i < urls.length; i++) {\n",
       "        skip.push(urls[i])\n",
       "      }\n",
       "    }    if (((window['GridStack'] !== undefined) && (!(window['GridStack'] instanceof HTMLElement))) || window.requirejs) {\n",
       "      var urls = ['https://cdn.holoviz.org/panel/0.14.4/dist/bundled/gridstack/gridstack@4.2.5/dist/gridstack-h5.js'];\n",
       "      for (var i = 0; i < urls.length; i++) {\n",
       "        skip.push(urls[i])\n",
       "      }\n",
       "    }    if (((window['Notyf'] !== undefined) && (!(window['Notyf'] instanceof HTMLElement))) || window.requirejs) {\n",
       "      var urls = ['https://cdn.holoviz.org/panel/0.14.4/dist/bundled/notificationarea/notyf@3/notyf.min.js'];\n",
       "      for (var i = 0; i < urls.length; i++) {\n",
       "        skip.push(urls[i])\n",
       "      }\n",
       "    }    for (var i = 0; i < js_urls.length; i++) {\n",
       "      var url = js_urls[i];\n",
       "      if (skip.indexOf(url) >= 0) {\n",
       "\tif (!window.requirejs) {\n",
       "\t  on_load();\n",
       "\t}\n",
       "\tcontinue;\n",
       "      }\n",
       "      var element = document.createElement('script');\n",
       "      element.onload = on_load;\n",
       "      element.onerror = on_error;\n",
       "      element.async = false;\n",
       "      element.src = url;\n",
       "      console.debug(\"Bokeh: injecting script tag for BokehJS library: \", url);\n",
       "      document.head.appendChild(element);\n",
       "    }\n",
       "    for (var i = 0; i < js_modules.length; i++) {\n",
       "      var url = js_modules[i];\n",
       "      if (skip.indexOf(url) >= 0) {\n",
       "\tif (!window.requirejs) {\n",
       "\t  on_load();\n",
       "\t}\n",
       "\tcontinue;\n",
       "      }\n",
       "      var element = document.createElement('script');\n",
       "      element.onload = on_load;\n",
       "      element.onerror = on_error;\n",
       "      element.async = false;\n",
       "      element.src = url;\n",
       "      element.type = \"module\";\n",
       "      console.debug(\"Bokeh: injecting script tag for BokehJS library: \", url);\n",
       "      document.head.appendChild(element);\n",
       "    }\n",
       "    if (!js_urls.length && !js_modules.length) {\n",
       "      on_load()\n",
       "    }\n",
       "  };\n",
       "\n",
       "  function inject_raw_css(css) {\n",
       "    const element = document.createElement(\"style\");\n",
       "    element.appendChild(document.createTextNode(css));\n",
       "    document.body.appendChild(element);\n",
       "  }\n",
       "\n",
       "  var js_urls = [\"https://cdnjs.cloudflare.com/ajax/libs/ace/1.4.11/ace.js\", \"https://cdnjs.cloudflare.com/ajax/libs/ace/1.4.11/ext-language_tools.js\", \"https://cdnjs.cloudflare.com/ajax/libs/ace/1.4.11/ext-modelist.js\", \"https://cdn.bokeh.org/bokeh/release/bokeh-2.4.3.min.js\", \"https://cdn.bokeh.org/bokeh/release/bokeh-gl-2.4.3.min.js\", \"https://cdn.bokeh.org/bokeh/release/bokeh-widgets-2.4.3.min.js\", \"https://cdn.bokeh.org/bokeh/release/bokeh-tables-2.4.3.min.js\", \"https://cdn.bokeh.org/bokeh/release/bokeh-mathjax-2.4.3.min.js\", \"https://unpkg.com/@holoviz/panel@0.14.4/dist/panel.min.js\"];\n",
       "  var js_modules = [];\n",
       "  var css_urls = [\"https://cdn.holoviz.org/panel/0.14.4/dist/css/debugger.css\", \"https://cdn.holoviz.org/panel/0.14.4/dist/css/alerts.css\", \"https://cdn.holoviz.org/panel/0.14.4/dist/css/card.css\", \"https://cdn.holoviz.org/panel/0.14.4/dist/css/widgets.css\", \"https://cdn.holoviz.org/panel/0.14.4/dist/css/markdown.css\", \"https://cdn.holoviz.org/panel/0.14.4/dist/css/json.css\", \"https://cdn.holoviz.org/panel/0.14.4/dist/css/loading.css\", \"https://cdn.holoviz.org/panel/0.14.4/dist/css/dataframe.css\"];\n",
       "  var inline_js = [    function(Bokeh) {\n",
       "      inject_raw_css(\"/*\\n ~ CML // Creative Machine Learning ~\\n mml.css : CSS styling information for Panel and Bokeh\\n \\n This file defines the main CSS styling information for the CML course\\n \\n Author               :  Philippe Esling\\n                        <esling@ircam.fr>\\n*/\\n\\nbody {\\n  display: flex;\\n  height: 100vh;\\n  margin: 0px;\\n  overflow-x: hidden;\\n  overflow-y: hidden;\\n}\\n\\n.bk-root .bk, .bk-root .bk:before, .bk-root .bk:after {\\n  font-family: \\\"Josefin Sans\\\";\\n}\\n\\nimg {\\n  max-width: 100%;\\n}\\n\\n#container {\\n  padding:0px;\\n  height:100vh;\\n  width: 100vw;\\n  max-width: 100vw;\\n}\\n\\n#sidebar .mdc-list {\\n  padding-left: 5px;\\n  padding-right: 5px;\\n}\\n\\n.mdc-drawer-app-content {\\n  flex: auto;\\n  position: relative;\\n  overflow: hidden;\\n}\\n\\n.mdc-drawer {\\n  background: #FAFAFA; /* GRAY 50 */\\n}\\n\\n.mdc-drawer-app-content {\\n  margin-left: 0 !important;\\n}\\n\\n.title-bar {\\n  display: contents;\\n  justify-content: center;\\n  align-content: center;\\n  width: 100%;\\n}\\n\\n.mdc-top-app-bar .bk-menu {\\n  color: black\\n}\\n\\n.app-header {\\n  display: contents;\\n  padding-left: 10px;\\n  font-size: 1.25em;\\n}\\n\\nimg.app-logo {\\n  padding-right: 10px;\\n  font-size: 28px;\\n  height: 30px;\\n  max-width: inherit;\\n  padding-top: 12px;\\n  padding-bottom: 6px;\\n}\\n\\n#app-title {\\n  padding-right: 12px;\\n  padding-left: 12px;\\n}\\n\\n.title {\\n  font-family: \\\"Josefin Sans\\\";\\n  color: #fff;\\n  text-decoration: none;\\n  text-decoration-line: none;\\n  text-decoration-style: initial;\\n  text-decoration-color: initial;\\n  font-weight: 400;\\n  font-size: 2em;\\n  line-height: 2em;\\n  white-space: nowrap;\\n}\\n\\n.main-content {\\n  overflow-y: scroll;\\n  overflow-x: auto;\\n}\\n\\n#header {\\n  position: absolute;\\n  z-index: 7;\\n}\\n\\n#header-items {\\n  width: 100%;\\n  margin-left:15px;\\n}\\n\\n.pn-busy-container {\\n  align-items: center;\\n  justify-content: center;\\n  display: flex;\\n}\\n\\n.mdc-drawer__content {\\n  overflow-x: hidden;\\n}\\n.mdc-drawer__content, .main-content {\\n  padding: 12px;\\n}\\n\\n.main-content {\\n  height: calc(100vh - 88px);\\n  max-height: calc(100vh - 88px);\\n  padding-right: 32px;\\n}\\n\\nbutton.mdc-button.mdc-card-button {\\n  color: transparent;\\n  height: 50px;\\n}\\n\\np.bk.mdc-button {\\n  display: none;\\n}\\n\\ndiv.bk.mdc-card {\\n  border-radius: 0px\\n}\\n\\n.mdc-card .bk.card-header {\\n  display: flex;\\n}\\n\\n.bk.mdc-card-title {\\n  font-family: \\\"Josefin Sans\\\";\\n  font-weight: bold;\\n  align-items: center;\\n  display: flex !important;\\n  position: relative !important;\\n}\\n\\n.bk.mdc-card-title:nth-child(2) {\\n  margin-left: -1.4em;\\n}\\n\\n.pn-modal {\\n  overflow-y: scroll;\\n  width: 100%;\\n  display: none;\\n  position: absolute;\\n  top: 0;\\n  left: 0;\\n}\\n\\n.pn-modal-content {\\n  font-family: \\\"Josefin Sans\\\";\\n  background-color: #0e0e0e;\\n  margin: auto;\\n  margin-top: 25px;\\n  margin-bottom: 25px;\\n  padding: 15px 20px 20px 20px;\\n  border: 1px solid #888;\\n  width: 80% !important;\\n}\\n\\n.pn-modal-close {\\n  position: absolute;\\n  right: 25px;\\n  z-index: 100;\\n}\\n\\n.pn-modal-close:hover,\\n.pn-modal-close:focus {\\n  color: #000;\\n  text-decoration: none;\\n  cursor: pointer;\\n}\\n\\n.custom_button_bokeh button.bk.bk-btn.bk-btn-default {\\n    font-size:48pt;\\n    background-color: #05b7ff;\\n    border-color: #05b7ff;\\n}\");\n",
       "    },    function(Bokeh) {\n",
       "      inject_raw_css(\"\\n    .bk.pn-loading.arc:before {\\n      background-image: url(\\\"data:image/svg+xml;base64,PHN2ZyB4bWxucz0iaHR0cDovL3d3dy53My5vcmcvMjAwMC9zdmciIHN0eWxlPSJtYXJnaW46IGF1dG87IGJhY2tncm91bmQ6IG5vbmU7IGRpc3BsYXk6IGJsb2NrOyBzaGFwZS1yZW5kZXJpbmc6IGF1dG87IiB2aWV3Qm94PSIwIDAgMTAwIDEwMCIgcHJlc2VydmVBc3BlY3RSYXRpbz0ieE1pZFlNaWQiPiAgPGNpcmNsZSBjeD0iNTAiIGN5PSI1MCIgZmlsbD0ibm9uZSIgc3Ryb2tlPSIjYzNjM2MzIiBzdHJva2Utd2lkdGg9IjEwIiByPSIzNSIgc3Ryb2tlLWRhc2hhcnJheT0iMTY0LjkzMzYxNDMxMzQ2NDE1IDU2Ljk3Nzg3MTQzNzgyMTM4Ij4gICAgPGFuaW1hdGVUcmFuc2Zvcm0gYXR0cmlidXRlTmFtZT0idHJhbnNmb3JtIiB0eXBlPSJyb3RhdGUiIHJlcGVhdENvdW50PSJpbmRlZmluaXRlIiBkdXI9IjFzIiB2YWx1ZXM9IjAgNTAgNTA7MzYwIDUwIDUwIiBrZXlUaW1lcz0iMDsxIj48L2FuaW1hdGVUcmFuc2Zvcm0+ICA8L2NpcmNsZT48L3N2Zz4=\\\");\\n      background-size: auto calc(min(50%, 400px));\\n    }\\n    \");\n",
       "    },    function(Bokeh) {\n",
       "      Bokeh.set_log_level(\"info\");\n",
       "    },\n",
       "function(Bokeh) {} // ensure no trailing comma for IE\n",
       "  ];\n",
       "\n",
       "  function run_inline_js() {\n",
       "    if ((root.Bokeh !== undefined) || (force === true)) {\n",
       "      for (var i = 0; i < inline_js.length; i++) {\n",
       "        inline_js[i].call(root, root.Bokeh);\n",
       "      }} else if (Date.now() < root._bokeh_timeout) {\n",
       "      setTimeout(run_inline_js, 100);\n",
       "    } else if (!root._bokeh_failed_load) {\n",
       "      console.log(\"Bokeh: BokehJS failed to load within specified timeout.\");\n",
       "      root._bokeh_failed_load = true;\n",
       "    }\n",
       "  }\n",
       "\n",
       "  if (root._bokeh_is_loading === 0) {\n",
       "    console.debug(\"Bokeh: BokehJS loaded, going straight to plotting\");\n",
       "    run_inline_js();\n",
       "  } else {\n",
       "    load_libs(css_urls, js_urls, js_modules, function() {\n",
       "      console.debug(\"Bokeh: BokehJS plotting callback run at\", now());\n",
       "      run_inline_js();\n",
       "    });\n",
       "  }\n",
       "}(window));"
      ],
      "application/vnd.holoviews_load.v0+json": "(function(root) {\n  function now() {\n    return new Date();\n  }\n\n  var force = true;\n\n  if (typeof root._bokeh_onload_callbacks === \"undefined\" || force === true) {\n    root._bokeh_onload_callbacks = [];\n    root._bokeh_is_loading = undefined;\n  }\n\n  if (typeof (root._bokeh_timeout) === \"undefined\" || force === true) {\n    root._bokeh_timeout = Date.now() + 5000;\n    root._bokeh_failed_load = false;\n  }\n\n  function run_callbacks() {\n    try {\n      root._bokeh_onload_callbacks.forEach(function(callback) {\n        if (callback != null)\n          callback();\n      });\n    } finally {\n      delete root._bokeh_onload_callbacks\n    }\n    console.debug(\"Bokeh: all callbacks have finished\");\n  }\n\n  function load_libs(css_urls, js_urls, js_modules, callback) {\n    if (css_urls == null) css_urls = [];\n    if (js_urls == null) js_urls = [];\n    if (js_modules == null) js_modules = [];\n\n    root._bokeh_onload_callbacks.push(callback);\n    if (root._bokeh_is_loading > 0) {\n      console.debug(\"Bokeh: BokehJS is being loaded, scheduling callback at\", now());\n      return null;\n    }\n    if (js_urls.length === 0 && js_modules.length === 0) {\n      run_callbacks();\n      return null;\n    }\n    console.debug(\"Bokeh: BokehJS not loaded, scheduling load and callback at\", now());\n\n    function on_load() {\n      root._bokeh_is_loading--;\n      if (root._bokeh_is_loading === 0) {\n        console.debug(\"Bokeh: all BokehJS libraries/stylesheets loaded\");\n        run_callbacks()\n      }\n    }\n\n    function on_error() {\n      console.error(\"failed to load \" + url);\n    }\n\n    for (var i = 0; i < css_urls.length; i++) {\n      var url = css_urls[i];\n      const element = document.createElement(\"link\");\n      element.onload = on_load;\n      element.onerror = on_error;\n      element.rel = \"stylesheet\";\n      element.type = \"text/css\";\n      element.href = url;\n      console.debug(\"Bokeh: injecting link tag for BokehJS stylesheet: \", url);\n      document.body.appendChild(element);\n    }\n\n    var skip = [];\n    if (window.requirejs) {\n      window.requirejs.config({'packages': {}, 'paths': {'ace': '//cdnjs.cloudflare.com/ajax/libs/ace/1.4.7', 'gridstack': 'https://cdn.jsdelivr.net/npm/gridstack@4.2.5/dist/gridstack-h5', 'notyf': 'https://cdn.jsdelivr.net/npm/notyf@3/notyf.min'}, 'shim': {'ace/ext-language_tools': {'deps': ['ace/ace']}, 'ace/ext-modelist': {'deps': ['ace/ace']}, 'gridstack': {'exports': 'GridStack'}}});\n      require([\"ace/ace\"], function(ace) {\n\twindow.ace = ace\n\ton_load()\n      })\n      require([\"ace/ext-language_tools\"], function() {\n\ton_load()\n      })\n      require([\"ace/ext-modelist\"], function() {\n\ton_load()\n      })\n      require([\"gridstack\"], function(GridStack) {\n\twindow.GridStack = GridStack\n\ton_load()\n      })\n      require([\"notyf\"], function() {\n\ton_load()\n      })\n      root._bokeh_is_loading = css_urls.length + 5;\n    } else {\n      root._bokeh_is_loading = css_urls.length + js_urls.length + js_modules.length;\n    }    if (((window['ace'] !== undefined) && (!(window['ace'] instanceof HTMLElement))) || window.requirejs) {\n      var urls = ['https://cdnjs.cloudflare.com/ajax/libs/ace/1.4.11/ace.js', 'https://cdnjs.cloudflare.com/ajax/libs/ace/1.4.11/ext-language_tools.js', 'https://cdnjs.cloudflare.com/ajax/libs/ace/1.4.11/ext-modelist.js'];\n      for (var i = 0; i < urls.length; i++) {\n        skip.push(urls[i])\n      }\n    }    if (((window['GridStack'] !== undefined) && (!(window['GridStack'] instanceof HTMLElement))) || window.requirejs) {\n      var urls = ['https://cdn.holoviz.org/panel/0.14.4/dist/bundled/gridstack/gridstack@4.2.5/dist/gridstack-h5.js'];\n      for (var i = 0; i < urls.length; i++) {\n        skip.push(urls[i])\n      }\n    }    if (((window['Notyf'] !== undefined) && (!(window['Notyf'] instanceof HTMLElement))) || window.requirejs) {\n      var urls = ['https://cdn.holoviz.org/panel/0.14.4/dist/bundled/notificationarea/notyf@3/notyf.min.js'];\n      for (var i = 0; i < urls.length; i++) {\n        skip.push(urls[i])\n      }\n    }    for (var i = 0; i < js_urls.length; i++) {\n      var url = js_urls[i];\n      if (skip.indexOf(url) >= 0) {\n\tif (!window.requirejs) {\n\t  on_load();\n\t}\n\tcontinue;\n      }\n      var element = document.createElement('script');\n      element.onload = on_load;\n      element.onerror = on_error;\n      element.async = false;\n      element.src = url;\n      console.debug(\"Bokeh: injecting script tag for BokehJS library: \", url);\n      document.head.appendChild(element);\n    }\n    for (var i = 0; i < js_modules.length; i++) {\n      var url = js_modules[i];\n      if (skip.indexOf(url) >= 0) {\n\tif (!window.requirejs) {\n\t  on_load();\n\t}\n\tcontinue;\n      }\n      var element = document.createElement('script');\n      element.onload = on_load;\n      element.onerror = on_error;\n      element.async = false;\n      element.src = url;\n      element.type = \"module\";\n      console.debug(\"Bokeh: injecting script tag for BokehJS library: \", url);\n      document.head.appendChild(element);\n    }\n    if (!js_urls.length && !js_modules.length) {\n      on_load()\n    }\n  };\n\n  function inject_raw_css(css) {\n    const element = document.createElement(\"style\");\n    element.appendChild(document.createTextNode(css));\n    document.body.appendChild(element);\n  }\n\n  var js_urls = [\"https://cdnjs.cloudflare.com/ajax/libs/ace/1.4.11/ace.js\", \"https://cdnjs.cloudflare.com/ajax/libs/ace/1.4.11/ext-language_tools.js\", \"https://cdnjs.cloudflare.com/ajax/libs/ace/1.4.11/ext-modelist.js\", \"https://cdn.bokeh.org/bokeh/release/bokeh-2.4.3.min.js\", \"https://cdn.bokeh.org/bokeh/release/bokeh-gl-2.4.3.min.js\", \"https://cdn.bokeh.org/bokeh/release/bokeh-widgets-2.4.3.min.js\", \"https://cdn.bokeh.org/bokeh/release/bokeh-tables-2.4.3.min.js\", \"https://cdn.bokeh.org/bokeh/release/bokeh-mathjax-2.4.3.min.js\", \"https://unpkg.com/@holoviz/panel@0.14.4/dist/panel.min.js\"];\n  var js_modules = [];\n  var css_urls = [\"https://cdn.holoviz.org/panel/0.14.4/dist/css/debugger.css\", \"https://cdn.holoviz.org/panel/0.14.4/dist/css/alerts.css\", \"https://cdn.holoviz.org/panel/0.14.4/dist/css/card.css\", \"https://cdn.holoviz.org/panel/0.14.4/dist/css/widgets.css\", \"https://cdn.holoviz.org/panel/0.14.4/dist/css/markdown.css\", \"https://cdn.holoviz.org/panel/0.14.4/dist/css/json.css\", \"https://cdn.holoviz.org/panel/0.14.4/dist/css/loading.css\", \"https://cdn.holoviz.org/panel/0.14.4/dist/css/dataframe.css\"];\n  var inline_js = [    function(Bokeh) {\n      inject_raw_css(\"/*\\n ~ CML // Creative Machine Learning ~\\n mml.css : CSS styling information for Panel and Bokeh\\n \\n This file defines the main CSS styling information for the CML course\\n \\n Author               :  Philippe Esling\\n                        <esling@ircam.fr>\\n*/\\n\\nbody {\\n  display: flex;\\n  height: 100vh;\\n  margin: 0px;\\n  overflow-x: hidden;\\n  overflow-y: hidden;\\n}\\n\\n.bk-root .bk, .bk-root .bk:before, .bk-root .bk:after {\\n  font-family: \\\"Josefin Sans\\\";\\n}\\n\\nimg {\\n  max-width: 100%;\\n}\\n\\n#container {\\n  padding:0px;\\n  height:100vh;\\n  width: 100vw;\\n  max-width: 100vw;\\n}\\n\\n#sidebar .mdc-list {\\n  padding-left: 5px;\\n  padding-right: 5px;\\n}\\n\\n.mdc-drawer-app-content {\\n  flex: auto;\\n  position: relative;\\n  overflow: hidden;\\n}\\n\\n.mdc-drawer {\\n  background: #FAFAFA; /* GRAY 50 */\\n}\\n\\n.mdc-drawer-app-content {\\n  margin-left: 0 !important;\\n}\\n\\n.title-bar {\\n  display: contents;\\n  justify-content: center;\\n  align-content: center;\\n  width: 100%;\\n}\\n\\n.mdc-top-app-bar .bk-menu {\\n  color: black\\n}\\n\\n.app-header {\\n  display: contents;\\n  padding-left: 10px;\\n  font-size: 1.25em;\\n}\\n\\nimg.app-logo {\\n  padding-right: 10px;\\n  font-size: 28px;\\n  height: 30px;\\n  max-width: inherit;\\n  padding-top: 12px;\\n  padding-bottom: 6px;\\n}\\n\\n#app-title {\\n  padding-right: 12px;\\n  padding-left: 12px;\\n}\\n\\n.title {\\n  font-family: \\\"Josefin Sans\\\";\\n  color: #fff;\\n  text-decoration: none;\\n  text-decoration-line: none;\\n  text-decoration-style: initial;\\n  text-decoration-color: initial;\\n  font-weight: 400;\\n  font-size: 2em;\\n  line-height: 2em;\\n  white-space: nowrap;\\n}\\n\\n.main-content {\\n  overflow-y: scroll;\\n  overflow-x: auto;\\n}\\n\\n#header {\\n  position: absolute;\\n  z-index: 7;\\n}\\n\\n#header-items {\\n  width: 100%;\\n  margin-left:15px;\\n}\\n\\n.pn-busy-container {\\n  align-items: center;\\n  justify-content: center;\\n  display: flex;\\n}\\n\\n.mdc-drawer__content {\\n  overflow-x: hidden;\\n}\\n.mdc-drawer__content, .main-content {\\n  padding: 12px;\\n}\\n\\n.main-content {\\n  height: calc(100vh - 88px);\\n  max-height: calc(100vh - 88px);\\n  padding-right: 32px;\\n}\\n\\nbutton.mdc-button.mdc-card-button {\\n  color: transparent;\\n  height: 50px;\\n}\\n\\np.bk.mdc-button {\\n  display: none;\\n}\\n\\ndiv.bk.mdc-card {\\n  border-radius: 0px\\n}\\n\\n.mdc-card .bk.card-header {\\n  display: flex;\\n}\\n\\n.bk.mdc-card-title {\\n  font-family: \\\"Josefin Sans\\\";\\n  font-weight: bold;\\n  align-items: center;\\n  display: flex !important;\\n  position: relative !important;\\n}\\n\\n.bk.mdc-card-title:nth-child(2) {\\n  margin-left: -1.4em;\\n}\\n\\n.pn-modal {\\n  overflow-y: scroll;\\n  width: 100%;\\n  display: none;\\n  position: absolute;\\n  top: 0;\\n  left: 0;\\n}\\n\\n.pn-modal-content {\\n  font-family: \\\"Josefin Sans\\\";\\n  background-color: #0e0e0e;\\n  margin: auto;\\n  margin-top: 25px;\\n  margin-bottom: 25px;\\n  padding: 15px 20px 20px 20px;\\n  border: 1px solid #888;\\n  width: 80% !important;\\n}\\n\\n.pn-modal-close {\\n  position: absolute;\\n  right: 25px;\\n  z-index: 100;\\n}\\n\\n.pn-modal-close:hover,\\n.pn-modal-close:focus {\\n  color: #000;\\n  text-decoration: none;\\n  cursor: pointer;\\n}\\n\\n.custom_button_bokeh button.bk.bk-btn.bk-btn-default {\\n    font-size:48pt;\\n    background-color: #05b7ff;\\n    border-color: #05b7ff;\\n}\");\n    },    function(Bokeh) {\n      inject_raw_css(\"\\n    .bk.pn-loading.arc:before {\\n      background-image: url(\\\"data:image/svg+xml;base64,PHN2ZyB4bWxucz0iaHR0cDovL3d3dy53My5vcmcvMjAwMC9zdmciIHN0eWxlPSJtYXJnaW46IGF1dG87IGJhY2tncm91bmQ6IG5vbmU7IGRpc3BsYXk6IGJsb2NrOyBzaGFwZS1yZW5kZXJpbmc6IGF1dG87IiB2aWV3Qm94PSIwIDAgMTAwIDEwMCIgcHJlc2VydmVBc3BlY3RSYXRpbz0ieE1pZFlNaWQiPiAgPGNpcmNsZSBjeD0iNTAiIGN5PSI1MCIgZmlsbD0ibm9uZSIgc3Ryb2tlPSIjYzNjM2MzIiBzdHJva2Utd2lkdGg9IjEwIiByPSIzNSIgc3Ryb2tlLWRhc2hhcnJheT0iMTY0LjkzMzYxNDMxMzQ2NDE1IDU2Ljk3Nzg3MTQzNzgyMTM4Ij4gICAgPGFuaW1hdGVUcmFuc2Zvcm0gYXR0cmlidXRlTmFtZT0idHJhbnNmb3JtIiB0eXBlPSJyb3RhdGUiIHJlcGVhdENvdW50PSJpbmRlZmluaXRlIiBkdXI9IjFzIiB2YWx1ZXM9IjAgNTAgNTA7MzYwIDUwIDUwIiBrZXlUaW1lcz0iMDsxIj48L2FuaW1hdGVUcmFuc2Zvcm0+ICA8L2NpcmNsZT48L3N2Zz4=\\\");\\n      background-size: auto calc(min(50%, 400px));\\n    }\\n    \");\n    },    function(Bokeh) {\n      Bokeh.set_log_level(\"info\");\n    },\nfunction(Bokeh) {} // ensure no trailing comma for IE\n  ];\n\n  function run_inline_js() {\n    if ((root.Bokeh !== undefined) || (force === true)) {\n      for (var i = 0; i < inline_js.length; i++) {\n        inline_js[i].call(root, root.Bokeh);\n      }} else if (Date.now() < root._bokeh_timeout) {\n      setTimeout(run_inline_js, 100);\n    } else if (!root._bokeh_failed_load) {\n      console.log(\"Bokeh: BokehJS failed to load within specified timeout.\");\n      root._bokeh_failed_load = true;\n    }\n  }\n\n  if (root._bokeh_is_loading === 0) {\n    console.debug(\"Bokeh: BokehJS loaded, going straight to plotting\");\n    run_inline_js();\n  } else {\n    load_libs(css_urls, js_urls, js_modules, function() {\n      console.debug(\"Bokeh: BokehJS plotting callback run at\", now());\n      run_inline_js();\n    });\n  }\n}(window));"
     },
     "metadata": {},
     "output_type": "display_data"
    },
    {
     "data": {
      "application/javascript": [
       "\n",
       "if ((window.PyViz === undefined) || (window.PyViz instanceof HTMLElement)) {\n",
       "  window.PyViz = {comms: {}, comm_status:{}, kernels:{}, receivers: {}, plot_index: []}\n",
       "}\n",
       "\n",
       "\n",
       "    function JupyterCommManager() {\n",
       "    }\n",
       "\n",
       "    JupyterCommManager.prototype.register_target = function(plot_id, comm_id, msg_handler) {\n",
       "      if (window.comm_manager || ((window.Jupyter !== undefined) && (Jupyter.notebook.kernel != null))) {\n",
       "        var comm_manager = window.comm_manager || Jupyter.notebook.kernel.comm_manager;\n",
       "        comm_manager.register_target(comm_id, function(comm) {\n",
       "          comm.on_msg(msg_handler);\n",
       "        });\n",
       "      } else if ((plot_id in window.PyViz.kernels) && (window.PyViz.kernels[plot_id])) {\n",
       "        window.PyViz.kernels[plot_id].registerCommTarget(comm_id, function(comm) {\n",
       "          comm.onMsg = msg_handler;\n",
       "        });\n",
       "      } else if (typeof google != 'undefined' && google.colab.kernel != null) {\n",
       "        google.colab.kernel.comms.registerTarget(comm_id, (comm) => {\n",
       "          var messages = comm.messages[Symbol.asyncIterator]();\n",
       "          function processIteratorResult(result) {\n",
       "            var message = result.value;\n",
       "            console.log(message)\n",
       "            var content = {data: message.data, comm_id};\n",
       "            var buffers = []\n",
       "            for (var buffer of message.buffers || []) {\n",
       "              buffers.push(new DataView(buffer))\n",
       "            }\n",
       "            var metadata = message.metadata || {};\n",
       "            var msg = {content, buffers, metadata}\n",
       "            msg_handler(msg);\n",
       "            return messages.next().then(processIteratorResult);\n",
       "          }\n",
       "          return messages.next().then(processIteratorResult);\n",
       "        })\n",
       "      }\n",
       "    }\n",
       "\n",
       "    JupyterCommManager.prototype.get_client_comm = function(plot_id, comm_id, msg_handler) {\n",
       "      if (comm_id in window.PyViz.comms) {\n",
       "        return window.PyViz.comms[comm_id];\n",
       "      } else if (window.comm_manager || ((window.Jupyter !== undefined) && (Jupyter.notebook.kernel != null))) {\n",
       "        var comm_manager = window.comm_manager || Jupyter.notebook.kernel.comm_manager;\n",
       "        var comm = comm_manager.new_comm(comm_id, {}, {}, {}, comm_id);\n",
       "        if (msg_handler) {\n",
       "          comm.on_msg(msg_handler);\n",
       "        }\n",
       "      } else if ((plot_id in window.PyViz.kernels) && (window.PyViz.kernels[plot_id])) {\n",
       "        var comm = window.PyViz.kernels[plot_id].connectToComm(comm_id);\n",
       "        comm.open();\n",
       "        if (msg_handler) {\n",
       "          comm.onMsg = msg_handler;\n",
       "        }\n",
       "      } else if (typeof google != 'undefined' && google.colab.kernel != null) {\n",
       "        var comm_promise = google.colab.kernel.comms.open(comm_id)\n",
       "        comm_promise.then((comm) => {\n",
       "          window.PyViz.comms[comm_id] = comm;\n",
       "          if (msg_handler) {\n",
       "            var messages = comm.messages[Symbol.asyncIterator]();\n",
       "            function processIteratorResult(result) {\n",
       "              var message = result.value;\n",
       "              var content = {data: message.data};\n",
       "              var metadata = message.metadata || {comm_id};\n",
       "              var msg = {content, metadata}\n",
       "              msg_handler(msg);\n",
       "              return messages.next().then(processIteratorResult);\n",
       "            }\n",
       "            return messages.next().then(processIteratorResult);\n",
       "          }\n",
       "        }) \n",
       "        var sendClosure = (data, metadata, buffers, disposeOnDone) => {\n",
       "          return comm_promise.then((comm) => {\n",
       "            comm.send(data, metadata, buffers, disposeOnDone);\n",
       "          });\n",
       "        };\n",
       "        var comm = {\n",
       "          send: sendClosure\n",
       "        };\n",
       "      }\n",
       "      window.PyViz.comms[comm_id] = comm;\n",
       "      return comm;\n",
       "    }\n",
       "    window.PyViz.comm_manager = new JupyterCommManager();\n",
       "    \n",
       "\n",
       "\n",
       "var JS_MIME_TYPE = 'application/javascript';\n",
       "var HTML_MIME_TYPE = 'text/html';\n",
       "var EXEC_MIME_TYPE = 'application/vnd.holoviews_exec.v0+json';\n",
       "var CLASS_NAME = 'output';\n",
       "\n",
       "/**\n",
       " * Render data to the DOM node\n",
       " */\n",
       "function render(props, node) {\n",
       "  var div = document.createElement(\"div\");\n",
       "  var script = document.createElement(\"script\");\n",
       "  node.appendChild(div);\n",
       "  node.appendChild(script);\n",
       "}\n",
       "\n",
       "/**\n",
       " * Handle when a new output is added\n",
       " */\n",
       "function handle_add_output(event, handle) {\n",
       "  var output_area = handle.output_area;\n",
       "  var output = handle.output;\n",
       "  if ((output.data == undefined) || (!output.data.hasOwnProperty(EXEC_MIME_TYPE))) {\n",
       "    return\n",
       "  }\n",
       "  var id = output.metadata[EXEC_MIME_TYPE][\"id\"];\n",
       "  var toinsert = output_area.element.find(\".\" + CLASS_NAME.split(' ')[0]);\n",
       "  if (id !== undefined) {\n",
       "    var nchildren = toinsert.length;\n",
       "    var html_node = toinsert[nchildren-1].children[0];\n",
       "    html_node.innerHTML = output.data[HTML_MIME_TYPE];\n",
       "    var scripts = [];\n",
       "    var nodelist = html_node.querySelectorAll(\"script\");\n",
       "    for (var i in nodelist) {\n",
       "      if (nodelist.hasOwnProperty(i)) {\n",
       "        scripts.push(nodelist[i])\n",
       "      }\n",
       "    }\n",
       "\n",
       "    scripts.forEach( function (oldScript) {\n",
       "      var newScript = document.createElement(\"script\");\n",
       "      var attrs = [];\n",
       "      var nodemap = oldScript.attributes;\n",
       "      for (var j in nodemap) {\n",
       "        if (nodemap.hasOwnProperty(j)) {\n",
       "          attrs.push(nodemap[j])\n",
       "        }\n",
       "      }\n",
       "      attrs.forEach(function(attr) { newScript.setAttribute(attr.name, attr.value) });\n",
       "      newScript.appendChild(document.createTextNode(oldScript.innerHTML));\n",
       "      oldScript.parentNode.replaceChild(newScript, oldScript);\n",
       "    });\n",
       "    if (JS_MIME_TYPE in output.data) {\n",
       "      toinsert[nchildren-1].children[1].textContent = output.data[JS_MIME_TYPE];\n",
       "    }\n",
       "    output_area._hv_plot_id = id;\n",
       "    if ((window.Bokeh !== undefined) && (id in Bokeh.index)) {\n",
       "      window.PyViz.plot_index[id] = Bokeh.index[id];\n",
       "    } else {\n",
       "      window.PyViz.plot_index[id] = null;\n",
       "    }\n",
       "  } else if (output.metadata[EXEC_MIME_TYPE][\"server_id\"] !== undefined) {\n",
       "    var bk_div = document.createElement(\"div\");\n",
       "    bk_div.innerHTML = output.data[HTML_MIME_TYPE];\n",
       "    var script_attrs = bk_div.children[0].attributes;\n",
       "    for (var i = 0; i < script_attrs.length; i++) {\n",
       "      toinsert[toinsert.length - 1].childNodes[1].setAttribute(script_attrs[i].name, script_attrs[i].value);\n",
       "    }\n",
       "    // store reference to server id on output_area\n",
       "    output_area._bokeh_server_id = output.metadata[EXEC_MIME_TYPE][\"server_id\"];\n",
       "  }\n",
       "}\n",
       "\n",
       "/**\n",
       " * Handle when an output is cleared or removed\n",
       " */\n",
       "function handle_clear_output(event, handle) {\n",
       "  var id = handle.cell.output_area._hv_plot_id;\n",
       "  var server_id = handle.cell.output_area._bokeh_server_id;\n",
       "  if (((id === undefined) || !(id in PyViz.plot_index)) && (server_id !== undefined)) { return; }\n",
       "  var comm = window.PyViz.comm_manager.get_client_comm(\"hv-extension-comm\", \"hv-extension-comm\", function () {});\n",
       "  if (server_id !== null) {\n",
       "    comm.send({event_type: 'server_delete', 'id': server_id});\n",
       "    return;\n",
       "  } else if (comm !== null) {\n",
       "    comm.send({event_type: 'delete', 'id': id});\n",
       "  }\n",
       "  delete PyViz.plot_index[id];\n",
       "  if ((window.Bokeh !== undefined) & (id in window.Bokeh.index)) {\n",
       "    var doc = window.Bokeh.index[id].model.document\n",
       "    doc.clear();\n",
       "    const i = window.Bokeh.documents.indexOf(doc);\n",
       "    if (i > -1) {\n",
       "      window.Bokeh.documents.splice(i, 1);\n",
       "    }\n",
       "  }\n",
       "}\n",
       "\n",
       "/**\n",
       " * Handle kernel restart event\n",
       " */\n",
       "function handle_kernel_cleanup(event, handle) {\n",
       "  delete PyViz.comms[\"hv-extension-comm\"];\n",
       "  window.PyViz.plot_index = {}\n",
       "}\n",
       "\n",
       "/**\n",
       " * Handle update_display_data messages\n",
       " */\n",
       "function handle_update_output(event, handle) {\n",
       "  handle_clear_output(event, {cell: {output_area: handle.output_area}})\n",
       "  handle_add_output(event, handle)\n",
       "}\n",
       "\n",
       "function register_renderer(events, OutputArea) {\n",
       "  function append_mime(data, metadata, element) {\n",
       "    // create a DOM node to render to\n",
       "    var toinsert = this.create_output_subarea(\n",
       "    metadata,\n",
       "    CLASS_NAME,\n",
       "    EXEC_MIME_TYPE\n",
       "    );\n",
       "    this.keyboard_manager.register_events(toinsert);\n",
       "    // Render to node\n",
       "    var props = {data: data, metadata: metadata[EXEC_MIME_TYPE]};\n",
       "    render(props, toinsert[0]);\n",
       "    element.append(toinsert);\n",
       "    return toinsert\n",
       "  }\n",
       "\n",
       "  events.on('output_added.OutputArea', handle_add_output);\n",
       "  events.on('output_updated.OutputArea', handle_update_output);\n",
       "  events.on('clear_output.CodeCell', handle_clear_output);\n",
       "  events.on('delete.Cell', handle_clear_output);\n",
       "  events.on('kernel_ready.Kernel', handle_kernel_cleanup);\n",
       "\n",
       "  OutputArea.prototype.register_mime_type(EXEC_MIME_TYPE, append_mime, {\n",
       "    safe: true,\n",
       "    index: 0\n",
       "  });\n",
       "}\n",
       "\n",
       "if (window.Jupyter !== undefined) {\n",
       "  try {\n",
       "    var events = require('base/js/events');\n",
       "    var OutputArea = require('notebook/js/outputarea').OutputArea;\n",
       "    if (OutputArea.prototype.mime_types().indexOf(EXEC_MIME_TYPE) == -1) {\n",
       "      register_renderer(events, OutputArea);\n",
       "    }\n",
       "  } catch(err) {\n",
       "  }\n",
       "}\n"
      ],
      "application/vnd.holoviews_load.v0+json": "\nif ((window.PyViz === undefined) || (window.PyViz instanceof HTMLElement)) {\n  window.PyViz = {comms: {}, comm_status:{}, kernels:{}, receivers: {}, plot_index: []}\n}\n\n\n    function JupyterCommManager() {\n    }\n\n    JupyterCommManager.prototype.register_target = function(plot_id, comm_id, msg_handler) {\n      if (window.comm_manager || ((window.Jupyter !== undefined) && (Jupyter.notebook.kernel != null))) {\n        var comm_manager = window.comm_manager || Jupyter.notebook.kernel.comm_manager;\n        comm_manager.register_target(comm_id, function(comm) {\n          comm.on_msg(msg_handler);\n        });\n      } else if ((plot_id in window.PyViz.kernels) && (window.PyViz.kernels[plot_id])) {\n        window.PyViz.kernels[plot_id].registerCommTarget(comm_id, function(comm) {\n          comm.onMsg = msg_handler;\n        });\n      } else if (typeof google != 'undefined' && google.colab.kernel != null) {\n        google.colab.kernel.comms.registerTarget(comm_id, (comm) => {\n          var messages = comm.messages[Symbol.asyncIterator]();\n          function processIteratorResult(result) {\n            var message = result.value;\n            console.log(message)\n            var content = {data: message.data, comm_id};\n            var buffers = []\n            for (var buffer of message.buffers || []) {\n              buffers.push(new DataView(buffer))\n            }\n            var metadata = message.metadata || {};\n            var msg = {content, buffers, metadata}\n            msg_handler(msg);\n            return messages.next().then(processIteratorResult);\n          }\n          return messages.next().then(processIteratorResult);\n        })\n      }\n    }\n\n    JupyterCommManager.prototype.get_client_comm = function(plot_id, comm_id, msg_handler) {\n      if (comm_id in window.PyViz.comms) {\n        return window.PyViz.comms[comm_id];\n      } else if (window.comm_manager || ((window.Jupyter !== undefined) && (Jupyter.notebook.kernel != null))) {\n        var comm_manager = window.comm_manager || Jupyter.notebook.kernel.comm_manager;\n        var comm = comm_manager.new_comm(comm_id, {}, {}, {}, comm_id);\n        if (msg_handler) {\n          comm.on_msg(msg_handler);\n        }\n      } else if ((plot_id in window.PyViz.kernels) && (window.PyViz.kernels[plot_id])) {\n        var comm = window.PyViz.kernels[plot_id].connectToComm(comm_id);\n        comm.open();\n        if (msg_handler) {\n          comm.onMsg = msg_handler;\n        }\n      } else if (typeof google != 'undefined' && google.colab.kernel != null) {\n        var comm_promise = google.colab.kernel.comms.open(comm_id)\n        comm_promise.then((comm) => {\n          window.PyViz.comms[comm_id] = comm;\n          if (msg_handler) {\n            var messages = comm.messages[Symbol.asyncIterator]();\n            function processIteratorResult(result) {\n              var message = result.value;\n              var content = {data: message.data};\n              var metadata = message.metadata || {comm_id};\n              var msg = {content, metadata}\n              msg_handler(msg);\n              return messages.next().then(processIteratorResult);\n            }\n            return messages.next().then(processIteratorResult);\n          }\n        }) \n        var sendClosure = (data, metadata, buffers, disposeOnDone) => {\n          return comm_promise.then((comm) => {\n            comm.send(data, metadata, buffers, disposeOnDone);\n          });\n        };\n        var comm = {\n          send: sendClosure\n        };\n      }\n      window.PyViz.comms[comm_id] = comm;\n      return comm;\n    }\n    window.PyViz.comm_manager = new JupyterCommManager();\n    \n\n\nvar JS_MIME_TYPE = 'application/javascript';\nvar HTML_MIME_TYPE = 'text/html';\nvar EXEC_MIME_TYPE = 'application/vnd.holoviews_exec.v0+json';\nvar CLASS_NAME = 'output';\n\n/**\n * Render data to the DOM node\n */\nfunction render(props, node) {\n  var div = document.createElement(\"div\");\n  var script = document.createElement(\"script\");\n  node.appendChild(div);\n  node.appendChild(script);\n}\n\n/**\n * Handle when a new output is added\n */\nfunction handle_add_output(event, handle) {\n  var output_area = handle.output_area;\n  var output = handle.output;\n  if ((output.data == undefined) || (!output.data.hasOwnProperty(EXEC_MIME_TYPE))) {\n    return\n  }\n  var id = output.metadata[EXEC_MIME_TYPE][\"id\"];\n  var toinsert = output_area.element.find(\".\" + CLASS_NAME.split(' ')[0]);\n  if (id !== undefined) {\n    var nchildren = toinsert.length;\n    var html_node = toinsert[nchildren-1].children[0];\n    html_node.innerHTML = output.data[HTML_MIME_TYPE];\n    var scripts = [];\n    var nodelist = html_node.querySelectorAll(\"script\");\n    for (var i in nodelist) {\n      if (nodelist.hasOwnProperty(i)) {\n        scripts.push(nodelist[i])\n      }\n    }\n\n    scripts.forEach( function (oldScript) {\n      var newScript = document.createElement(\"script\");\n      var attrs = [];\n      var nodemap = oldScript.attributes;\n      for (var j in nodemap) {\n        if (nodemap.hasOwnProperty(j)) {\n          attrs.push(nodemap[j])\n        }\n      }\n      attrs.forEach(function(attr) { newScript.setAttribute(attr.name, attr.value) });\n      newScript.appendChild(document.createTextNode(oldScript.innerHTML));\n      oldScript.parentNode.replaceChild(newScript, oldScript);\n    });\n    if (JS_MIME_TYPE in output.data) {\n      toinsert[nchildren-1].children[1].textContent = output.data[JS_MIME_TYPE];\n    }\n    output_area._hv_plot_id = id;\n    if ((window.Bokeh !== undefined) && (id in Bokeh.index)) {\n      window.PyViz.plot_index[id] = Bokeh.index[id];\n    } else {\n      window.PyViz.plot_index[id] = null;\n    }\n  } else if (output.metadata[EXEC_MIME_TYPE][\"server_id\"] !== undefined) {\n    var bk_div = document.createElement(\"div\");\n    bk_div.innerHTML = output.data[HTML_MIME_TYPE];\n    var script_attrs = bk_div.children[0].attributes;\n    for (var i = 0; i < script_attrs.length; i++) {\n      toinsert[toinsert.length - 1].childNodes[1].setAttribute(script_attrs[i].name, script_attrs[i].value);\n    }\n    // store reference to server id on output_area\n    output_area._bokeh_server_id = output.metadata[EXEC_MIME_TYPE][\"server_id\"];\n  }\n}\n\n/**\n * Handle when an output is cleared or removed\n */\nfunction handle_clear_output(event, handle) {\n  var id = handle.cell.output_area._hv_plot_id;\n  var server_id = handle.cell.output_area._bokeh_server_id;\n  if (((id === undefined) || !(id in PyViz.plot_index)) && (server_id !== undefined)) { return; }\n  var comm = window.PyViz.comm_manager.get_client_comm(\"hv-extension-comm\", \"hv-extension-comm\", function () {});\n  if (server_id !== null) {\n    comm.send({event_type: 'server_delete', 'id': server_id});\n    return;\n  } else if (comm !== null) {\n    comm.send({event_type: 'delete', 'id': id});\n  }\n  delete PyViz.plot_index[id];\n  if ((window.Bokeh !== undefined) & (id in window.Bokeh.index)) {\n    var doc = window.Bokeh.index[id].model.document\n    doc.clear();\n    const i = window.Bokeh.documents.indexOf(doc);\n    if (i > -1) {\n      window.Bokeh.documents.splice(i, 1);\n    }\n  }\n}\n\n/**\n * Handle kernel restart event\n */\nfunction handle_kernel_cleanup(event, handle) {\n  delete PyViz.comms[\"hv-extension-comm\"];\n  window.PyViz.plot_index = {}\n}\n\n/**\n * Handle update_display_data messages\n */\nfunction handle_update_output(event, handle) {\n  handle_clear_output(event, {cell: {output_area: handle.output_area}})\n  handle_add_output(event, handle)\n}\n\nfunction register_renderer(events, OutputArea) {\n  function append_mime(data, metadata, element) {\n    // create a DOM node to render to\n    var toinsert = this.create_output_subarea(\n    metadata,\n    CLASS_NAME,\n    EXEC_MIME_TYPE\n    );\n    this.keyboard_manager.register_events(toinsert);\n    // Render to node\n    var props = {data: data, metadata: metadata[EXEC_MIME_TYPE]};\n    render(props, toinsert[0]);\n    element.append(toinsert);\n    return toinsert\n  }\n\n  events.on('output_added.OutputArea', handle_add_output);\n  events.on('output_updated.OutputArea', handle_update_output);\n  events.on('clear_output.CodeCell', handle_clear_output);\n  events.on('delete.Cell', handle_clear_output);\n  events.on('kernel_ready.Kernel', handle_kernel_cleanup);\n\n  OutputArea.prototype.register_mime_type(EXEC_MIME_TYPE, append_mime, {\n    safe: true,\n    index: 0\n  });\n}\n\nif (window.Jupyter !== undefined) {\n  try {\n    var events = require('base/js/events');\n    var OutputArea = require('notebook/js/outputarea').OutputArea;\n    if (OutputArea.prototype.mime_types().indexOf(EXEC_MIME_TYPE) == -1) {\n      register_renderer(events, OutputArea);\n    }\n  } catch(err) {\n  }\n}\n"
     },
     "metadata": {},
     "output_type": "display_data"
    },
    {
     "data": {
      "text/html": [
       "<style>.bk-root, .bk-root .bk:before, .bk-root .bk:after {\n",
       "  font-family: var(--jp-ui-font-size1);\n",
       "  font-size: var(--jp-ui-font-size1);\n",
       "  color: var(--jp-ui-font-color1);\n",
       "}\n",
       "</style>"
      ]
     },
     "metadata": {},
     "output_type": "display_data"
    }
   ],
   "source": [
    "# Base imports\n",
    "import numpy as np\n",
    "import matplotlib.pyplot as plt\n",
    "from cml.plot import initialize_bokeh\n",
    "from cml.panel import initialize_panel\n",
    "from jupyterthemes.stylefx import set_nb_theme\n",
    "from bokeh.io import show\n",
    "from bokeh.plotting import figure\n",
    "\n",
    "initialize_bokeh()\n",
    "initialize_panel()\n",
    "set_nb_theme(\"onedork\")\n",
    "rng = np.random.RandomState(1)"
   ]
  },
  {
   "cell_type": "markdown",
   "metadata": {},
   "source": [
    "<a id=\"regression\"></a>\n",
    "## Simple learning problem\n",
    "\n",
    "Imagine that a certain process somewhere follows the form of a quadratic relationship\n",
    "\n",
    "$$\n",
    " y = a x^{2} + bx + c \n",
    "$$\n",
    "\n",
    "In this case, all the **unknown parameters** are that of a polynomial model, therefore we have $\\theta = \\{a, b, c\\}$. However, this is clearly an ideal (clean) case, whereas in natural observations, there might be some noise in our observations\n",
    "$$\n",
    " y = a x^{2} + bx + c +\\epsilon \\quad \\mbox{with} \\quad \\epsilon \\in [-0.1, 0.1]\n",
    "$$\n",
    "\n",
    "An example of such noisy observations for different parameters is given below"
   ]
  },
  {
   "cell_type": "code",
   "execution_count": 18,
   "metadata": {},
   "outputs": [],
   "source": [
    "# Parameters to our function\n",
    "eps = 1\n",
    "a, b, c = 5, 2, 0\n",
    "# Generating the corresponding data\n",
    "x = np.linspace(0, 1, 100)\n",
    "poly = np.poly1d([a, b, c])\n",
    "epsilon = np.random.uniform(-eps, eps, x.shape)\n",
    "y = poly(x) + epsilon"
   ]
  },
  {
   "cell_type": "code",
   "execution_count": 33,
   "metadata": {
    "tags": []
   },
   "outputs": [
    {
     "ename": "ImportError",
     "evalue": "cannot import name 'figure' from 'cml.plot' (/Users/cakste/Desktop/courses/ak4/tokyo/GenMusic/creative_ml/cml/plot/__init__.py)",
     "output_type": "error",
     "traceback": [
      "\u001b[0;31m---------------------------------------------------------------------------\u001b[0m",
      "\u001b[0;31mImportError\u001b[0m                               Traceback (most recent call last)",
      "Cell \u001b[0;32mIn[33], line 1\u001b[0m\n\u001b[0;32m----> 1\u001b[0m \u001b[38;5;28;01mfrom\u001b[39;00m \u001b[38;5;21;01mcml\u001b[39;00m\u001b[38;5;21;01m.\u001b[39;00m\u001b[38;5;21;01mplot\u001b[39;00m \u001b[38;5;28;01mimport\u001b[39;00m center_plot, scatter, figure\n\u001b[1;32m      2\u001b[0m plot \u001b[38;5;241m=\u001b[39m (center_plot(scatter(x, y, title\u001b[38;5;241m=\u001b[39m\u001b[38;5;124m\"\u001b[39m\u001b[38;5;124mSimple quadratic problem\u001b[39m\u001b[38;5;124m\"\u001b[39m, toolbar_location\u001b[38;5;241m=\u001b[39m\u001b[38;5;124m\"\u001b[39m\u001b[38;5;124mleft\u001b[39m\u001b[38;5;124m\"\u001b[39m)))\n\u001b[1;32m      3\u001b[0m plot\n",
      "\u001b[0;31mImportError\u001b[0m: cannot import name 'figure' from 'cml.plot' (/Users/cakste/Desktop/courses/ak4/tokyo/GenMusic/creative_ml/cml/plot/__init__.py)"
     ]
    }
   ],
   "source": [
    "from cml.plot import center_plot, scatter\n",
    "plot = (center_plot(scatter(x, y, title=\"Simple quadratic problem\", toolbar_location=\"left\")))\n",
    "plot"
   ]
  },
  {
   "cell_type": "markdown",
   "metadata": {},
   "source": [
    "Now our main problem is that this function can follow different types of parameters"
   ]
  },
  {
   "cell_type": "code",
   "execution_count": 4,
   "metadata": {
    "tags": []
   },
   "outputs": [],
   "source": [
    "params = [[5, -5, 4], [-2, 1, 0], [0.1, 1, 1]]\n",
    "# Generating the x axis\n",
    "x = np.linspace(0, 1, 100)\n",
    "plots = []\n",
    "for p in range(len(params)):\n",
    "    poly = np.poly1d(params[p])\n",
    "    epsilon = np.random.uniform(-eps, eps, x.shape)\n",
    "    y = poly(x) + epsilon\n",
    "    plots.append(scatter(x, y, title=\"Problem \"+(str(p+1))))"
   ]
  },
  {
   "cell_type": "code",
   "execution_count": 5,
   "metadata": {
    "tags": []
   },
   "outputs": [
    {
     "data": {},
     "metadata": {},
     "output_type": "display_data"
    },
    {
     "data": {
      "application/vnd.holoviews_exec.v0+json": "",
      "text/html": [
       "<div id='1364'>\n",
       "  <div class=\"bk-root\" id=\"5e2abf75-5eec-4f26-9d0b-c554bb8fa10b\" data-root-id=\"1364\"></div>\n",
       "</div>\n",
       "<script type=\"application/javascript\">(function(root) {\n",
       "  function embed_document(root) {\n",
       "    var docs_json = {\"7f1ea5b4-42cb-48bb-9c5b-07f8f592e1cc\":{\"defs\":[{\"extends\":null,\"module\":null,\"name\":\"ReactiveHTML1\",\"overrides\":[],\"properties\":[]},{\"extends\":null,\"module\":null,\"name\":\"FlexBox1\",\"overrides\":[],\"properties\":[{\"default\":\"flex-start\",\"kind\":null,\"name\":\"align_content\"},{\"default\":\"flex-start\",\"kind\":null,\"name\":\"align_items\"},{\"default\":\"row\",\"kind\":null,\"name\":\"flex_direction\"},{\"default\":\"wrap\",\"kind\":null,\"name\":\"flex_wrap\"},{\"default\":\"flex-start\",\"kind\":null,\"name\":\"justify_content\"}]},{\"extends\":null,\"module\":null,\"name\":\"GridStack1\",\"overrides\":[],\"properties\":[{\"default\":\"warn\",\"kind\":null,\"name\":\"mode\"},{\"default\":null,\"kind\":null,\"name\":\"ncols\"},{\"default\":null,\"kind\":null,\"name\":\"nrows\"},{\"default\":true,\"kind\":null,\"name\":\"allow_resize\"},{\"default\":true,\"kind\":null,\"name\":\"allow_drag\"},{\"default\":[],\"kind\":null,\"name\":\"state\"}]},{\"extends\":null,\"module\":null,\"name\":\"click1\",\"overrides\":[],\"properties\":[{\"default\":\"\",\"kind\":null,\"name\":\"terminal_output\"},{\"default\":\"\",\"kind\":null,\"name\":\"debug_name\"},{\"default\":0,\"kind\":null,\"name\":\"clears\"}]},{\"extends\":null,\"module\":null,\"name\":\"NotificationAreaBase1\",\"overrides\":[],\"properties\":[{\"default\":\"bottom-right\",\"kind\":null,\"name\":\"position\"},{\"default\":0,\"kind\":null,\"name\":\"_clear\"}]},{\"extends\":null,\"module\":null,\"name\":\"NotificationArea1\",\"overrides\":[],\"properties\":[{\"default\":[],\"kind\":null,\"name\":\"notifications\"},{\"default\":\"bottom-right\",\"kind\":null,\"name\":\"position\"},{\"default\":0,\"kind\":null,\"name\":\"_clear\"},{\"default\":[{\"background\":\"#ffc107\",\"icon\":{\"className\":\"fas fa-exclamation-triangle\",\"color\":\"white\",\"tagName\":\"i\"},\"type\":\"warning\"},{\"background\":\"#007bff\",\"icon\":{\"className\":\"fas fa-info-circle\",\"color\":\"white\",\"tagName\":\"i\"},\"type\":\"info\"}],\"kind\":null,\"name\":\"types\"}]},{\"extends\":null,\"module\":null,\"name\":\"Notification\",\"overrides\":[],\"properties\":[{\"default\":null,\"kind\":null,\"name\":\"background\"},{\"default\":3000,\"kind\":null,\"name\":\"duration\"},{\"default\":null,\"kind\":null,\"name\":\"icon\"},{\"default\":\"\",\"kind\":null,\"name\":\"message\"},{\"default\":null,\"kind\":null,\"name\":\"notification_type\"},{\"default\":false,\"kind\":null,\"name\":\"_destroyed\"}]},{\"extends\":null,\"module\":null,\"name\":\"TemplateActions1\",\"overrides\":[],\"properties\":[{\"default\":0,\"kind\":null,\"name\":\"open_modal\"},{\"default\":0,\"kind\":null,\"name\":\"close_modal\"}]},{\"extends\":null,\"module\":null,\"name\":\"MaterialTemplateActions1\",\"overrides\":[],\"properties\":[{\"default\":0,\"kind\":null,\"name\":\"open_modal\"},{\"default\":0,\"kind\":null,\"name\":\"close_modal\"}]}],\"roots\":{\"references\":[{\"attributes\":{\"bottom_units\":\"screen\",\"coordinates\":null,\"fill_alpha\":0.5,\"fill_color\":\"lightgrey\",\"group\":null,\"left_units\":\"screen\",\"level\":\"overlay\",\"line_alpha\":1.0,\"line_color\":\"black\",\"line_dash\":[4,4],\"line_width\":2,\"right_units\":\"screen\",\"syncable\":false,\"top_units\":\"screen\"},\"id\":\"1212\",\"type\":\"BoxAnnotation\"},{\"attributes\":{},\"id\":\"1292\",\"type\":\"UnionRenderers\"},{\"attributes\":{\"fill_alpha\":{\"value\":0.5},\"fill_color\":{\"value\":\"midnightblue\"},\"line_color\":{\"value\":\"white\"}},\"id\":\"1300\",\"type\":\"Circle\"},{\"attributes\":{\"background_fill_alpha\":0.9,\"background_fill_color\":\"#0f0f0f\",\"below\":[{\"id\":\"1198\"}],\"border_fill_alpha\":0.8,\"border_fill_color\":\"#111111\",\"center\":[{\"id\":\"1201\"},{\"id\":\"1205\"},{\"id\":\"1237\"}],\"height\":450,\"left\":[{\"id\":\"1202\"}],\"outline_line_alpha\":0.25,\"outline_line_color\":\"#E0E0E0\",\"outline_line_width\":3,\"renderers\":[{\"id\":\"1225\"}],\"title\":{\"id\":\"1188\"},\"toolbar\":{\"id\":\"1213\"},\"toolbar_location\":null,\"x_range\":{\"id\":\"1190\"},\"x_scale\":{\"id\":\"1194\"},\"y_range\":{\"id\":\"1192\"},\"y_scale\":{\"id\":\"1196\"}},\"id\":\"1187\",\"subtype\":\"Figure\",\"type\":\"Plot\"},{\"attributes\":{\"callback\":null,\"mode\":\"vline\",\"renderers\":[{\"id\":\"1283\"}],\"tooltips\":null},\"id\":\"1297\",\"type\":\"HoverTool\"},{\"attributes\":{\"children\":[{\"id\":\"1365\"},{\"id\":\"1363\"},{\"id\":\"1432\"}],\"margin\":[0,0,0,0],\"name\":\"Row00113\"},\"id\":\"1364\",\"type\":\"Row\"},{\"attributes\":{\"source\":{\"id\":\"1220\"}},\"id\":\"1226\",\"type\":\"CDSView\"},{\"attributes\":{\"margin\":[5,5,5,5],\"name\":\"HSpacer00109\",\"sizing_mode\":\"stretch_width\"},\"id\":\"1365\",\"type\":\"Spacer\"},{\"attributes\":{\"fill_alpha\":{\"value\":0.8},\"fill_color\":{\"value\":\"red\"},\"line_color\":{\"value\":\"white\"}},\"id\":\"1299\",\"type\":\"Circle\"},{\"attributes\":{\"fill_alpha\":{\"value\":0.5},\"fill_color\":{\"value\":\"midnightblue\"},\"line_color\":{\"value\":\"white\"}},\"id\":\"1358\",\"type\":\"Circle\"},{\"attributes\":{\"mode\":\"append\",\"overlay\":{\"id\":\"1394\"},\"renderers\":[{\"id\":\"1283\"}]},\"id\":\"1301\",\"type\":\"BoxSelectTool\"},{\"attributes\":{},\"id\":\"1234\",\"type\":\"UnionRenderers\"},{\"attributes\":{},\"id\":\"1293\",\"type\":\"Selection\"},{\"attributes\":{\"background_fill_alpha\":0.25,\"background_fill_color\":\"#505050\",\"border_line_alpha\":0.25,\"coordinates\":null,\"group\":null,\"items\":[{\"id\":\"1238\"}],\"label_standoff\":8,\"label_text_color\":\"#E0E0E0\",\"label_text_font\":\"Josefin Sans\",\"label_text_font_size\":\"1.15em\",\"spacing\":8},\"id\":\"1237\",\"type\":\"Legend\"},{\"attributes\":{\"overlay\":{\"id\":\"1270\"}},\"id\":\"1266\",\"type\":\"BoxZoomTool\"},{\"attributes\":{\"callback\":null,\"mode\":\"vline\",\"renderers\":[{\"id\":\"1341\"}],\"tooltips\":null},\"id\":\"1355\",\"type\":\"HoverTool\"},{\"attributes\":{\"axis_label\":\"y\",\"axis_label_standoff\":10,\"axis_label_text_color\":\"#FFFFFF\",\"axis_label_text_font\":\"Josefin Sans\",\"axis_label_text_font_size\":\"1.9em\",\"axis_label_text_font_style\":\"bold\",\"axis_line_alpha\":0.4,\"axis_line_color\":\"#E0E0E0\",\"coordinates\":null,\"formatter\":{\"id\":\"1345\"},\"group\":null,\"major_label_policy\":{\"id\":\"1346\"},\"major_label_text_color\":\"#E0E0E0\",\"major_label_text_font\":\"Josefin Sans\",\"major_label_text_font_size\":\"1.15em\",\"major_tick_line_alpha\":0.4,\"major_tick_line_color\":\"#E0E0E0\",\"minor_tick_line_alpha\":0.4,\"minor_tick_line_color\":\"#E0E0E0\",\"ticker\":{\"id\":\"1319\"}},\"id\":\"1318\",\"type\":\"LinearAxis\"},{\"attributes\":{},\"id\":\"1192\",\"type\":\"DataRange1d\"},{\"attributes\":{},\"id\":\"1306\",\"type\":\"DataRange1d\"},{\"attributes\":{\"fill_alpha\":{\"value\":0.8},\"fill_color\":{\"value\":\"red\"},\"line_color\":{\"value\":\"white\"}},\"id\":\"1357\",\"type\":\"Circle\"},{\"attributes\":{\"coordinates\":null,\"group\":null,\"text\":\"Problem 1\",\"text_color\":\"#E0E0E0\",\"text_font\":\"Josefin Sans\",\"text_font_size\":\"2.1em\"},\"id\":\"1188\",\"type\":\"Title\"},{\"attributes\":{\"coordinates\":null,\"data_source\":{\"id\":\"1336\"},\"glyph\":{\"id\":\"1337\"},\"group\":null,\"hover_glyph\":{\"id\":\"1339\"},\"muted_glyph\":{\"id\":\"1340\"},\"nonselection_glyph\":{\"id\":\"1358\"},\"selection_glyph\":{\"id\":\"1357\"},\"view\":{\"id\":\"1342\"}},\"id\":\"1341\",\"type\":\"GlyphRenderer\"},{\"attributes\":{},\"id\":\"1257\",\"type\":\"BasicTicker\"},{\"attributes\":{\"axis_label\":\"x\",\"axis_label_standoff\":10,\"axis_label_text_color\":\"#FFFFFF\",\"axis_label_text_font\":\"Josefin Sans\",\"axis_label_text_font_size\":\"1.9em\",\"axis_label_text_font_style\":\"bold\",\"axis_line_alpha\":0.4,\"axis_line_color\":\"#E0E0E0\",\"coordinates\":null,\"formatter\":{\"id\":\"1232\"},\"group\":null,\"major_label_policy\":{\"id\":\"1233\"},\"major_label_text_color\":\"#E0E0E0\",\"major_label_text_font\":\"Josefin Sans\",\"major_label_text_font_size\":\"1.15em\",\"major_tick_line_alpha\":0.4,\"major_tick_line_color\":\"#E0E0E0\",\"minor_tick_line_alpha\":0.4,\"minor_tick_line_color\":\"#E0E0E0\",\"ticker\":{\"id\":\"1199\"}},\"id\":\"1198\",\"type\":\"LinearAxis\"},{\"attributes\":{},\"id\":\"1345\",\"type\":\"BasicTickFormatter\"},{\"attributes\":{\"mode\":\"append\",\"overlay\":{\"id\":\"1398\"},\"renderers\":[{\"id\":\"1341\"}]},\"id\":\"1359\",\"type\":\"BoxSelectTool\"},{\"attributes\":{},\"id\":\"1194\",\"type\":\"LinearScale\"},{\"attributes\":{},\"id\":\"1315\",\"type\":\"BasicTicker\"},{\"attributes\":{\"axis\":{\"id\":\"1314\"},\"coordinates\":null,\"grid_line_alpha\":0.15,\"grid_line_color\":\"#E0E0E0\",\"group\":null,\"ticker\":null},\"id\":\"1317\",\"type\":\"Grid\"},{\"attributes\":{},\"id\":\"1312\",\"type\":\"LinearScale\"},{\"attributes\":{},\"id\":\"1211\",\"type\":\"HelpTool\"},{\"attributes\":{},\"id\":\"1346\",\"type\":\"AllLabels\"},{\"attributes\":{\"coordinates\":null,\"group\":null,\"text\":\"Problem 3\",\"text_color\":\"#E0E0E0\",\"text_font\":\"Josefin Sans\",\"text_font_size\":\"2.1em\"},\"id\":\"1304\",\"type\":\"Title\"},{\"attributes\":{},\"id\":\"1268\",\"type\":\"ResetTool\"},{\"attributes\":{\"background_fill_alpha\":0.25,\"background_fill_color\":\"#505050\",\"border_line_alpha\":0.25,\"coordinates\":null,\"group\":null,\"items\":[{\"id\":\"1296\"}],\"label_standoff\":8,\"label_text_color\":\"#E0E0E0\",\"label_text_font\":\"Josefin Sans\",\"label_text_font_size\":\"1.15em\",\"spacing\":8},\"id\":\"1295\",\"type\":\"Legend\"},{\"attributes\":{},\"id\":\"1308\",\"type\":\"DataRange1d\"},{\"attributes\":{},\"id\":\"1287\",\"type\":\"BasicTickFormatter\"},{\"attributes\":{},\"id\":\"1196\",\"type\":\"LinearScale\"},{\"attributes\":{},\"id\":\"1310\",\"type\":\"LinearScale\"},{\"attributes\":{},\"id\":\"1288\",\"type\":\"AllLabels\"},{\"attributes\":{\"axis\":{\"id\":\"1198\"},\"coordinates\":null,\"grid_line_alpha\":0.15,\"grid_line_color\":\"#E0E0E0\",\"group\":null,\"ticker\":null},\"id\":\"1201\",\"type\":\"Grid\"},{\"attributes\":{\"axis_label\":\"x\",\"axis_label_standoff\":10,\"axis_label_text_color\":\"#FFFFFF\",\"axis_label_text_font\":\"Josefin Sans\",\"axis_label_text_font_size\":\"1.9em\",\"axis_label_text_font_style\":\"bold\",\"axis_line_alpha\":0.4,\"axis_line_color\":\"#E0E0E0\",\"coordinates\":null,\"formatter\":{\"id\":\"1348\"},\"group\":null,\"major_label_policy\":{\"id\":\"1349\"},\"major_label_text_color\":\"#E0E0E0\",\"major_label_text_font\":\"Josefin Sans\",\"major_label_text_font_size\":\"1.15em\",\"major_tick_line_alpha\":0.4,\"major_tick_line_color\":\"#E0E0E0\",\"minor_tick_line_alpha\":0.4,\"minor_tick_line_color\":\"#E0E0E0\",\"ticker\":{\"id\":\"1315\"}},\"id\":\"1314\",\"type\":\"LinearAxis\"},{\"attributes\":{},\"id\":\"1348\",\"type\":\"BasicTickFormatter\"},{\"attributes\":{},\"id\":\"1327\",\"type\":\"HelpTool\"},{\"attributes\":{},\"id\":\"1206\",\"type\":\"PanTool\"},{\"attributes\":{},\"id\":\"1349\",\"type\":\"AllLabels\"},{\"attributes\":{},\"id\":\"1203\",\"type\":\"BasicTicker\"},{\"attributes\":{},\"id\":\"1290\",\"type\":\"BasicTickFormatter\"},{\"attributes\":{\"axis\":{\"id\":\"1202\"},\"coordinates\":null,\"dimension\":1,\"grid_line_alpha\":0.15,\"grid_line_color\":\"#E0E0E0\",\"group\":null,\"ticker\":null},\"id\":\"1205\",\"type\":\"Grid\"},{\"attributes\":{},\"id\":\"1261\",\"type\":\"BasicTicker\"},{\"attributes\":{\"fill_alpha\":{\"value\":0.25},\"fill_color\":{\"value\":\"midnightblue\"},\"hatch_alpha\":{\"value\":0.25},\"line_alpha\":{\"value\":0.25},\"line_color\":{\"value\":\"white\"},\"size\":{\"value\":10},\"x\":{\"field\":\"x\"},\"y\":{\"field\":\"y\"}},\"id\":\"1337\",\"type\":\"Circle\"},{\"attributes\":{\"axis\":{\"id\":\"1318\"},\"coordinates\":null,\"dimension\":1,\"grid_line_alpha\":0.15,\"grid_line_color\":\"#E0E0E0\",\"group\":null,\"ticker\":null},\"id\":\"1321\",\"type\":\"Grid\"},{\"attributes\":{},\"id\":\"1319\",\"type\":\"BasicTicker\"},{\"attributes\":{},\"id\":\"1267\",\"type\":\"SaveTool\"},{\"attributes\":{\"tools\":[{\"id\":\"1322\"},{\"id\":\"1323\"},{\"id\":\"1324\"},{\"id\":\"1325\"},{\"id\":\"1326\"},{\"id\":\"1327\"},{\"id\":\"1355\"},{\"id\":\"1359\"}]},\"id\":\"1329\",\"type\":\"Toolbar\"},{\"attributes\":{},\"id\":\"1291\",\"type\":\"AllLabels\"},{\"attributes\":{\"axis\":{\"id\":\"1256\"},\"coordinates\":null,\"grid_line_alpha\":0.15,\"grid_line_color\":\"#E0E0E0\",\"group\":null,\"ticker\":null},\"id\":\"1259\",\"type\":\"Grid\"},{\"attributes\":{\"bottom_units\":\"screen\",\"coordinates\":null,\"fill_alpha\":0.5,\"fill_color\":\"lightgrey\",\"group\":null,\"left_units\":\"screen\",\"level\":\"overlay\",\"line_alpha\":1.0,\"line_color\":\"black\",\"line_dash\":[4,4],\"line_width\":2,\"right_units\":\"screen\",\"syncable\":false,\"top_units\":\"screen\"},\"id\":\"1390\",\"type\":\"BoxAnnotation\"},{\"attributes\":{},\"id\":\"1323\",\"type\":\"WheelZoomTool\"},{\"attributes\":{\"fill_alpha\":{\"value\":0.8},\"fill_color\":{\"value\":\"red\"},\"line_color\":{\"value\":\"white\"}},\"id\":\"1241\",\"type\":\"Circle\"},{\"attributes\":{},\"id\":\"1233\",\"type\":\"AllLabels\"},{\"attributes\":{},\"id\":\"1322\",\"type\":\"PanTool\"},{\"attributes\":{\"overlay\":{\"id\":\"1328\"}},\"id\":\"1324\",\"type\":\"BoxZoomTool\"},{\"attributes\":{\"overlay\":{\"id\":\"1212\"}},\"id\":\"1208\",\"type\":\"BoxZoomTool\"},{\"attributes\":{},\"id\":\"1325\",\"type\":\"SaveTool\"},{\"attributes\":{\"background_fill_alpha\":0.9,\"background_fill_color\":\"#0f0f0f\",\"below\":[{\"id\":\"1314\"}],\"border_fill_alpha\":0.8,\"border_fill_color\":\"#111111\",\"center\":[{\"id\":\"1317\"},{\"id\":\"1321\"},{\"id\":\"1353\"}],\"height\":450,\"left\":[{\"id\":\"1318\"}],\"outline_line_alpha\":0.25,\"outline_line_color\":\"#E0E0E0\",\"outline_line_width\":3,\"renderers\":[{\"id\":\"1341\"}],\"title\":{\"id\":\"1304\"},\"toolbar\":{\"id\":\"1329\"},\"toolbar_location\":null,\"x_range\":{\"id\":\"1306\"},\"x_scale\":{\"id\":\"1310\"},\"y_range\":{\"id\":\"1308\"},\"y_scale\":{\"id\":\"1312\"}},\"id\":\"1303\",\"subtype\":\"Figure\",\"type\":\"Plot\"},{\"attributes\":{},\"id\":\"1210\",\"type\":\"ResetTool\"},{\"attributes\":{},\"id\":\"1326\",\"type\":\"ResetTool\"},{\"attributes\":{},\"id\":\"1350\",\"type\":\"UnionRenderers\"},{\"attributes\":{},\"id\":\"1209\",\"type\":\"SaveTool\"},{\"attributes\":{\"axis_label\":\"x\",\"axis_label_standoff\":10,\"axis_label_text_color\":\"#FFFFFF\",\"axis_label_text_font\":\"Josefin Sans\",\"axis_label_text_font_size\":\"1.9em\",\"axis_label_text_font_style\":\"bold\",\"axis_line_alpha\":0.4,\"axis_line_color\":\"#E0E0E0\",\"coordinates\":null,\"formatter\":{\"id\":\"1290\"},\"group\":null,\"major_label_policy\":{\"id\":\"1291\"},\"major_label_text_color\":\"#E0E0E0\",\"major_label_text_font\":\"Josefin Sans\",\"major_label_text_font_size\":\"1.15em\",\"major_tick_line_alpha\":0.4,\"major_tick_line_color\":\"#E0E0E0\",\"minor_tick_line_alpha\":0.4,\"minor_tick_line_color\":\"#E0E0E0\",\"ticker\":{\"id\":\"1257\"}},\"id\":\"1256\",\"type\":\"LinearAxis\"},{\"attributes\":{},\"id\":\"1351\",\"type\":\"Selection\"},{\"attributes\":{\"margin\":[5,5,5,5],\"name\":\"HSpacer00110\",\"sizing_mode\":\"stretch_width\"},\"id\":\"1432\",\"type\":\"Spacer\"},{\"attributes\":{\"coordinates\":null,\"data_source\":{\"id\":\"1220\"},\"glyph\":{\"id\":\"1221\"},\"group\":null,\"hover_glyph\":{\"id\":\"1223\"},\"muted_glyph\":{\"id\":\"1224\"},\"nonselection_glyph\":{\"id\":\"1242\"},\"selection_glyph\":{\"id\":\"1241\"},\"view\":{\"id\":\"1226\"}},\"id\":\"1225\",\"type\":\"GlyphRenderer\"},{\"attributes\":{\"bottom_units\":\"screen\",\"coordinates\":null,\"fill_alpha\":0.5,\"fill_color\":\"lightgrey\",\"group\":null,\"left_units\":\"screen\",\"level\":\"overlay\",\"line_alpha\":1.0,\"line_color\":\"black\",\"line_dash\":[4,4],\"line_width\":2,\"right_units\":\"screen\",\"syncable\":false,\"top_units\":\"screen\"},\"id\":\"1394\",\"type\":\"BoxAnnotation\"},{\"attributes\":{\"fill_alpha\":{\"value\":0.2},\"fill_color\":{\"value\":\"midnightblue\"},\"hatch_alpha\":{\"value\":0.2},\"line_alpha\":{\"value\":0.2},\"line_color\":{\"value\":\"white\"},\"size\":{\"value\":10},\"x\":{\"field\":\"x\"},\"y\":{\"field\":\"y\"}},\"id\":\"1282\",\"type\":\"Circle\"},{\"attributes\":{\"fill_alpha\":{\"value\":0.2},\"fill_color\":{\"value\":\"midnightblue\"},\"hatch_alpha\":{\"value\":0.2},\"line_alpha\":{\"value\":0.2},\"line_color\":{\"value\":\"white\"},\"size\":{\"value\":10},\"x\":{\"field\":\"x\"},\"y\":{\"field\":\"y\"}},\"id\":\"1224\",\"type\":\"Circle\"},{\"attributes\":{\"tools\":[{\"id\":\"1264\"},{\"id\":\"1265\"},{\"id\":\"1266\"},{\"id\":\"1267\"},{\"id\":\"1268\"},{\"id\":\"1269\"},{\"id\":\"1297\"},{\"id\":\"1301\"}]},\"id\":\"1271\",\"type\":\"Toolbar\"},{\"attributes\":{\"bottom_units\":\"screen\",\"coordinates\":null,\"fill_alpha\":0.5,\"fill_color\":\"lightgrey\",\"group\":null,\"left_units\":\"screen\",\"level\":\"overlay\",\"line_alpha\":1.0,\"line_color\":\"black\",\"line_dash\":[4,4],\"line_width\":2,\"right_units\":\"screen\",\"syncable\":false,\"top_units\":\"screen\"},\"id\":\"1328\",\"type\":\"BoxAnnotation\"},{\"attributes\":{\"fill_alpha\":{\"value\":0.5},\"fill_color\":{\"value\":\"red\"},\"hatch_alpha\":{\"value\":0.5},\"line_alpha\":{\"value\":0.5},\"line_color\":{\"value\":\"white\"},\"size\":{\"value\":10},\"x\":{\"field\":\"x\"},\"y\":{\"field\":\"y\"}},\"id\":\"1223\",\"type\":\"Circle\"},{\"attributes\":{\"fill_alpha\":{\"value\":0.2},\"fill_color\":{\"value\":\"midnightblue\"},\"hatch_alpha\":{\"value\":0.2},\"line_alpha\":{\"value\":0.2},\"line_color\":{\"value\":\"white\"},\"size\":{\"value\":10},\"x\":{\"field\":\"x\"},\"y\":{\"field\":\"y\"}},\"id\":\"1340\",\"type\":\"Circle\"},{\"attributes\":{\"style\":{\"font-size\":\"250%\"},\"text\":\"Observing different problems\"},\"id\":\"1361\",\"type\":\"Div\"},{\"attributes\":{\"children\":[{\"id\":\"1187\"},{\"id\":\"1245\"},{\"id\":\"1303\"}]},\"id\":\"1362\",\"type\":\"Row\"},{\"attributes\":{\"callback\":null,\"mode\":\"vline\",\"renderers\":[{\"id\":\"1225\"}],\"tooltips\":null},\"id\":\"1239\",\"type\":\"HoverTool\"},{\"attributes\":{},\"id\":\"1235\",\"type\":\"Selection\"},{\"attributes\":{\"fill_alpha\":{\"value\":0.5},\"fill_color\":{\"value\":\"midnightblue\"},\"line_color\":{\"value\":\"white\"}},\"id\":\"1242\",\"type\":\"Circle\"},{\"attributes\":{\"bottom_units\":\"screen\",\"coordinates\":null,\"fill_alpha\":0.5,\"fill_color\":\"lightgrey\",\"group\":null,\"left_units\":\"screen\",\"level\":\"overlay\",\"line_alpha\":1.0,\"line_color\":\"black\",\"line_dash\":[4,4],\"line_width\":2,\"right_units\":\"screen\",\"syncable\":false,\"top_units\":\"screen\"},\"id\":\"1398\",\"type\":\"BoxAnnotation\"},{\"attributes\":{\"children\":[{\"id\":\"1361\"},{\"id\":\"1362\"}]},\"id\":\"1363\",\"type\":\"Column\"},{\"attributes\":{},\"id\":\"1269\",\"type\":\"HelpTool\"},{\"attributes\":{},\"id\":\"1264\",\"type\":\"PanTool\"},{\"attributes\":{},\"id\":\"1229\",\"type\":\"BasicTickFormatter\"},{\"attributes\":{\"coordinates\":null,\"group\":null,\"text\":\"Problem 2\",\"text_color\":\"#E0E0E0\",\"text_font\":\"Josefin Sans\",\"text_font_size\":\"2.1em\"},\"id\":\"1246\",\"type\":\"Title\"},{\"attributes\":{\"tools\":[{\"id\":\"1206\"},{\"id\":\"1207\"},{\"id\":\"1208\"},{\"id\":\"1209\"},{\"id\":\"1210\"},{\"id\":\"1211\"},{\"id\":\"1239\"},{\"id\":\"1243\"}]},\"id\":\"1213\",\"type\":\"Toolbar\"},{\"attributes\":{\"data\":{\"x\":{\"__ndarray__\":\"AAAAAAAAAABbv1Kg1q+EP1u/UqDWr5Q/CB988MEHnz9bv1Kg1q+kPzJvZ0jM26k/CB988MEHrz9wZ0jM2xmyP1u/UqDWr7Q/RhdddNFFtz8yb2dIzNu5Px3HcRzHcbw/CB988MEHvz96O0Ni3s7AP3BnSMzbGcI/ZZNNNtlkwz9bv1Kg1q/EP1HrVwrU+sU/RhdddNFFxz88Q2LezpDIPzJvZ0jM28k/J5tssskmyz8dx3Ecx3HMPxPzdobEvM0/CB988MEHzz9/pUCtXynQP3o7Q2LeztA/ddFFF1100T9wZ0jM2xnSP2r9SoFav9I/ZZNNNtlk0z9gKVDrVwrUP1u/UqDWr9Q/VlVVVVVV1T9R61cK1PrVP0yBWr9SoNY/RhdddNFF1z9BrV8pUOvXPzxDYt7OkNg/N9lkk0022T8yb2dIzNvZPy0Fav1Kgdo/J5tssskm2z8iMW9nSMzbPx3HcRzHcdw/GF100UUX3T8T83aGxLzdPw6JeTtDYt4/CB988MEH3z8DtX6lQK3fP3+lQK1fKeA/ffDBBx984D96O0Ni3s7gP3eGxLydIeE/ddFFF1104T9yHMdxHMfhP3BnSMzbGeI/bbLJJpts4j9q/UqBWr/iP2hIzNsZEuM/ZZNNNtlk4z9j3s6QmLfjP2ApUOtXCuQ/XnTRRRdd5D9bv1Kg1q/kP1gK1PqVAuU/VlVVVVVV5T9ToNavFKjlP1HrVwrU+uU/TjbZZJNN5j9MgVq/UqDmP0nM2xkS8+Y/RhdddNFF5z9EYt7OkJjnP0GtXylQ6+c/P/jggw8+6D88Q2LezpDoPzmO4ziO4+g/N9lkk0026T80JObtDInpPzJvZ0jM2+k/L7rooosu6j8tBWr9SoHqPypQ61cK1Oo/J5tssskm6z8l5u0MiXnrPyIxb2dIzOs/IHzwwQcf7D8dx3Ecx3HsPxsS83aGxOw/GF100UUX7T8VqPUrBWrtPxPzdobEvO0/ED744IMP7j8OiXk7Q2LuPwvU+pUCte4/CB988MEH7z8Gav1KgVrvPwO1fqVAre8/AAAAAAAA8D8=\",\"dtype\":\"float64\",\"order\":\"little\",\"shape\":[100]},\"y\":{\"__ndarray__\":\"0ARuFCqTiz/0uXKOIYJtP6AfhyXrfGC/IhdXTGrIqj+KS8M/7PaZP3B/+WAjO3e/ShXmCCCEuT9pI0f1Ph6sPxuJRGPBscE/oDTBxxNQwz8iblcwlBu3P8wpKyj5960/2HbtTjsLxD/Jmo/lfIfEP06szu5JrcM/oWHJ3sGUvD9mxHFXKfa+P+zkzczfo8o/3OgTvLWNvz/ZdKjqJcW8P2RujktN6KI/jn10KmLisT9tJR3ixZm3P7bWrEsmM8k/hpT7nlK+qz/FSluaBIu6Pwh9wbyhrrc/jYI9dMauxj9K7kTGICm9P0bRYZIuu8g/JHRqU0hjsD9O/nSnc6a0Pw787jFPp8I/qANmZZyYsD/YePr4N828P+Rw0WSn7L8/sMMZQWFpcD8hY2gGzYixP/wfQZMoX7A/CQf+WJ9Ltj90Acz67YiYPymHG6UbS8A/AM3P9b52Tr8gSpk4BolTv39Le8ILjMI/33HWX4cEp7/wAXDZpB+aP3ZzVmL9VqQ/aKCWJaOZqr9wLz+5Nd6hvzKf6fKX/qQ/mEbFT2JQob+ekOuqYeW/v7aJTYm2TJq/YADhRsjej79cCHPG0CHCv15apcldi8S/97G+ePtLtr+gQjucvCqXv5zYulDDbMG/nLkduxxGqL8x/ymee1DNv5b12/MSX72/mGO9J/HtvL99hpghuYDGv05vpAEMutK/6A8ogdWjz78mbMEPmHrNv4w1dWMyk8y/TFHJqjUH0r/ZCiXoqGjJvwzMY0taJte/+uONE4yb0789lSXoe37SvzjM4VHBpNi/AhRibZrn1r9oIxPy2WvYv/dm7g7ve+C/5u5I3EBT4L/TWCRggRDfv0plS+hpgdm/yEYAWJV33r88g+dL0aPiv+Ue/YboiuO/5Z4XODUQ5r/FgxzA1bHiv49OOK2ayuO/Ahvs5Uka5r8YJRxO8l3lv3ZOxgdTNum/6iuW6j/N5L/O7cMfHfTmv9jaKrvyq+a/2r/7TCn07L8zVSzFlezpv09pqnOS5+m/MYbDBR187b/7Vvqg+cnvvy5Mjpnrk+2/QnMXcsVl8L8=\",\"dtype\":\"float64\",\"order\":\"little\",\"shape\":[100]}},\"selected\":{\"id\":\"1293\"},\"selection_policy\":{\"id\":\"1292\"}},\"id\":\"1278\",\"type\":\"ColumnDataSource\"},{\"attributes\":{\"coordinates\":null,\"data_source\":{\"id\":\"1278\"},\"glyph\":{\"id\":\"1279\"},\"group\":null,\"hover_glyph\":{\"id\":\"1281\"},\"muted_glyph\":{\"id\":\"1282\"},\"nonselection_glyph\":{\"id\":\"1300\"},\"selection_glyph\":{\"id\":\"1299\"},\"view\":{\"id\":\"1284\"}},\"id\":\"1283\",\"type\":\"GlyphRenderer\"},{\"attributes\":{\"fill_alpha\":{\"value\":0.25},\"fill_color\":{\"value\":\"midnightblue\"},\"hatch_alpha\":{\"value\":0.25},\"line_alpha\":{\"value\":0.25},\"line_color\":{\"value\":\"white\"},\"size\":{\"value\":10},\"x\":{\"field\":\"x\"},\"y\":{\"field\":\"y\"}},\"id\":\"1221\",\"type\":\"Circle\"},{\"attributes\":{},\"id\":\"1230\",\"type\":\"AllLabels\"},{\"attributes\":{},\"id\":\"1252\",\"type\":\"LinearScale\"},{\"attributes\":{},\"id\":\"1199\",\"type\":\"BasicTicker\"},{\"attributes\":{\"axis_label\":\"y\",\"axis_label_standoff\":10,\"axis_label_text_color\":\"#FFFFFF\",\"axis_label_text_font\":\"Josefin Sans\",\"axis_label_text_font_size\":\"1.9em\",\"axis_label_text_font_style\":\"bold\",\"axis_line_alpha\":0.4,\"axis_line_color\":\"#E0E0E0\",\"coordinates\":null,\"formatter\":{\"id\":\"1229\"},\"group\":null,\"major_label_policy\":{\"id\":\"1230\"},\"major_label_text_color\":\"#E0E0E0\",\"major_label_text_font\":\"Josefin Sans\",\"major_label_text_font_size\":\"1.15em\",\"major_tick_line_alpha\":0.4,\"major_tick_line_color\":\"#E0E0E0\",\"minor_tick_line_alpha\":0.4,\"minor_tick_line_color\":\"#E0E0E0\",\"ticker\":{\"id\":\"1203\"}},\"id\":\"1202\",\"type\":\"LinearAxis\"},{\"attributes\":{\"fill_alpha\":{\"value\":0.25},\"fill_color\":{\"value\":\"midnightblue\"},\"hatch_alpha\":{\"value\":0.25},\"line_alpha\":{\"value\":0.25},\"line_color\":{\"value\":\"white\"},\"size\":{\"value\":10},\"x\":{\"field\":\"x\"},\"y\":{\"field\":\"y\"}},\"id\":\"1279\",\"type\":\"Circle\"},{\"attributes\":{\"data\":{\"x\":{\"__ndarray__\":\"AAAAAAAAAABbv1Kg1q+EP1u/UqDWr5Q/CB988MEHnz9bv1Kg1q+kPzJvZ0jM26k/CB988MEHrz9wZ0jM2xmyP1u/UqDWr7Q/RhdddNFFtz8yb2dIzNu5Px3HcRzHcbw/CB988MEHvz96O0Ni3s7AP3BnSMzbGcI/ZZNNNtlkwz9bv1Kg1q/EP1HrVwrU+sU/RhdddNFFxz88Q2LezpDIPzJvZ0jM28k/J5tssskmyz8dx3Ecx3HMPxPzdobEvM0/CB988MEHzz9/pUCtXynQP3o7Q2LeztA/ddFFF1100T9wZ0jM2xnSP2r9SoFav9I/ZZNNNtlk0z9gKVDrVwrUP1u/UqDWr9Q/VlVVVVVV1T9R61cK1PrVP0yBWr9SoNY/RhdddNFF1z9BrV8pUOvXPzxDYt7OkNg/N9lkk0022T8yb2dIzNvZPy0Fav1Kgdo/J5tssskm2z8iMW9nSMzbPx3HcRzHcdw/GF100UUX3T8T83aGxLzdPw6JeTtDYt4/CB988MEH3z8DtX6lQK3fP3+lQK1fKeA/ffDBBx984D96O0Ni3s7gP3eGxLydIeE/ddFFF1104T9yHMdxHMfhP3BnSMzbGeI/bbLJJpts4j9q/UqBWr/iP2hIzNsZEuM/ZZNNNtlk4z9j3s6QmLfjP2ApUOtXCuQ/XnTRRRdd5D9bv1Kg1q/kP1gK1PqVAuU/VlVVVVVV5T9ToNavFKjlP1HrVwrU+uU/TjbZZJNN5j9MgVq/UqDmP0nM2xkS8+Y/RhdddNFF5z9EYt7OkJjnP0GtXylQ6+c/P/jggw8+6D88Q2LezpDoPzmO4ziO4+g/N9lkk0026T80JObtDInpPzJvZ0jM2+k/L7rooosu6j8tBWr9SoHqPypQ61cK1Oo/J5tssskm6z8l5u0MiXnrPyIxb2dIzOs/IHzwwQcf7D8dx3Ecx3HsPxsS83aGxOw/GF100UUX7T8VqPUrBWrtPxPzdobEvO0/ED744IMP7j8OiXk7Q2LuPwvU+pUCte4/CB988MEH7z8Gav1KgVrvPwO1fqVAre8/AAAAAAAA8D8=\",\"dtype\":\"float64\",\"order\":\"little\",\"shape\":[100]},\"y\":{\"__ndarray__\":\"4tEPXMcMEEBqT5j8+vcPQNRBOxWaoQ5ASTeJQtt/D0BAvlcNgxAOQLkik9AQaA1AuEQsbwoUDkBKC6sM5L8NQGaRRwnU4AxAcsyjYFFWDUBsdeL417YLQKjcukrJSAtAxxVPbbMSC0AJ+ON1RQgMQJ+EWphj7gtA+4P8suFaC0DEkGXAW1EKQPw72pHM5wpAtWTYWANMCkBtpMKLT10KQJopYOkl/QlAWI1kxE7KCEBmB3b4YtYIQMZbCNP3UghAVdUWJFARCUCsEIB5upUIQCOrUGkFhAdA3tYApRaJB0CSmcl051kHQGPsf7G1BQdA8hGruIwbB0BsXUtflLUHQMYW5mDWHQdAyrKvurM2B0Bm0oOqHC8HQE5MhNKbVwdAiD4+YIb7BkA+rj9IoeMGQGQhL7cSmgZA3h290tmMBkAetwg2yg4GQJBSkU32ewZAjXYIUzR7BkBQ5xoQ7tgFQJYBtCZm0wVA5BvJ45R0BkAH2TsFcUAFQOfmaqSoFwZAjgoDL1GbBkDKacD7sBsGQNy1Di6XmAZAvvixiHUxBkCyUc26A3kFQEJhU0p8FgZA7R6+BrVXBkCYlhbdGmUFQIt04WZHoAZAZCy0ndLCBkBUPL2tpu0GQHxGLoxwGwdAvfOTPztmBkC6x8uxTB0HQCFBlH1KHgdAr9Fe8J0xBkAPOzqTZusGQDKChPrYxAZAALHz01U6B0AQvxcB3F0HQFWPZiseJghA5Kgd9HHGB0BHIW1mVdQHQFCfn691iQdA9gXMFaYxCECpK8UlPIYIQH1n2UneNAlAXzK5VTRNCECi+qKPWnIIQB9ex0wvAAlAhGYGmsr9CUCkfU6Mm1kKQPOwuSzreQpAVJ0VjTBJCkBla25tn+0KQE459N+GKQpAVjMNZYiCCkDsBl6GvsILQGnGjsp14AtA5EiYQemwC0CVuFa9j44LQGDvfxPVZwxAqAi07rTIDECv6i56EU4MQEONcvHxcQ1AXKZdeK3FDUBheA54zF8OQF4SRgK5Qg5AObjBUz46D0Da2w2BwuMOQPch2CEYUg9Ah8chvFDwD0A=\",\"dtype\":\"float64\",\"order\":\"little\",\"shape\":[100]}},\"selected\":{\"id\":\"1235\"},\"selection_policy\":{\"id\":\"1234\"}},\"id\":\"1220\",\"type\":\"ColumnDataSource\"},{\"attributes\":{\"data\":{\"x\":{\"__ndarray__\":\"AAAAAAAAAABbv1Kg1q+EP1u/UqDWr5Q/CB988MEHnz9bv1Kg1q+kPzJvZ0jM26k/CB988MEHrz9wZ0jM2xmyP1u/UqDWr7Q/RhdddNFFtz8yb2dIzNu5Px3HcRzHcbw/CB988MEHvz96O0Ni3s7AP3BnSMzbGcI/ZZNNNtlkwz9bv1Kg1q/EP1HrVwrU+sU/RhdddNFFxz88Q2LezpDIPzJvZ0jM28k/J5tssskmyz8dx3Ecx3HMPxPzdobEvM0/CB988MEHzz9/pUCtXynQP3o7Q2LeztA/ddFFF1100T9wZ0jM2xnSP2r9SoFav9I/ZZNNNtlk0z9gKVDrVwrUP1u/UqDWr9Q/VlVVVVVV1T9R61cK1PrVP0yBWr9SoNY/RhdddNFF1z9BrV8pUOvXPzxDYt7OkNg/N9lkk0022T8yb2dIzNvZPy0Fav1Kgdo/J5tssskm2z8iMW9nSMzbPx3HcRzHcdw/GF100UUX3T8T83aGxLzdPw6JeTtDYt4/CB988MEH3z8DtX6lQK3fP3+lQK1fKeA/ffDBBx984D96O0Ni3s7gP3eGxLydIeE/ddFFF1104T9yHMdxHMfhP3BnSMzbGeI/bbLJJpts4j9q/UqBWr/iP2hIzNsZEuM/ZZNNNtlk4z9j3s6QmLfjP2ApUOtXCuQ/XnTRRRdd5D9bv1Kg1q/kP1gK1PqVAuU/VlVVVVVV5T9ToNavFKjlP1HrVwrU+uU/TjbZZJNN5j9MgVq/UqDmP0nM2xkS8+Y/RhdddNFF5z9EYt7OkJjnP0GtXylQ6+c/P/jggw8+6D88Q2LezpDoPzmO4ziO4+g/N9lkk0026T80JObtDInpPzJvZ0jM2+k/L7rooosu6j8tBWr9SoHqPypQ61cK1Oo/J5tssskm6z8l5u0MiXnrPyIxb2dIzOs/IHzwwQcf7D8dx3Ecx3HsPxsS83aGxOw/GF100UUX7T8VqPUrBWrtPxPzdobEvO0/ED744IMP7j8OiXk7Q2LuPwvU+pUCte4/CB988MEH7z8Gav1KgVrvPwO1fqVAre8/AAAAAAAA8D8=\",\"dtype\":\"float64\",\"order\":\"little\",\"shape\":[100]},\"y\":{\"__ndarray__\":\"9Rnm2YSO8T9ksM3YZ3PxP0N9BFbEwu8/kP0VFuyT7z8KiBX+KBryPwHkHgu3oPE/EdmDM1XT7z+dkjV6YP/wPw7dZRKlTvA/J4+8J22B8T/Mb/OR0CbwP9JfEoFwZfI/0O4x0tvZ8T+T0AB23mPyP2I2s4rQDfE/HMvGv9J/8j9tutpKfUTxP0LXSNUWwfM/f4Wbk7rP8j9Mz2qm8jfzP/y9nWwOXvI/hmu+d4VF9D/1vNwprizyPzbhpU3L7PM/J7CmkAYI9D9wQ7Uqm2b0P+xrsRjVv/M/bfMCqk5i9D/h8ntlT5z1P/Hd31WFDfY/Zi6DZkXR8z/RMDZrLD71P6EOgAsrafU/66EUJAE49T+TYpdHdcL1P3BE6n5mu/Y/JCyEaVcx9j9k522WWjj1P7r8u38tvvY/uAXZ/8SE9j/yszEHj+31P1noW83SX/Y/t6VPHn4V9z/A/eESBf/2P8+OXvXBwvY/MB4f73GI9j+3UiBXqJb2P5sTyF8zPfg/4EMXDOZJ+D98IsGsOk33P5pe/tNop/k/QBEJICgm+j920kKYyiX4P+zJBpk0CPk/hA5MuqdA+j9vbi2vmWf4P3d3Zi3qAPo/diRo6XR5+D8IvqSFUtr6P1naG6v6NPk/lWPhQh81+z9LNyNovrb6P5gsm6b1J/w/jOclzlgA+z+W8ediNyH8P7Zxw4scsvo/Sm2uTX3j/D9usxD9DdT7PxeWhOj9m/o/3rlg265y/T8KtoFN6tj6P5ZBRVc6k/s/E5K3nGFw+z8XQLPC17L7P0Qgaa4gdv0/iNnF+V7u/D9eDvFXeY7+PzRztf7wiP0/ioFMJLR3/D9Wvwxi/gr9PwCwkGec2/w/tIwrThJB/j9WqYhoLVj9P+gJHnrVW/4/xqD0wny5/j92RkDtWpv/P6Dz1DptcP4/5hV6no95/j+09000agz+P7FKo0e2WwBAoKy6QMmR/z9bJYTndKsAQEv6n9XBwQBAoOBiLMzzAECJ+09crRoAQEzkoSQOLQFAAq/C/jaEAEAUnsWVkHMAQCXYazHnTQFA7m18B8CXAEA=\",\"dtype\":\"float64\",\"order\":\"little\",\"shape\":[100]}},\"selected\":{\"id\":\"1351\"},\"selection_policy\":{\"id\":\"1350\"}},\"id\":\"1336\",\"type\":\"ColumnDataSource\"},{\"attributes\":{\"bottom_units\":\"screen\",\"coordinates\":null,\"fill_alpha\":0.5,\"fill_color\":\"lightgrey\",\"group\":null,\"left_units\":\"screen\",\"level\":\"overlay\",\"line_alpha\":1.0,\"line_color\":\"black\",\"line_dash\":[4,4],\"line_width\":2,\"right_units\":\"screen\",\"syncable\":false,\"top_units\":\"screen\"},\"id\":\"1270\",\"type\":\"BoxAnnotation\"},{\"attributes\":{\"mode\":\"append\",\"overlay\":{\"id\":\"1390\"},\"renderers\":[{\"id\":\"1225\"}]},\"id\":\"1243\",\"type\":\"BoxSelectTool\"},{\"attributes\":{},\"id\":\"1232\",\"type\":\"BasicTickFormatter\"},{\"attributes\":{},\"id\":\"1248\",\"type\":\"DataRange1d\"},{\"attributes\":{\"label\":{\"value\":\"Observations\"},\"renderers\":[{\"id\":\"1225\"}]},\"id\":\"1238\",\"type\":\"LegendItem\"},{\"attributes\":{\"source\":{\"id\":\"1336\"}},\"id\":\"1342\",\"type\":\"CDSView\"},{\"attributes\":{\"source\":{\"id\":\"1278\"}},\"id\":\"1284\",\"type\":\"CDSView\"},{\"attributes\":{\"fill_alpha\":{\"value\":0.5},\"fill_color\":{\"value\":\"red\"},\"hatch_alpha\":{\"value\":0.5},\"line_alpha\":{\"value\":0.5},\"line_color\":{\"value\":\"white\"},\"size\":{\"value\":10},\"x\":{\"field\":\"x\"},\"y\":{\"field\":\"y\"}},\"id\":\"1339\",\"type\":\"Circle\"},{\"attributes\":{\"label\":{\"value\":\"Observations\"},\"renderers\":[{\"id\":\"1341\"}]},\"id\":\"1354\",\"type\":\"LegendItem\"},{\"attributes\":{\"fill_alpha\":{\"value\":0.5},\"fill_color\":{\"value\":\"red\"},\"hatch_alpha\":{\"value\":0.5},\"line_alpha\":{\"value\":0.5},\"line_color\":{\"value\":\"white\"},\"size\":{\"value\":10},\"x\":{\"field\":\"x\"},\"y\":{\"field\":\"y\"}},\"id\":\"1281\",\"type\":\"Circle\"},{\"attributes\":{\"axis_label\":\"y\",\"axis_label_standoff\":10,\"axis_label_text_color\":\"#FFFFFF\",\"axis_label_text_font\":\"Josefin Sans\",\"axis_label_text_font_size\":\"1.9em\",\"axis_label_text_font_style\":\"bold\",\"axis_line_alpha\":0.4,\"axis_line_color\":\"#E0E0E0\",\"coordinates\":null,\"formatter\":{\"id\":\"1287\"},\"group\":null,\"major_label_policy\":{\"id\":\"1288\"},\"major_label_text_color\":\"#E0E0E0\",\"major_label_text_font\":\"Josefin Sans\",\"major_label_text_font_size\":\"1.15em\",\"major_tick_line_alpha\":0.4,\"major_tick_line_color\":\"#E0E0E0\",\"minor_tick_line_alpha\":0.4,\"minor_tick_line_color\":\"#E0E0E0\",\"ticker\":{\"id\":\"1261\"}},\"id\":\"1260\",\"type\":\"LinearAxis\"},{\"attributes\":{\"label\":{\"value\":\"Observations\"},\"renderers\":[{\"id\":\"1283\"}]},\"id\":\"1296\",\"type\":\"LegendItem\"},{\"attributes\":{},\"id\":\"1254\",\"type\":\"LinearScale\"},{\"attributes\":{\"client_comm_id\":\"b2c5a2f20fc3431d9d4f834900c24385\",\"comm_id\":\"52b4ee35c6eb4165bf18661f4a256f05\",\"plot_id\":\"1364\"},\"id\":\"1532\",\"type\":\"panel.models.comm_manager.CommManager\"},{\"attributes\":{\"background_fill_alpha\":0.25,\"background_fill_color\":\"#505050\",\"border_line_alpha\":0.25,\"coordinates\":null,\"group\":null,\"items\":[{\"id\":\"1354\"}],\"label_standoff\":8,\"label_text_color\":\"#E0E0E0\",\"label_text_font\":\"Josefin Sans\",\"label_text_font_size\":\"1.15em\",\"spacing\":8},\"id\":\"1353\",\"type\":\"Legend\"},{\"attributes\":{\"axis\":{\"id\":\"1260\"},\"coordinates\":null,\"dimension\":1,\"grid_line_alpha\":0.15,\"grid_line_color\":\"#E0E0E0\",\"group\":null,\"ticker\":null},\"id\":\"1263\",\"type\":\"Grid\"},{\"attributes\":{},\"id\":\"1207\",\"type\":\"WheelZoomTool\"},{\"attributes\":{},\"id\":\"1265\",\"type\":\"WheelZoomTool\"},{\"attributes\":{},\"id\":\"1250\",\"type\":\"DataRange1d\"},{\"attributes\":{\"background_fill_alpha\":0.9,\"background_fill_color\":\"#0f0f0f\",\"below\":[{\"id\":\"1256\"}],\"border_fill_alpha\":0.8,\"border_fill_color\":\"#111111\",\"center\":[{\"id\":\"1259\"},{\"id\":\"1263\"},{\"id\":\"1295\"}],\"height\":450,\"left\":[{\"id\":\"1260\"}],\"outline_line_alpha\":0.25,\"outline_line_color\":\"#E0E0E0\",\"outline_line_width\":3,\"renderers\":[{\"id\":\"1283\"}],\"title\":{\"id\":\"1246\"},\"toolbar\":{\"id\":\"1271\"},\"toolbar_location\":null,\"x_range\":{\"id\":\"1248\"},\"x_scale\":{\"id\":\"1252\"},\"y_range\":{\"id\":\"1250\"},\"y_scale\":{\"id\":\"1254\"}},\"id\":\"1245\",\"subtype\":\"Figure\",\"type\":\"Plot\"},{\"attributes\":{},\"id\":\"1190\",\"type\":\"DataRange1d\"}],\"root_ids\":[\"1364\",\"1532\"]},\"title\":\"Bokeh Application\",\"version\":\"2.4.3\"}};\n",
       "    var render_items = [{\"docid\":\"7f1ea5b4-42cb-48bb-9c5b-07f8f592e1cc\",\"root_ids\":[\"1364\"],\"roots\":{\"1364\":\"5e2abf75-5eec-4f26-9d0b-c554bb8fa10b\"}}];\n",
       "    root.Bokeh.embed.embed_items_notebook(docs_json, render_items);\n",
       "    for (const render_item of render_items) {\n",
       "      for (const root_id of render_item.root_ids) {\n",
       "\tconst id_el = document.getElementById(root_id)\n",
       "\tif (id_el.children.length && (id_el.children[0].className === 'bk-root')) {\n",
       "\t  const root_el = id_el.children[0]\n",
       "\t  root_el.id = root_el.id + '-rendered'\n",
       "\t}\n",
       "      }\n",
       "    }\n",
       "  }\n",
       "  if (root.Bokeh !== undefined && root.Bokeh.Panel !== undefined) {\n",
       "    embed_document(root);\n",
       "  } else {\n",
       "    var attempts = 0;\n",
       "    var timer = setInterval(function(root) {\n",
       "      if (root.Bokeh !== undefined && root.Bokeh.Panel !== undefined) {\n",
       "        clearInterval(timer);\n",
       "        embed_document(root);\n",
       "      } else if (document.readyState == \"complete\") {\n",
       "        attempts++;\n",
       "        if (attempts > 200) {\n",
       "          clearInterval(timer);\n",
       "          console.log(\"Bokeh: ERROR: Unable to run BokehJS code because BokehJS library is missing\");\n",
       "        }\n",
       "      }\n",
       "    }, 25, root)\n",
       "  }\n",
       "})(window);</script>"
      ],
      "text/plain": [
       "Row\n",
       "    [0] HSpacer()\n",
       "    [1] Bokeh(Column)\n",
       "    [2] HSpacer()"
      ]
     },
     "execution_count": 5,
     "metadata": {
      "application/vnd.holoviews_exec.v0+json": {
       "id": "1364"
      }
     },
     "output_type": "execute_result"
    }
   ],
   "source": [
    "from bokeh.models import Div\n",
    "from bokeh.layouts import column, row\n",
    "plot = center_plot(column(Div(text = \"Observing different problems\", style={'font-size': '250%'}), row(*plots)))\n",
    "plot"
   ]
  },
  {
   "cell_type": "markdown",
   "metadata": {},
   "source": [
    "In real-life settings, this function can also have different levels of noise, as exemplified in the following code."
   ]
  },
  {
   "cell_type": "code",
   "execution_count": 6,
   "metadata": {
    "tags": []
   },
   "outputs": [],
   "source": [
    "params = [3, 0, 1]\n",
    "noise_levels = [0.1, 1.0, 8.0]\n",
    "# Generating the x axis\n",
    "x = np.linspace(0, 1, 100)\n",
    "plots = []\n",
    "for p in range(len(noise_levels)):\n",
    "    poly = np.poly1d(params)\n",
    "    epsilon = np.random.uniform(-noise_levels[p],noise_levels[p],x.shape)\n",
    "    y = poly(x) + epsilon\n",
    "    plots.append(scatter(x, y, title=\"Problem \"+(str(p+1))))"
   ]
  },
  {
   "cell_type": "code",
   "execution_count": 7,
   "metadata": {
    "tags": []
   },
   "outputs": [
    {
     "data": {},
     "metadata": {},
     "output_type": "display_data"
    },
    {
     "data": {
      "application/vnd.holoviews_exec.v0+json": "",
      "text/html": [
       "<div id='1875'>\n",
       "  <div class=\"bk-root\" id=\"0bd020ce-8591-4973-a295-bdd397cfe371\" data-root-id=\"1875\"></div>\n",
       "</div>\n",
       "<script type=\"application/javascript\">(function(root) {\n",
       "  function embed_document(root) {\n",
       "    var docs_json = {\"67b0b764-0c8c-43c3-9101-40a1b73778f7\":{\"defs\":[{\"extends\":null,\"module\":null,\"name\":\"ReactiveHTML1\",\"overrides\":[],\"properties\":[]},{\"extends\":null,\"module\":null,\"name\":\"FlexBox1\",\"overrides\":[],\"properties\":[{\"default\":\"flex-start\",\"kind\":null,\"name\":\"align_content\"},{\"default\":\"flex-start\",\"kind\":null,\"name\":\"align_items\"},{\"default\":\"row\",\"kind\":null,\"name\":\"flex_direction\"},{\"default\":\"wrap\",\"kind\":null,\"name\":\"flex_wrap\"},{\"default\":\"flex-start\",\"kind\":null,\"name\":\"justify_content\"}]},{\"extends\":null,\"module\":null,\"name\":\"GridStack1\",\"overrides\":[],\"properties\":[{\"default\":\"warn\",\"kind\":null,\"name\":\"mode\"},{\"default\":null,\"kind\":null,\"name\":\"ncols\"},{\"default\":null,\"kind\":null,\"name\":\"nrows\"},{\"default\":true,\"kind\":null,\"name\":\"allow_resize\"},{\"default\":true,\"kind\":null,\"name\":\"allow_drag\"},{\"default\":[],\"kind\":null,\"name\":\"state\"}]},{\"extends\":null,\"module\":null,\"name\":\"click1\",\"overrides\":[],\"properties\":[{\"default\":\"\",\"kind\":null,\"name\":\"terminal_output\"},{\"default\":\"\",\"kind\":null,\"name\":\"debug_name\"},{\"default\":0,\"kind\":null,\"name\":\"clears\"}]},{\"extends\":null,\"module\":null,\"name\":\"NotificationAreaBase1\",\"overrides\":[],\"properties\":[{\"default\":\"bottom-right\",\"kind\":null,\"name\":\"position\"},{\"default\":0,\"kind\":null,\"name\":\"_clear\"}]},{\"extends\":null,\"module\":null,\"name\":\"NotificationArea1\",\"overrides\":[],\"properties\":[{\"default\":[],\"kind\":null,\"name\":\"notifications\"},{\"default\":\"bottom-right\",\"kind\":null,\"name\":\"position\"},{\"default\":0,\"kind\":null,\"name\":\"_clear\"},{\"default\":[{\"background\":\"#ffc107\",\"icon\":{\"className\":\"fas fa-exclamation-triangle\",\"color\":\"white\",\"tagName\":\"i\"},\"type\":\"warning\"},{\"background\":\"#007bff\",\"icon\":{\"className\":\"fas fa-info-circle\",\"color\":\"white\",\"tagName\":\"i\"},\"type\":\"info\"}],\"kind\":null,\"name\":\"types\"}]},{\"extends\":null,\"module\":null,\"name\":\"Notification\",\"overrides\":[],\"properties\":[{\"default\":null,\"kind\":null,\"name\":\"background\"},{\"default\":3000,\"kind\":null,\"name\":\"duration\"},{\"default\":null,\"kind\":null,\"name\":\"icon\"},{\"default\":\"\",\"kind\":null,\"name\":\"message\"},{\"default\":null,\"kind\":null,\"name\":\"notification_type\"},{\"default\":false,\"kind\":null,\"name\":\"_destroyed\"}]},{\"extends\":null,\"module\":null,\"name\":\"TemplateActions1\",\"overrides\":[],\"properties\":[{\"default\":0,\"kind\":null,\"name\":\"open_modal\"},{\"default\":0,\"kind\":null,\"name\":\"close_modal\"}]},{\"extends\":null,\"module\":null,\"name\":\"MaterialTemplateActions1\",\"overrides\":[],\"properties\":[{\"default\":0,\"kind\":null,\"name\":\"open_modal\"},{\"default\":0,\"kind\":null,\"name\":\"close_modal\"}]}],\"roots\":{\"references\":[{\"attributes\":{},\"id\":\"1701\",\"type\":\"DataRange1d\"},{\"attributes\":{\"axis_label\":\"y\",\"axis_label_standoff\":10,\"axis_label_text_color\":\"#FFFFFF\",\"axis_label_text_font\":\"Josefin Sans\",\"axis_label_text_font_size\":\"1.9em\",\"axis_label_text_font_style\":\"bold\",\"axis_line_alpha\":0.4,\"axis_line_color\":\"#E0E0E0\",\"coordinates\":null,\"formatter\":{\"id\":\"1798\"},\"group\":null,\"major_label_policy\":{\"id\":\"1799\"},\"major_label_text_color\":\"#E0E0E0\",\"major_label_text_font\":\"Josefin Sans\",\"major_label_text_font_size\":\"1.15em\",\"major_tick_line_alpha\":0.4,\"major_tick_line_color\":\"#E0E0E0\",\"minor_tick_line_alpha\":0.4,\"minor_tick_line_color\":\"#E0E0E0\",\"ticker\":{\"id\":\"1772\"}},\"id\":\"1771\",\"type\":\"LinearAxis\"},{\"attributes\":{\"children\":[{\"id\":\"1876\"},{\"id\":\"1874\"},{\"id\":\"1943\"}],\"margin\":[0,0,0,0],\"name\":\"Row00120\"},\"id\":\"1875\",\"type\":\"Row\"},{\"attributes\":{\"fill_alpha\":{\"value\":0.25},\"fill_color\":{\"value\":\"midnightblue\"},\"hatch_alpha\":{\"value\":0.25},\"line_alpha\":{\"value\":0.25},\"line_color\":{\"value\":\"white\"},\"size\":{\"value\":10},\"x\":{\"field\":\"x\"},\"y\":{\"field\":\"y\"}},\"id\":\"1790\",\"type\":\"Circle\"},{\"attributes\":{\"mode\":\"append\",\"overlay\":{\"id\":\"1905\"},\"renderers\":[{\"id\":\"1794\"}]},\"id\":\"1812\",\"type\":\"BoxSelectTool\"},{\"attributes\":{\"fill_alpha\":{\"value\":0.5},\"fill_color\":{\"value\":\"midnightblue\"},\"line_color\":{\"value\":\"white\"}},\"id\":\"1869\",\"type\":\"Circle\"},{\"attributes\":{\"fill_alpha\":{\"value\":0.25},\"fill_color\":{\"value\":\"midnightblue\"},\"hatch_alpha\":{\"value\":0.25},\"line_alpha\":{\"value\":0.25},\"line_color\":{\"value\":\"white\"},\"size\":{\"value\":10},\"x\":{\"field\":\"x\"},\"y\":{\"field\":\"y\"}},\"id\":\"1732\",\"type\":\"Circle\"},{\"attributes\":{\"coordinates\":null,\"data_source\":{\"id\":\"1731\"},\"glyph\":{\"id\":\"1732\"},\"group\":null,\"hover_glyph\":{\"id\":\"1734\"},\"muted_glyph\":{\"id\":\"1735\"},\"nonselection_glyph\":{\"id\":\"1753\"},\"selection_glyph\":{\"id\":\"1752\"},\"view\":{\"id\":\"1737\"}},\"id\":\"1736\",\"type\":\"GlyphRenderer\"},{\"attributes\":{},\"id\":\"1759\",\"type\":\"DataRange1d\"},{\"attributes\":{},\"id\":\"1798\",\"type\":\"BasicTickFormatter\"},{\"attributes\":{\"axis_label\":\"y\",\"axis_label_standoff\":10,\"axis_label_text_color\":\"#FFFFFF\",\"axis_label_text_font\":\"Josefin Sans\",\"axis_label_text_font_size\":\"1.9em\",\"axis_label_text_font_style\":\"bold\",\"axis_line_alpha\":0.4,\"axis_line_color\":\"#E0E0E0\",\"coordinates\":null,\"formatter\":{\"id\":\"1856\"},\"group\":null,\"major_label_policy\":{\"id\":\"1857\"},\"major_label_text_color\":\"#E0E0E0\",\"major_label_text_font\":\"Josefin Sans\",\"major_label_text_font_size\":\"1.15em\",\"major_tick_line_alpha\":0.4,\"major_tick_line_color\":\"#E0E0E0\",\"minor_tick_line_alpha\":0.4,\"minor_tick_line_color\":\"#E0E0E0\",\"ticker\":{\"id\":\"1830\"}},\"id\":\"1829\",\"type\":\"LinearAxis\"},{\"attributes\":{},\"id\":\"1768\",\"type\":\"BasicTicker\"},{\"attributes\":{\"background_fill_alpha\":0.9,\"background_fill_color\":\"#0f0f0f\",\"below\":[{\"id\":\"1767\"}],\"border_fill_alpha\":0.8,\"border_fill_color\":\"#111111\",\"center\":[{\"id\":\"1770\"},{\"id\":\"1774\"},{\"id\":\"1806\"}],\"height\":450,\"left\":[{\"id\":\"1771\"}],\"outline_line_alpha\":0.25,\"outline_line_color\":\"#E0E0E0\",\"outline_line_width\":3,\"renderers\":[{\"id\":\"1794\"}],\"title\":{\"id\":\"1757\"},\"toolbar\":{\"id\":\"1782\"},\"toolbar_location\":null,\"x_range\":{\"id\":\"1759\"},\"x_scale\":{\"id\":\"1763\"},\"y_range\":{\"id\":\"1761\"},\"y_scale\":{\"id\":\"1765\"}},\"id\":\"1756\",\"subtype\":\"Figure\",\"type\":\"Plot\"},{\"attributes\":{\"axis\":{\"id\":\"1767\"},\"coordinates\":null,\"grid_line_alpha\":0.15,\"grid_line_color\":\"#E0E0E0\",\"group\":null,\"ticker\":null},\"id\":\"1770\",\"type\":\"Grid\"},{\"attributes\":{},\"id\":\"1817\",\"type\":\"DataRange1d\"},{\"attributes\":{\"axis_label\":\"y\",\"axis_label_standoff\":10,\"axis_label_text_color\":\"#FFFFFF\",\"axis_label_text_font\":\"Josefin Sans\",\"axis_label_text_font_size\":\"1.9em\",\"axis_label_text_font_style\":\"bold\",\"axis_line_alpha\":0.4,\"axis_line_color\":\"#E0E0E0\",\"coordinates\":null,\"formatter\":{\"id\":\"1740\"},\"group\":null,\"major_label_policy\":{\"id\":\"1741\"},\"major_label_text_color\":\"#E0E0E0\",\"major_label_text_font\":\"Josefin Sans\",\"major_label_text_font_size\":\"1.15em\",\"major_tick_line_alpha\":0.4,\"major_tick_line_color\":\"#E0E0E0\",\"minor_tick_line_alpha\":0.4,\"minor_tick_line_color\":\"#E0E0E0\",\"ticker\":{\"id\":\"1714\"}},\"id\":\"1713\",\"type\":\"LinearAxis\"},{\"attributes\":{},\"id\":\"1765\",\"type\":\"LinearScale\"},{\"attributes\":{},\"id\":\"1799\",\"type\":\"AllLabels\"},{\"attributes\":{},\"id\":\"1856\",\"type\":\"BasicTickFormatter\"},{\"attributes\":{\"margin\":[5,5,5,5],\"name\":\"HSpacer00117\",\"sizing_mode\":\"stretch_width\"},\"id\":\"1943\",\"type\":\"Spacer\"},{\"attributes\":{\"coordinates\":null,\"group\":null,\"text\":\"Problem 2\",\"text_color\":\"#E0E0E0\",\"text_font\":\"Josefin Sans\",\"text_font_size\":\"2.1em\"},\"id\":\"1757\",\"type\":\"Title\"},{\"attributes\":{},\"id\":\"1740\",\"type\":\"BasicTickFormatter\"},{\"attributes\":{},\"id\":\"1710\",\"type\":\"BasicTicker\"},{\"attributes\":{\"axis\":{\"id\":\"1709\"},\"coordinates\":null,\"grid_line_alpha\":0.15,\"grid_line_color\":\"#E0E0E0\",\"group\":null,\"ticker\":null},\"id\":\"1712\",\"type\":\"Grid\"},{\"attributes\":{},\"id\":\"1826\",\"type\":\"BasicTicker\"},{\"attributes\":{},\"id\":\"1761\",\"type\":\"DataRange1d\"},{\"attributes\":{\"margin\":[5,5,5,5],\"name\":\"HSpacer00116\",\"sizing_mode\":\"stretch_width\"},\"id\":\"1876\",\"type\":\"Spacer\"},{\"attributes\":{},\"id\":\"1763\",\"type\":\"LinearScale\"},{\"attributes\":{},\"id\":\"1801\",\"type\":\"BasicTickFormatter\"},{\"attributes\":{},\"id\":\"1707\",\"type\":\"LinearScale\"},{\"attributes\":{\"background_fill_alpha\":0.9,\"background_fill_color\":\"#0f0f0f\",\"below\":[{\"id\":\"1709\"}],\"border_fill_alpha\":0.8,\"border_fill_color\":\"#111111\",\"center\":[{\"id\":\"1712\"},{\"id\":\"1716\"},{\"id\":\"1748\"}],\"height\":450,\"left\":[{\"id\":\"1713\"}],\"outline_line_alpha\":0.25,\"outline_line_color\":\"#E0E0E0\",\"outline_line_width\":3,\"renderers\":[{\"id\":\"1736\"}],\"title\":{\"id\":\"1699\"},\"toolbar\":{\"id\":\"1724\"},\"toolbar_location\":null,\"x_range\":{\"id\":\"1701\"},\"x_scale\":{\"id\":\"1705\"},\"y_range\":{\"id\":\"1703\"},\"y_scale\":{\"id\":\"1707\"}},\"id\":\"1698\",\"subtype\":\"Figure\",\"type\":\"Plot\"},{\"attributes\":{},\"id\":\"1741\",\"type\":\"AllLabels\"},{\"attributes\":{\"axis_label\":\"x\",\"axis_label_standoff\":10,\"axis_label_text_color\":\"#FFFFFF\",\"axis_label_text_font\":\"Josefin Sans\",\"axis_label_text_font_size\":\"1.9em\",\"axis_label_text_font_style\":\"bold\",\"axis_line_alpha\":0.4,\"axis_line_color\":\"#E0E0E0\",\"coordinates\":null,\"formatter\":{\"id\":\"1801\"},\"group\":null,\"major_label_policy\":{\"id\":\"1802\"},\"major_label_text_color\":\"#E0E0E0\",\"major_label_text_font\":\"Josefin Sans\",\"major_label_text_font_size\":\"1.15em\",\"major_tick_line_alpha\":0.4,\"major_tick_line_color\":\"#E0E0E0\",\"minor_tick_line_alpha\":0.4,\"minor_tick_line_color\":\"#E0E0E0\",\"ticker\":{\"id\":\"1768\"}},\"id\":\"1767\",\"type\":\"LinearAxis\"},{\"attributes\":{\"axis\":{\"id\":\"1825\"},\"coordinates\":null,\"grid_line_alpha\":0.15,\"grid_line_color\":\"#E0E0E0\",\"group\":null,\"ticker\":null},\"id\":\"1828\",\"type\":\"Grid\"},{\"attributes\":{\"coordinates\":null,\"group\":null,\"text\":\"Problem 1\",\"text_color\":\"#E0E0E0\",\"text_font\":\"Josefin Sans\",\"text_font_size\":\"2.1em\"},\"id\":\"1699\",\"type\":\"Title\"},{\"attributes\":{},\"id\":\"1823\",\"type\":\"LinearScale\"},{\"attributes\":{},\"id\":\"1780\",\"type\":\"HelpTool\"},{\"attributes\":{},\"id\":\"1703\",\"type\":\"DataRange1d\"},{\"attributes\":{\"coordinates\":null,\"group\":null,\"text\":\"Problem 3\",\"text_color\":\"#E0E0E0\",\"text_font\":\"Josefin Sans\",\"text_font_size\":\"2.1em\"},\"id\":\"1815\",\"type\":\"Title\"},{\"attributes\":{},\"id\":\"1743\",\"type\":\"BasicTickFormatter\"},{\"attributes\":{},\"id\":\"1802\",\"type\":\"AllLabels\"},{\"attributes\":{},\"id\":\"1705\",\"type\":\"LinearScale\"},{\"attributes\":{},\"id\":\"1819\",\"type\":\"DataRange1d\"},{\"attributes\":{},\"id\":\"1859\",\"type\":\"BasicTickFormatter\"},{\"attributes\":{\"axis_label\":\"x\",\"axis_label_standoff\":10,\"axis_label_text_color\":\"#FFFFFF\",\"axis_label_text_font\":\"Josefin Sans\",\"axis_label_text_font_size\":\"1.9em\",\"axis_label_text_font_style\":\"bold\",\"axis_line_alpha\":0.4,\"axis_line_color\":\"#E0E0E0\",\"coordinates\":null,\"formatter\":{\"id\":\"1743\"},\"group\":null,\"major_label_policy\":{\"id\":\"1744\"},\"major_label_text_color\":\"#E0E0E0\",\"major_label_text_font\":\"Josefin Sans\",\"major_label_text_font_size\":\"1.15em\",\"major_tick_line_alpha\":0.4,\"major_tick_line_color\":\"#E0E0E0\",\"minor_tick_line_alpha\":0.4,\"minor_tick_line_color\":\"#E0E0E0\",\"ticker\":{\"id\":\"1710\"}},\"id\":\"1709\",\"type\":\"LinearAxis\"},{\"attributes\":{},\"id\":\"1821\",\"type\":\"LinearScale\"},{\"attributes\":{\"axis\":{\"id\":\"1771\"},\"coordinates\":null,\"dimension\":1,\"grid_line_alpha\":0.15,\"grid_line_color\":\"#E0E0E0\",\"group\":null,\"ticker\":null},\"id\":\"1774\",\"type\":\"Grid\"},{\"attributes\":{\"axis_label\":\"x\",\"axis_label_standoff\":10,\"axis_label_text_color\":\"#FFFFFF\",\"axis_label_text_font\":\"Josefin Sans\",\"axis_label_text_font_size\":\"1.9em\",\"axis_label_text_font_style\":\"bold\",\"axis_line_alpha\":0.4,\"axis_line_color\":\"#E0E0E0\",\"coordinates\":null,\"formatter\":{\"id\":\"1859\"},\"group\":null,\"major_label_policy\":{\"id\":\"1860\"},\"major_label_text_color\":\"#E0E0E0\",\"major_label_text_font\":\"Josefin Sans\",\"major_label_text_font_size\":\"1.15em\",\"major_tick_line_alpha\":0.4,\"major_tick_line_color\":\"#E0E0E0\",\"minor_tick_line_alpha\":0.4,\"minor_tick_line_color\":\"#E0E0E0\",\"ticker\":{\"id\":\"1826\"}},\"id\":\"1825\",\"type\":\"LinearAxis\"},{\"attributes\":{},\"id\":\"1744\",\"type\":\"AllLabels\"},{\"attributes\":{\"data\":{\"x\":{\"__ndarray__\":\"AAAAAAAAAABbv1Kg1q+EP1u/UqDWr5Q/CB988MEHnz9bv1Kg1q+kPzJvZ0jM26k/CB988MEHrz9wZ0jM2xmyP1u/UqDWr7Q/RhdddNFFtz8yb2dIzNu5Px3HcRzHcbw/CB988MEHvz96O0Ni3s7AP3BnSMzbGcI/ZZNNNtlkwz9bv1Kg1q/EP1HrVwrU+sU/RhdddNFFxz88Q2LezpDIPzJvZ0jM28k/J5tssskmyz8dx3Ecx3HMPxPzdobEvM0/CB988MEHzz9/pUCtXynQP3o7Q2LeztA/ddFFF1100T9wZ0jM2xnSP2r9SoFav9I/ZZNNNtlk0z9gKVDrVwrUP1u/UqDWr9Q/VlVVVVVV1T9R61cK1PrVP0yBWr9SoNY/RhdddNFF1z9BrV8pUOvXPzxDYt7OkNg/N9lkk0022T8yb2dIzNvZPy0Fav1Kgdo/J5tssskm2z8iMW9nSMzbPx3HcRzHcdw/GF100UUX3T8T83aGxLzdPw6JeTtDYt4/CB988MEH3z8DtX6lQK3fP3+lQK1fKeA/ffDBBx984D96O0Ni3s7gP3eGxLydIeE/ddFFF1104T9yHMdxHMfhP3BnSMzbGeI/bbLJJpts4j9q/UqBWr/iP2hIzNsZEuM/ZZNNNtlk4z9j3s6QmLfjP2ApUOtXCuQ/XnTRRRdd5D9bv1Kg1q/kP1gK1PqVAuU/VlVVVVVV5T9ToNavFKjlP1HrVwrU+uU/TjbZZJNN5j9MgVq/UqDmP0nM2xkS8+Y/RhdddNFF5z9EYt7OkJjnP0GtXylQ6+c/P/jggw8+6D88Q2LezpDoPzmO4ziO4+g/N9lkk0026T80JObtDInpPzJvZ0jM2+k/L7rooosu6j8tBWr9SoHqPypQ61cK1Oo/J5tssskm6z8l5u0MiXnrPyIxb2dIzOs/IHzwwQcf7D8dx3Ecx3HsPxsS83aGxOw/GF100UUX7T8VqPUrBWrtPxPzdobEvO0/ED744IMP7j8OiXk7Q2LuPwvU+pUCte4/CB988MEH7z8Gav1KgVrvPwO1fqVAre8/AAAAAAAA8D8=\",\"dtype\":\"float64\",\"order\":\"little\",\"shape\":[100]},\"y\":{\"__ndarray__\":\"dea+5FK08D/p6HpuwTztP6oe4kJZ7fA/L5eD9sCj8T9q9qiknILwP1HQTB51Iu8/NqYYwc4j7j8UEsmA+N/vP1v4t0zG8fA/u2lnTP/L7z9pDZcST8vxPw0vArNGL/A/QH7rjKca8j+aZcoZMMHuP6ep6mNMc/E/mVw2RVQH8T/xNxHKrr3yP5wa7Er72/E/aGRabGum8T+ZaBL4XRryPy1QROgMufA/qqEgTItG8z8tXhuQ9nzxP4FkZy9wBvI/fGJwRYlB8T/VVzF47Ar0PwDAuY4m1PE//OWRp1px9D+ww5uvNULzPw9sFRdaH/Q/eqcZsi+T9T+7hAeXXDD1PzhJo29hT/U/Bi3cIoW09T8nAH6tvpT0P4HzXauFL/c/sWt+3yI59z/eVRZVkvf1P0t8zEbLDPg/lBB8eJB09z8aGc/UrQf5P6tNqZrohfg/lbBeSZvw+D+K8dkfj5D3PxqRKpecWPk/8xHYtc1z+D+MaB2im//4P3+50MzJfPs/jHou2syx+j8APSt54T/6Pxgn4jAzfPs/acndkcFJ/T+CwgwnMen7P+O3ioy2SP4/odgvvXdF/j+3FnH6Hp7+Pzg/yj08+P4/zy+AbtOlAECjTsUyJmD/P1QZ+U0kCQFAIARx1C1tAED1aPW02ocBQO1Tdh5PSwFAqQLaeV4WAUBDtPZ6TF4CQHxId+QDHgJAdgxzcAD5AUDwYdMxZOoCQK4eLz1QugNAKIxpemyJA0DniEuOFG8DQG6cJsmVsgNANND0vsHYBEBycVtyVPAEQMKVgjNdbQVAqSrVfvr9BUC17eHogPAGQBnlxjjuygZAiH4LfN+YBkByCn2hVcEGQEEb1S1vJQhAGC1FawjlB0CG84xTK0YIQBpvbZuKOghAVxycprfUCUCqQGjUYiQKQLxuPI7n4ApAdOe5CQwOCkASYCLJ24QLQDNf4g1pAgxA1S3hMxblC0AMZ9FJlQUNQOn31WK7PA1AwdJFQsOQDECtMxz/0I4NQBr6TZ3mjw1AUSgBxHdIDkDjSAAuXdEOQF4qEEv3jA9AGMLMc1Z8D0A=\",\"dtype\":\"float64\",\"order\":\"little\",\"shape\":[100]}},\"selected\":{\"id\":\"1746\"},\"selection_policy\":{\"id\":\"1745\"}},\"id\":\"1731\",\"type\":\"ColumnDataSource\"},{\"attributes\":{},\"id\":\"1772\",\"type\":\"BasicTicker\"},{\"attributes\":{\"fill_alpha\":{\"value\":0.8},\"fill_color\":{\"value\":\"red\"},\"line_color\":{\"value\":\"white\"}},\"id\":\"1868\",\"type\":\"Circle\"},{\"attributes\":{},\"id\":\"1838\",\"type\":\"HelpTool\"},{\"attributes\":{},\"id\":\"1857\",\"type\":\"AllLabels\"},{\"attributes\":{},\"id\":\"1860\",\"type\":\"AllLabels\"},{\"attributes\":{\"axis\":{\"id\":\"1713\"},\"coordinates\":null,\"dimension\":1,\"grid_line_alpha\":0.15,\"grid_line_color\":\"#E0E0E0\",\"group\":null,\"ticker\":null},\"id\":\"1716\",\"type\":\"Grid\"},{\"attributes\":{},\"id\":\"1776\",\"type\":\"WheelZoomTool\"},{\"attributes\":{\"axis\":{\"id\":\"1829\"},\"coordinates\":null,\"dimension\":1,\"grid_line_alpha\":0.15,\"grid_line_color\":\"#E0E0E0\",\"group\":null,\"ticker\":null},\"id\":\"1832\",\"type\":\"Grid\"},{\"attributes\":{},\"id\":\"1714\",\"type\":\"BasicTicker\"},{\"attributes\":{},\"id\":\"1775\",\"type\":\"PanTool\"},{\"attributes\":{\"mode\":\"append\",\"overlay\":{\"id\":\"1909\"},\"renderers\":[{\"id\":\"1852\"}]},\"id\":\"1870\",\"type\":\"BoxSelectTool\"},{\"attributes\":{\"overlay\":{\"id\":\"1781\"}},\"id\":\"1777\",\"type\":\"BoxZoomTool\"},{\"attributes\":{},\"id\":\"1830\",\"type\":\"BasicTicker\"},{\"attributes\":{},\"id\":\"1778\",\"type\":\"SaveTool\"},{\"attributes\":{},\"id\":\"1717\",\"type\":\"PanTool\"},{\"attributes\":{},\"id\":\"1779\",\"type\":\"ResetTool\"},{\"attributes\":{},\"id\":\"1803\",\"type\":\"UnionRenderers\"},{\"attributes\":{},\"id\":\"1718\",\"type\":\"WheelZoomTool\"},{\"attributes\":{},\"id\":\"1834\",\"type\":\"WheelZoomTool\"},{\"attributes\":{\"overlay\":{\"id\":\"1723\"}},\"id\":\"1719\",\"type\":\"BoxZoomTool\"},{\"attributes\":{},\"id\":\"1833\",\"type\":\"PanTool\"},{\"attributes\":{},\"id\":\"1720\",\"type\":\"SaveTool\"},{\"attributes\":{\"overlay\":{\"id\":\"1839\"}},\"id\":\"1835\",\"type\":\"BoxZoomTool\"},{\"attributes\":{},\"id\":\"1804\",\"type\":\"Selection\"},{\"attributes\":{},\"id\":\"1721\",\"type\":\"ResetTool\"},{\"attributes\":{},\"id\":\"1836\",\"type\":\"SaveTool\"},{\"attributes\":{\"bottom_units\":\"screen\",\"coordinates\":null,\"fill_alpha\":0.5,\"fill_color\":\"lightgrey\",\"group\":null,\"left_units\":\"screen\",\"level\":\"overlay\",\"line_alpha\":1.0,\"line_color\":\"black\",\"line_dash\":[4,4],\"line_width\":2,\"right_units\":\"screen\",\"syncable\":false,\"top_units\":\"screen\"},\"id\":\"1781\",\"type\":\"BoxAnnotation\"},{\"attributes\":{},\"id\":\"1745\",\"type\":\"UnionRenderers\"},{\"attributes\":{\"source\":{\"id\":\"1789\"}},\"id\":\"1795\",\"type\":\"CDSView\"},{\"attributes\":{},\"id\":\"1837\",\"type\":\"ResetTool\"},{\"attributes\":{},\"id\":\"1861\",\"type\":\"UnionRenderers\"},{\"attributes\":{},\"id\":\"1862\",\"type\":\"Selection\"},{\"attributes\":{},\"id\":\"1746\",\"type\":\"Selection\"},{\"attributes\":{\"bottom_units\":\"screen\",\"coordinates\":null,\"fill_alpha\":0.5,\"fill_color\":\"lightgrey\",\"group\":null,\"left_units\":\"screen\",\"level\":\"overlay\",\"line_alpha\":1.0,\"line_color\":\"black\",\"line_dash\":[4,4],\"line_width\":2,\"right_units\":\"screen\",\"syncable\":false,\"top_units\":\"screen\"},\"id\":\"1723\",\"type\":\"BoxAnnotation\"},{\"attributes\":{\"bottom_units\":\"screen\",\"coordinates\":null,\"fill_alpha\":0.5,\"fill_color\":\"lightgrey\",\"group\":null,\"left_units\":\"screen\",\"level\":\"overlay\",\"line_alpha\":1.0,\"line_color\":\"black\",\"line_dash\":[4,4],\"line_width\":2,\"right_units\":\"screen\",\"syncable\":false,\"top_units\":\"screen\"},\"id\":\"1839\",\"type\":\"BoxAnnotation\"},{\"attributes\":{\"coordinates\":null,\"data_source\":{\"id\":\"1847\"},\"glyph\":{\"id\":\"1848\"},\"group\":null,\"hover_glyph\":{\"id\":\"1850\"},\"muted_glyph\":{\"id\":\"1851\"},\"nonselection_glyph\":{\"id\":\"1869\"},\"selection_glyph\":{\"id\":\"1868\"},\"view\":{\"id\":\"1853\"}},\"id\":\"1852\",\"type\":\"GlyphRenderer\"},{\"attributes\":{\"bottom_units\":\"screen\",\"coordinates\":null,\"fill_alpha\":0.5,\"fill_color\":\"lightgrey\",\"group\":null,\"left_units\":\"screen\",\"level\":\"overlay\",\"line_alpha\":1.0,\"line_color\":\"black\",\"line_dash\":[4,4],\"line_width\":2,\"right_units\":\"screen\",\"syncable\":false,\"top_units\":\"screen\"},\"id\":\"1901\",\"type\":\"BoxAnnotation\"},{\"attributes\":{\"fill_alpha\":{\"value\":0.2},\"fill_color\":{\"value\":\"midnightblue\"},\"hatch_alpha\":{\"value\":0.2},\"line_alpha\":{\"value\":0.2},\"line_color\":{\"value\":\"white\"},\"size\":{\"value\":10},\"x\":{\"field\":\"x\"},\"y\":{\"field\":\"y\"}},\"id\":\"1793\",\"type\":\"Circle\"},{\"attributes\":{},\"id\":\"1722\",\"type\":\"HelpTool\"},{\"attributes\":{\"callback\":null,\"mode\":\"vline\",\"renderers\":[{\"id\":\"1794\"}],\"tooltips\":null},\"id\":\"1808\",\"type\":\"HoverTool\"},{\"attributes\":{\"label\":{\"value\":\"Observations\"},\"renderers\":[{\"id\":\"1852\"}]},\"id\":\"1865\",\"type\":\"LegendItem\"},{\"attributes\":{\"data\":{\"x\":{\"__ndarray__\":\"AAAAAAAAAABbv1Kg1q+EP1u/UqDWr5Q/CB988MEHnz9bv1Kg1q+kPzJvZ0jM26k/CB988MEHrz9wZ0jM2xmyP1u/UqDWr7Q/RhdddNFFtz8yb2dIzNu5Px3HcRzHcbw/CB988MEHvz96O0Ni3s7AP3BnSMzbGcI/ZZNNNtlkwz9bv1Kg1q/EP1HrVwrU+sU/RhdddNFFxz88Q2LezpDIPzJvZ0jM28k/J5tssskmyz8dx3Ecx3HMPxPzdobEvM0/CB988MEHzz9/pUCtXynQP3o7Q2LeztA/ddFFF1100T9wZ0jM2xnSP2r9SoFav9I/ZZNNNtlk0z9gKVDrVwrUP1u/UqDWr9Q/VlVVVVVV1T9R61cK1PrVP0yBWr9SoNY/RhdddNFF1z9BrV8pUOvXPzxDYt7OkNg/N9lkk0022T8yb2dIzNvZPy0Fav1Kgdo/J5tssskm2z8iMW9nSMzbPx3HcRzHcdw/GF100UUX3T8T83aGxLzdPw6JeTtDYt4/CB988MEH3z8DtX6lQK3fP3+lQK1fKeA/ffDBBx984D96O0Ni3s7gP3eGxLydIeE/ddFFF1104T9yHMdxHMfhP3BnSMzbGeI/bbLJJpts4j9q/UqBWr/iP2hIzNsZEuM/ZZNNNtlk4z9j3s6QmLfjP2ApUOtXCuQ/XnTRRRdd5D9bv1Kg1q/kP1gK1PqVAuU/VlVVVVVV5T9ToNavFKjlP1HrVwrU+uU/TjbZZJNN5j9MgVq/UqDmP0nM2xkS8+Y/RhdddNFF5z9EYt7OkJjnP0GtXylQ6+c/P/jggw8+6D88Q2LezpDoPzmO4ziO4+g/N9lkk0026T80JObtDInpPzJvZ0jM2+k/L7rooosu6j8tBWr9SoHqPypQ61cK1Oo/J5tssskm6z8l5u0MiXnrPyIxb2dIzOs/IHzwwQcf7D8dx3Ecx3HsPxsS83aGxOw/GF100UUX7T8VqPUrBWrtPxPzdobEvO0/ED744IMP7j8OiXk7Q2LuPwvU+pUCte4/CB988MEH7z8Gav1KgVrvPwO1fqVAre8/AAAAAAAA8D8=\",\"dtype\":\"float64\",\"order\":\"little\",\"shape\":[100]},\"y\":{\"__ndarray__\":\"TLo2EWal4D+SgImNgaz4Pxwd0tDvJvg/+6yMfulL8D+ze06RLD70Pzew9uOuFPE/0C90v1JS+T9QAJqN5H3CPzXHGev1d/A/19P1RmJU/j+RrpBsXPPyPz86ALlah/w/RuO7Y313+T8IZNeFRN/dPyAKuWYmUb8/fGU89c1b6j9pgCjPc6v4P2nxCCfRoPg/SMdqxbli2T9kQ1qfTS/zPzDoWMZr+uQ/GEwCG4mf8T90+x5X953uPx6U/qwNbP0/cLbr98m6+z+1bY653SgAQJCXQubzbOo/dA7P1tP73T8I0FIfHT/0P4iNFMX11eY/1nkXk3Y28T/C8LhRKRf0P5DsmylzyPM/YftvT8XJ9T8Nf0KrRVX/P1dpEAMh7/A/gjRSrp3bAEB3Szl7micCQGf8oodCDvY/lK7gBAOT5D+wRsIsZHPuP3Ywm4fugvA/IEGDkxnV5T8W1QTMFDUEQMY5UQvX4wFAG91475th+D9n8Mxtf7n5P97IAJL9A/g/jjem09Fh7z+Y2zuBsr0CQEWqDh2xHfU/1EEvX1SbAECZTzqcaiYGQOffUrQnUvk/iOPVjZhBBkDlswdDAnj3P7NMOPUHoABAzGz1BTb0B0AJAAoIgZoFQNx5mTOzqv8/Y9Nrehn/8j8fqUKwbVX6P+4ZSuyeVfU/gYSsGtpeAEAmRHLX3+kEQIh30PgejwNAFhdGfl7y/z8u50zA+CQCQJInQxsDXwRAMUEYvj2+9z+6X39xgHkEQKb0h1ECPwRAOoF8jmTDCED8tKfP+swFQF85i0QhGP0/s/sYL1vUBUCwHZB36X0CQGx66w/4D/8/fm38hE4uBkCNfYpk1oIIQAWyoKw3+gRAuJNMbclPDkAC2h1aGN4EQMyl7zhPpgRAELUH9v/jD0DnbtPGEOAGQHqYd38jEglAaHmxICkpB0ALMhd9MhAEQEgzji975wRA4ukRjvhFDkCMhpsgq5gPQFNR7MnhNwhAJr/Ha3S/C0Cj5Hr4rcEGQI4KnmAeNA5Ajj8QjSzqD0BWqgoSh8YHQGK1hvQ2exNArJg4oE4bEEA=\",\"dtype\":\"float64\",\"order\":\"little\",\"shape\":[100]}},\"selected\":{\"id\":\"1804\"},\"selection_policy\":{\"id\":\"1803\"}},\"id\":\"1789\",\"type\":\"ColumnDataSource\"},{\"attributes\":{\"data\":{\"x\":{\"__ndarray__\":\"AAAAAAAAAABbv1Kg1q+EP1u/UqDWr5Q/CB988MEHnz9bv1Kg1q+kPzJvZ0jM26k/CB988MEHrz9wZ0jM2xmyP1u/UqDWr7Q/RhdddNFFtz8yb2dIzNu5Px3HcRzHcbw/CB988MEHvz96O0Ni3s7AP3BnSMzbGcI/ZZNNNtlkwz9bv1Kg1q/EP1HrVwrU+sU/RhdddNFFxz88Q2LezpDIPzJvZ0jM28k/J5tssskmyz8dx3Ecx3HMPxPzdobEvM0/CB988MEHzz9/pUCtXynQP3o7Q2LeztA/ddFFF1100T9wZ0jM2xnSP2r9SoFav9I/ZZNNNtlk0z9gKVDrVwrUP1u/UqDWr9Q/VlVVVVVV1T9R61cK1PrVP0yBWr9SoNY/RhdddNFF1z9BrV8pUOvXPzxDYt7OkNg/N9lkk0022T8yb2dIzNvZPy0Fav1Kgdo/J5tssskm2z8iMW9nSMzbPx3HcRzHcdw/GF100UUX3T8T83aGxLzdPw6JeTtDYt4/CB988MEH3z8DtX6lQK3fP3+lQK1fKeA/ffDBBx984D96O0Ni3s7gP3eGxLydIeE/ddFFF1104T9yHMdxHMfhP3BnSMzbGeI/bbLJJpts4j9q/UqBWr/iP2hIzNsZEuM/ZZNNNtlk4z9j3s6QmLfjP2ApUOtXCuQ/XnTRRRdd5D9bv1Kg1q/kP1gK1PqVAuU/VlVVVVVV5T9ToNavFKjlP1HrVwrU+uU/TjbZZJNN5j9MgVq/UqDmP0nM2xkS8+Y/RhdddNFF5z9EYt7OkJjnP0GtXylQ6+c/P/jggw8+6D88Q2LezpDoPzmO4ziO4+g/N9lkk0026T80JObtDInpPzJvZ0jM2+k/L7rooosu6j8tBWr9SoHqPypQ61cK1Oo/J5tssskm6z8l5u0MiXnrPyIxb2dIzOs/IHzwwQcf7D8dx3Ecx3HsPxsS83aGxOw/GF100UUX7T8VqPUrBWrtPxPzdobEvO0/ED744IMP7j8OiXk7Q2LuPwvU+pUCte4/CB988MEH7z8Gav1KgVrvPwO1fqVAre8/AAAAAAAA8D8=\",\"dtype\":\"float64\",\"order\":\"little\",\"shape\":[100]},\"y\":{\"__ndarray__\":\"LP7xIx22HUDqo1xq8wkCwOC2btVXyh1A1E0UvjMFIUCcARdQBdYbQFgXtZLGPBJA9E3l+WtNIUCUn/RLSowNwDD68WNqYco/zUUKNtc9E8BohaC3Zx0YQAfs8FVvNBfA9WK3yYQ6A8Ac5Ki3HrMLwNJ6AbRDqxjAApDtl2ET5T/edfiTo4YVQBiH/N4SnfA/FTo9eQD1F0A1iqjY0Sf9v5jqcaCFGATAUEdo9BJJHkD7QRmhlkEYwDJLMETr4O+/bKD7ERH5BUAAZTvzgjvjP27nU7pr0xxAgqZDnnWp6b8WXxgl0vkEwLhE+xnSw8C/EJFSYxH+GEBwxuxJVaK3vxu+EE3lSBxAuZS6hGPQAMA+l3s1HnIaQOKHkKIIBuK/Kjs8KhBDG0BSiRUlwZkPwP+fI4LeyyBAiDWGZXzsCcBnWeoGMrISwHB/+OfulCFAnrERM2E5978ub5AZ7UUBwCRAQxk4Gv6/JraCw9yBDMAGXSFAk/wOQCguyJCbhNo/OK7OanlE+j/H/w6NIRodQFwGfbUW0gbATVSv+Tx7DcDWvxWWIEoRwP0ehObmWSJASA9pu4sy3j9RitMvCn0NQIjXi/jrPts/KEZJ+LfhB8BWQ75uemsKwM8jH4Kd/BPAXgxw5ChmFkAcE+egi1oSwIhv6txHVuG/zLCDK+ObBcA4qV+H0sP1PwpQBNbGByRASJziA1bSGUB1Jtd4jYUUwDCKx/kDfdE/iKgHOIX0I0BS8b7Puv0DQJg9g8AQ1BZATGmtVkCAFUAjejo5bnEQQN11Eg9ftBPApLHxQzMW+L/4YI3fSIniP/C1tXMaG/8/gLBpbrgn2j9VAFfOKs0TQHwatoCooyJA9hbWaRv2GkAoLOy+QAccQHA9YT+odx9AXbDc/FEyAsDI5DT8QcgHwP+/Cr0aJyVADmXqNk5AEMCZ//RzHjcMQKQvdVMCjQtA1hWkYSn5JECExEKqJPocQBS47A6dzA1Az1aVVbZ9AsCkZ9MVRiYeQLbP15JgOfe/+FtSvIKDGkBI+vShcbIaQAqj8iA1cgJA2I8+b3auAcA=\",\"dtype\":\"float64\",\"order\":\"little\",\"shape\":[100]}},\"selected\":{\"id\":\"1862\"},\"selection_policy\":{\"id\":\"1861\"}},\"id\":\"1847\",\"type\":\"ColumnDataSource\"},{\"attributes\":{\"tools\":[{\"id\":\"1775\"},{\"id\":\"1776\"},{\"id\":\"1777\"},{\"id\":\"1778\"},{\"id\":\"1779\"},{\"id\":\"1780\"},{\"id\":\"1808\"},{\"id\":\"1812\"}]},\"id\":\"1782\",\"type\":\"Toolbar\"},{\"attributes\":{\"bottom_units\":\"screen\",\"coordinates\":null,\"fill_alpha\":0.5,\"fill_color\":\"lightgrey\",\"group\":null,\"left_units\":\"screen\",\"level\":\"overlay\",\"line_alpha\":1.0,\"line_color\":\"black\",\"line_dash\":[4,4],\"line_width\":2,\"right_units\":\"screen\",\"syncable\":false,\"top_units\":\"screen\"},\"id\":\"1905\",\"type\":\"BoxAnnotation\"},{\"attributes\":{\"coordinates\":null,\"data_source\":{\"id\":\"1789\"},\"glyph\":{\"id\":\"1790\"},\"group\":null,\"hover_glyph\":{\"id\":\"1792\"},\"muted_glyph\":{\"id\":\"1793\"},\"nonselection_glyph\":{\"id\":\"1811\"},\"selection_glyph\":{\"id\":\"1810\"},\"view\":{\"id\":\"1795\"}},\"id\":\"1794\",\"type\":\"GlyphRenderer\"},{\"attributes\":{\"source\":{\"id\":\"1847\"}},\"id\":\"1853\",\"type\":\"CDSView\"},{\"attributes\":{\"children\":[{\"id\":\"1872\"},{\"id\":\"1873\"}]},\"id\":\"1874\",\"type\":\"Column\"},{\"attributes\":{\"fill_alpha\":{\"value\":0.5},\"fill_color\":{\"value\":\"red\"},\"hatch_alpha\":{\"value\":0.5},\"line_alpha\":{\"value\":0.5},\"line_color\":{\"value\":\"white\"},\"size\":{\"value\":10},\"x\":{\"field\":\"x\"},\"y\":{\"field\":\"y\"}},\"id\":\"1792\",\"type\":\"Circle\"},{\"attributes\":{\"tools\":[{\"id\":\"1717\"},{\"id\":\"1718\"},{\"id\":\"1719\"},{\"id\":\"1720\"},{\"id\":\"1721\"},{\"id\":\"1722\"},{\"id\":\"1750\"},{\"id\":\"1754\"}]},\"id\":\"1724\",\"type\":\"Toolbar\"},{\"attributes\":{\"tools\":[{\"id\":\"1833\"},{\"id\":\"1834\"},{\"id\":\"1835\"},{\"id\":\"1836\"},{\"id\":\"1837\"},{\"id\":\"1838\"},{\"id\":\"1866\"},{\"id\":\"1870\"}]},\"id\":\"1840\",\"type\":\"Toolbar\"},{\"attributes\":{\"label\":{\"value\":\"Observations\"},\"renderers\":[{\"id\":\"1794\"}]},\"id\":\"1807\",\"type\":\"LegendItem\"},{\"attributes\":{\"fill_alpha\":{\"value\":0.5},\"fill_color\":{\"value\":\"red\"},\"hatch_alpha\":{\"value\":0.5},\"line_alpha\":{\"value\":0.5},\"line_color\":{\"value\":\"white\"},\"size\":{\"value\":10},\"x\":{\"field\":\"x\"},\"y\":{\"field\":\"y\"}},\"id\":\"1850\",\"type\":\"Circle\"},{\"attributes\":{\"source\":{\"id\":\"1731\"}},\"id\":\"1737\",\"type\":\"CDSView\"},{\"attributes\":{\"fill_alpha\":{\"value\":0.2},\"fill_color\":{\"value\":\"midnightblue\"},\"hatch_alpha\":{\"value\":0.2},\"line_alpha\":{\"value\":0.2},\"line_color\":{\"value\":\"white\"},\"size\":{\"value\":10},\"x\":{\"field\":\"x\"},\"y\":{\"field\":\"y\"}},\"id\":\"1851\",\"type\":\"Circle\"},{\"attributes\":{\"background_fill_alpha\":0.25,\"background_fill_color\":\"#505050\",\"border_line_alpha\":0.25,\"coordinates\":null,\"group\":null,\"items\":[{\"id\":\"1807\"}],\"label_standoff\":8,\"label_text_color\":\"#E0E0E0\",\"label_text_font\":\"Josefin Sans\",\"label_text_font_size\":\"1.15em\",\"spacing\":8},\"id\":\"1806\",\"type\":\"Legend\"},{\"attributes\":{\"fill_alpha\":{\"value\":0.5},\"fill_color\":{\"value\":\"red\"},\"hatch_alpha\":{\"value\":0.5},\"line_alpha\":{\"value\":0.5},\"line_color\":{\"value\":\"white\"},\"size\":{\"value\":10},\"x\":{\"field\":\"x\"},\"y\":{\"field\":\"y\"}},\"id\":\"1734\",\"type\":\"Circle\"},{\"attributes\":{\"fill_alpha\":{\"value\":0.2},\"fill_color\":{\"value\":\"midnightblue\"},\"hatch_alpha\":{\"value\":0.2},\"line_alpha\":{\"value\":0.2},\"line_color\":{\"value\":\"white\"},\"size\":{\"value\":10},\"x\":{\"field\":\"x\"},\"y\":{\"field\":\"y\"}},\"id\":\"1735\",\"type\":\"Circle\"},{\"attributes\":{\"callback\":null,\"mode\":\"vline\",\"renderers\":[{\"id\":\"1852\"}],\"tooltips\":null},\"id\":\"1866\",\"type\":\"HoverTool\"},{\"attributes\":{\"children\":[{\"id\":\"1698\"},{\"id\":\"1756\"},{\"id\":\"1814\"}]},\"id\":\"1873\",\"type\":\"Row\"},{\"attributes\":{\"label\":{\"value\":\"Observations\"},\"renderers\":[{\"id\":\"1736\"}]},\"id\":\"1749\",\"type\":\"LegendItem\"},{\"attributes\":{\"background_fill_alpha\":0.25,\"background_fill_color\":\"#505050\",\"border_line_alpha\":0.25,\"coordinates\":null,\"group\":null,\"items\":[{\"id\":\"1865\"}],\"label_standoff\":8,\"label_text_color\":\"#E0E0E0\",\"label_text_font\":\"Josefin Sans\",\"label_text_font_size\":\"1.15em\",\"spacing\":8},\"id\":\"1864\",\"type\":\"Legend\"},{\"attributes\":{\"style\":{\"font-size\":\"250%\"},\"text\":\"Different amounts of noise\"},\"id\":\"1872\",\"type\":\"Div\"},{\"attributes\":{\"background_fill_alpha\":0.9,\"background_fill_color\":\"#0f0f0f\",\"below\":[{\"id\":\"1825\"}],\"border_fill_alpha\":0.8,\"border_fill_color\":\"#111111\",\"center\":[{\"id\":\"1828\"},{\"id\":\"1832\"},{\"id\":\"1864\"}],\"height\":450,\"left\":[{\"id\":\"1829\"}],\"outline_line_alpha\":0.25,\"outline_line_color\":\"#E0E0E0\",\"outline_line_width\":3,\"renderers\":[{\"id\":\"1852\"}],\"title\":{\"id\":\"1815\"},\"toolbar\":{\"id\":\"1840\"},\"toolbar_location\":null,\"x_range\":{\"id\":\"1817\"},\"x_scale\":{\"id\":\"1821\"},\"y_range\":{\"id\":\"1819\"},\"y_scale\":{\"id\":\"1823\"}},\"id\":\"1814\",\"subtype\":\"Figure\",\"type\":\"Plot\"},{\"attributes\":{\"client_comm_id\":\"690aec6e3e03442ea2b34e27e79b9151\",\"comm_id\":\"5cf1d6ef586b48f2a992051a31d0a0a3\",\"plot_id\":\"1875\"},\"id\":\"2043\",\"type\":\"panel.models.comm_manager.CommManager\"},{\"attributes\":{\"fill_alpha\":{\"value\":0.5},\"fill_color\":{\"value\":\"midnightblue\"},\"line_color\":{\"value\":\"white\"}},\"id\":\"1753\",\"type\":\"Circle\"},{\"attributes\":{\"background_fill_alpha\":0.25,\"background_fill_color\":\"#505050\",\"border_line_alpha\":0.25,\"coordinates\":null,\"group\":null,\"items\":[{\"id\":\"1749\"}],\"label_standoff\":8,\"label_text_color\":\"#E0E0E0\",\"label_text_font\":\"Josefin Sans\",\"label_text_font_size\":\"1.15em\",\"spacing\":8},\"id\":\"1748\",\"type\":\"Legend\"},{\"attributes\":{\"mode\":\"append\",\"overlay\":{\"id\":\"1901\"},\"renderers\":[{\"id\":\"1736\"}]},\"id\":\"1754\",\"type\":\"BoxSelectTool\"},{\"attributes\":{\"callback\":null,\"mode\":\"vline\",\"renderers\":[{\"id\":\"1736\"}],\"tooltips\":null},\"id\":\"1750\",\"type\":\"HoverTool\"},{\"attributes\":{\"bottom_units\":\"screen\",\"coordinates\":null,\"fill_alpha\":0.5,\"fill_color\":\"lightgrey\",\"group\":null,\"left_units\":\"screen\",\"level\":\"overlay\",\"line_alpha\":1.0,\"line_color\":\"black\",\"line_dash\":[4,4],\"line_width\":2,\"right_units\":\"screen\",\"syncable\":false,\"top_units\":\"screen\"},\"id\":\"1909\",\"type\":\"BoxAnnotation\"},{\"attributes\":{\"fill_alpha\":{\"value\":0.5},\"fill_color\":{\"value\":\"midnightblue\"},\"line_color\":{\"value\":\"white\"}},\"id\":\"1811\",\"type\":\"Circle\"},{\"attributes\":{\"fill_alpha\":{\"value\":0.8},\"fill_color\":{\"value\":\"red\"},\"line_color\":{\"value\":\"white\"}},\"id\":\"1810\",\"type\":\"Circle\"},{\"attributes\":{\"fill_alpha\":{\"value\":0.8},\"fill_color\":{\"value\":\"red\"},\"line_color\":{\"value\":\"white\"}},\"id\":\"1752\",\"type\":\"Circle\"},{\"attributes\":{\"fill_alpha\":{\"value\":0.25},\"fill_color\":{\"value\":\"midnightblue\"},\"hatch_alpha\":{\"value\":0.25},\"line_alpha\":{\"value\":0.25},\"line_color\":{\"value\":\"white\"},\"size\":{\"value\":10},\"x\":{\"field\":\"x\"},\"y\":{\"field\":\"y\"}},\"id\":\"1848\",\"type\":\"Circle\"}],\"root_ids\":[\"1875\",\"2043\"]},\"title\":\"Bokeh Application\",\"version\":\"2.4.3\"}};\n",
       "    var render_items = [{\"docid\":\"67b0b764-0c8c-43c3-9101-40a1b73778f7\",\"root_ids\":[\"1875\"],\"roots\":{\"1875\":\"0bd020ce-8591-4973-a295-bdd397cfe371\"}}];\n",
       "    root.Bokeh.embed.embed_items_notebook(docs_json, render_items);\n",
       "    for (const render_item of render_items) {\n",
       "      for (const root_id of render_item.root_ids) {\n",
       "\tconst id_el = document.getElementById(root_id)\n",
       "\tif (id_el.children.length && (id_el.children[0].className === 'bk-root')) {\n",
       "\t  const root_el = id_el.children[0]\n",
       "\t  root_el.id = root_el.id + '-rendered'\n",
       "\t}\n",
       "      }\n",
       "    }\n",
       "  }\n",
       "  if (root.Bokeh !== undefined && root.Bokeh.Panel !== undefined) {\n",
       "    embed_document(root);\n",
       "  } else {\n",
       "    var attempts = 0;\n",
       "    var timer = setInterval(function(root) {\n",
       "      if (root.Bokeh !== undefined && root.Bokeh.Panel !== undefined) {\n",
       "        clearInterval(timer);\n",
       "        embed_document(root);\n",
       "      } else if (document.readyState == \"complete\") {\n",
       "        attempts++;\n",
       "        if (attempts > 200) {\n",
       "          clearInterval(timer);\n",
       "          console.log(\"Bokeh: ERROR: Unable to run BokehJS code because BokehJS library is missing\");\n",
       "        }\n",
       "      }\n",
       "    }, 25, root)\n",
       "  }\n",
       "})(window);</script>"
      ],
      "text/plain": [
       "Row\n",
       "    [0] HSpacer()\n",
       "    [1] Bokeh(Column)\n",
       "    [2] HSpacer()"
      ]
     },
     "execution_count": 7,
     "metadata": {
      "application/vnd.holoviews_exec.v0+json": {
       "id": "1875"
      }
     },
     "output_type": "execute_result"
    }
   ],
   "source": [
    "plot = center_plot(column(Div(text = \"Different amounts of noise\", style={'font-size': '250%'}), row(*plots)))\n",
    "plot"
   ]
  },
  {
   "cell_type": "markdown",
   "metadata": {},
   "source": [
    "To summarize, we will have some observations of a function, and we would like to optimize a function that gets as close as possible to the real function that generated this data. Here, we plot the real function and also _subsample_ our number of observations (having only a few points to find the corresponding function)"
   ]
  },
  {
   "cell_type": "code",
   "execution_count": 8,
   "metadata": {
    "tags": []
   },
   "outputs": [
    {
     "data": {},
     "metadata": {},
     "output_type": "display_data"
    },
    {
     "data": {
      "application/vnd.holoviews_exec.v0+json": "",
      "text/html": [
       "<div id='2287'>\n",
       "  <div class=\"bk-root\" id=\"d141fcaf-41b6-485e-ab12-0838d75c7f68\" data-root-id=\"2287\"></div>\n",
       "</div>\n",
       "<script type=\"application/javascript\">(function(root) {\n",
       "  function embed_document(root) {\n",
       "    var docs_json = {\"a1598a4f-142e-4a55-88bc-e8ec4092f8ff\":{\"defs\":[{\"extends\":null,\"module\":null,\"name\":\"ReactiveHTML1\",\"overrides\":[],\"properties\":[]},{\"extends\":null,\"module\":null,\"name\":\"FlexBox1\",\"overrides\":[],\"properties\":[{\"default\":\"flex-start\",\"kind\":null,\"name\":\"align_content\"},{\"default\":\"flex-start\",\"kind\":null,\"name\":\"align_items\"},{\"default\":\"row\",\"kind\":null,\"name\":\"flex_direction\"},{\"default\":\"wrap\",\"kind\":null,\"name\":\"flex_wrap\"},{\"default\":\"flex-start\",\"kind\":null,\"name\":\"justify_content\"}]},{\"extends\":null,\"module\":null,\"name\":\"GridStack1\",\"overrides\":[],\"properties\":[{\"default\":\"warn\",\"kind\":null,\"name\":\"mode\"},{\"default\":null,\"kind\":null,\"name\":\"ncols\"},{\"default\":null,\"kind\":null,\"name\":\"nrows\"},{\"default\":true,\"kind\":null,\"name\":\"allow_resize\"},{\"default\":true,\"kind\":null,\"name\":\"allow_drag\"},{\"default\":[],\"kind\":null,\"name\":\"state\"}]},{\"extends\":null,\"module\":null,\"name\":\"click1\",\"overrides\":[],\"properties\":[{\"default\":\"\",\"kind\":null,\"name\":\"terminal_output\"},{\"default\":\"\",\"kind\":null,\"name\":\"debug_name\"},{\"default\":0,\"kind\":null,\"name\":\"clears\"}]},{\"extends\":null,\"module\":null,\"name\":\"NotificationAreaBase1\",\"overrides\":[],\"properties\":[{\"default\":\"bottom-right\",\"kind\":null,\"name\":\"position\"},{\"default\":0,\"kind\":null,\"name\":\"_clear\"}]},{\"extends\":null,\"module\":null,\"name\":\"NotificationArea1\",\"overrides\":[],\"properties\":[{\"default\":[],\"kind\":null,\"name\":\"notifications\"},{\"default\":\"bottom-right\",\"kind\":null,\"name\":\"position\"},{\"default\":0,\"kind\":null,\"name\":\"_clear\"},{\"default\":[{\"background\":\"#ffc107\",\"icon\":{\"className\":\"fas fa-exclamation-triangle\",\"color\":\"white\",\"tagName\":\"i\"},\"type\":\"warning\"},{\"background\":\"#007bff\",\"icon\":{\"className\":\"fas fa-info-circle\",\"color\":\"white\",\"tagName\":\"i\"},\"type\":\"info\"}],\"kind\":null,\"name\":\"types\"}]},{\"extends\":null,\"module\":null,\"name\":\"Notification\",\"overrides\":[],\"properties\":[{\"default\":null,\"kind\":null,\"name\":\"background\"},{\"default\":3000,\"kind\":null,\"name\":\"duration\"},{\"default\":null,\"kind\":null,\"name\":\"icon\"},{\"default\":\"\",\"kind\":null,\"name\":\"message\"},{\"default\":null,\"kind\":null,\"name\":\"notification_type\"},{\"default\":false,\"kind\":null,\"name\":\"_destroyed\"}]},{\"extends\":null,\"module\":null,\"name\":\"TemplateActions1\",\"overrides\":[],\"properties\":[{\"default\":0,\"kind\":null,\"name\":\"open_modal\"},{\"default\":0,\"kind\":null,\"name\":\"close_modal\"}]},{\"extends\":null,\"module\":null,\"name\":\"MaterialTemplateActions1\",\"overrides\":[],\"properties\":[{\"default\":0,\"kind\":null,\"name\":\"open_modal\"},{\"default\":0,\"kind\":null,\"name\":\"close_modal\"}]}],\"roots\":{\"references\":[{\"attributes\":{\"coordinates\":null,\"data_source\":{\"id\":\"2267\"},\"glyph\":{\"id\":\"2268\"},\"group\":null,\"hover_glyph\":null,\"muted_glyph\":{\"id\":\"2270\"},\"nonselection_glyph\":{\"id\":\"2269\"},\"view\":{\"id\":\"2272\"}},\"id\":\"2271\",\"type\":\"GlyphRenderer\"},{\"attributes\":{},\"id\":\"2233\",\"type\":\"HelpTool\"},{\"attributes\":{},\"id\":\"2254\",\"type\":\"BasicTickFormatter\"},{\"attributes\":{\"data\":{\"x\":{\"__ndarray__\":\"AAAAAAAAAABbv1Kg1q+EP1u/UqDWr5Q/CB988MEHnz9bv1Kg1q+kPzJvZ0jM26k/CB988MEHrz9wZ0jM2xmyP1u/UqDWr7Q/RhdddNFFtz8yb2dIzNu5Px3HcRzHcbw/CB988MEHvz96O0Ni3s7AP3BnSMzbGcI/ZZNNNtlkwz9bv1Kg1q/EP1HrVwrU+sU/RhdddNFFxz88Q2LezpDIPzJvZ0jM28k/J5tssskmyz8dx3Ecx3HMPxPzdobEvM0/CB988MEHzz9/pUCtXynQP3o7Q2LeztA/ddFFF1100T9wZ0jM2xnSP2r9SoFav9I/ZZNNNtlk0z9gKVDrVwrUP1u/UqDWr9Q/VlVVVVVV1T9R61cK1PrVP0yBWr9SoNY/RhdddNFF1z9BrV8pUOvXPzxDYt7OkNg/N9lkk0022T8yb2dIzNvZPy0Fav1Kgdo/J5tssskm2z8iMW9nSMzbPx3HcRzHcdw/GF100UUX3T8T83aGxLzdPw6JeTtDYt4/CB988MEH3z8DtX6lQK3fP3+lQK1fKeA/ffDBBx984D96O0Ni3s7gP3eGxLydIeE/ddFFF1104T9yHMdxHMfhP3BnSMzbGeI/bbLJJpts4j9q/UqBWr/iP2hIzNsZEuM/ZZNNNtlk4z9j3s6QmLfjP2ApUOtXCuQ/XnTRRRdd5D9bv1Kg1q/kP1gK1PqVAuU/VlVVVVVV5T9ToNavFKjlP1HrVwrU+uU/TjbZZJNN5j9MgVq/UqDmP0nM2xkS8+Y/RhdddNFF5z9EYt7OkJjnP0GtXylQ6+c/P/jggw8+6D88Q2LezpDoPzmO4ziO4+g/N9lkk0026T80JObtDInpPzJvZ0jM2+k/L7rooosu6j8tBWr9SoHqPypQ61cK1Oo/J5tssskm6z8l5u0MiXnrPyIxb2dIzOs/IHzwwQcf7D8dx3Ecx3HsPxsS83aGxOw/GF100UUX7T8VqPUrBWrtPxPzdobEvO0/ED744IMP7j8OiXk7Q2LuPwvU+pUCte4/CB988MEH7z8Gav1KgVrvPwO1fqVAre8/AAAAAAAA8D8=\",\"dtype\":\"float64\",\"order\":\"little\",\"shape\":[100]},\"y\":{\"__ndarray__\":\"AAAAAAAA8D8MJLz1QAHwPy6Q8NYDBfA/aESdo0gL8D+6QMJbDxTwPyKFX/9XH/A/ohF1jiIt8D845gIJbz3wP+YCCW89UPA/q2eHwI1l8D+IFH79X33wP3sJ7SW0l/A/hkbUOYq08D+oyzM54tPwP+GYCyS89fA/Ma5b+hca8T+ZCyS89UDxPxixZGlVavE/rZ4dAjeW8T9b1E6GmsTxPx9S+PV/9fE/+hcaUeco8j/tJbSX0F7yP/d7xsk7l/I/GBpR5yjS8j9QAFTwlw/zP6Auz+SIT/M/B6XCxPuR8z+EYy6Q8NbzPxlqEkdnHvQ/xrhu6V9o9D+JT0N32rT0P2QukPDWA/U/VlVVVVVV9T9fxJKlVan1P397SOHX//U/tnp2CNxY9j8FwhwbYrT2P2tROxlqEvc/6CjSAvRy9z98SOHX/9X3PyiwaJiNO/g/6l9oRJ2j+D/EV+DbLg75P7SX0F5Ce/k/vR85zdfq+T/c7xkn71z6PxIIc2yI0fo/YGhEnaNI+z/FEI65QML7P0EBUMFfPvw/1jmKtAC9/D+AujyTIz79P0CDZ13Iwf0/GpQKE+9H/j8K7SW0l9D+PxKOuUDCW/8/MHfFuG7p/z8y1CSOzjwAQNoQo7UmhgBAi3Hd0r/QAEBJ9tPlmRwBQBKfhu60aQFA6Gv17BC4AUDIXCDhrQcCQLNxB8uLWAJAq6qqqqqqAkCuBwqACv4CQL6IJUurUgNA1y39C42oA0D+9pDCr/8DQDDk4G4TWARAbPXsELixBEC2KrWonQwFQAqEOTbEaAVAagF6uSvGBUDWonYy1CQGQExoL6G9hAZA0FGkBejlBkBeX9VfU0gHQPiQwq//qwdAneZr9ewQCEBPYNEwG3cIQAz+8mGK3ghA07/QiDpHCUCopWqlK7EJQIevwLddHApAc93Sv9CICkBpL6G9hPYKQGylK7F5ZQtAej9ymq/VC0CT/XR5JkcMQLjfM07euQxA6eWuGNctDUAlEObYEKMNQG1e2Y6LGQ5AwNCIOkeRDkAgZ/TbQwoPQIohHHOBhA9AAAAAAAAAEEA=\",\"dtype\":\"float64\",\"order\":\"little\",\"shape\":[100]}},\"selected\":{\"id\":\"2283\"},\"selection_policy\":{\"id\":\"2282\"}},\"id\":\"2267\",\"type\":\"ColumnDataSource\"},{\"attributes\":{},\"id\":\"2229\",\"type\":\"WheelZoomTool\"},{\"attributes\":{},\"id\":\"2225\",\"type\":\"BasicTicker\"},{\"attributes\":{},\"id\":\"2228\",\"type\":\"PanTool\"},{\"attributes\":{\"axis_label\":\"y\",\"axis_label_standoff\":10,\"axis_label_text_color\":\"#FFFFFF\",\"axis_label_text_font\":\"Josefin Sans\",\"axis_label_text_font_size\":\"1.9em\",\"axis_label_text_font_style\":\"bold\",\"axis_line_alpha\":0.4,\"axis_line_color\":\"#E0E0E0\",\"coordinates\":null,\"formatter\":{\"id\":\"2251\"},\"group\":null,\"major_label_policy\":{\"id\":\"2252\"},\"major_label_text_color\":\"#E0E0E0\",\"major_label_text_font\":\"Josefin Sans\",\"major_label_text_font_size\":\"1.15em\",\"major_tick_line_alpha\":0.4,\"major_tick_line_color\":\"#E0E0E0\",\"minor_tick_line_alpha\":0.4,\"minor_tick_line_color\":\"#E0E0E0\",\"ticker\":{\"id\":\"2225\"}},\"id\":\"2224\",\"type\":\"LinearAxis\"},{\"attributes\":{},\"id\":\"2255\",\"type\":\"AllLabels\"},{\"attributes\":{},\"id\":\"2282\",\"type\":\"UnionRenderers\"},{\"attributes\":{\"coordinates\":null,\"data_source\":{\"id\":\"2242\"},\"glyph\":{\"id\":\"2243\"},\"group\":null,\"hover_glyph\":{\"id\":\"2245\"},\"muted_glyph\":{\"id\":\"2246\"},\"nonselection_glyph\":{\"id\":\"2264\"},\"selection_glyph\":{\"id\":\"2263\"},\"view\":{\"id\":\"2248\"}},\"id\":\"2247\",\"type\":\"GlyphRenderer\"},{\"attributes\":{},\"id\":\"2283\",\"type\":\"Selection\"},{\"attributes\":{\"overlay\":{\"id\":\"2234\"}},\"id\":\"2230\",\"type\":\"BoxZoomTool\"},{\"attributes\":{},\"id\":\"2231\",\"type\":\"SaveTool\"},{\"attributes\":{\"fill_alpha\":{\"value\":0.5},\"fill_color\":{\"value\":\"red\"},\"hatch_alpha\":{\"value\":0.5},\"line_alpha\":{\"value\":0.5},\"line_color\":{\"value\":\"white\"},\"size\":{\"value\":10},\"x\":{\"field\":\"x\"},\"y\":{\"field\":\"y\"}},\"id\":\"2245\",\"type\":\"Circle\"},{\"attributes\":{},\"id\":\"2232\",\"type\":\"ResetTool\"},{\"attributes\":{\"fill_alpha\":{\"value\":0.2},\"fill_color\":{\"value\":\"midnightblue\"},\"hatch_alpha\":{\"value\":0.2},\"line_alpha\":{\"value\":0.2},\"line_color\":{\"value\":\"white\"},\"size\":{\"value\":10},\"x\":{\"field\":\"x\"},\"y\":{\"field\":\"y\"}},\"id\":\"2246\",\"type\":\"Circle\"},{\"attributes\":{\"axis\":{\"id\":\"2220\"},\"coordinates\":null,\"grid_line_alpha\":0.15,\"grid_line_color\":\"#E0E0E0\",\"group\":null,\"ticker\":null},\"id\":\"2223\",\"type\":\"Grid\"},{\"attributes\":{\"label\":{\"value\":\"Observations\"},\"renderers\":[{\"id\":\"2247\"}]},\"id\":\"2260\",\"type\":\"LegendItem\"},{\"attributes\":{\"bottom_units\":\"screen\",\"coordinates\":null,\"fill_alpha\":0.5,\"fill_color\":\"lightgrey\",\"group\":null,\"left_units\":\"screen\",\"level\":\"overlay\",\"line_alpha\":1.0,\"line_color\":\"black\",\"line_dash\":[4,4],\"line_width\":2,\"right_units\":\"screen\",\"syncable\":false,\"top_units\":\"screen\"},\"id\":\"2234\",\"type\":\"BoxAnnotation\"},{\"attributes\":{\"client_comm_id\":\"618a37f8519e4953ad560a91611f63b4\",\"comm_id\":\"17f9d55e8cd947a2b0a1cb394f7fdc7c\",\"plot_id\":\"2287\"},\"id\":\"2355\",\"type\":\"panel.models.comm_manager.CommManager\"},{\"attributes\":{\"background_fill_alpha\":0.25,\"background_fill_color\":\"#505050\",\"border_line_alpha\":0.25,\"coordinates\":null,\"group\":null,\"items\":[{\"id\":\"2260\"},{\"id\":\"2286\"}],\"label_standoff\":8,\"label_text_color\":\"#E0E0E0\",\"label_text_font\":\"Josefin Sans\",\"label_text_font_size\":\"1.15em\",\"spacing\":8},\"id\":\"2259\",\"type\":\"Legend\"},{\"attributes\":{},\"id\":\"2256\",\"type\":\"UnionRenderers\"},{\"attributes\":{\"fill_alpha\":{\"value\":0.5},\"fill_color\":{\"value\":\"midnightblue\"},\"line_color\":{\"value\":\"white\"}},\"id\":\"2264\",\"type\":\"Circle\"},{\"attributes\":{\"callback\":null,\"mode\":\"vline\",\"renderers\":[{\"id\":\"2247\"}],\"tooltips\":null},\"id\":\"2261\",\"type\":\"HoverTool\"},{\"attributes\":{},\"id\":\"2257\",\"type\":\"Selection\"},{\"attributes\":{},\"id\":\"2218\",\"type\":\"LinearScale\"},{\"attributes\":{\"fill_alpha\":{\"value\":0.8},\"fill_color\":{\"value\":\"red\"},\"line_color\":{\"value\":\"white\"}},\"id\":\"2263\",\"type\":\"Circle\"},{\"attributes\":{},\"id\":\"2212\",\"type\":\"DataRange1d\"},{\"attributes\":{\"mode\":\"append\",\"overlay\":{\"id\":\"2285\"},\"renderers\":[{\"id\":\"2247\"}]},\"id\":\"2265\",\"type\":\"BoxSelectTool\"},{\"attributes\":{\"source\":{\"id\":\"2267\"}},\"id\":\"2272\",\"type\":\"CDSView\"},{\"attributes\":{\"bottom_units\":\"screen\",\"coordinates\":null,\"fill_alpha\":0.5,\"fill_color\":\"lightgrey\",\"group\":null,\"left_units\":\"screen\",\"level\":\"overlay\",\"line_alpha\":1.0,\"line_color\":\"black\",\"line_dash\":[4,4],\"line_width\":2,\"right_units\":\"screen\",\"syncable\":false,\"top_units\":\"screen\"},\"id\":\"2285\",\"type\":\"BoxAnnotation\"},{\"attributes\":{},\"id\":\"2252\",\"type\":\"AllLabels\"},{\"attributes\":{\"line_alpha\":0.6,\"line_color\":\"green\",\"line_width\":6,\"x\":{\"field\":\"x\"},\"y\":{\"field\":\"y\"}},\"id\":\"2268\",\"type\":\"Line\"},{\"attributes\":{\"children\":[{\"id\":\"2288\"},{\"id\":\"2209\"},{\"id\":\"2315\"}],\"margin\":[0,0,0,0],\"name\":\"Row00127\"},\"id\":\"2287\",\"type\":\"Row\"},{\"attributes\":{\"label\":{\"value\":\"True function\"},\"renderers\":[{\"id\":\"2271\"}]},\"id\":\"2286\",\"type\":\"LegendItem\"},{\"attributes\":{\"margin\":[5,5,5,5],\"name\":\"HSpacer00124\",\"sizing_mode\":\"stretch_width\"},\"id\":\"2315\",\"type\":\"Spacer\"},{\"attributes\":{\"coordinates\":null,\"group\":null,\"text\":\"Learning problem with groundtruth\",\"text_color\":\"#E0E0E0\",\"text_font\":\"Josefin Sans\",\"text_font_size\":\"2.1em\"},\"id\":\"2210\",\"type\":\"Title\"},{\"attributes\":{\"margin\":[5,5,5,5],\"name\":\"HSpacer00123\",\"sizing_mode\":\"stretch_width\"},\"id\":\"2288\",\"type\":\"Spacer\"},{\"attributes\":{\"line_alpha\":0.2,\"line_color\":\"green\",\"line_width\":6,\"x\":{\"field\":\"x\"},\"y\":{\"field\":\"y\"}},\"id\":\"2270\",\"type\":\"Line\"},{\"attributes\":{\"line_alpha\":0.1,\"line_color\":\"green\",\"line_width\":6,\"x\":{\"field\":\"x\"},\"y\":{\"field\":\"y\"}},\"id\":\"2269\",\"type\":\"Line\"},{\"attributes\":{},\"id\":\"2221\",\"type\":\"BasicTicker\"},{\"attributes\":{},\"id\":\"2216\",\"type\":\"LinearScale\"},{\"attributes\":{\"data\":{\"x\":{\"__ndarray__\":\"W79SoNavlD8yb2dIzNu5P2WTTTbZZMM/UetXCtT6xT88Q2LezpDIPxPzdobEvM0/ejtDYt7O0D910UUXXXTRP2ApUOtXCtQ/W79SoNav1D9WVVVVVVXVP1HrVwrU+tU/TIFav1Kg1j9GF1100UXXPzxDYt7OkNg/N9lkk0022T8yb2dIzNvZPy0Fav1Kgdo/HcdxHMdx3D8YXXTRRRfdPxPzdobEvN0/CB988MEH3z998MEHH3zgP3o7Q2LezuA/d4bEvJ0h4T910UUXXXThP3BnSMzbGeI/aEjM2xkS4z9gKVDrVwrkP1gK1PqVAuU/U6DWrxSo5T9ONtlkk03mP0Ri3s6QmOc/OY7jOI7j6D832WSTTTbpPzJvZ0jM2+k/L7rooosu6j8tBWr9SoHqPypQ61cK1Oo/J5tssskm6z8iMW9nSMzrPx3HcRzHcew/Faj1KwVq7T8T83aGxLztPxA++OCDD+4/Dol5O0Ni7j8L1PqVArXuPwZq/UqBWu8/A7V+pUCt7z8AAAAAAADwPw==\",\"dtype\":\"float64\",\"order\":\"little\",\"shape\":[50]},\"y\":{\"__ndarray__\":\"B5dobzPz6T9k5Bl4fbrvP3YJMtqYA+8/ahb0uI2X7j+qRp5QNB/0P8XkOXuhSe8/Q52KB+Rk8T+95KG2AAX0PwLE4K/sCPc/jUw7/JSg9j+duZr0rCbzP4yaki67APQ/SU0kz/zt9T+c+eM4srL3PyRfbExfBvY/2es9GRgn9j9scKzAZij3P3hf8zn+Vvo/rndqdI0w+D+qn/h9WP74Pw2BOJQTHPw/Ut4MCenO+z8G7LPppn3/P5k4w/gJzv8/gDZgsPNy+z+33TBiPLz/P9qmbUKH9P0/NIVDzD/P/j8yYS78RDsAQPRzxeOMbwNAMe70bG/YAkC1ACYCTT0CQB7DLcc9lgVAHEPU1LH8B0AqvpaFJN0GQPD9G+2tawdAwqN95tcZB0Bk1ADez9gHQNCtxTp6+gdA7Dg3ubSbCUBJhvMaDbALQKnpAHshogpANELGCXL5C0C9NquiTsAMQCwVIN19qA5AU48/iYQpDEDqsELjkRENQKfmfpHQyA9ALMPS6/mfDkDL9W2KkkcQQA==\",\"dtype\":\"float64\",\"order\":\"little\",\"shape\":[50]}},\"selected\":{\"id\":\"2257\"},\"selection_policy\":{\"id\":\"2256\"}},\"id\":\"2242\",\"type\":\"ColumnDataSource\"},{\"attributes\":{},\"id\":\"2214\",\"type\":\"DataRange1d\"},{\"attributes\":{},\"id\":\"2251\",\"type\":\"BasicTickFormatter\"},{\"attributes\":{\"axis_label\":\"x\",\"axis_label_standoff\":10,\"axis_label_text_color\":\"#FFFFFF\",\"axis_label_text_font\":\"Josefin Sans\",\"axis_label_text_font_size\":\"1.9em\",\"axis_label_text_font_style\":\"bold\",\"axis_line_alpha\":0.4,\"axis_line_color\":\"#E0E0E0\",\"coordinates\":null,\"formatter\":{\"id\":\"2254\"},\"group\":null,\"major_label_policy\":{\"id\":\"2255\"},\"major_label_text_color\":\"#E0E0E0\",\"major_label_text_font\":\"Josefin Sans\",\"major_label_text_font_size\":\"1.15em\",\"major_tick_line_alpha\":0.4,\"major_tick_line_color\":\"#E0E0E0\",\"minor_tick_line_alpha\":0.4,\"minor_tick_line_color\":\"#E0E0E0\",\"ticker\":{\"id\":\"2221\"}},\"id\":\"2220\",\"type\":\"LinearAxis\"},{\"attributes\":{\"source\":{\"id\":\"2242\"}},\"id\":\"2248\",\"type\":\"CDSView\"},{\"attributes\":{\"fill_alpha\":{\"value\":0.25},\"fill_color\":{\"value\":\"midnightblue\"},\"hatch_alpha\":{\"value\":0.25},\"line_alpha\":{\"value\":0.25},\"line_color\":{\"value\":\"white\"},\"size\":{\"value\":10},\"x\":{\"field\":\"x\"},\"y\":{\"field\":\"y\"}},\"id\":\"2243\",\"type\":\"Circle\"},{\"attributes\":{\"background_fill_alpha\":0.9,\"background_fill_color\":\"#0f0f0f\",\"below\":[{\"id\":\"2220\"}],\"border_fill_alpha\":0.8,\"border_fill_color\":\"#111111\",\"center\":[{\"id\":\"2223\"},{\"id\":\"2227\"},{\"id\":\"2259\"}],\"height\":450,\"left\":[{\"id\":\"2224\"}],\"outline_line_alpha\":0.25,\"outline_line_color\":\"#E0E0E0\",\"outline_line_width\":3,\"renderers\":[{\"id\":\"2247\"},{\"id\":\"2271\"}],\"title\":{\"id\":\"2210\"},\"toolbar\":{\"id\":\"2235\"},\"toolbar_location\":null,\"x_range\":{\"id\":\"2212\"},\"x_scale\":{\"id\":\"2216\"},\"y_range\":{\"id\":\"2214\"},\"y_scale\":{\"id\":\"2218\"}},\"id\":\"2209\",\"subtype\":\"Figure\",\"type\":\"Plot\"},{\"attributes\":{\"axis\":{\"id\":\"2224\"},\"coordinates\":null,\"dimension\":1,\"grid_line_alpha\":0.15,\"grid_line_color\":\"#E0E0E0\",\"group\":null,\"ticker\":null},\"id\":\"2227\",\"type\":\"Grid\"},{\"attributes\":{\"tools\":[{\"id\":\"2228\"},{\"id\":\"2229\"},{\"id\":\"2230\"},{\"id\":\"2231\"},{\"id\":\"2232\"},{\"id\":\"2233\"},{\"id\":\"2261\"},{\"id\":\"2265\"}]},\"id\":\"2235\",\"type\":\"Toolbar\"}],\"root_ids\":[\"2287\",\"2355\"]},\"title\":\"Bokeh Application\",\"version\":\"2.4.3\"}};\n",
       "    var render_items = [{\"docid\":\"a1598a4f-142e-4a55-88bc-e8ec4092f8ff\",\"root_ids\":[\"2287\"],\"roots\":{\"2287\":\"d141fcaf-41b6-485e-ab12-0838d75c7f68\"}}];\n",
       "    root.Bokeh.embed.embed_items_notebook(docs_json, render_items);\n",
       "    for (const render_item of render_items) {\n",
       "      for (const root_id of render_item.root_ids) {\n",
       "\tconst id_el = document.getElementById(root_id)\n",
       "\tif (id_el.children.length && (id_el.children[0].className === 'bk-root')) {\n",
       "\t  const root_el = id_el.children[0]\n",
       "\t  root_el.id = root_el.id + '-rendered'\n",
       "\t}\n",
       "      }\n",
       "    }\n",
       "  }\n",
       "  if (root.Bokeh !== undefined && root.Bokeh.Panel !== undefined) {\n",
       "    embed_document(root);\n",
       "  } else {\n",
       "    var attempts = 0;\n",
       "    var timer = setInterval(function(root) {\n",
       "      if (root.Bokeh !== undefined && root.Bokeh.Panel !== undefined) {\n",
       "        clearInterval(timer);\n",
       "        embed_document(root);\n",
       "      } else if (document.readyState == \"complete\") {\n",
       "        attempts++;\n",
       "        if (attempts > 200) {\n",
       "          clearInterval(timer);\n",
       "          console.log(\"Bokeh: ERROR: Unable to run BokehJS code because BokehJS library is missing\");\n",
       "        }\n",
       "      }\n",
       "    }, 25, root)\n",
       "  }\n",
       "})(window);</script>"
      ],
      "text/plain": [
       "Row\n",
       "    [0] HSpacer()\n",
       "    [1] Bokeh(Figure)\n",
       "    [2] HSpacer()"
      ]
     },
     "execution_count": 11,
     "metadata": {
      "application/vnd.holoviews_exec.v0+json": {
       "id": "1781"
      }
     },
     "output_type": "execute_result"
    }
   ],
   "source": [
    "# Generating the data and subsampling\n",
    "x_all = np.linspace(0, 1, 100); x_plot = np.linspace(0, 1, 100)\n",
    "rng.shuffle(x_all); x = np.sort(x_all[:50])\n",
    "poly = np.poly1d([3,0,1])\n",
    "# Adding some external noise\n",
    "epsilon = np.random.uniform(-0.2,0.2,x.shape)\n",
    "y = poly(x)+ epsilon\n",
    "p = scatter(x, y, title=\"Learning problem with groundtruth\")\n",
    "p.line(x_plot, poly(x_plot), line_width=6, line_alpha=0.6, color=\"green\", legend_label=r\"True function\")\n",
    "plot = (center_plot(p))\n",
    "plot"
   ]
  },
  {
   "cell_type": "markdown",
   "metadata": {},
   "source": [
    "### Summarizing our observations (interactive)\n",
    "\n"
   ]
  },
  {
   "cell_type": "code",
   "execution_count": 665,
   "metadata": {
    "tags": []
   },
   "outputs": [
    {
     "data": {},
     "metadata": {},
     "output_type": "display_data"
    },
    {
     "data": {
      "application/vnd.holoviews_exec.v0+json": "",
      "text/html": [
       "<div id='15075'>\n",
       "  <div class=\"bk-root\" id=\"83de887d-8725-4913-911a-6b06e7aaa21d\" data-root-id=\"15075\"></div>\n",
       "</div>\n",
       "<script type=\"application/javascript\">(function(root) {\n",
       "  function embed_document(root) {\n",
       "    var docs_json = {\"d9a87b36-dee5-498e-bd50-1574ed20658c\":{\"defs\":[{\"extends\":null,\"module\":null,\"name\":\"ReactiveHTML1\",\"overrides\":[],\"properties\":[]},{\"extends\":null,\"module\":null,\"name\":\"FlexBox1\",\"overrides\":[],\"properties\":[{\"default\":\"flex-start\",\"kind\":null,\"name\":\"align_content\"},{\"default\":\"flex-start\",\"kind\":null,\"name\":\"align_items\"},{\"default\":\"row\",\"kind\":null,\"name\":\"flex_direction\"},{\"default\":\"wrap\",\"kind\":null,\"name\":\"flex_wrap\"},{\"default\":\"flex-start\",\"kind\":null,\"name\":\"justify_content\"}]},{\"extends\":null,\"module\":null,\"name\":\"GridStack1\",\"overrides\":[],\"properties\":[{\"default\":\"warn\",\"kind\":null,\"name\":\"mode\"},{\"default\":null,\"kind\":null,\"name\":\"ncols\"},{\"default\":null,\"kind\":null,\"name\":\"nrows\"},{\"default\":true,\"kind\":null,\"name\":\"allow_resize\"},{\"default\":true,\"kind\":null,\"name\":\"allow_drag\"},{\"default\":[],\"kind\":null,\"name\":\"state\"}]},{\"extends\":null,\"module\":null,\"name\":\"click1\",\"overrides\":[],\"properties\":[{\"default\":\"\",\"kind\":null,\"name\":\"terminal_output\"},{\"default\":\"\",\"kind\":null,\"name\":\"debug_name\"},{\"default\":0,\"kind\":null,\"name\":\"clears\"}]},{\"extends\":null,\"module\":null,\"name\":\"NotificationAreaBase1\",\"overrides\":[],\"properties\":[{\"default\":\"bottom-right\",\"kind\":null,\"name\":\"position\"},{\"default\":0,\"kind\":null,\"name\":\"_clear\"}]},{\"extends\":null,\"module\":null,\"name\":\"NotificationArea1\",\"overrides\":[],\"properties\":[{\"default\":[],\"kind\":null,\"name\":\"notifications\"},{\"default\":\"bottom-right\",\"kind\":null,\"name\":\"position\"},{\"default\":0,\"kind\":null,\"name\":\"_clear\"},{\"default\":[{\"background\":\"#ffc107\",\"icon\":{\"className\":\"fas fa-exclamation-triangle\",\"color\":\"white\",\"tagName\":\"i\"},\"type\":\"warning\"},{\"background\":\"#007bff\",\"icon\":{\"className\":\"fas fa-info-circle\",\"color\":\"white\",\"tagName\":\"i\"},\"type\":\"info\"}],\"kind\":null,\"name\":\"types\"}]},{\"extends\":null,\"module\":null,\"name\":\"Notification\",\"overrides\":[],\"properties\":[{\"default\":null,\"kind\":null,\"name\":\"background\"},{\"default\":3000,\"kind\":null,\"name\":\"duration\"},{\"default\":null,\"kind\":null,\"name\":\"icon\"},{\"default\":\"\",\"kind\":null,\"name\":\"message\"},{\"default\":null,\"kind\":null,\"name\":\"notification_type\"},{\"default\":false,\"kind\":null,\"name\":\"_destroyed\"}]},{\"extends\":null,\"module\":null,\"name\":\"TemplateActions1\",\"overrides\":[],\"properties\":[{\"default\":0,\"kind\":null,\"name\":\"open_modal\"},{\"default\":0,\"kind\":null,\"name\":\"close_modal\"}]},{\"extends\":null,\"module\":null,\"name\":\"MaterialTemplateActions1\",\"overrides\":[],\"properties\":[{\"default\":0,\"kind\":null,\"name\":\"open_modal\"},{\"default\":0,\"kind\":null,\"name\":\"close_modal\"}]}],\"roots\":{\"references\":[{\"attributes\":{\"children\":[{\"id\":\"15076\"},{\"id\":\"15077\"},{\"id\":\"15112\"}],\"margin\":[0,0,0,0],\"name\":\"Row00708\"},\"id\":\"15075\",\"type\":\"Row\"},{\"attributes\":{\"tools\":[{\"id\":\"15036\"},{\"id\":\"15037\"},{\"id\":\"15038\"},{\"id\":\"15039\"},{\"id\":\"15040\"},{\"id\":\"15041\"},{\"id\":\"15069\"},{\"id\":\"15073\"}]},\"id\":\"15043\",\"type\":\"Toolbar\"},{\"attributes\":{\"background_fill_alpha\":0.25,\"background_fill_color\":\"#505050\",\"border_line_alpha\":0.25,\"coordinates\":null,\"group\":null,\"items\":[{\"id\":\"15068\"}],\"label_standoff\":8,\"label_text_color\":\"#E0E0E0\",\"label_text_font\":\"Josefin Sans\",\"label_text_font_size\":\"1.15em\",\"spacing\":8},\"id\":\"15067\",\"type\":\"Legend\"},{\"attributes\":{\"margin\":[5,5,5,5],\"name\":\"HSpacer00677\",\"sizing_mode\":\"stretch_width\"},\"id\":\"15076\",\"type\":\"Spacer\"},{\"attributes\":{},\"id\":\"15039\",\"type\":\"SaveTool\"},{\"attributes\":{\"bottom_units\":\"screen\",\"coordinates\":null,\"fill_alpha\":0.5,\"fill_color\":\"lightgrey\",\"group\":null,\"left_units\":\"screen\",\"level\":\"overlay\",\"line_alpha\":1.0,\"line_color\":\"black\",\"line_dash\":[4,4],\"line_width\":2,\"right_units\":\"screen\",\"syncable\":false,\"top_units\":\"screen\"},\"id\":\"15099\",\"type\":\"BoxAnnotation\"},{\"attributes\":{\"axis_label\":\"$$\\\\color{white} x$$\",\"axis_label_standoff\":10,\"axis_label_text_color\":\"#FFFFFF\",\"axis_label_text_font\":\"Josefin Sans\",\"axis_label_text_font_size\":\"1.9em\",\"axis_label_text_font_style\":\"bold\",\"axis_line_alpha\":0.4,\"axis_line_color\":\"#E0E0E0\",\"coordinates\":null,\"formatter\":{\"id\":\"15062\"},\"group\":null,\"major_label_policy\":{\"id\":\"15063\"},\"major_label_text_color\":\"#E0E0E0\",\"major_label_text_font\":\"Josefin Sans\",\"major_label_text_font_size\":\"1.15em\",\"major_tick_line_alpha\":0.4,\"major_tick_line_color\":\"#E0E0E0\",\"minor_tick_line_alpha\":0.4,\"minor_tick_line_color\":\"#E0E0E0\",\"ticker\":{\"id\":\"15029\"}},\"id\":\"15028\",\"type\":\"LinearAxis\"},{\"attributes\":{\"client_comm_id\":\"616411a11a7a4740ab813fa771316c59\",\"comm_id\":\"e7b597cf73df4237b18b47bed8412ad4\",\"plot_id\":\"15075\"},\"id\":\"15148\",\"type\":\"panel.models.comm_manager.CommManager\"},{\"attributes\":{\"children\":[{\"id\":\"15078\"},{\"id\":\"15111\"}],\"margin\":[0,0,0,0],\"name\":\"Column00706\"},\"id\":\"15077\",\"type\":\"Column\"},{\"attributes\":{\"fill_alpha\":{\"value\":0.8},\"fill_color\":{\"value\":\"red\"},\"line_color\":{\"value\":\"white\"}},\"id\":\"15071\",\"type\":\"Circle\"},{\"attributes\":{\"overlay\":{\"id\":\"15042\"}},\"id\":\"15038\",\"type\":\"BoxZoomTool\"},{\"attributes\":{},\"id\":\"15029\",\"type\":\"BasicTicker\"},{\"attributes\":{\"children\":[{\"id\":\"15080\"},{\"id\":\"15081\"},{\"id\":\"15082\"},{\"id\":\"15083\"},{\"id\":\"15084\"},{\"id\":\"15085\"},{\"id\":\"15086\"},{\"id\":\"15087\"}],\"margin\":[5,5,5,5],\"min_width\":300,\"name\":\"Problem parameters\",\"width\":300},\"id\":\"15079\",\"type\":\"Column\"},{\"attributes\":{\"children\":[{\"id\":\"15079\"},{\"id\":\"15088\"}],\"margin\":[0,0,0,0],\"name\":\"Row00703\"},\"id\":\"15078\",\"type\":\"Row\"},{\"attributes\":{},\"id\":\"15065\",\"type\":\"Selection\"},{\"attributes\":{},\"id\":\"15036\",\"type\":\"PanTool\"},{\"attributes\":{\"margin\":[5,10,5,10],\"name\":\"\",\"text\":\"<b>Problem parameters</b>\"},\"id\":\"15080\",\"type\":\"Div\"},{\"attributes\":{},\"id\":\"15041\",\"type\":\"HelpTool\"},{\"attributes\":{\"axis\":{\"id\":\"15032\"},\"coordinates\":null,\"dimension\":1,\"grid_line_alpha\":0.15,\"grid_line_color\":\"#E0E0E0\",\"group\":null,\"ticker\":null},\"id\":\"15035\",\"type\":\"Grid\"},{\"attributes\":{\"labels\":[\"Ground truth\"],\"margin\":[5,10,5,10]},\"id\":\"15083\",\"type\":\"CheckboxGroup\"},{\"attributes\":{\"fill_alpha\":{\"value\":0.5},\"fill_color\":{\"value\":\"midnightblue\"},\"line_color\":{\"value\":\"white\"}},\"id\":\"15072\",\"type\":\"Circle\"},{\"attributes\":{\"end\":1000,\"margin\":[5,10,5,10],\"start\":10,\"title\":\"Number observations\",\"value\":100},\"id\":\"15081\",\"type\":\"Slider\"},{\"attributes\":{\"axis_label\":\"$$\\\\color{white} -2.0x^2 + 0.0x^1 + 1.0x^0$$\",\"axis_label_standoff\":10,\"axis_label_text_color\":\"#FFFFFF\",\"axis_label_text_font\":\"Josefin Sans\",\"axis_label_text_font_size\":\"1.9em\",\"axis_label_text_font_style\":\"bold\",\"axis_line_alpha\":0.4,\"axis_line_color\":\"#E0E0E0\",\"coordinates\":null,\"formatter\":{\"id\":\"15059\"},\"group\":null,\"major_label_policy\":{\"id\":\"15060\"},\"major_label_text_color\":\"#E0E0E0\",\"major_label_text_font\":\"Josefin Sans\",\"major_label_text_font_size\":\"1.15em\",\"major_tick_line_alpha\":0.4,\"major_tick_line_color\":\"#E0E0E0\",\"minor_tick_line_alpha\":0.4,\"minor_tick_line_color\":\"#E0E0E0\",\"ticker\":{\"id\":\"15033\"}},\"id\":\"15032\",\"type\":\"LinearAxis\"},{\"attributes\":{},\"id\":\"15024\",\"type\":\"LinearScale\"},{\"attributes\":{\"end\":5.0,\"margin\":[5,10,5,10],\"start\":0.0,\"step\":0.1,\"title\":\"Noise level\",\"value\":0.1},\"id\":\"15082\",\"type\":\"Slider\"},{\"attributes\":{\"end\":5.0,\"margin\":[5,10,5,10],\"start\":-5.0,\"step\":0.1,\"title\":\"X 0\",\"value\":1.0},\"id\":\"15087\",\"type\":\"Slider\"},{\"attributes\":{},\"id\":\"15026\",\"type\":\"LinearScale\"},{\"attributes\":{\"labels\":[\"Error\"],\"margin\":[5,10,5,10]},\"id\":\"15084\",\"type\":\"CheckboxGroup\"},{\"attributes\":{\"background_fill_alpha\":0.9,\"background_fill_color\":\"#0f0f0f\",\"below\":[{\"id\":\"15028\"}],\"border_fill_alpha\":0.8,\"border_fill_color\":\"#111111\",\"center\":[{\"id\":\"15031\"},{\"id\":\"15035\"},{\"id\":\"15067\"}],\"height\":450,\"left\":[{\"id\":\"15032\"}],\"outline_line_alpha\":0.25,\"outline_line_color\":\"#E0E0E0\",\"outline_line_width\":3,\"renderers\":[{\"id\":\"15055\"}],\"title\":{\"id\":\"15018\"},\"toolbar\":{\"id\":\"15043\"},\"toolbar_location\":null,\"x_range\":{\"id\":\"15020\"},\"x_scale\":{\"id\":\"15024\"},\"y_range\":{\"id\":\"15022\"},\"y_scale\":{\"id\":\"15026\"}},\"id\":\"15017\",\"subtype\":\"Figure\",\"type\":\"Plot\"},{\"attributes\":{},\"id\":\"15020\",\"type\":\"DataRange1d\"},{\"attributes\":{\"end\":5.0,\"margin\":[5,10,5,10],\"start\":-5.0,\"step\":0.1,\"title\":\"X 2\",\"value\":-2.0},\"id\":\"15085\",\"type\":\"Slider\"},{\"attributes\":{\"mode\":\"append\",\"overlay\":{\"id\":\"15099\"},\"renderers\":[{\"id\":\"15055\"}]},\"id\":\"15073\",\"type\":\"BoxSelectTool\"},{\"attributes\":{\"coordinates\":null,\"group\":null,\"text\":\"Polynomial regression problem\",\"text_color\":\"#E0E0E0\",\"text_font\":\"Josefin Sans\",\"text_font_size\":\"2.1em\"},\"id\":\"15018\",\"type\":\"Title\"},{\"attributes\":{\"data\":{\"x\":{\"__ndarray__\":\"AAAAALV+JTy1fqU8ED74PLV+JT1i3k49ED54Pd7OkD21fqU9jC66PWLezj05juM9ED74PfN2Bj7ezhA+yiYbPrV+JT6g1i8+jC46PneGRD5i3k4+TjZZPjmOYz4k5m0+ED54Pv1KgT7zdoY+6aKLPt7OkD7U+pU+yiabPr9SoD61fqU+q6qqPqDWrz6WArU+jC66PoFavz53hsQ+bbLJPmLezj5YCtQ+TjbZPkNi3j45juM+L7roPiTm7T4aEvM+ED74PgVq/T79SgE/+OADP/N2Bj/uDAk/6aILP+Q4Dj/ezhA/2WQTP9T6FT/PkBg/yiYbP8W8HT+/UiA/uugiP7V+JT+wFCg/q6oqP6VALT+g1i8/m2wyP5YCNT+RmDc/jC46P4bEPD+BWj8/fPBBP3eGRD9yHEc/bbJJP2dITD9i3k4/XXRRP1gKVD9ToFY/TjZZP0jMWz9DYl4/PvhgPzmOYz80JGY/L7poPylQaz8k5m0/H3xwPxoScz8VqHU/ED54PwrUej8Fan0/AACAPw==\",\"dtype\":\"float32\",\"order\":\"little\",\"shape\":[100]},\"y\":{\"__ndarray__\":\"dpeIPwO8iD9iyoE/MoyAPyR9dz9ZtG0/76R6P/XEaD+vw4I/DwKKP++JYT+gNWg/z76CP63MfD8q+2U/HohpPzYngj+k+H4/CNJ4P2PCfD9XUl0/Ib57PzHqaT+vrmw/Q7hnP2M/bz8pGHA/jv1nPx1jWD+8a00/NPhUP5ZGTz+iTVE/JVc5PybuWD+Q81M/Am5HPzzBLT+XOSc/y4kjP1kqLD92XhI/bgcrP68DLD+2pwk/Ph/9PllYDj+sveY+RrToPn8W5j44kc8+ZXAJP5dl4D42cgE/bKrxPjp+0j4bbcw+qkXQPvpVnT4iCnY+JsaUPlmJPz62KRc+PkRYPqK3aj7SV2M+/aFrPQp9Kj610OY9QF2wPZyguL2r4L+97hX4PPxwK77udTO+Um1Ivlylgr5r5F6+xKGQvhGJp75GmsC+dUW9vvRn8L5fx9W+QV+5vjCn775akvG+8770vklmFb9NvCq/f1Uzv3PpSL8Xy02/5jhSv3nKQ78Pa0W/T/lzv2IIbr+cEG2/H5yDvw==\",\"dtype\":\"float32\",\"order\":\"little\",\"shape\":[100]}},\"selected\":{\"id\":\"15065\"},\"selection_policy\":{\"id\":\"15064\"}},\"id\":\"15050\",\"type\":\"ColumnDataSource\"},{\"attributes\":{\"code\":\"def polynomial(\\n        coefficients: jnp.ndarray,\\n        n_observations: int = 100) -> [jnp.ndarray, jnp.ndarray]:\\n    x = jnp.linspace(0, 1, n_observations)\\n    y = jnp.polyval(coefficients, x)\\n    return x, \",\"filename\":\"\",\"height\":150,\"js_property_callbacks\":{\"change:disabled\":[{\"id\":\"15125\"}],\"change:readonly\":[{\"id\":\"15124\"}]},\"language\":\"python\",\"margin\":[5,10,5,10],\"sizing_mode\":\"stretch_both\",\"theme\":\"chaos\"},\"id\":\"15111\",\"type\":\"panel.models.ace.AcePlot\"},{\"attributes\":{\"coordinates\":null,\"data_source\":{\"id\":\"15050\"},\"glyph\":{\"id\":\"15051\"},\"group\":null,\"hover_glyph\":{\"id\":\"15053\"},\"muted_glyph\":{\"id\":\"15054\"},\"nonselection_glyph\":{\"id\":\"15072\"},\"selection_glyph\":{\"id\":\"15071\"},\"view\":{\"id\":\"15056\"}},\"id\":\"15055\",\"type\":\"GlyphRenderer\"},{\"attributes\":{\"children\":[{\"id\":\"15017\"}],\"margin\":[0,0,0,0],\"name\":\"Row00700\"},\"id\":\"15088\",\"type\":\"Row\"},{\"attributes\":{\"callback\":null,\"mode\":\"vline\",\"renderers\":[{\"id\":\"15055\"}],\"tooltips\":null},\"id\":\"15069\",\"type\":\"HoverTool\"},{\"attributes\":{\"end\":5.0,\"margin\":[5,10,5,10],\"start\":-5.0,\"step\":0.1,\"title\":\"X 1\",\"value\":0.0},\"id\":\"15086\",\"type\":\"Slider\"},{\"attributes\":{},\"id\":\"15022\",\"type\":\"DataRange1d\"},{\"attributes\":{\"args\":{\"bidirectional\":true,\"properties\":{\"readonly\":\"disabled\"},\"source\":{\"id\":\"15111\"},\"target\":{\"id\":\"15111\"}},\"code\":\"\\n    var value = source['readonly'];\\n    value = value;\\n    value = value;\\n    try {\\n      var property = target.properties['disabled'];\\n      if (property !== undefined) { property.validate(value); }\\n    } catch(err) {\\n      console.log('WARNING: Could not set disabled on target, raised error: ' + err);\\n      return;\\n    }\\n    try {\\n      target['disabled'] = value;\\n    } catch(err) {\\n      console.log(err)\\n    }\\n    \",\"tags\":[[140317587577872,[null,\"readonly\"],[null,\"disabled\"]]]},\"id\":\"15124\",\"type\":\"CustomJS\"},{\"attributes\":{\"margin\":[5,5,5,5],\"name\":\"HSpacer00707\",\"sizing_mode\":\"stretch_width\"},\"id\":\"15112\",\"type\":\"Spacer\"},{\"attributes\":{\"fill_alpha\":{\"value\":0.25},\"fill_color\":{\"value\":\"midnightblue\"},\"hatch_alpha\":{\"value\":0.25},\"line_alpha\":{\"value\":0.25},\"line_color\":{\"value\":\"white\"},\"size\":{\"value\":10},\"x\":{\"field\":\"x\"},\"y\":{\"field\":\"y\"}},\"id\":\"15051\",\"type\":\"Circle\"},{\"attributes\":{},\"id\":\"15059\",\"type\":\"BasicTickFormatter\"},{\"attributes\":{},\"id\":\"15064\",\"type\":\"UnionRenderers\"},{\"attributes\":{},\"id\":\"15060\",\"type\":\"AllLabels\"},{\"attributes\":{\"args\":{\"bidirectional\":true,\"properties\":{\"readonly\":\"disabled\"},\"source\":{\"id\":\"15111\"},\"target\":{\"id\":\"15111\"}},\"code\":\"\\n    var value = source['disabled'];\\n    value = value;\\n    value = value;\\n    try {\\n      var property = target.properties['readonly'];\\n      if (property !== undefined) { property.validate(value); }\\n    } catch(err) {\\n      console.log('WARNING: Could not set readonly on target, raised error: ' + err);\\n      return;\\n    }\\n    try {\\n      target['readonly'] = value;\\n    } catch(err) {\\n      console.log(err)\\n    }\\n    \",\"tags\":[[140317587577872,[null,\"readonly\"],[null,\"disabled\"]]]},\"id\":\"15125\",\"type\":\"CustomJS\"},{\"attributes\":{},\"id\":\"15062\",\"type\":\"BasicTickFormatter\"},{\"attributes\":{},\"id\":\"15040\",\"type\":\"ResetTool\"},{\"attributes\":{\"bottom_units\":\"screen\",\"coordinates\":null,\"fill_alpha\":0.5,\"fill_color\":\"lightgrey\",\"group\":null,\"left_units\":\"screen\",\"level\":\"overlay\",\"line_alpha\":1.0,\"line_color\":\"black\",\"line_dash\":[4,4],\"line_width\":2,\"right_units\":\"screen\",\"syncable\":false,\"top_units\":\"screen\"},\"id\":\"15042\",\"type\":\"BoxAnnotation\"},{\"attributes\":{},\"id\":\"15033\",\"type\":\"BasicTicker\"},{\"attributes\":{\"axis\":{\"id\":\"15028\"},\"coordinates\":null,\"grid_line_alpha\":0.15,\"grid_line_color\":\"#E0E0E0\",\"group\":null,\"ticker\":null},\"id\":\"15031\",\"type\":\"Grid\"},{\"attributes\":{\"source\":{\"id\":\"15050\"}},\"id\":\"15056\",\"type\":\"CDSView\"},{\"attributes\":{},\"id\":\"15063\",\"type\":\"AllLabels\"},{\"attributes\":{},\"id\":\"15037\",\"type\":\"WheelZoomTool\"},{\"attributes\":{\"fill_alpha\":{\"value\":0.5},\"fill_color\":{\"value\":\"red\"},\"hatch_alpha\":{\"value\":0.5},\"line_alpha\":{\"value\":0.5},\"line_color\":{\"value\":\"white\"},\"size\":{\"value\":10},\"x\":{\"field\":\"x\"},\"y\":{\"field\":\"y\"}},\"id\":\"15053\",\"type\":\"Circle\"},{\"attributes\":{\"label\":{\"value\":\"Observations\"},\"renderers\":[{\"id\":\"15055\"}]},\"id\":\"15068\",\"type\":\"LegendItem\"},{\"attributes\":{\"fill_alpha\":{\"value\":0.2},\"fill_color\":{\"value\":\"midnightblue\"},\"hatch_alpha\":{\"value\":0.2},\"line_alpha\":{\"value\":0.2},\"line_color\":{\"value\":\"white\"},\"size\":{\"value\":10},\"x\":{\"field\":\"x\"},\"y\":{\"field\":\"y\"}},\"id\":\"15054\",\"type\":\"Circle\"}],\"root_ids\":[\"15075\",\"15148\"]},\"title\":\"Bokeh Application\",\"version\":\"2.4.3\"}};\n",
       "    var render_items = [{\"docid\":\"d9a87b36-dee5-498e-bd50-1574ed20658c\",\"root_ids\":[\"15075\"],\"roots\":{\"15075\":\"83de887d-8725-4913-911a-6b06e7aaa21d\"}}];\n",
       "    root.Bokeh.embed.embed_items_notebook(docs_json, render_items);\n",
       "    for (const render_item of render_items) {\n",
       "      for (const root_id of render_item.root_ids) {\n",
       "\tconst id_el = document.getElementById(root_id)\n",
       "\tif (id_el.children.length && (id_el.children[0].className === 'bk-root')) {\n",
       "\t  const root_el = id_el.children[0]\n",
       "\t  root_el.id = root_el.id + '-rendered'\n",
       "\t}\n",
       "      }\n",
       "    }\n",
       "  }\n",
       "  if (root.Bokeh !== undefined && root.Bokeh.Panel !== undefined) {\n",
       "    embed_document(root);\n",
       "  } else {\n",
       "    var attempts = 0;\n",
       "    var timer = setInterval(function(root) {\n",
       "      if (root.Bokeh !== undefined && root.Bokeh.Panel !== undefined) {\n",
       "        clearInterval(timer);\n",
       "        embed_document(root);\n",
       "      } else if (document.readyState == \"complete\") {\n",
       "        attempts++;\n",
       "        if (attempts > 200) {\n",
       "          clearInterval(timer);\n",
       "          console.log(\"Bokeh: ERROR: Unable to run BokehJS code because BokehJS library is missing\");\n",
       "        }\n",
       "      }\n",
       "    }, 25, root)\n",
       "  }\n",
       "})(window);</script>"
      ],
      "text/plain": [
       "Row\n",
       "    [0] HSpacer()\n",
       "    [1] Column\n",
       "        [0] Row\n",
       "            [0] Param(RegressionPolynomial, name='Problem parameters', widgets={})\n",
       "            [1] ParamMethod(method, _pane=Bokeh)\n",
       "        [1] Ace(height=150, language='python', sizing_mode='stretch_both', theme='chaos', value='def polynomial(\\n        ...)\n",
       "    [2] HSpacer()"
      ]
     },
     "execution_count": 665,
     "metadata": {
      "application/vnd.holoviews_exec.v0+json": {
       "id": "15075"
      }
     },
     "output_type": "execute_result"
    }
   ],
   "source": [
    "from cml.tasks import RegressionPolynomial\n",
    "explorer = RegressionPolynomial()\n",
    "explorer.render()"
   ]
  },
  {
   "cell_type": "markdown",
   "metadata": {},
   "source": [
    "## Using learning libraries (`scikit-learn`)"
   ]
  },
  {
   "cell_type": "markdown",
   "metadata": {},
   "source": [
    "To get a first grip on what machine learning does, we will rely on the `scikit-learn` library. This contains already coded models and learning procedure, that will allow us to _learn_ the parameters of this unknown function.\n",
    "\n",
    "Here we already know that we want to use a `PolynomialFeatures` model to perfom `LinearRegression` and that this polynomial should be of degree 2."
   ]
  },
  {
   "cell_type": "code",
   "execution_count": 10,
   "metadata": {
    "tags": []
   },
   "outputs": [],
   "source": [
    "from sklearn.linear_model import LinearRegression\n",
    "from sklearn.preprocessing import PolynomialFeatures\n",
    "from sklearn.pipeline import make_pipeline\n",
    "# Our data to fit\n",
    "X = x[:, np.newaxis]\n",
    "# Degree of our polynomial\n",
    "degree = 30;\n",
    "# Create our polynomial model for regression\n",
    "model = make_pipeline(PolynomialFeatures(degree), LinearRegression())\n",
    "# Fit the parameters of this model\n",
    "model.fit(X, y);"
   ]
  },
  {
   "cell_type": "markdown",
   "metadata": {},
   "source": [
    "Now that we have trained the model, we can perform _predictions_ from it, meaning that we can infer the output of the function at values that we did not observe originally."
   ]
  },
  {
   "cell_type": "code",
   "execution_count": 11,
   "metadata": {
    "tags": []
   },
   "outputs": [
    {
     "name": "stdout",
     "output_type": "stream",
     "text": [
      "Model error : 0.11184403568729148\n"
     ]
    },
    {
     "data": {},
     "metadata": {},
     "output_type": "display_data"
    },
    {
     "data": {
      "application/vnd.holoviews_exec.v0+json": "",
      "text/html": [
       "<div id='2686'>\n",
       "  <div class=\"bk-root\" id=\"220df470-e92b-4be8-8d1f-3d2df120ae2f\" data-root-id=\"2686\"></div>\n",
       "</div>\n",
       "<script type=\"application/javascript\">(function(root) {\n",
       "  function embed_document(root) {\n",
       "    var docs_json = {\"26230a56-1013-4690-bf64-8d307a590e76\":{\"defs\":[{\"extends\":null,\"module\":null,\"name\":\"ReactiveHTML1\",\"overrides\":[],\"properties\":[]},{\"extends\":null,\"module\":null,\"name\":\"FlexBox1\",\"overrides\":[],\"properties\":[{\"default\":\"flex-start\",\"kind\":null,\"name\":\"align_content\"},{\"default\":\"flex-start\",\"kind\":null,\"name\":\"align_items\"},{\"default\":\"row\",\"kind\":null,\"name\":\"flex_direction\"},{\"default\":\"wrap\",\"kind\":null,\"name\":\"flex_wrap\"},{\"default\":\"flex-start\",\"kind\":null,\"name\":\"justify_content\"}]},{\"extends\":null,\"module\":null,\"name\":\"GridStack1\",\"overrides\":[],\"properties\":[{\"default\":\"warn\",\"kind\":null,\"name\":\"mode\"},{\"default\":null,\"kind\":null,\"name\":\"ncols\"},{\"default\":null,\"kind\":null,\"name\":\"nrows\"},{\"default\":true,\"kind\":null,\"name\":\"allow_resize\"},{\"default\":true,\"kind\":null,\"name\":\"allow_drag\"},{\"default\":[],\"kind\":null,\"name\":\"state\"}]},{\"extends\":null,\"module\":null,\"name\":\"click1\",\"overrides\":[],\"properties\":[{\"default\":\"\",\"kind\":null,\"name\":\"terminal_output\"},{\"default\":\"\",\"kind\":null,\"name\":\"debug_name\"},{\"default\":0,\"kind\":null,\"name\":\"clears\"}]},{\"extends\":null,\"module\":null,\"name\":\"NotificationAreaBase1\",\"overrides\":[],\"properties\":[{\"default\":\"bottom-right\",\"kind\":null,\"name\":\"position\"},{\"default\":0,\"kind\":null,\"name\":\"_clear\"}]},{\"extends\":null,\"module\":null,\"name\":\"NotificationArea1\",\"overrides\":[],\"properties\":[{\"default\":[],\"kind\":null,\"name\":\"notifications\"},{\"default\":\"bottom-right\",\"kind\":null,\"name\":\"position\"},{\"default\":0,\"kind\":null,\"name\":\"_clear\"},{\"default\":[{\"background\":\"#ffc107\",\"icon\":{\"className\":\"fas fa-exclamation-triangle\",\"color\":\"white\",\"tagName\":\"i\"},\"type\":\"warning\"},{\"background\":\"#007bff\",\"icon\":{\"className\":\"fas fa-info-circle\",\"color\":\"white\",\"tagName\":\"i\"},\"type\":\"info\"}],\"kind\":null,\"name\":\"types\"}]},{\"extends\":null,\"module\":null,\"name\":\"Notification\",\"overrides\":[],\"properties\":[{\"default\":null,\"kind\":null,\"name\":\"background\"},{\"default\":3000,\"kind\":null,\"name\":\"duration\"},{\"default\":null,\"kind\":null,\"name\":\"icon\"},{\"default\":\"\",\"kind\":null,\"name\":\"message\"},{\"default\":null,\"kind\":null,\"name\":\"notification_type\"},{\"default\":false,\"kind\":null,\"name\":\"_destroyed\"}]},{\"extends\":null,\"module\":null,\"name\":\"TemplateActions1\",\"overrides\":[],\"properties\":[{\"default\":0,\"kind\":null,\"name\":\"open_modal\"},{\"default\":0,\"kind\":null,\"name\":\"close_modal\"}]},{\"extends\":null,\"module\":null,\"name\":\"MaterialTemplateActions1\",\"overrides\":[],\"properties\":[{\"default\":0,\"kind\":null,\"name\":\"open_modal\"},{\"default\":0,\"kind\":null,\"name\":\"close_modal\"}]}],\"roots\":{\"references\":[{\"attributes\":{},\"id\":\"2624\",\"type\":\"BasicTicker\"},{\"attributes\":{\"tools\":[{\"id\":\"2627\"},{\"id\":\"2628\"},{\"id\":\"2629\"},{\"id\":\"2630\"},{\"id\":\"2631\"},{\"id\":\"2632\"},{\"id\":\"2660\"},{\"id\":\"2664\"}]},\"id\":\"2634\",\"type\":\"Toolbar\"},{\"attributes\":{},\"id\":\"2654\",\"type\":\"AllLabels\"},{\"attributes\":{},\"id\":\"2628\",\"type\":\"WheelZoomTool\"},{\"attributes\":{},\"id\":\"2627\",\"type\":\"PanTool\"},{\"attributes\":{},\"id\":\"2681\",\"type\":\"UnionRenderers\"},{\"attributes\":{\"overlay\":{\"id\":\"2633\"}},\"id\":\"2629\",\"type\":\"BoxZoomTool\"},{\"attributes\":{\"label\":{\"value\":\"Observations\"},\"renderers\":[{\"id\":\"2646\"}]},\"id\":\"2659\",\"type\":\"LegendItem\"},{\"attributes\":{},\"id\":\"2630\",\"type\":\"SaveTool\"},{\"attributes\":{},\"id\":\"2631\",\"type\":\"ResetTool\"},{\"attributes\":{\"background_fill_alpha\":0.25,\"background_fill_color\":\"#505050\",\"border_line_alpha\":0.25,\"coordinates\":null,\"group\":null,\"items\":[{\"id\":\"2659\"},{\"id\":\"2685\"}],\"label_standoff\":8,\"label_text_color\":\"#E0E0E0\",\"label_text_font\":\"Josefin Sans\",\"label_text_font_size\":\"1.15em\",\"spacing\":8},\"id\":\"2658\",\"type\":\"Legend\"},{\"attributes\":{\"coordinates\":null,\"data_source\":{\"id\":\"2666\"},\"glyph\":{\"id\":\"2667\"},\"group\":null,\"hover_glyph\":null,\"muted_glyph\":{\"id\":\"2669\"},\"nonselection_glyph\":{\"id\":\"2668\"},\"view\":{\"id\":\"2671\"}},\"id\":\"2670\",\"type\":\"GlyphRenderer\"},{\"attributes\":{\"bottom_units\":\"screen\",\"coordinates\":null,\"fill_alpha\":0.5,\"fill_color\":\"lightgrey\",\"group\":null,\"left_units\":\"screen\",\"level\":\"overlay\",\"line_alpha\":1.0,\"line_color\":\"black\",\"line_dash\":[4,4],\"line_width\":2,\"right_units\":\"screen\",\"syncable\":false,\"top_units\":\"screen\"},\"id\":\"2633\",\"type\":\"BoxAnnotation\"},{\"attributes\":{\"data\":{\"x\":{\"__ndarray__\":\"W79SoNavlD8yb2dIzNu5P2WTTTbZZMM/UetXCtT6xT88Q2LezpDIPxPzdobEvM0/ejtDYt7O0D910UUXXXTRP2ApUOtXCtQ/W79SoNav1D9WVVVVVVXVP1HrVwrU+tU/TIFav1Kg1j9GF1100UXXPzxDYt7OkNg/N9lkk0022T8yb2dIzNvZPy0Fav1Kgdo/HcdxHMdx3D8YXXTRRRfdPxPzdobEvN0/CB988MEH3z998MEHH3zgP3o7Q2LezuA/d4bEvJ0h4T910UUXXXThP3BnSMzbGeI/aEjM2xkS4z9gKVDrVwrkP1gK1PqVAuU/U6DWrxSo5T9ONtlkk03mP0Ri3s6QmOc/OY7jOI7j6D832WSTTTbpPzJvZ0jM2+k/L7rooosu6j8tBWr9SoHqPypQ61cK1Oo/J5tssskm6z8iMW9nSMzrPx3HcRzHcew/Faj1KwVq7T8T83aGxLztPxA++OCDD+4/Dol5O0Ni7j8L1PqVArXuPwZq/UqBWu8/A7V+pUCt7z8AAAAAAADwPw==\",\"dtype\":\"float64\",\"order\":\"little\",\"shape\":[50]},\"y\":{\"__ndarray__\":\"B5dobzPz6T9k5Bl4fbrvP3YJMtqYA+8/ahb0uI2X7j+qRp5QNB/0P8XkOXuhSe8/Q52KB+Rk8T+95KG2AAX0PwLE4K/sCPc/jUw7/JSg9j+duZr0rCbzP4yaki67APQ/SU0kz/zt9T+c+eM4srL3PyRfbExfBvY/2es9GRgn9j9scKzAZij3P3hf8zn+Vvo/rndqdI0w+D+qn/h9WP74Pw2BOJQTHPw/Ut4MCenO+z8G7LPppn3/P5k4w/gJzv8/gDZgsPNy+z+33TBiPLz/P9qmbUKH9P0/NIVDzD/P/j8yYS78RDsAQPRzxeOMbwNAMe70bG/YAkC1ACYCTT0CQB7DLcc9lgVAHEPU1LH8B0AqvpaFJN0GQPD9G+2tawdAwqN95tcZB0Bk1ADez9gHQNCtxTp6+gdA7Dg3ubSbCUBJhvMaDbALQKnpAHshogpANELGCXL5C0C9NquiTsAMQCwVIN19qA5AU48/iYQpDEDqsELjkRENQKfmfpHQyA9ALMPS6/mfDkDL9W2KkkcQQA==\",\"dtype\":\"float64\",\"order\":\"little\",\"shape\":[50]}},\"selected\":{\"id\":\"2656\"},\"selection_policy\":{\"id\":\"2655\"}},\"id\":\"2641\",\"type\":\"ColumnDataSource\"},{\"attributes\":{\"fill_alpha\":{\"value\":0.2},\"fill_color\":{\"value\":\"midnightblue\"},\"hatch_alpha\":{\"value\":0.2},\"line_alpha\":{\"value\":0.2},\"line_color\":{\"value\":\"white\"},\"size\":{\"value\":10},\"x\":{\"field\":\"x\"},\"y\":{\"field\":\"y\"}},\"id\":\"2645\",\"type\":\"Circle\"},{\"attributes\":{},\"id\":\"2656\",\"type\":\"Selection\"},{\"attributes\":{},\"id\":\"2682\",\"type\":\"Selection\"},{\"attributes\":{\"fill_alpha\":{\"value\":0.25},\"fill_color\":{\"value\":\"midnightblue\"},\"hatch_alpha\":{\"value\":0.25},\"line_alpha\":{\"value\":0.25},\"line_color\":{\"value\":\"white\"},\"size\":{\"value\":10},\"x\":{\"field\":\"x\"},\"y\":{\"field\":\"y\"}},\"id\":\"2642\",\"type\":\"Circle\"},{\"attributes\":{\"client_comm_id\":\"f6465b99215f4567853fc1b286dc3792\",\"comm_id\":\"fe4c9c4bbfbc4d2cbacf3eadcd186a8e\",\"plot_id\":\"2686\"},\"id\":\"2754\",\"type\":\"panel.models.comm_manager.CommManager\"},{\"attributes\":{\"fill_alpha\":{\"value\":0.5},\"fill_color\":{\"value\":\"midnightblue\"},\"line_color\":{\"value\":\"white\"}},\"id\":\"2663\",\"type\":\"Circle\"},{\"attributes\":{\"callback\":null,\"mode\":\"vline\",\"renderers\":[{\"id\":\"2646\"}],\"tooltips\":null},\"id\":\"2660\",\"type\":\"HoverTool\"},{\"attributes\":{\"children\":[{\"id\":\"2687\"},{\"id\":\"2608\"},{\"id\":\"2714\"}],\"margin\":[0,0,0,0],\"name\":\"Row00169\"},\"id\":\"2686\",\"type\":\"Row\"},{\"attributes\":{},\"id\":\"2620\",\"type\":\"BasicTicker\"},{\"attributes\":{\"margin\":[5,5,5,5],\"name\":\"HSpacer00165\",\"sizing_mode\":\"stretch_width\"},\"id\":\"2687\",\"type\":\"Spacer\"},{\"attributes\":{\"fill_alpha\":{\"value\":0.8},\"fill_color\":{\"value\":\"red\"},\"line_color\":{\"value\":\"white\"}},\"id\":\"2662\",\"type\":\"Circle\"},{\"attributes\":{\"coordinates\":null,\"data_source\":{\"id\":\"2641\"},\"glyph\":{\"id\":\"2642\"},\"group\":null,\"hover_glyph\":{\"id\":\"2644\"},\"muted_glyph\":{\"id\":\"2645\"},\"nonselection_glyph\":{\"id\":\"2663\"},\"selection_glyph\":{\"id\":\"2662\"},\"view\":{\"id\":\"2647\"}},\"id\":\"2646\",\"type\":\"GlyphRenderer\"},{\"attributes\":{\"mode\":\"append\",\"overlay\":{\"id\":\"2684\"},\"renderers\":[{\"id\":\"2646\"}]},\"id\":\"2664\",\"type\":\"BoxSelectTool\"},{\"attributes\":{\"coordinates\":null,\"group\":null,\"text\":\"Training a scikit-learn model\",\"text_color\":\"#E0E0E0\",\"text_font\":\"Josefin Sans\",\"text_font_size\":\"2.1em\"},\"id\":\"2609\",\"type\":\"Title\"},{\"attributes\":{\"data\":{\"x\":{\"__ndarray__\":\"AAAAAAAAAABbv1Kg1q+EP1u/UqDWr5Q/CB988MEHnz9bv1Kg1q+kPzJvZ0jM26k/CB988MEHrz9wZ0jM2xmyP1u/UqDWr7Q/RhdddNFFtz8yb2dIzNu5Px3HcRzHcbw/CB988MEHvz96O0Ni3s7AP3BnSMzbGcI/ZZNNNtlkwz9bv1Kg1q/EP1HrVwrU+sU/RhdddNFFxz88Q2LezpDIPzJvZ0jM28k/J5tssskmyz8dx3Ecx3HMPxPzdobEvM0/CB988MEHzz9/pUCtXynQP3o7Q2LeztA/ddFFF1100T9wZ0jM2xnSP2r9SoFav9I/ZZNNNtlk0z9gKVDrVwrUP1u/UqDWr9Q/VlVVVVVV1T9R61cK1PrVP0yBWr9SoNY/RhdddNFF1z9BrV8pUOvXPzxDYt7OkNg/N9lkk0022T8yb2dIzNvZPy0Fav1Kgdo/J5tssskm2z8iMW9nSMzbPx3HcRzHcdw/GF100UUX3T8T83aGxLzdPw6JeTtDYt4/CB988MEH3z8DtX6lQK3fP3+lQK1fKeA/ffDBBx984D96O0Ni3s7gP3eGxLydIeE/ddFFF1104T9yHMdxHMfhP3BnSMzbGeI/bbLJJpts4j9q/UqBWr/iP2hIzNsZEuM/ZZNNNtlk4z9j3s6QmLfjP2ApUOtXCuQ/XnTRRRdd5D9bv1Kg1q/kP1gK1PqVAuU/VlVVVVVV5T9ToNavFKjlP1HrVwrU+uU/TjbZZJNN5j9MgVq/UqDmP0nM2xkS8+Y/RhdddNFF5z9EYt7OkJjnP0GtXylQ6+c/P/jggw8+6D88Q2LezpDoPzmO4ziO4+g/N9lkk0026T80JObtDInpPzJvZ0jM2+k/L7rooosu6j8tBWr9SoHqPypQ61cK1Oo/J5tssskm6z8l5u0MiXnrPyIxb2dIzOs/IHzwwQcf7D8dx3Ecx3HsPxsS83aGxOw/GF100UUX7T8VqPUrBWrtPxPzdobEvO0/ED744IMP7j8OiXk7Q2LuPwvU+pUCte4/CB988MEH7z8Gav1KgVrvPwO1fqVAre8/AAAAAAAA8D8=\",\"dtype\":\"float64\",\"order\":\"little\",\"shape\":[100]},\"y\":{\"__ndarray__\":\"AAAAAAAA8D8MJLz1QAHwPy6Q8NYDBfA/aESdo0gL8D+6QMJbDxTwPyKFX/9XH/A/ohF1jiIt8D845gIJbz3wP+YCCW89UPA/q2eHwI1l8D+IFH79X33wP3sJ7SW0l/A/hkbUOYq08D+oyzM54tPwP+GYCyS89fA/Ma5b+hca8T+ZCyS89UDxPxixZGlVavE/rZ4dAjeW8T9b1E6GmsTxPx9S+PV/9fE/+hcaUeco8j/tJbSX0F7yP/d7xsk7l/I/GBpR5yjS8j9QAFTwlw/zP6Auz+SIT/M/B6XCxPuR8z+EYy6Q8NbzPxlqEkdnHvQ/xrhu6V9o9D+JT0N32rT0P2QukPDWA/U/VlVVVVVV9T9fxJKlVan1P397SOHX//U/tnp2CNxY9j8FwhwbYrT2P2tROxlqEvc/6CjSAvRy9z98SOHX/9X3PyiwaJiNO/g/6l9oRJ2j+D/EV+DbLg75P7SX0F5Ce/k/vR85zdfq+T/c7xkn71z6PxIIc2yI0fo/YGhEnaNI+z/FEI65QML7P0EBUMFfPvw/1jmKtAC9/D+AujyTIz79P0CDZ13Iwf0/GpQKE+9H/j8K7SW0l9D+PxKOuUDCW/8/MHfFuG7p/z8y1CSOzjwAQNoQo7UmhgBAi3Hd0r/QAEBJ9tPlmRwBQBKfhu60aQFA6Gv17BC4AUDIXCDhrQcCQLNxB8uLWAJAq6qqqqqqAkCuBwqACv4CQL6IJUurUgNA1y39C42oA0D+9pDCr/8DQDDk4G4TWARAbPXsELixBEC2KrWonQwFQAqEOTbEaAVAagF6uSvGBUDWonYy1CQGQExoL6G9hAZA0FGkBejlBkBeX9VfU0gHQPiQwq//qwdAneZr9ewQCEBPYNEwG3cIQAz+8mGK3ghA07/QiDpHCUCopWqlK7EJQIevwLddHApAc93Sv9CICkBpL6G9hPYKQGylK7F5ZQtAej9ymq/VC0CT/XR5JkcMQLjfM07euQxA6eWuGNctDUAlEObYEKMNQG1e2Y6LGQ5AwNCIOkeRDkAgZ/TbQwoPQIohHHOBhA9AAAAAAAAAEEA=\",\"dtype\":\"float64\",\"order\":\"little\",\"shape\":[100]}},\"selected\":{\"id\":\"2682\"},\"selection_policy\":{\"id\":\"2681\"}},\"id\":\"2666\",\"type\":\"ColumnDataSource\"},{\"attributes\":{},\"id\":\"2613\",\"type\":\"DataRange1d\"},{\"attributes\":{},\"id\":\"2650\",\"type\":\"BasicTickFormatter\"},{\"attributes\":{\"label\":{\"value\":\"Trained model\"},\"renderers\":[{\"id\":\"2670\"}]},\"id\":\"2685\",\"type\":\"LegendItem\"},{\"attributes\":{},\"id\":\"2617\",\"type\":\"LinearScale\"},{\"attributes\":{\"fill_alpha\":{\"value\":0.5},\"fill_color\":{\"value\":\"red\"},\"hatch_alpha\":{\"value\":0.5},\"line_alpha\":{\"value\":0.5},\"line_color\":{\"value\":\"white\"},\"size\":{\"value\":10},\"x\":{\"field\":\"x\"},\"y\":{\"field\":\"y\"}},\"id\":\"2644\",\"type\":\"Circle\"},{\"attributes\":{\"bottom_units\":\"screen\",\"coordinates\":null,\"fill_alpha\":0.5,\"fill_color\":\"lightgrey\",\"group\":null,\"left_units\":\"screen\",\"level\":\"overlay\",\"line_alpha\":1.0,\"line_color\":\"black\",\"line_dash\":[4,4],\"line_width\":2,\"right_units\":\"screen\",\"syncable\":false,\"top_units\":\"screen\"},\"id\":\"2684\",\"type\":\"BoxAnnotation\"},{\"attributes\":{\"axis_label\":\"y\",\"axis_label_standoff\":10,\"axis_label_text_color\":\"#FFFFFF\",\"axis_label_text_font\":\"Josefin Sans\",\"axis_label_text_font_size\":\"1.9em\",\"axis_label_text_font_style\":\"bold\",\"axis_line_alpha\":0.4,\"axis_line_color\":\"#E0E0E0\",\"coordinates\":null,\"formatter\":{\"id\":\"2650\"},\"group\":null,\"major_label_policy\":{\"id\":\"2651\"},\"major_label_text_color\":\"#E0E0E0\",\"major_label_text_font\":\"Josefin Sans\",\"major_label_text_font_size\":\"1.15em\",\"major_tick_line_alpha\":0.4,\"major_tick_line_color\":\"#E0E0E0\",\"minor_tick_line_alpha\":0.4,\"minor_tick_line_color\":\"#E0E0E0\",\"ticker\":{\"id\":\"2624\"}},\"id\":\"2623\",\"type\":\"LinearAxis\"},{\"attributes\":{\"background_fill_alpha\":0.9,\"background_fill_color\":\"#0f0f0f\",\"below\":[{\"id\":\"2619\"}],\"border_fill_alpha\":0.8,\"border_fill_color\":\"#111111\",\"center\":[{\"id\":\"2622\"},{\"id\":\"2626\"},{\"id\":\"2658\"}],\"height\":450,\"left\":[{\"id\":\"2623\"}],\"outline_line_alpha\":0.25,\"outline_line_color\":\"#E0E0E0\",\"outline_line_width\":3,\"renderers\":[{\"id\":\"2646\"},{\"id\":\"2670\"}],\"title\":{\"id\":\"2609\"},\"toolbar\":{\"id\":\"2634\"},\"toolbar_location\":null,\"x_range\":{\"id\":\"2611\"},\"x_scale\":{\"id\":\"2615\"},\"y_range\":{\"id\":\"2613\"},\"y_scale\":{\"id\":\"2617\"}},\"id\":\"2608\",\"subtype\":\"Figure\",\"type\":\"Plot\"},{\"attributes\":{\"line_alpha\":0.6,\"line_color\":\"red\",\"line_width\":6,\"x\":{\"field\":\"x\"},\"y\":{\"field\":\"y\"}},\"id\":\"2667\",\"type\":\"Line\"},{\"attributes\":{\"axis\":{\"id\":\"2619\"},\"coordinates\":null,\"grid_line_alpha\":0.15,\"grid_line_color\":\"#E0E0E0\",\"group\":null,\"ticker\":null},\"id\":\"2622\",\"type\":\"Grid\"},{\"attributes\":{\"line_alpha\":0.2,\"line_color\":\"red\",\"line_width\":6,\"x\":{\"field\":\"x\"},\"y\":{\"field\":\"y\"}},\"id\":\"2669\",\"type\":\"Line\"},{\"attributes\":{},\"id\":\"2615\",\"type\":\"LinearScale\"},{\"attributes\":{\"axis_label\":\"x\",\"axis_label_standoff\":10,\"axis_label_text_color\":\"#FFFFFF\",\"axis_label_text_font\":\"Josefin Sans\",\"axis_label_text_font_size\":\"1.9em\",\"axis_label_text_font_style\":\"bold\",\"axis_line_alpha\":0.4,\"axis_line_color\":\"#E0E0E0\",\"coordinates\":null,\"formatter\":{\"id\":\"2653\"},\"group\":null,\"major_label_policy\":{\"id\":\"2654\"},\"major_label_text_color\":\"#E0E0E0\",\"major_label_text_font\":\"Josefin Sans\",\"major_label_text_font_size\":\"1.15em\",\"major_tick_line_alpha\":0.4,\"major_tick_line_color\":\"#E0E0E0\",\"minor_tick_line_alpha\":0.4,\"minor_tick_line_color\":\"#E0E0E0\",\"ticker\":{\"id\":\"2620\"}},\"id\":\"2619\",\"type\":\"LinearAxis\"},{\"attributes\":{\"source\":{\"id\":\"2666\"}},\"id\":\"2671\",\"type\":\"CDSView\"},{\"attributes\":{},\"id\":\"2651\",\"type\":\"AllLabels\"},{\"attributes\":{},\"id\":\"2611\",\"type\":\"DataRange1d\"},{\"attributes\":{\"source\":{\"id\":\"2641\"}},\"id\":\"2647\",\"type\":\"CDSView\"},{\"attributes\":{\"line_alpha\":0.1,\"line_color\":\"red\",\"line_width\":6,\"x\":{\"field\":\"x\"},\"y\":{\"field\":\"y\"}},\"id\":\"2668\",\"type\":\"Line\"},{\"attributes\":{},\"id\":\"2632\",\"type\":\"HelpTool\"},{\"attributes\":{},\"id\":\"2655\",\"type\":\"UnionRenderers\"},{\"attributes\":{\"margin\":[5,5,5,5],\"name\":\"HSpacer00166\",\"sizing_mode\":\"stretch_width\"},\"id\":\"2714\",\"type\":\"Spacer\"},{\"attributes\":{},\"id\":\"2653\",\"type\":\"BasicTickFormatter\"},{\"attributes\":{\"axis\":{\"id\":\"2623\"},\"coordinates\":null,\"dimension\":1,\"grid_line_alpha\":0.15,\"grid_line_color\":\"#E0E0E0\",\"group\":null,\"ticker\":null},\"id\":\"2626\",\"type\":\"Grid\"}],\"root_ids\":[\"2686\",\"2754\"]},\"title\":\"Bokeh Application\",\"version\":\"2.4.3\"}};\n",
       "    var render_items = [{\"docid\":\"26230a56-1013-4690-bf64-8d307a590e76\",\"root_ids\":[\"2686\"],\"roots\":{\"2686\":\"220df470-e92b-4be8-8d1f-3d2df120ae2f\"}}];\n",
       "    root.Bokeh.embed.embed_items_notebook(docs_json, render_items);\n",
       "    for (const render_item of render_items) {\n",
       "      for (const root_id of render_item.root_ids) {\n",
       "\tconst id_el = document.getElementById(root_id)\n",
       "\tif (id_el.children.length && (id_el.children[0].className === 'bk-root')) {\n",
       "\t  const root_el = id_el.children[0]\n",
       "\t  root_el.id = root_el.id + '-rendered'\n",
       "\t}\n",
       "      }\n",
       "    }\n",
       "  }\n",
       "  if (root.Bokeh !== undefined && root.Bokeh.Panel !== undefined) {\n",
       "    embed_document(root);\n",
       "  } else {\n",
       "    var attempts = 0;\n",
       "    var timer = setInterval(function(root) {\n",
       "      if (root.Bokeh !== undefined && root.Bokeh.Panel !== undefined) {\n",
       "        clearInterval(timer);\n",
       "        embed_document(root);\n",
       "      } else if (document.readyState == \"complete\") {\n",
       "        attempts++;\n",
       "        if (attempts > 200) {\n",
       "          clearInterval(timer);\n",
       "          console.log(\"Bokeh: ERROR: Unable to run BokehJS code because BokehJS library is missing\");\n",
       "        }\n",
       "      }\n",
       "    }, 25, root)\n",
       "  }\n",
       "})(window);</script>"
      ],
      "text/plain": [
       "Row\n",
       "    [0] HSpacer()\n",
       "    [1] Bokeh(Figure)\n",
       "    [2] HSpacer()"
      ]
     },
     "execution_count": 21,
     "metadata": {
      "application/vnd.holoviews_exec.v0+json": {
       "id": "6869"
      }
     },
     "output_type": "execute_result"
    }
   ],
   "source": [
    "# Inference points (not observed)\n",
    "X_plot = x_plot[:, np.newaxis]\n",
    "# Predict the values\n",
    "y_plot = model.predict(X_plot)\n",
    "# Compute the error of our model at observed points\n",
    "Y_model_err = np.sqrt(np.mean(np.square(y-model.predict(X))))\n",
    "print(f'Model error : {Y_model_err}')\n",
    "# Plot the result\n",
    "p = scatter(x, y, title=\"Training a scikit-learn model\")\n",
    "p.line(x_plot, poly(x_plot), line_width=6, line_alpha=0.6, color=\"red\", legend_label=r\"Trained model\")\n",
    "plot = (center_plot(p))\n",
    "plot"
   ]
  },
  {
   "cell_type": "code",
   "execution_count": 12,
   "metadata": {
    "tags": []
   },
   "outputs": [],
   "source": [
    "from cml.tasks import RegressionPolynomialSolver\n",
    "explorer = RegressionPolynomialSolver()"
   ]
  },
  {
   "cell_type": "code",
   "execution_count": 13,
   "metadata": {
    "tags": []
   },
   "outputs": [
    {
     "data": {},
     "metadata": {},
     "output_type": "display_data"
    },
    {
     "data": {
      "application/vnd.holoviews_exec.v0+json": "",
      "text/html": [
       "<div id='2884'>\n",
       "  <div class=\"bk-root\" id=\"2a51bcbc-a8f8-4f36-b767-28667bc84279\" data-root-id=\"2884\"></div>\n",
       "</div>\n",
       "<script type=\"application/javascript\">(function(root) {\n",
       "  function embed_document(root) {\n",
       "    var docs_json = {\"8417545e-7ad9-47d2-b5d1-174686cb6c59\":{\"defs\":[{\"extends\":null,\"module\":null,\"name\":\"ReactiveHTML1\",\"overrides\":[],\"properties\":[]},{\"extends\":null,\"module\":null,\"name\":\"FlexBox1\",\"overrides\":[],\"properties\":[{\"default\":\"flex-start\",\"kind\":null,\"name\":\"align_content\"},{\"default\":\"flex-start\",\"kind\":null,\"name\":\"align_items\"},{\"default\":\"row\",\"kind\":null,\"name\":\"flex_direction\"},{\"default\":\"wrap\",\"kind\":null,\"name\":\"flex_wrap\"},{\"default\":\"flex-start\",\"kind\":null,\"name\":\"justify_content\"}]},{\"extends\":null,\"module\":null,\"name\":\"GridStack1\",\"overrides\":[],\"properties\":[{\"default\":\"warn\",\"kind\":null,\"name\":\"mode\"},{\"default\":null,\"kind\":null,\"name\":\"ncols\"},{\"default\":null,\"kind\":null,\"name\":\"nrows\"},{\"default\":true,\"kind\":null,\"name\":\"allow_resize\"},{\"default\":true,\"kind\":null,\"name\":\"allow_drag\"},{\"default\":[],\"kind\":null,\"name\":\"state\"}]},{\"extends\":null,\"module\":null,\"name\":\"click1\",\"overrides\":[],\"properties\":[{\"default\":\"\",\"kind\":null,\"name\":\"terminal_output\"},{\"default\":\"\",\"kind\":null,\"name\":\"debug_name\"},{\"default\":0,\"kind\":null,\"name\":\"clears\"}]},{\"extends\":null,\"module\":null,\"name\":\"NotificationAreaBase1\",\"overrides\":[],\"properties\":[{\"default\":\"bottom-right\",\"kind\":null,\"name\":\"position\"},{\"default\":0,\"kind\":null,\"name\":\"_clear\"}]},{\"extends\":null,\"module\":null,\"name\":\"NotificationArea1\",\"overrides\":[],\"properties\":[{\"default\":[],\"kind\":null,\"name\":\"notifications\"},{\"default\":\"bottom-right\",\"kind\":null,\"name\":\"position\"},{\"default\":0,\"kind\":null,\"name\":\"_clear\"},{\"default\":[{\"background\":\"#ffc107\",\"icon\":{\"className\":\"fas fa-exclamation-triangle\",\"color\":\"white\",\"tagName\":\"i\"},\"type\":\"warning\"},{\"background\":\"#007bff\",\"icon\":{\"className\":\"fas fa-info-circle\",\"color\":\"white\",\"tagName\":\"i\"},\"type\":\"info\"}],\"kind\":null,\"name\":\"types\"}]},{\"extends\":null,\"module\":null,\"name\":\"Notification\",\"overrides\":[],\"properties\":[{\"default\":null,\"kind\":null,\"name\":\"background\"},{\"default\":3000,\"kind\":null,\"name\":\"duration\"},{\"default\":null,\"kind\":null,\"name\":\"icon\"},{\"default\":\"\",\"kind\":null,\"name\":\"message\"},{\"default\":null,\"kind\":null,\"name\":\"notification_type\"},{\"default\":false,\"kind\":null,\"name\":\"_destroyed\"}]},{\"extends\":null,\"module\":null,\"name\":\"TemplateActions1\",\"overrides\":[],\"properties\":[{\"default\":0,\"kind\":null,\"name\":\"open_modal\"},{\"default\":0,\"kind\":null,\"name\":\"close_modal\"}]},{\"extends\":null,\"module\":null,\"name\":\"MaterialTemplateActions1\",\"overrides\":[],\"properties\":[{\"default\":0,\"kind\":null,\"name\":\"open_modal\"},{\"default\":0,\"kind\":null,\"name\":\"close_modal\"}]}],\"roots\":{\"references\":[{\"attributes\":{\"args\":{\"bidirectional\":true,\"properties\":{\"readonly\":\"disabled\"},\"source\":{\"id\":\"2925\"},\"target\":{\"id\":\"2925\"}},\"code\":\"\\n    var value = source['disabled'];\\n    value = value;\\n    value = value;\\n    try {\\n      var property = target.properties['readonly'];\\n      if (property !== undefined) { property.validate(value); }\\n    } catch(err) {\\n      console.log('WARNING: Could not set readonly on target, raised error: ' + err);\\n      return;\\n    }\\n    try {\\n      target['readonly'] = value;\\n    } catch(err) {\\n      console.log(err)\\n    }\\n    \",\"tags\":[[140317414004624,[null,\"readonly\"],[null,\"disabled\"]]]},\"id\":\"2941\",\"type\":\"CustomJS\"},{\"attributes\":{\"line_alpha\":0.7,\"line_color\":\"red\",\"line_width\":4,\"x\":{\"field\":\"x\"},\"y\":{\"field\":\"y\"}},\"id\":\"2879\",\"type\":\"Line\"},{\"attributes\":{\"bottom_units\":\"screen\",\"coordinates\":null,\"fill_alpha\":0.5,\"fill_color\":\"lightgrey\",\"group\":null,\"left_units\":\"screen\",\"level\":\"overlay\",\"line_alpha\":1.0,\"line_color\":\"black\",\"line_dash\":[4,4],\"line_width\":2,\"right_units\":\"screen\",\"syncable\":false,\"top_units\":\"screen\"},\"id\":\"2911\",\"type\":\"BoxAnnotation\"},{\"attributes\":{\"source\":{\"id\":\"2878\"}},\"id\":\"2883\",\"type\":\"CDSView\"},{\"attributes\":{\"label\":{\"value\":\"Observations\"},\"renderers\":[{\"id\":\"2858\"}]},\"id\":\"2871\",\"type\":\"LegendItem\"},{\"attributes\":{\"line_alpha\":0.2,\"line_color\":\"red\",\"line_width\":4,\"x\":{\"field\":\"x\"},\"y\":{\"field\":\"y\"}},\"id\":\"2881\",\"type\":\"Line\"},{\"attributes\":{\"client_comm_id\":\"1f24719e76664427b584fcb234ada28b\",\"comm_id\":\"8a2f27c43190486ea7f300fcd45f6517\",\"plot_id\":\"2884\"},\"id\":\"2968\",\"type\":\"panel.models.comm_manager.CommManager\"},{\"attributes\":{\"coordinates\":null,\"data_source\":{\"id\":\"2853\"},\"glyph\":{\"id\":\"2854\"},\"group\":null,\"hover_glyph\":{\"id\":\"2856\"},\"muted_glyph\":{\"id\":\"2857\"},\"nonselection_glyph\":{\"id\":\"2875\"},\"selection_glyph\":{\"id\":\"2874\"},\"view\":{\"id\":\"2859\"}},\"id\":\"2858\",\"type\":\"GlyphRenderer\"},{\"attributes\":{\"margin\":[5,5,5,5],\"name\":\"HSpacer00173\",\"sizing_mode\":\"stretch_width\"},\"id\":\"2885\",\"type\":\"Spacer\"},{\"attributes\":{\"children\":[{\"id\":\"2887\"},{\"id\":\"2925\"}],\"margin\":[0,0,0,0],\"name\":\"Column00204\"},\"id\":\"2886\",\"type\":\"Column\"},{\"attributes\":{\"source\":{\"id\":\"2853\"}},\"id\":\"2859\",\"type\":\"CDSView\"},{\"attributes\":{\"children\":[{\"id\":\"2885\"},{\"id\":\"2886\"},{\"id\":\"2926\"}],\"margin\":[0,0,0,0],\"name\":\"Row00206\"},\"id\":\"2884\",\"type\":\"Row\"},{\"attributes\":{\"line_alpha\":0.1,\"line_color\":\"red\",\"line_width\":4,\"x\":{\"field\":\"x\"},\"y\":{\"field\":\"y\"}},\"id\":\"2880\",\"type\":\"Line\"},{\"attributes\":{\"fill_alpha\":{\"value\":0.5},\"fill_color\":{\"value\":\"red\"},\"hatch_alpha\":{\"value\":0.5},\"line_alpha\":{\"value\":0.5},\"line_color\":{\"value\":\"white\"},\"size\":{\"value\":10},\"x\":{\"field\":\"x\"},\"y\":{\"field\":\"y\"}},\"id\":\"2856\",\"type\":\"Circle\"},{\"attributes\":{\"children\":[{\"id\":\"2889\"},{\"id\":\"2890\"},{\"id\":\"2891\"},{\"id\":\"2892\"},{\"id\":\"2893\"},{\"id\":\"2894\"},{\"id\":\"2895\"},{\"id\":\"2896\"},{\"id\":\"2897\"}],\"margin\":[5,5,5,5],\"min_width\":300,\"name\":\"Problem parameters\",\"width\":300},\"id\":\"2888\",\"type\":\"Column\"},{\"attributes\":{\"children\":[{\"id\":\"2888\"},{\"id\":\"2898\"}],\"margin\":[0,0,0,0],\"name\":\"Row00201\"},\"id\":\"2887\",\"type\":\"Row\"},{\"attributes\":{\"fill_alpha\":{\"value\":0.2},\"fill_color\":{\"value\":\"midnightblue\"},\"hatch_alpha\":{\"value\":0.2},\"line_alpha\":{\"value\":0.2},\"line_color\":{\"value\":\"white\"},\"size\":{\"value\":10},\"x\":{\"field\":\"x\"},\"y\":{\"field\":\"y\"}},\"id\":\"2857\",\"type\":\"Circle\"},{\"attributes\":{\"margin\":[5,10,5,10],\"name\":\"\",\"text\":\"<b>Problem parameters</b>\"},\"id\":\"2889\",\"type\":\"Div\"},{\"attributes\":{\"children\":[{\"id\":\"2820\"}],\"margin\":[0,0,0,0],\"name\":\"Row00198\"},\"id\":\"2898\",\"type\":\"Row\"},{\"attributes\":{\"labels\":[\"Ground truth\"],\"margin\":[5,10,5,10]},\"id\":\"2892\",\"type\":\"CheckboxGroup\"},{\"attributes\":{\"end\":1000,\"margin\":[5,10,5,10],\"start\":10,\"title\":\"Number observations\",\"value\":100},\"id\":\"2890\",\"type\":\"Slider\"},{\"attributes\":{\"background_fill_alpha\":0.25,\"background_fill_color\":\"#505050\",\"border_line_alpha\":0.25,\"coordinates\":null,\"group\":null,\"items\":[{\"id\":\"2871\"}],\"label_standoff\":8,\"label_text_color\":\"#E0E0E0\",\"label_text_font\":\"Josefin Sans\",\"label_text_font_size\":\"1.15em\",\"spacing\":8},\"id\":\"2870\",\"type\":\"Legend\"},{\"attributes\":{\"end\":5.0,\"margin\":[5,10,5,10],\"start\":0.0,\"step\":0.1,\"title\":\"Noise level\",\"value\":0.1},\"id\":\"2891\",\"type\":\"Slider\"},{\"attributes\":{\"background_fill_alpha\":0.9,\"background_fill_color\":\"#0f0f0f\",\"below\":[{\"id\":\"2831\"}],\"border_fill_alpha\":0.8,\"border_fill_color\":\"#111111\",\"center\":[{\"id\":\"2834\"},{\"id\":\"2838\"},{\"id\":\"2870\"}],\"height\":450,\"left\":[{\"id\":\"2835\"}],\"outline_line_alpha\":0.25,\"outline_line_color\":\"#E0E0E0\",\"outline_line_width\":3,\"renderers\":[{\"id\":\"2858\"},{\"id\":\"2882\"}],\"title\":{\"id\":\"2821\"},\"toolbar\":{\"id\":\"2846\"},\"toolbar_location\":null,\"x_range\":{\"id\":\"2823\"},\"x_scale\":{\"id\":\"2827\"},\"y_range\":{\"id\":\"2825\"},\"y_scale\":{\"id\":\"2829\"}},\"id\":\"2820\",\"subtype\":\"Figure\",\"type\":\"Plot\"},{\"attributes\":{\"end\":5.0,\"margin\":[5,10,5,10],\"start\":-5.0,\"step\":0.1,\"title\":\"X 0\",\"value\":1.0},\"id\":\"2896\",\"type\":\"Slider\"},{\"attributes\":{\"labels\":[\"Error\"],\"margin\":[5,10,5,10]},\"id\":\"2893\",\"type\":\"CheckboxGroup\"},{\"attributes\":{\"end\":5.0,\"margin\":[5,10,5,10],\"start\":-5.0,\"step\":0.1,\"title\":\"X 2\",\"value\":-2.0},\"id\":\"2894\",\"type\":\"Slider\"},{\"attributes\":{\"end\":5.0,\"margin\":[5,10,5,10],\"start\":-5.0,\"step\":0.1,\"title\":\"X 1\",\"value\":0.0},\"id\":\"2895\",\"type\":\"Slider\"},{\"attributes\":{},\"id\":\"2844\",\"type\":\"HelpTool\"},{\"attributes\":{\"code\":\"def polynomial(\\n        coefficients: jnp.ndarray,\\n        n_observations: int = 100) -> [jnp.ndarray, jnp.ndarray]:\\n    x = jnp.linspace(0, 1, n_observations)\\n    y = jnp.polyval(coefficients, x)\\n    return x, \",\"filename\":\"\",\"height\":150,\"js_property_callbacks\":{\"change:disabled\":[{\"id\":\"2941\"}],\"change:readonly\":[{\"id\":\"2940\"}]},\"language\":\"python\",\"margin\":[5,10,5,10],\"sizing_mode\":\"stretch_both\",\"theme\":\"chaos\"},\"id\":\"2925\",\"type\":\"panel.models.ace.AcePlot\"},{\"attributes\":{\"fill_alpha\":{\"value\":0.25},\"fill_color\":{\"value\":\"midnightblue\"},\"hatch_alpha\":{\"value\":0.25},\"line_alpha\":{\"value\":0.25},\"line_color\":{\"value\":\"white\"},\"size\":{\"value\":10},\"x\":{\"field\":\"x\"},\"y\":{\"field\":\"y\"}},\"id\":\"2854\",\"type\":\"Circle\"},{\"attributes\":{\"end\":30,\"margin\":[5,10,5,10],\"start\":1,\"title\":\"Degree\",\"value\":1},\"id\":\"2897\",\"type\":\"Slider\"},{\"attributes\":{\"fill_alpha\":{\"value\":0.5},\"fill_color\":{\"value\":\"midnightblue\"},\"line_color\":{\"value\":\"white\"}},\"id\":\"2875\",\"type\":\"Circle\"},{\"attributes\":{\"callback\":null,\"mode\":\"vline\",\"renderers\":[{\"id\":\"2858\"}],\"tooltips\":null},\"id\":\"2872\",\"type\":\"HoverTool\"},{\"attributes\":{\"coordinates\":null,\"data_source\":{\"id\":\"2878\"},\"glyph\":{\"id\":\"2879\"},\"group\":null,\"hover_glyph\":null,\"muted_glyph\":{\"id\":\"2881\"},\"nonselection_glyph\":{\"id\":\"2880\"},\"view\":{\"id\":\"2883\"}},\"id\":\"2882\",\"type\":\"GlyphRenderer\"},{\"attributes\":{\"data\":{\"x\":{\"__ndarray__\":\"AAAAALV+JTy1fqU8ED74PLV+JT1i3k49ED54Pd7OkD21fqU9jC66PWLezj05juM9ED74PfN2Bj7ezhA+yiYbPrV+JT6g1i8+jC46PneGRD5i3k4+TjZZPjmOYz4k5m0+ED54Pv1KgT7zdoY+6aKLPt7OkD7U+pU+yiabPr9SoD61fqU+q6qqPqDWrz6WArU+jC66PoFavz53hsQ+bbLJPmLezj5YCtQ+TjbZPkNi3j45juM+L7roPiTm7T4aEvM+ED74PgVq/T79SgE/+OADP/N2Bj/uDAk/6aILP+Q4Dj/ezhA/2WQTP9T6FT/PkBg/yiYbP8W8HT+/UiA/uugiP7V+JT+wFCg/q6oqP6VALT+g1i8/m2wyP5YCNT+RmDc/jC46P4bEPD+BWj8/fPBBP3eGRD9yHEc/bbJJP2dITD9i3k4/XXRRP1gKVD9ToFY/TjZZP0jMWz9DYl4/PvhgPzmOYz80JGY/L7poPylQaz8k5m0/H3xwPxoScz8VqHU/ED54PwrUej8Fan0/AACAPw==\",\"dtype\":\"float32\",\"order\":\"little\",\"shape\":[100]},\"y\":{\"__ndarray__\":\"IDeMP+jsbz+WJYM/l/uKP8uxfD8FqmU/PvZrP7IOgD8tbYY/x62CP2aJdT9BXoA/bD5kP4LkXj94Vns/cRZkP5Zjgj94L2w/oMl2P8LMcT9h1GM/rzt+Pwojdj8q3Gg/Lk9gPyZ6VT8ewVQ/3QpvP8PtRT8ANkw/lPFhPyK3ZT9bOEc/oQ83P3bXOT8nVjY/mm5HP60+Ij9kwEs/KNcrP1O0Kj84JRE/p8MdP54yEj8i2TE/Wd0MP7eLBz/fyxg/rf4XPxtK2j7sLuU+WWfCPtzztz7ISeA+TIP3PoRXuj7Osao+EkKcPguepD7g5ZQ+RuSKPk7ZNT5ElWI+rdgoPuQbaD6RKR0+wUcyPiLLGz765ws+fab3PfDJt7sxGIK9BsiEPL40s73X3S6+H1oSvpyODL7GUx6+q4WOvhqpnb4rA8K+6szHvjh6kL5ufKS+14T6vm8E/b4i+wG/WJUcv+11I7+2mS+/2JIcv2vUN7+t+jS/Fl03vz9pZr/lBFq/Md9Hv2DCbL9Wn4C/dJJ4vw==\",\"dtype\":\"float32\",\"order\":\"little\",\"shape\":[100]}},\"selected\":{\"id\":\"2868\"},\"selection_policy\":{\"id\":\"2867\"}},\"id\":\"2853\",\"type\":\"ColumnDataSource\"},{\"attributes\":{\"margin\":[5,5,5,5],\"name\":\"HSpacer00205\",\"sizing_mode\":\"stretch_width\"},\"id\":\"2926\",\"type\":\"Spacer\"},{\"attributes\":{\"fill_alpha\":{\"value\":0.8},\"fill_color\":{\"value\":\"red\"},\"line_color\":{\"value\":\"white\"}},\"id\":\"2874\",\"type\":\"Circle\"},{\"attributes\":{},\"id\":\"2832\",\"type\":\"BasicTicker\"},{\"attributes\":{\"axis_label\":\"$$\\\\color{white} x$$\",\"axis_label_standoff\":10,\"axis_label_text_color\":\"#FFFFFF\",\"axis_label_text_font\":\"Josefin Sans\",\"axis_label_text_font_size\":\"1.9em\",\"axis_label_text_font_style\":\"bold\",\"axis_line_alpha\":0.4,\"axis_line_color\":\"#E0E0E0\",\"coordinates\":null,\"formatter\":{\"id\":\"2865\"},\"group\":null,\"major_label_policy\":{\"id\":\"2866\"},\"major_label_text_color\":\"#E0E0E0\",\"major_label_text_font\":\"Josefin Sans\",\"major_label_text_font_size\":\"1.15em\",\"major_tick_line_alpha\":0.4,\"major_tick_line_color\":\"#E0E0E0\",\"minor_tick_line_alpha\":0.4,\"minor_tick_line_color\":\"#E0E0E0\",\"ticker\":{\"id\":\"2832\"}},\"id\":\"2831\",\"type\":\"LinearAxis\"},{\"attributes\":{\"mode\":\"append\",\"overlay\":{\"id\":\"2911\"},\"renderers\":[{\"id\":\"2858\"}]},\"id\":\"2876\",\"type\":\"BoxSelectTool\"},{\"attributes\":{},\"id\":\"2825\",\"type\":\"DataRange1d\"},{\"attributes\":{},\"id\":\"2862\",\"type\":\"BasicTickFormatter\"},{\"attributes\":{},\"id\":\"2827\",\"type\":\"LinearScale\"},{\"attributes\":{\"coordinates\":null,\"group\":null,\"text\":\"Polynomial regression problem\",\"text_color\":\"#E0E0E0\",\"text_font\":\"Josefin Sans\",\"text_font_size\":\"2.1em\"},\"id\":\"2821\",\"type\":\"Title\"},{\"attributes\":{\"axis\":{\"id\":\"2835\"},\"coordinates\":null,\"dimension\":1,\"grid_line_alpha\":0.15,\"grid_line_color\":\"#E0E0E0\",\"group\":null,\"ticker\":null},\"id\":\"2838\",\"type\":\"Grid\"},{\"attributes\":{},\"id\":\"2823\",\"type\":\"DataRange1d\"},{\"attributes\":{},\"id\":\"2863\",\"type\":\"AllLabels\"},{\"attributes\":{\"axis_label\":\"$$\\\\color{white} -2.0x^2 + 0.0x^1 + 1.0x^0$$\",\"axis_label_standoff\":10,\"axis_label_text_color\":\"#FFFFFF\",\"axis_label_text_font\":\"Josefin Sans\",\"axis_label_text_font_size\":\"1.9em\",\"axis_label_text_font_style\":\"bold\",\"axis_line_alpha\":0.4,\"axis_line_color\":\"#E0E0E0\",\"coordinates\":null,\"formatter\":{\"id\":\"2862\"},\"group\":null,\"major_label_policy\":{\"id\":\"2863\"},\"major_label_text_color\":\"#E0E0E0\",\"major_label_text_font\":\"Josefin Sans\",\"major_label_text_font_size\":\"1.15em\",\"major_tick_line_alpha\":0.4,\"major_tick_line_color\":\"#E0E0E0\",\"minor_tick_line_alpha\":0.4,\"minor_tick_line_color\":\"#E0E0E0\",\"ticker\":{\"id\":\"2836\"}},\"id\":\"2835\",\"type\":\"LinearAxis\"},{\"attributes\":{},\"id\":\"2908\",\"type\":\"UnionRenderers\"},{\"attributes\":{},\"id\":\"2836\",\"type\":\"BasicTicker\"},{\"attributes\":{\"axis\":{\"id\":\"2831\"},\"coordinates\":null,\"grid_line_alpha\":0.15,\"grid_line_color\":\"#E0E0E0\",\"group\":null,\"ticker\":null},\"id\":\"2834\",\"type\":\"Grid\"},{\"attributes\":{},\"id\":\"2865\",\"type\":\"BasicTickFormatter\"},{\"attributes\":{},\"id\":\"2829\",\"type\":\"LinearScale\"},{\"attributes\":{},\"id\":\"2866\",\"type\":\"AllLabels\"},{\"attributes\":{},\"id\":\"2840\",\"type\":\"WheelZoomTool\"},{\"attributes\":{},\"id\":\"2909\",\"type\":\"Selection\"},{\"attributes\":{},\"id\":\"2839\",\"type\":\"PanTool\"},{\"attributes\":{\"overlay\":{\"id\":\"2845\"}},\"id\":\"2841\",\"type\":\"BoxZoomTool\"},{\"attributes\":{},\"id\":\"2842\",\"type\":\"SaveTool\"},{\"attributes\":{},\"id\":\"2843\",\"type\":\"ResetTool\"},{\"attributes\":{},\"id\":\"2867\",\"type\":\"UnionRenderers\"},{\"attributes\":{\"bottom_units\":\"screen\",\"coordinates\":null,\"fill_alpha\":0.5,\"fill_color\":\"lightgrey\",\"group\":null,\"left_units\":\"screen\",\"level\":\"overlay\",\"line_alpha\":1.0,\"line_color\":\"black\",\"line_dash\":[4,4],\"line_width\":2,\"right_units\":\"screen\",\"syncable\":false,\"top_units\":\"screen\"},\"id\":\"2845\",\"type\":\"BoxAnnotation\"},{\"attributes\":{\"tools\":[{\"id\":\"2839\"},{\"id\":\"2840\"},{\"id\":\"2841\"},{\"id\":\"2842\"},{\"id\":\"2843\"},{\"id\":\"2844\"},{\"id\":\"2872\"},{\"id\":\"2876\"}]},\"id\":\"2846\",\"type\":\"Toolbar\"},{\"attributes\":{\"args\":{\"bidirectional\":true,\"properties\":{\"readonly\":\"disabled\"},\"source\":{\"id\":\"2925\"},\"target\":{\"id\":\"2925\"}},\"code\":\"\\n    var value = source['readonly'];\\n    value = value;\\n    value = value;\\n    try {\\n      var property = target.properties['disabled'];\\n      if (property !== undefined) { property.validate(value); }\\n    } catch(err) {\\n      console.log('WARNING: Could not set disabled on target, raised error: ' + err);\\n      return;\\n    }\\n    try {\\n      target['disabled'] = value;\\n    } catch(err) {\\n      console.log(err)\\n    }\\n    \",\"tags\":[[140317414004624,[null,\"readonly\"],[null,\"disabled\"]]]},\"id\":\"2940\",\"type\":\"CustomJS\"},{\"attributes\":{},\"id\":\"2868\",\"type\":\"Selection\"},{\"attributes\":{\"data\":{\"x\":{\"__ndarray__\":\"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\",\"dtype\":\"float64\",\"order\":\"little\",\"shape\":[200]},\"y\":{\"__ndarray__\":\"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\",\"dtype\":\"float64\",\"order\":\"little\",\"shape\":[200]}},\"selected\":{\"id\":\"2909\"},\"selection_policy\":{\"id\":\"2908\"}},\"id\":\"2878\",\"type\":\"ColumnDataSource\"}],\"root_ids\":[\"2884\",\"2968\"]},\"title\":\"Bokeh Application\",\"version\":\"2.4.3\"}};\n",
       "    var render_items = [{\"docid\":\"8417545e-7ad9-47d2-b5d1-174686cb6c59\",\"root_ids\":[\"2884\"],\"roots\":{\"2884\":\"2a51bcbc-a8f8-4f36-b767-28667bc84279\"}}];\n",
       "    root.Bokeh.embed.embed_items_notebook(docs_json, render_items);\n",
       "    for (const render_item of render_items) {\n",
       "      for (const root_id of render_item.root_ids) {\n",
       "\tconst id_el = document.getElementById(root_id)\n",
       "\tif (id_el.children.length && (id_el.children[0].className === 'bk-root')) {\n",
       "\t  const root_el = id_el.children[0]\n",
       "\t  root_el.id = root_el.id + '-rendered'\n",
       "\t}\n",
       "      }\n",
       "    }\n",
       "  }\n",
       "  if (root.Bokeh !== undefined && root.Bokeh.Panel !== undefined) {\n",
       "    embed_document(root);\n",
       "  } else {\n",
       "    var attempts = 0;\n",
       "    var timer = setInterval(function(root) {\n",
       "      if (root.Bokeh !== undefined && root.Bokeh.Panel !== undefined) {\n",
       "        clearInterval(timer);\n",
       "        embed_document(root);\n",
       "      } else if (document.readyState == \"complete\") {\n",
       "        attempts++;\n",
       "        if (attempts > 200) {\n",
       "          clearInterval(timer);\n",
       "          console.log(\"Bokeh: ERROR: Unable to run BokehJS code because BokehJS library is missing\");\n",
       "        }\n",
       "      }\n",
       "    }, 25, root)\n",
       "  }\n",
       "})(window);</script>"
      ],
      "text/plain": [
       "Row\n",
       "    [0] HSpacer()\n",
       "    [1] Column\n",
       "        [0] Row\n",
       "            [0] Param(RegressionPolynomialSolver, name='Problem parameters', widgets={})\n",
       "            [1] ParamMethod(method, _pane=Bokeh)\n",
       "        [1] Ace(height=150, language='python', sizing_mode='stretch_both', theme='chaos', value='def polynomial(\\n        ...)\n",
       "    [2] HSpacer()"
      ]
     },
     "execution_count": 23,
     "metadata": {
      "application/vnd.holoviews_exec.v0+json": {
       "id": "7067"
      }
     },
     "output_type": "execute_result"
    }
   ],
   "source": [
    "def solve(x, y, degree):\n",
    "    X = x[:, np.newaxis]\n",
    "    # Create our polynomial model for regression\n",
    "    model = make_pipeline(PolynomialFeatures(degree), LinearRegression())\n",
    "    # Fit the parameters of this model\n",
    "    model.fit(X, y)\n",
    "    # Predict the values\n",
    "    x_predict = np.linspace(np.min(x), np.max(x), 200)[:, np.newaxis]\n",
    "    y_model = model.predict(x_predict)\n",
    "    return x_predict[:, 0], y_model #np.array(jnp.zeros(y_model.shape))\n",
    "\n",
    "explorer.solve = solve\n",
    "explorer.render()"
   ]
  },
  {
   "cell_type": "markdown",
   "metadata": {},
   "source": [
    "<a id=\"linear\"></a>\n",
    "# Simple linear regression \n",
    "\n",
    "As discussed previously, regression allows to model the relationships that exist between inputs $\\mathbf{x}\\in\\mathbb{R}^{n}$ and a continuous output $y\\in\\mathbb{R}$. In the case of **linear** regression, we assume that the data that we observe comes from a linear relationship in the input, so that\n",
    "$$y = w_0 + w_1x_1 + w_2x_2 + ... + w_nx_n + \\epsilon$$\n",
    "with $\\epsilon$ exhibiting the *observation noise* (also called *residual error*) that is always present in measurements.\n",
    "\n",
    "To understand how we could learn a model approximating this relationship, we start with the case of *simple* linear regression, where $\\mathbf{x}\\in\\mathbb{R}$. This implies that our model will follow\n",
    "$$\\bar{y} = w_0 + w_1 x$$\n",
    "\n",
    "We will measure the errors made by our model by using the Mean Squared Error (MSE) loss, defined as \n",
    "$$\\mathcal{L}_{MSE}\\left( \\bar{\\mathbf{y}},\\theta \\right) = \\sum_{i=1}^{n} \\left| y_{i} - \\bar{y}_{i} \\right|^{2} = \\sum_{i=1}^{n} \\left| y_{i} - (w_{0} + w_{1} x_{i}) \\right|^{2}$$\n",
    "\n",
    "Then our goal is to find the most adequate set of parameters $\\theta = \\{w_{0}, w_{1}\\}$, which are those that minimize the MSE loss defined previously. Therefore, we aim to obtain\n",
    "$$\\theta^{*}= \\underset{\\theta}{\\text{argmin }} \\mathcal{L}\\left( \\bar{\\mathbf{y}}, \\mathbf{y} \\mid f_{\\theta}, \\theta \\right)$$\n",
    "\n",
    "To do so, we will implement the **gradient descent** algorithm discussed in the course.\n",
    "\n",
    "## Manual implementation - `NumPy`\n",
    "\n",
    "We start by performing a *full manual implementation*, in the sense that we need to manually derive the gradient in order to apply the gradient descent updates. To do so, we will rely on [NumPy](https://numpy.org/), which is a fundamental library for numerical computing offering support for N-dimensional arrays and scientific computing tasks, such as linear algebra, statistical analysis, and matrix manipulation. We strongly encourage you to learn NumPy through the set of [tutorials](https://numpy.org/learn/). For the sake of this introductory tutorial, we will provide the explanation for all of the functions that we will use in this first exercise. After that exercise, we will assume for the rest of the course that knowledge of Numpy should be found online. \n",
    "\n",
    "We start by import libraries (`NumPy`) and set a random seed to ensure that the random number generator produces always a reproducible series of random numbers.\n",
    "\n",
    "**Used functions**\n",
    "- `np.random.seed`: sets the seed for the NumPy random number generator. [Documentation](https://numpy.org/doc/stable/reference/random/generated/numpy.random.seed.html)"
   ]
  },
  {
   "cell_type": "code",
   "execution_count": 14,
   "metadata": {
    "tags": []
   },
   "outputs": [],
   "source": [
    "import numpy as np\n",
    "np.random.seed(42)"
   ]
  },
  {
   "cell_type": "code",
   "execution_count": 28,
   "metadata": {},
   "outputs": [
    {
     "data": {
      "text/plain": [
       "\u001b[0;31mDocstring:\u001b[0m\n",
       "seed(self, seed=None)\n",
       "\n",
       "Reseed a legacy MT19937 BitGenerator\n",
       "\n",
       "Notes\n",
       "-----\n",
       "This is a convenience, legacy function.\n",
       "\n",
       "The best practice is to **not** reseed a BitGenerator, rather to\n",
       "recreate a new one. This method is here for legacy reasons.\n",
       "This example demonstrates best practice.\n",
       "\n",
       ">>> from numpy.random import MT19937\n",
       ">>> from numpy.random import RandomState, SeedSequence\n",
       ">>> rs = RandomState(MT19937(SeedSequence(123456789)))\n",
       "# Later, you want to restart the stream\n",
       ">>> rs = RandomState(MT19937(SeedSequence(987654321)))\n",
       "\u001b[0;31mType:\u001b[0m      builtin_function_or_method"
      ]
     },
     "metadata": {},
     "output_type": "display_data"
    }
   ],
   "source": [
    "?np.random.seed"
   ]
  },
  {
   "cell_type": "markdown",
   "metadata": {},
   "source": [
    "### Generate a synthetic dataset.\n",
    "\n",
    "For the sake of this exercise, we will generate the data ourselves, so that we know the true values that we are looking for in advance. Hence, we define a linear relationship following\n",
    "$$y = w^{t}_0 + w^{t}_1 x + \\epsilon$$\n",
    "\n",
    "**Used functions**\n",
    "- `np.random.rand`: generates an array of random numbers uniformly distributed over [0, 1). [Documentation](https://numpy.org/doc/stable/reference/random/generated/numpy.random.rand.html)\n",
    "- `np.random.randn`: generates an array of random numbers from the standard normal distribution (mean 0, variance 1). [Documentation](https://numpy.org/doc/stable/reference/random/generated/numpy.random.randn.html)\n",
    "- `np.ones`: generates an array of ones with a specified shape. [Documentation](https://numpy.org/doc/stable/reference/generated/numpy.ones.html)\n",
    "- `np.c_`: concatenates arrays along the second axis. [Documentation](https://numpy.org/doc/stable/reference/generated/numpy.c_.html)"
   ]
  },
  {
   "cell_type": "code",
   "execution_count": 15,
   "metadata": {
    "tags": []
   },
   "outputs": [],
   "source": [
    "true_w0 = 2\n",
    "true_w1 = 3\n",
    "x_min = 0\n",
    "x_max = 1\n",
    "n_obs = 100\n",
    "x = np.linspace(x_min, x_max, n_obs)\n",
    "y = true_w1 * x + true_w0"
   ]
  },
  {
   "cell_type": "markdown",
   "metadata": {},
   "source": [
    "### Computing the MSE loss\n",
    "\n",
    "We will measure the errors made by our model by using the Mean Squared Error (MSE) loss, defined as \n",
    "$$\\mathcal{L}_{MSE}\\left( \\bar{\\mathbf{y}},\\theta \\right) = \\sum_{i=1}^{n} \\left| y_{i} - \\bar{y}_{i} \\right|^{2} = \\sum_{i=1}^{n} \\left| y_{i} - (w_{0} + w_{1} x_{i}) \\right|^{2}$$\n",
    "\n",
    "This will allow us to evaluate the performances of our model, but is also the basis for the following gradient descent algorithm.\n",
    "\n",
    "**Used functions**\n",
    "- `np.sum`: computes the sum of the provided array (optionally across a provided `axis`). [Documentation](https://numpy.org/doc/stable/reference/generated/numpy.mean.html)"
   ]
  },
  {
   "cell_type": "code",
   "execution_count": 16,
   "metadata": {
    "tags": []
   },
   "outputs": [],
   "source": [
    "def mse_loss(y, y_bar):\n",
    "    return np.sum((y - y_bar) ** 2)"
   ]
  },
  {
   "cell_type": "markdown",
   "metadata": {
    "tags": []
   },
   "source": [
    "### Implement the gradient descent algorithm.\n",
    "\n",
    "As seen in the course Initialize the weight $w_1$ and bias $w_0$ to small random values\n",
    "1. Evaluate the predictions made by our model \n",
    "$$\\hat{y} = w_{1}x + w_0$$\n",
    "2. Compute the mean squared error (MSE) loss between the predicted values and the ground truth labels: \n",
    "$$\\mathcal{L}_{MSE} = \\frac{1}{n} \\sum_{i=1}^n (\\bar{y_i} - y_i)^2$$\n",
    "3. Compute the gradients of the loss with respect to the weight and bias (see derivation in the course)\n",
    "$$\\frac{\\partial \\mathcal{L}}{\\partial w_1} = \\sum_{i} 2 * (\\bar{y}_{i} - y_{i})*x_{i}$$\n",
    "$$\\frac{\\partial \\mathcal{L}}{\\partial w_0} = \\sum_{i} 2 * (\\bar{y}_{i} - y_{i})$$\n",
    "4. Update the weights and bias using the gradients and a learning rate $\\eta$: \n",
    "$$w_1 \\leftarrow w_1 - \\eta \\frac{\\partial \\mathcal{L}}{\\partial w_1}$$ \n",
    "$$w_0 \\leftarrow w_0 - \\eta \\frac{\\partial \\mathcal{L}}{\\partial w_0}$$"
   ]
  },
  {
   "cell_type": "code",
   "execution_count": 17,
   "metadata": {
    "tags": []
   },
   "outputs": [],
   "source": [
    "# Parameters\n",
    "n_iter = 1000\n",
    "lr = 0.001\n",
    "def gradient_descent(x, y, n_iter, lr):\n",
    "    # Initialize the parameters\n",
    "    w_1 = np.random.randn()\n",
    "    w_0 = np.random.randn()\n",
    "    \n",
    "    # Perform gradient descent\n",
    "    for i in range(n_iter):\n",
    "        # 1. Calculate the predictions\n",
    "        y_bar = w_1 * x + w_0\n",
    "        # 2. Compute the loss\n",
    "        loss = mse_loss(y, y_bar)\n",
    "        # 3. Calculate the gradients\n",
    "        dw_1 = 2 * np.sum((y_bar - y) * x)\n",
    "        dw_0 = 2 * np.sum((y_bar - y))\n",
    "        # 4. Update the parameters\n",
    "        w_1 -= lr * dw_1\n",
    "        w_0 -= lr * dw_0\n",
    "    return w_1, w_0\n",
    "w_1, w_0 = gradient_descent(x, y, n_iter, lr)\n",
    "print(w_1)\n",
    "print(w_0)"
   ]
  },
  {
   "cell_type": "markdown",
   "metadata": {},
   "source": [
    "### Examining Convergence of Loss Function in Gradient Descent\n",
    "\n",
    "Takeaway: Although dependent on the data, any $\\alpha \\geq 0.008$ does not converge with random initilization of weights."
   ]
  },
  {
   "cell_type": "code",
   "execution_count": 18,
   "metadata": {
    "tags": []
   },
   "outputs": [],
   "source": [
    "# Gradient descent loss \n",
    "def gradient_descent_loss(x, y, n_iter, lr):\n",
    "    # Initialize the parameters\n",
    "    w_1 = np.random.randn()\n",
    "    w_0 = np.random.randn()\n",
    "    loss_values = np.zeros(n_iter)\n",
    "    \n",
    "    # Perform gradient descent\n",
    "    for i in range(n_iter):\n",
    "        # 1. Calculate the predictions\n",
    "        y_bar = w_1 * x + w_0\n",
    "        # 2. Compute the loss\n",
    "        loss = mse_loss(y, y_bar)\n",
    "        loss_values[i] = loss\n",
    "        # 3. Calculate the gradients\n",
    "        dw_1 = 2 * np.sum((y_bar - y) * x)\n",
    "        dw_0 = 2 * np.sum((y_bar - y))\n",
    "        # 4. Update the parameters\n",
    "        w_1 -= lr * dw_1\n",
    "        w_0 -= lr * dw_0\n",
    "    return w_1, w_0, loss_values\n",
    "\n",
    "\n",
    "\n",
    "# Define number of iterations and learning rates to consider\n",
    "lr_rates = [8e-3, 7e-3,1e-3, 1e-4]\n",
    "n_iter = 100\n",
    "\n",
    "# Request memory to store the result\n",
    "loss_values = np.zeros((len(lr_rates),n_iter))\n",
    "N_values = np.arange(0,n_iter)\n",
    "\n",
    "# Calculate the loss at each iteration\n",
    "for i, lr in enumerate(lr_rates):\n",
    "    _, _, loss = gradient_descent_loss(x,y, n_iter, lr)\n",
    "    loss_values[i] = loss\n",
    "\n",
    "\n"
   ]
  },
  {
   "cell_type": "code",
   "execution_count": 19,
   "metadata": {
    "tags": []
   },
   "outputs": [
    {
     "data": {},
     "metadata": {},
     "output_type": "display_data"
    },
    {
     "data": {
      "application/vnd.holoviews_exec.v0+json": "",
      "text/html": [
       "<div id='3092'>\n",
       "  <div class=\"bk-root\" id=\"50cbb4a0-4666-4025-ade7-7fce7f74703e\" data-root-id=\"3092\"></div>\n",
       "</div>\n",
       "<script type=\"application/javascript\">(function(root) {\n",
       "  function embed_document(root) {\n",
       "    var docs_json = {\"5a5a9982-ce13-4d67-88fe-a23d18bab648\":{\"defs\":[{\"extends\":null,\"module\":null,\"name\":\"ReactiveHTML1\",\"overrides\":[],\"properties\":[]},{\"extends\":null,\"module\":null,\"name\":\"FlexBox1\",\"overrides\":[],\"properties\":[{\"default\":\"flex-start\",\"kind\":null,\"name\":\"align_content\"},{\"default\":\"flex-start\",\"kind\":null,\"name\":\"align_items\"},{\"default\":\"row\",\"kind\":null,\"name\":\"flex_direction\"},{\"default\":\"wrap\",\"kind\":null,\"name\":\"flex_wrap\"},{\"default\":\"flex-start\",\"kind\":null,\"name\":\"justify_content\"}]},{\"extends\":null,\"module\":null,\"name\":\"GridStack1\",\"overrides\":[],\"properties\":[{\"default\":\"warn\",\"kind\":null,\"name\":\"mode\"},{\"default\":null,\"kind\":null,\"name\":\"ncols\"},{\"default\":null,\"kind\":null,\"name\":\"nrows\"},{\"default\":true,\"kind\":null,\"name\":\"allow_resize\"},{\"default\":true,\"kind\":null,\"name\":\"allow_drag\"},{\"default\":[],\"kind\":null,\"name\":\"state\"}]},{\"extends\":null,\"module\":null,\"name\":\"click1\",\"overrides\":[],\"properties\":[{\"default\":\"\",\"kind\":null,\"name\":\"terminal_output\"},{\"default\":\"\",\"kind\":null,\"name\":\"debug_name\"},{\"default\":0,\"kind\":null,\"name\":\"clears\"}]},{\"extends\":null,\"module\":null,\"name\":\"NotificationAreaBase1\",\"overrides\":[],\"properties\":[{\"default\":\"bottom-right\",\"kind\":null,\"name\":\"position\"},{\"default\":0,\"kind\":null,\"name\":\"_clear\"}]},{\"extends\":null,\"module\":null,\"name\":\"NotificationArea1\",\"overrides\":[],\"properties\":[{\"default\":[],\"kind\":null,\"name\":\"notifications\"},{\"default\":\"bottom-right\",\"kind\":null,\"name\":\"position\"},{\"default\":0,\"kind\":null,\"name\":\"_clear\"},{\"default\":[{\"background\":\"#ffc107\",\"icon\":{\"className\":\"fas fa-exclamation-triangle\",\"color\":\"white\",\"tagName\":\"i\"},\"type\":\"warning\"},{\"background\":\"#007bff\",\"icon\":{\"className\":\"fas fa-info-circle\",\"color\":\"white\",\"tagName\":\"i\"},\"type\":\"info\"}],\"kind\":null,\"name\":\"types\"}]},{\"extends\":null,\"module\":null,\"name\":\"Notification\",\"overrides\":[],\"properties\":[{\"default\":null,\"kind\":null,\"name\":\"background\"},{\"default\":3000,\"kind\":null,\"name\":\"duration\"},{\"default\":null,\"kind\":null,\"name\":\"icon\"},{\"default\":\"\",\"kind\":null,\"name\":\"message\"},{\"default\":null,\"kind\":null,\"name\":\"notification_type\"},{\"default\":false,\"kind\":null,\"name\":\"_destroyed\"}]},{\"extends\":null,\"module\":null,\"name\":\"TemplateActions1\",\"overrides\":[],\"properties\":[{\"default\":0,\"kind\":null,\"name\":\"open_modal\"},{\"default\":0,\"kind\":null,\"name\":\"close_modal\"}]},{\"extends\":null,\"module\":null,\"name\":\"MaterialTemplateActions1\",\"overrides\":[],\"properties\":[{\"default\":0,\"kind\":null,\"name\":\"open_modal\"},{\"default\":0,\"kind\":null,\"name\":\"close_modal\"}]}],\"roots\":{\"references\":[{\"attributes\":{\"callback\":null,\"mode\":\"vline\",\"renderers\":[{\"id\":\"3072\"}],\"tooltips\":null},\"id\":\"3086\",\"type\":\"HoverTool\"},{\"attributes\":{},\"id\":\"3081\",\"type\":\"UnionRenderers\"},{\"attributes\":{\"fill_alpha\":{\"value\":0.5},\"fill_color\":{\"value\":\"midnightblue\"},\"line_color\":{\"value\":\"white\"}},\"id\":\"3089\",\"type\":\"Circle\"},{\"attributes\":{},\"id\":\"3082\",\"type\":\"Selection\"},{\"attributes\":{\"fill_alpha\":{\"value\":0.8},\"fill_color\":{\"value\":\"red\"},\"line_color\":{\"value\":\"white\"}},\"id\":\"3088\",\"type\":\"Circle\"},{\"attributes\":{},\"id\":\"3079\",\"type\":\"BasicTickFormatter\"},{\"attributes\":{\"bottom_units\":\"screen\",\"coordinates\":null,\"fill_alpha\":0.5,\"fill_color\":\"lightgrey\",\"group\":null,\"left_units\":\"screen\",\"level\":\"overlay\",\"line_alpha\":1.0,\"line_color\":\"black\",\"line_dash\":[4,4],\"line_width\":2,\"right_units\":\"screen\",\"syncable\":false,\"top_units\":\"screen\"},\"id\":\"3059\",\"type\":\"BoxAnnotation\"},{\"attributes\":{\"mode\":\"append\",\"overlay\":{\"id\":\"3104\"},\"renderers\":[{\"id\":\"3072\"}]},\"id\":\"3090\",\"type\":\"BoxSelectTool\"},{\"attributes\":{},\"id\":\"3054\",\"type\":\"WheelZoomTool\"},{\"attributes\":{\"background_fill_alpha\":0.9,\"background_fill_color\":\"#0f0f0f\",\"below\":[{\"id\":\"3045\"}],\"border_fill_alpha\":0.8,\"border_fill_color\":\"#111111\",\"center\":[{\"id\":\"3048\"},{\"id\":\"3052\"},{\"id\":\"3084\"}],\"height\":450,\"left\":[{\"id\":\"3049\"}],\"outline_line_alpha\":0.25,\"outline_line_color\":\"#E0E0E0\",\"outline_line_width\":3,\"renderers\":[{\"id\":\"3072\"}],\"title\":{\"id\":\"3035\"},\"toolbar\":{\"id\":\"3060\"},\"toolbar_location\":\"left\",\"x_range\":{\"id\":\"3037\"},\"x_scale\":{\"id\":\"3041\"},\"y_range\":{\"id\":\"3039\"},\"y_scale\":{\"id\":\"3043\"}},\"id\":\"3034\",\"subtype\":\"Figure\",\"type\":\"Plot\"},{\"attributes\":{},\"id\":\"3039\",\"type\":\"DataRange1d\"},{\"attributes\":{\"bottom_units\":\"screen\",\"coordinates\":null,\"fill_alpha\":0.5,\"fill_color\":\"lightgrey\",\"group\":null,\"left_units\":\"screen\",\"level\":\"overlay\",\"line_alpha\":1.0,\"line_color\":\"black\",\"line_dash\":[4,4],\"line_width\":2,\"right_units\":\"screen\",\"syncable\":false,\"top_units\":\"screen\"},\"id\":\"3104\",\"type\":\"BoxAnnotation\"},{\"attributes\":{\"axis_label\":\"Iteration\",\"axis_label_standoff\":10,\"axis_label_text_color\":\"#FFFFFF\",\"axis_label_text_font\":\"Josefin Sans\",\"axis_label_text_font_size\":\"1.9em\",\"axis_label_text_font_style\":\"bold\",\"axis_line_alpha\":0.4,\"axis_line_color\":\"#E0E0E0\",\"coordinates\":null,\"formatter\":{\"id\":\"3079\"},\"group\":null,\"major_label_policy\":{\"id\":\"3080\"},\"major_label_text_color\":\"#E0E0E0\",\"major_label_text_font\":\"Josefin Sans\",\"major_label_text_font_size\":\"1.15em\",\"major_tick_line_alpha\":0.4,\"major_tick_line_color\":\"#E0E0E0\",\"minor_tick_line_alpha\":0.4,\"minor_tick_line_color\":\"#E0E0E0\",\"ticker\":{\"id\":\"3046\"}},\"id\":\"3045\",\"type\":\"LinearAxis\"},{\"attributes\":{},\"id\":\"3056\",\"type\":\"SaveTool\"},{\"attributes\":{},\"id\":\"3046\",\"type\":\"BasicTicker\"},{\"attributes\":{\"background_fill_alpha\":0.25,\"background_fill_color\":\"#505050\",\"border_line_alpha\":0.25,\"coordinates\":null,\"group\":null,\"items\":[{\"id\":\"3085\"}],\"label_standoff\":8,\"label_text_color\":\"#E0E0E0\",\"label_text_font\":\"Josefin Sans\",\"label_text_font_size\":\"1.15em\",\"spacing\":8},\"id\":\"3084\",\"type\":\"Legend\"},{\"attributes\":{},\"id\":\"3057\",\"type\":\"ResetTool\"},{\"attributes\":{\"tools\":[{\"id\":\"3053\"},{\"id\":\"3054\"},{\"id\":\"3055\"},{\"id\":\"3056\"},{\"id\":\"3057\"},{\"id\":\"3058\"},{\"id\":\"3086\"},{\"id\":\"3090\"}]},\"id\":\"3060\",\"type\":\"Toolbar\"},{\"attributes\":{},\"id\":\"3053\",\"type\":\"PanTool\"},{\"attributes\":{\"axis_label\":\"L_2 Loss\",\"axis_label_standoff\":10,\"axis_label_text_color\":\"#FFFFFF\",\"axis_label_text_font\":\"Josefin Sans\",\"axis_label_text_font_size\":\"1.9em\",\"axis_label_text_font_style\":\"bold\",\"axis_line_alpha\":0.4,\"axis_line_color\":\"#E0E0E0\",\"coordinates\":null,\"formatter\":{\"id\":\"3076\"},\"group\":null,\"major_label_policy\":{\"id\":\"3077\"},\"major_label_text_color\":\"#E0E0E0\",\"major_label_text_font\":\"Josefin Sans\",\"major_label_text_font_size\":\"1.15em\",\"major_tick_line_alpha\":0.4,\"major_tick_line_color\":\"#E0E0E0\",\"minor_tick_line_alpha\":0.4,\"minor_tick_line_color\":\"#E0E0E0\",\"ticker\":{\"id\":\"3050\"}},\"id\":\"3049\",\"type\":\"LinearAxis\"},{\"attributes\":{\"fill_alpha\":{\"value\":0.5},\"fill_color\":{\"value\":\"red\"},\"hatch_alpha\":{\"value\":0.5},\"line_alpha\":{\"value\":0.5},\"line_color\":{\"value\":\"white\"},\"size\":{\"value\":10},\"x\":{\"field\":\"x\"},\"y\":{\"field\":\"y\"}},\"id\":\"3070\",\"type\":\"Circle\"},{\"attributes\":{\"coordinates\":null,\"data_source\":{\"id\":\"3067\"},\"glyph\":{\"id\":\"3068\"},\"group\":null,\"hover_glyph\":{\"id\":\"3070\"},\"muted_glyph\":{\"id\":\"3071\"},\"nonselection_glyph\":{\"id\":\"3089\"},\"selection_glyph\":{\"id\":\"3088\"},\"view\":{\"id\":\"3073\"}},\"id\":\"3072\",\"type\":\"GlyphRenderer\"},{\"attributes\":{\"axis\":{\"id\":\"3045\"},\"coordinates\":null,\"grid_line_alpha\":0.15,\"grid_line_color\":\"#E0E0E0\",\"group\":null,\"ticker\":null},\"id\":\"3048\",\"type\":\"Grid\"},{\"attributes\":{},\"id\":\"3037\",\"type\":\"DataRange1d\"},{\"attributes\":{},\"id\":\"3076\",\"type\":\"BasicTickFormatter\"},{\"attributes\":{},\"id\":\"3041\",\"type\":\"LinearScale\"},{\"attributes\":{\"fill_alpha\":{\"value\":0.25},\"fill_color\":{\"value\":\"midnightblue\"},\"hatch_alpha\":{\"value\":0.25},\"line_alpha\":{\"value\":0.25},\"line_color\":{\"value\":\"white\"},\"size\":{\"value\":10},\"x\":{\"field\":\"x\"},\"y\":{\"field\":\"y\"}},\"id\":\"3068\",\"type\":\"Circle\"},{\"attributes\":{\"children\":[{\"id\":\"3093\"},{\"id\":\"3034\"},{\"id\":\"3116\"}],\"margin\":[0,0,0,0],\"name\":\"Row00213\"},\"id\":\"3092\",\"type\":\"Row\"},{\"attributes\":{},\"id\":\"3058\",\"type\":\"HelpTool\"},{\"attributes\":{\"margin\":[5,5,5,5],\"name\":\"HSpacer00210\",\"sizing_mode\":\"stretch_width\"},\"id\":\"3116\",\"type\":\"Spacer\"},{\"attributes\":{\"fill_alpha\":{\"value\":0.2},\"fill_color\":{\"value\":\"midnightblue\"},\"hatch_alpha\":{\"value\":0.2},\"line_alpha\":{\"value\":0.2},\"line_color\":{\"value\":\"white\"},\"size\":{\"value\":10},\"x\":{\"field\":\"x\"},\"y\":{\"field\":\"y\"}},\"id\":\"3071\",\"type\":\"Circle\"},{\"attributes\":{\"margin\":[5,5,5,5],\"name\":\"HSpacer00209\",\"sizing_mode\":\"stretch_width\"},\"id\":\"3093\",\"type\":\"Spacer\"},{\"attributes\":{},\"id\":\"3050\",\"type\":\"BasicTicker\"},{\"attributes\":{\"axis\":{\"id\":\"3049\"},\"coordinates\":null,\"dimension\":1,\"grid_line_alpha\":0.15,\"grid_line_color\":\"#E0E0E0\",\"group\":null,\"ticker\":null},\"id\":\"3052\",\"type\":\"Grid\"},{\"attributes\":{\"overlay\":{\"id\":\"3059\"}},\"id\":\"3055\",\"type\":\"BoxZoomTool\"},{\"attributes\":{},\"id\":\"3077\",\"type\":\"AllLabels\"},{\"attributes\":{},\"id\":\"3080\",\"type\":\"AllLabels\"},{\"attributes\":{},\"id\":\"3043\",\"type\":\"LinearScale\"},{\"attributes\":{\"client_comm_id\":\"a420a9c8014c4b36aea2b8e8bb17bc85\",\"comm_id\":\"ae2fd6a7efb74ef183eb517b4ad43c9c\",\"plot_id\":\"3092\"},\"id\":\"3150\",\"type\":\"panel.models.comm_manager.CommManager\"},{\"attributes\":{\"coordinates\":null,\"group\":null,\"text\":\"Convergence of Loss Function\",\"text_color\":\"#E0E0E0\",\"text_font\":\"Josefin Sans\",\"text_font_size\":\"2.1em\"},\"id\":\"3035\",\"type\":\"Title\"},{\"attributes\":{\"data\":{\"x\":[0,1,2,3,4,5,6,7,8,9,10,11,12,13,14,15,16,17,18,19,20,21,22,23,24,25,26,27,28,29,30,31,32,33,34,35,36,37,38,39,40,41,42,43,44,45,46,47,48,49,50,51,52,53,54,55,56,57,58,59,60,61,62,63,64,65,66,67,68,69,70,71,72,73,74,75,76,77,78,79,80,81,82,83,84,85,86,87,88,89,90,91,92,93,94,95,96,97,98,99],\"y\":{\"__ndarray__\":\"l7fQAAAfjUBw0a7eUtqLQEUs6GaApYpAJ8heIsJ/iUAyDJVOW2iIQH0YLGSYXodAIURTo85hhkBZY96lW3GFQE0VvPakjIRAa86Irhezg0AHn/4UKOSCQBDXBEdRH4JAvaEl4RRkgUDriDKu+rGAQDWB41mQCIBABV99TtLOfkCXEDNVO5x9QAF0DA6XeHxA9w8FXipje0Dxp35QQ1t6QHwktKQ4YHlAHJTGYGlxeEDHIh5qPI53QEFU3CIgtnZAhhAgDIrodUDbK99s9iR1QC8HHP3nanRAZLRAlee5c0DCtGvhgxFzQILyfBhRcXJAr/+ztujYcUAn8bI76UdxQE1bu+v1vXBAwQn9k7Y6cEAcC6CjrntvQMK7arkQjm5Ai+L3pfurbUB1UNAR39RsQAFgfrQxCGxAQ5wv/HBFa0Djtqi5IIxqQBizVdDK22lAo9BC6v4zaUAzRs0vUpRoQCw/3QJf/GdAndd8vcRrZ0CM+6FzJ+JmQGkdA7gvX2ZAa63QY4riZUAaGC9h6GtlQLPXTnj++mRAzNMBH4WPZEBs5K5KOClkQGPUhUTXx2NAULHXfyRrY0A7mXhy5RJjQOiEEW/ivmJAmM1JgeZuYkByXLFLvyJiQKSSVec82mFABAzsxDGVYUA1Y3+PclNhQMYWixDWFGFAK5t0FTXZYEAPhlBWaqBgQIaV411SamBAiCDQcss2YEAaQOGBtQVgQL1vyxLkrV9AM6gaC8hUX0DRMni73/9eQG6BjqX2rl5A4iAh3NphXkBUZuriXBheQNtnC5BP0l1ATJT67oePXUDFM94k3U9dQEsFQVYoE11ATQwQjkTZXEDidNGlDqJcQCc/BS9lbVxAuyGhXSg7XEC0yZnzOQtcQN1LbC193VtA1D+br9axW0CUmhN1LIhbQAvzbb5lYFtAeWkBAms6W0Dk8L3cJRZbQKo6xAOB81pAHP6xNmjSWkD9yZkyyLJaQJr8naWOlFpA6ecmI6p3WkDBiqwYClxaQP+nDMOeQVpA+F1mJFkoWkAEt3T6KhBaQHz9YbUG+VlAWOsNb9/iWUA=\",\"dtype\":\"float64\",\"order\":\"little\",\"shape\":[100]}},\"selected\":{\"id\":\"3082\"},\"selection_policy\":{\"id\":\"3081\"}},\"id\":\"3067\",\"type\":\"ColumnDataSource\"},{\"attributes\":{\"source\":{\"id\":\"3067\"}},\"id\":\"3073\",\"type\":\"CDSView\"},{\"attributes\":{\"label\":{\"value\":\"Learning rate: 0.0001\"},\"renderers\":[{\"id\":\"3072\"}]},\"id\":\"3085\",\"type\":\"LegendItem\"}],\"root_ids\":[\"3092\",\"3150\"]},\"title\":\"Bokeh Application\",\"version\":\"2.4.3\"}};\n",
       "    var render_items = [{\"docid\":\"5a5a9982-ce13-4d67-88fe-a23d18bab648\",\"root_ids\":[\"3092\"],\"roots\":{\"3092\":\"50cbb4a0-4666-4025-ade7-7fce7f74703e\"}}];\n",
       "    root.Bokeh.embed.embed_items_notebook(docs_json, render_items);\n",
       "    for (const render_item of render_items) {\n",
       "      for (const root_id of render_item.root_ids) {\n",
       "\tconst id_el = document.getElementById(root_id)\n",
       "\tif (id_el.children.length && (id_el.children[0].className === 'bk-root')) {\n",
       "\t  const root_el = id_el.children[0]\n",
       "\t  root_el.id = root_el.id + '-rendered'\n",
       "\t}\n",
       "      }\n",
       "    }\n",
       "  }\n",
       "  if (root.Bokeh !== undefined && root.Bokeh.Panel !== undefined) {\n",
       "    embed_document(root);\n",
       "  } else {\n",
       "    var attempts = 0;\n",
       "    var timer = setInterval(function(root) {\n",
       "      if (root.Bokeh !== undefined && root.Bokeh.Panel !== undefined) {\n",
       "        clearInterval(timer);\n",
       "        embed_document(root);\n",
       "      } else if (document.readyState == \"complete\") {\n",
       "        attempts++;\n",
       "        if (attempts > 200) {\n",
       "          clearInterval(timer);\n",
       "          console.log(\"Bokeh: ERROR: Unable to run BokehJS code because BokehJS library is missing\");\n",
       "        }\n",
       "      }\n",
       "    }, 25, root)\n",
       "  }\n",
       "})(window);</script>"
      ],
      "text/plain": [
       "Row\n",
       "    [0] HSpacer()\n",
       "    [1] Bokeh(Figure)\n",
       "    [2] HSpacer()"
      ]
     },
     "execution_count": 19,
     "metadata": {
      "application/vnd.holoviews_exec.v0+json": {
       "id": "3092"
      }
     },
     "output_type": "execute_result"
    }
   ],
   "source": [
    "###########################\n",
    "# Plot the loss functions #\n",
    "###########################\n",
    "\n",
    "\n",
    "# Choose index of lr_rates above\n",
    "j = 3\n",
    "\n",
    "\n",
    "# Create figure\n",
    "label = \"Learning rate: {}\".format(lr_rates[j])\n",
    "p = scatter(N_values, loss_values[j], title=\"Convergence of Loss Function\", toolbar_location=\"left\", legend_labels=label)\n",
    "p.xaxis.axis_label = \"Iteration\"\n",
    "p.yaxis.axis_label = \"L_2 Loss\"\n",
    "plot = (center_plot(p))\n",
    "plot \n",
    "\n"
   ]
  },
  {
   "cell_type": "markdown",
   "metadata": {},
   "source": [
    "### Visualize the results.\n",
    "\n",
    "We can see how well our model fits to the observed data by plotting it against the observed samples."
   ]
  },
  {
   "cell_type": "code",
   "execution_count": 20,
   "metadata": {
    "tags": []
   },
   "outputs": [
    {
     "data": {},
     "metadata": {},
     "output_type": "display_data"
    },
    {
     "data": {
      "application/vnd.holoviews_exec.v0+json": "",
      "text/html": [
       "<div id='3284'>\n",
       "  <div class=\"bk-root\" id=\"de16afa7-7fe6-4d17-8acb-d8027c7901bf\" data-root-id=\"3284\"></div>\n",
       "</div>\n",
       "<script type=\"application/javascript\">(function(root) {\n",
       "  function embed_document(root) {\n",
       "    var docs_json = {\"4237371a-e60b-4ea6-b198-fb872f40aeea\":{\"defs\":[{\"extends\":null,\"module\":null,\"name\":\"ReactiveHTML1\",\"overrides\":[],\"properties\":[]},{\"extends\":null,\"module\":null,\"name\":\"FlexBox1\",\"overrides\":[],\"properties\":[{\"default\":\"flex-start\",\"kind\":null,\"name\":\"align_content\"},{\"default\":\"flex-start\",\"kind\":null,\"name\":\"align_items\"},{\"default\":\"row\",\"kind\":null,\"name\":\"flex_direction\"},{\"default\":\"wrap\",\"kind\":null,\"name\":\"flex_wrap\"},{\"default\":\"flex-start\",\"kind\":null,\"name\":\"justify_content\"}]},{\"extends\":null,\"module\":null,\"name\":\"GridStack1\",\"overrides\":[],\"properties\":[{\"default\":\"warn\",\"kind\":null,\"name\":\"mode\"},{\"default\":null,\"kind\":null,\"name\":\"ncols\"},{\"default\":null,\"kind\":null,\"name\":\"nrows\"},{\"default\":true,\"kind\":null,\"name\":\"allow_resize\"},{\"default\":true,\"kind\":null,\"name\":\"allow_drag\"},{\"default\":[],\"kind\":null,\"name\":\"state\"}]},{\"extends\":null,\"module\":null,\"name\":\"click1\",\"overrides\":[],\"properties\":[{\"default\":\"\",\"kind\":null,\"name\":\"terminal_output\"},{\"default\":\"\",\"kind\":null,\"name\":\"debug_name\"},{\"default\":0,\"kind\":null,\"name\":\"clears\"}]},{\"extends\":null,\"module\":null,\"name\":\"NotificationAreaBase1\",\"overrides\":[],\"properties\":[{\"default\":\"bottom-right\",\"kind\":null,\"name\":\"position\"},{\"default\":0,\"kind\":null,\"name\":\"_clear\"}]},{\"extends\":null,\"module\":null,\"name\":\"NotificationArea1\",\"overrides\":[],\"properties\":[{\"default\":[],\"kind\":null,\"name\":\"notifications\"},{\"default\":\"bottom-right\",\"kind\":null,\"name\":\"position\"},{\"default\":0,\"kind\":null,\"name\":\"_clear\"},{\"default\":[{\"background\":\"#ffc107\",\"icon\":{\"className\":\"fas fa-exclamation-triangle\",\"color\":\"white\",\"tagName\":\"i\"},\"type\":\"warning\"},{\"background\":\"#007bff\",\"icon\":{\"className\":\"fas fa-info-circle\",\"color\":\"white\",\"tagName\":\"i\"},\"type\":\"info\"}],\"kind\":null,\"name\":\"types\"}]},{\"extends\":null,\"module\":null,\"name\":\"Notification\",\"overrides\":[],\"properties\":[{\"default\":null,\"kind\":null,\"name\":\"background\"},{\"default\":3000,\"kind\":null,\"name\":\"duration\"},{\"default\":null,\"kind\":null,\"name\":\"icon\"},{\"default\":\"\",\"kind\":null,\"name\":\"message\"},{\"default\":null,\"kind\":null,\"name\":\"notification_type\"},{\"default\":false,\"kind\":null,\"name\":\"_destroyed\"}]},{\"extends\":null,\"module\":null,\"name\":\"TemplateActions1\",\"overrides\":[],\"properties\":[{\"default\":0,\"kind\":null,\"name\":\"open_modal\"},{\"default\":0,\"kind\":null,\"name\":\"close_modal\"}]},{\"extends\":null,\"module\":null,\"name\":\"MaterialTemplateActions1\",\"overrides\":[],\"properties\":[{\"default\":0,\"kind\":null,\"name\":\"open_modal\"},{\"default\":0,\"kind\":null,\"name\":\"close_modal\"}]}],\"roots\":{\"references\":[{\"attributes\":{\"axis\":{\"id\":\"3221\"},\"coordinates\":null,\"dimension\":1,\"grid_line_alpha\":0.15,\"grid_line_color\":\"#E0E0E0\",\"group\":null,\"ticker\":null},\"id\":\"3224\",\"type\":\"Grid\"},{\"attributes\":{\"line_alpha\":0.6,\"line_color\":\"red\",\"line_width\":6,\"x\":{\"field\":\"x\"},\"y\":{\"field\":\"y\"}},\"id\":\"3265\",\"type\":\"Line\"},{\"attributes\":{\"line_alpha\":0.2,\"line_color\":\"red\",\"line_width\":6,\"x\":{\"field\":\"x\"},\"y\":{\"field\":\"y\"}},\"id\":\"3267\",\"type\":\"Line\"},{\"attributes\":{\"bottom_units\":\"screen\",\"coordinates\":null,\"fill_alpha\":0.5,\"fill_color\":\"lightgrey\",\"group\":null,\"left_units\":\"screen\",\"level\":\"overlay\",\"line_alpha\":1.0,\"line_color\":\"black\",\"line_dash\":[4,4],\"line_width\":2,\"right_units\":\"screen\",\"syncable\":false,\"top_units\":\"screen\"},\"id\":\"3282\",\"type\":\"BoxAnnotation\"},{\"attributes\":{},\"id\":\"3218\",\"type\":\"BasicTicker\"},{\"attributes\":{\"source\":{\"id\":\"3264\"}},\"id\":\"3269\",\"type\":\"CDSView\"},{\"attributes\":{\"line_alpha\":0.1,\"line_color\":\"red\",\"line_width\":6,\"x\":{\"field\":\"x\"},\"y\":{\"field\":\"y\"}},\"id\":\"3266\",\"type\":\"Line\"},{\"attributes\":{},\"id\":\"3222\",\"type\":\"BasicTicker\"},{\"attributes\":{\"source\":{\"id\":\"3239\"}},\"id\":\"3245\",\"type\":\"CDSView\"},{\"attributes\":{\"coordinates\":null,\"data_source\":{\"id\":\"3239\"},\"glyph\":{\"id\":\"3240\"},\"group\":null,\"hover_glyph\":{\"id\":\"3242\"},\"muted_glyph\":{\"id\":\"3243\"},\"nonselection_glyph\":{\"id\":\"3261\"},\"selection_glyph\":{\"id\":\"3260\"},\"view\":{\"id\":\"3245\"}},\"id\":\"3244\",\"type\":\"GlyphRenderer\"},{\"attributes\":{\"coordinates\":null,\"data_source\":{\"id\":\"3264\"},\"glyph\":{\"id\":\"3265\"},\"group\":null,\"hover_glyph\":null,\"muted_glyph\":{\"id\":\"3267\"},\"nonselection_glyph\":{\"id\":\"3266\"},\"view\":{\"id\":\"3269\"}},\"id\":\"3268\",\"type\":\"GlyphRenderer\"},{\"attributes\":{},\"id\":\"3248\",\"type\":\"BasicTickFormatter\"},{\"attributes\":{},\"id\":\"3230\",\"type\":\"HelpTool\"},{\"attributes\":{},\"id\":\"3229\",\"type\":\"ResetTool\"},{\"attributes\":{},\"id\":\"3279\",\"type\":\"UnionRenderers\"},{\"attributes\":{\"axis_label\":\"y\",\"axis_label_standoff\":10,\"axis_label_text_color\":\"#FFFFFF\",\"axis_label_text_font\":\"Josefin Sans\",\"axis_label_text_font_size\":\"1.9em\",\"axis_label_text_font_style\":\"bold\",\"axis_line_alpha\":0.4,\"axis_line_color\":\"#E0E0E0\",\"coordinates\":null,\"formatter\":{\"id\":\"3248\"},\"group\":null,\"major_label_policy\":{\"id\":\"3249\"},\"major_label_text_color\":\"#E0E0E0\",\"major_label_text_font\":\"Josefin Sans\",\"major_label_text_font_size\":\"1.15em\",\"major_tick_line_alpha\":0.4,\"major_tick_line_color\":\"#E0E0E0\",\"minor_tick_line_alpha\":0.4,\"minor_tick_line_color\":\"#E0E0E0\",\"ticker\":{\"id\":\"3222\"}},\"id\":\"3221\",\"type\":\"LinearAxis\"},{\"attributes\":{\"overlay\":{\"id\":\"3231\"}},\"id\":\"3227\",\"type\":\"BoxZoomTool\"},{\"attributes\":{},\"id\":\"3249\",\"type\":\"AllLabels\"},{\"attributes\":{\"label\":{\"value\":\"Observations\"},\"renderers\":[{\"id\":\"3244\"}]},\"id\":\"3257\",\"type\":\"LegendItem\"},{\"attributes\":{},\"id\":\"3215\",\"type\":\"LinearScale\"},{\"attributes\":{},\"id\":\"3209\",\"type\":\"DataRange1d\"},{\"attributes\":{},\"id\":\"3251\",\"type\":\"BasicTickFormatter\"},{\"attributes\":{\"axis_label\":\"x\",\"axis_label_standoff\":10,\"axis_label_text_color\":\"#FFFFFF\",\"axis_label_text_font\":\"Josefin Sans\",\"axis_label_text_font_size\":\"1.9em\",\"axis_label_text_font_style\":\"bold\",\"axis_line_alpha\":0.4,\"axis_line_color\":\"#E0E0E0\",\"coordinates\":null,\"formatter\":{\"id\":\"3251\"},\"group\":null,\"major_label_policy\":{\"id\":\"3252\"},\"major_label_text_color\":\"#E0E0E0\",\"major_label_text_font\":\"Josefin Sans\",\"major_label_text_font_size\":\"1.15em\",\"major_tick_line_alpha\":0.4,\"major_tick_line_color\":\"#E0E0E0\",\"minor_tick_line_alpha\":0.4,\"minor_tick_line_color\":\"#E0E0E0\",\"ticker\":{\"id\":\"3218\"}},\"id\":\"3217\",\"type\":\"LinearAxis\"},{\"attributes\":{\"coordinates\":null,\"group\":null,\"text\":\"Simple linear regression\",\"text_color\":\"#E0E0E0\",\"text_font\":\"Josefin Sans\",\"text_font_size\":\"2.1em\"},\"id\":\"3207\",\"type\":\"Title\"},{\"attributes\":{\"background_fill_alpha\":0.25,\"background_fill_color\":\"#505050\",\"border_line_alpha\":0.25,\"coordinates\":null,\"group\":null,\"items\":[{\"id\":\"3257\"},{\"id\":\"3283\"}],\"label_standoff\":8,\"label_text_color\":\"#E0E0E0\",\"label_text_font\":\"Josefin Sans\",\"label_text_font_size\":\"1.15em\",\"spacing\":8},\"id\":\"3256\",\"type\":\"Legend\"},{\"attributes\":{},\"id\":\"3213\",\"type\":\"LinearScale\"},{\"attributes\":{\"fill_alpha\":{\"value\":0.25},\"fill_color\":{\"value\":\"midnightblue\"},\"hatch_alpha\":{\"value\":0.25},\"line_alpha\":{\"value\":0.25},\"line_color\":{\"value\":\"white\"},\"size\":{\"value\":10},\"x\":{\"field\":\"x\"},\"y\":{\"field\":\"y\"}},\"id\":\"3240\",\"type\":\"Circle\"},{\"attributes\":{},\"id\":\"3252\",\"type\":\"AllLabels\"},{\"attributes\":{},\"id\":\"3280\",\"type\":\"Selection\"},{\"attributes\":{},\"id\":\"3225\",\"type\":\"PanTool\"},{\"attributes\":{\"fill_alpha\":{\"value\":0.2},\"fill_color\":{\"value\":\"midnightblue\"},\"hatch_alpha\":{\"value\":0.2},\"line_alpha\":{\"value\":0.2},\"line_color\":{\"value\":\"white\"},\"size\":{\"value\":10},\"x\":{\"field\":\"x\"},\"y\":{\"field\":\"y\"}},\"id\":\"3243\",\"type\":\"Circle\"},{\"attributes\":{\"fill_alpha\":{\"value\":0.5},\"fill_color\":{\"value\":\"red\"},\"hatch_alpha\":{\"value\":0.5},\"line_alpha\":{\"value\":0.5},\"line_color\":{\"value\":\"white\"},\"size\":{\"value\":10},\"x\":{\"field\":\"x\"},\"y\":{\"field\":\"y\"}},\"id\":\"3242\",\"type\":\"Circle\"},{\"attributes\":{\"margin\":[5,5,5,5],\"name\":\"HSpacer00217\",\"sizing_mode\":\"stretch_width\"},\"id\":\"3312\",\"type\":\"Spacer\"},{\"attributes\":{\"background_fill_alpha\":0.9,\"background_fill_color\":\"#0f0f0f\",\"below\":[{\"id\":\"3217\"}],\"border_fill_alpha\":0.8,\"border_fill_color\":\"#111111\",\"center\":[{\"id\":\"3220\"},{\"id\":\"3224\"},{\"id\":\"3256\"}],\"height\":450,\"left\":[{\"id\":\"3221\"}],\"outline_line_alpha\":0.25,\"outline_line_color\":\"#E0E0E0\",\"outline_line_width\":3,\"renderers\":[{\"id\":\"3244\"},{\"id\":\"3268\"}],\"title\":{\"id\":\"3207\"},\"toolbar\":{\"id\":\"3232\"},\"toolbar_location\":null,\"x_range\":{\"id\":\"3209\"},\"x_scale\":{\"id\":\"3213\"},\"y_range\":{\"id\":\"3211\"},\"y_scale\":{\"id\":\"3215\"}},\"id\":\"3206\",\"subtype\":\"Figure\",\"type\":\"Plot\"},{\"attributes\":{\"axis\":{\"id\":\"3217\"},\"coordinates\":null,\"grid_line_alpha\":0.15,\"grid_line_color\":\"#E0E0E0\",\"group\":null,\"ticker\":null},\"id\":\"3220\",\"type\":\"Grid\"},{\"attributes\":{},\"id\":\"3253\",\"type\":\"UnionRenderers\"},{\"attributes\":{\"data\":{\"x\":{\"__ndarray__\":\"7FFfHnf41z9U1rtoQGzuP1FnHo9+bOc/sCxj1jUo4z+EISI3a/jDP0x/meGg98M/cFVknSK9rT+1t1UJt7frP61LkoxVPOM/goKa0oeo5j+AfjgHGhSVP6VT42KACe8/9hPBv16j6j+YMAOQ7S3LPzgZ4F8KRsc/SDThicx5xz9oquR0tHjTP2M8BwDOyuA/WjsvuPyk2z8OvTKMf6PSPyd1mYVMlOM/fCS/UO/awT9UQMp3f7LSPzi33PF4ctc/3I+5KEAw3T8uOnlWKSDpP3SQHhbpjsk/E9Tux5t04D8X991lD/XiP3BDCTdZyKc/iqK45gFx4z+0PjUHvNPFP6CqbKA4p7A/idDEM0Vd7j+gzkAmdebuP5+qih1k3uk/6rIgwMp+0z9we2MnCgG5P2HP9qg85eU/3FJ3XXUr3D+wF4XT5T2/Pxhiqn76sN8/AGgYS1+boT8xcpAZJxntPzA4denZj9A/dn0F72Ez5T8euGYDE/PTP6ju1LBlpOA/PFNFjqZ+4T9cQoCQT6nHP+Z/XlfWBu8/WIzMWePN6D9DopQVYBDuPw/mtPdsouw//bnoIv8h4z+0YE5l/n/tP7gTQdJxp7Y/TFZVaPcVyT+g14P9ByinP/aawU420tQ/9oL6tRbg2D8aSlFUyF3RP0zVWIYEheo/xte45wvV1j/ENNu81PrRP4efGi3EXeE/SIm9FM4Jwj+8O6kAmavpP+gXgEDAFbM/KJCx6ZOU7z/SW5SpOrboP6ggsvSDb8k/AHg1B1yedj9XncuQQhjqPwZq2EqTnuY/xiMp1wZU5z/FgGwmP67oP7hBpB2X9LI/3mc1PRrx1j+AWUc9mKm9P4NwZhOLnus/zDzM6Q7y4z9gZsPobi3VPzi+3StcRbA/cMlZZSLn0z8Yz1O1zc/UPyp9XQ7vWOc/q1AZ7d5m5D+Ytj76C2TsP/Y7EPPEON4/8EMYf7qdvj+qSWW75tLmPxAN4+JZWOg/B6bxmPv14T/GNgZdw6voP9jOUthYmt8/A7jXMjq64D+6GuMA1VzbP6AtPLh4B5o/0Ht0xsWeuz8=\",\"dtype\":\"float64\",\"order\":\"little\",\"shape\":[100]},\"y\":{\"__ndarray__\":\"KRweZ3KvCUCEYagraTYSQOeAJP+lJhFAJqaosTvv/D99f6XEsPwBQBjZSQDMmQZAnKVJvJc3DUBePeg1L1IQQC8c8qp09QdAOgSOq8z6DECbFJ30NtEHQLZLl0Y09BRAO5jhJJS9D0AdMLt/yDMJQBQGF4ryIwVA42i4S58mDEDJraOoda8BQPc6JysN+QlAnyGgK9U6B0C6Ga8CEZD2P/E+gNnWhhBA+oanBLFvBUA9PHS5aA0HQM1/oyJ+6gZA4AX+U9Q+/z/U+la1o3oPQJX0YpjqDAJArxKmfWTsBUAVIp9ie+0MQK/ykzLjWARAe72kB9XVFkA7vr9OPH0FQHP/U+MjnwNA3qiTZr4WE0CC4Z4jM9MHQLY4BBc/mBFAe6/7AebKB0AlrsWdaAYTQBoDE/P44Q5AIOU4qt35DEBwHfeUtqYCQOLbhhDqiAJAjtwwwcj3CUC92jZlaesVQAYWQUb6iQxAmTo2hRygCECSM0WtCVoRQPFA+5NORAFAIDA/hm/oEEDtyzxC5voSQFJid3KCWA9AFd61aKMSDkBN8/8JL6wTQLjKsL1ZuRBAkUmSH73xAUDTbFfFNFYTQAY8nikzQPM/1LCZNwl+CEBwajGQynXzP4BI9i+MGhJA5GTlNu4PA0BRQaMilu8DQLKnrlrsMhVAw0a8JSpu/T8PZ3RK5o8IQIdePTKtvRNAiEVk4dkW6j8S/L8Ial0SQLi6PHRH3gNAksdopE34FkDyYh+VZaMIQDoOs146afQ/UcsgPd1OBECTJ1i2NfkSQPCfsW74exFA0Z114kUiEkAUK7SP/hENQBPaVP6VogNAuG51OKDyCkCI/NjK0CH6Pym5Mr8B0hlAGu24DPpfEUBfBBHtftL8P1gDxtEfxwZA6iVp/Q1V/z/+f0En4BkOQPiQh4bAYxVAiS2lTWW8CEBX7HrDA4AWQCvtUvGpog5AGHHewl1yCUBeG5VsZyUYQBfoYK/aJRBAyGk339VwB0CvKgDIGGMLQI63McYZUwVATJjeJcTtC0Avl0vDff0MQAE5w37W0gJAuDDuyvQ0CUA=\",\"dtype\":\"float64\",\"order\":\"little\",\"shape\":[100]}},\"selected\":{\"id\":\"3254\"},\"selection_policy\":{\"id\":\"3253\"}},\"id\":\"3239\",\"type\":\"ColumnDataSource\"},{\"attributes\":{\"tools\":[{\"id\":\"3225\"},{\"id\":\"3226\"},{\"id\":\"3227\"},{\"id\":\"3228\"},{\"id\":\"3229\"},{\"id\":\"3230\"},{\"id\":\"3258\"},{\"id\":\"3262\"}]},\"id\":\"3232\",\"type\":\"Toolbar\"},{\"attributes\":{},\"id\":\"3254\",\"type\":\"Selection\"},{\"attributes\":{\"fill_alpha\":{\"value\":0.5},\"fill_color\":{\"value\":\"midnightblue\"},\"line_color\":{\"value\":\"white\"}},\"id\":\"3261\",\"type\":\"Circle\"},{\"attributes\":{\"callback\":null,\"mode\":\"vline\",\"renderers\":[{\"id\":\"3244\"}],\"tooltips\":null},\"id\":\"3258\",\"type\":\"HoverTool\"},{\"attributes\":{\"bottom_units\":\"screen\",\"coordinates\":null,\"fill_alpha\":0.5,\"fill_color\":\"lightgrey\",\"group\":null,\"left_units\":\"screen\",\"level\":\"overlay\",\"line_alpha\":1.0,\"line_color\":\"black\",\"line_dash\":[4,4],\"line_width\":2,\"right_units\":\"screen\",\"syncable\":false,\"top_units\":\"screen\"},\"id\":\"3231\",\"type\":\"BoxAnnotation\"},{\"attributes\":{\"data\":{\"x\":{\"__ndarray__\":\"7FFfHnf41z9U1rtoQGzuP1FnHo9+bOc/sCxj1jUo4z+EISI3a/jDP0x/meGg98M/cFVknSK9rT+1t1UJt7frP61LkoxVPOM/goKa0oeo5j+AfjgHGhSVP6VT42KACe8/9hPBv16j6j+YMAOQ7S3LPzgZ4F8KRsc/SDThicx5xz9oquR0tHjTP2M8BwDOyuA/WjsvuPyk2z8OvTKMf6PSPyd1mYVMlOM/fCS/UO/awT9UQMp3f7LSPzi33PF4ctc/3I+5KEAw3T8uOnlWKSDpP3SQHhbpjsk/E9Tux5t04D8X991lD/XiP3BDCTdZyKc/iqK45gFx4z+0PjUHvNPFP6CqbKA4p7A/idDEM0Vd7j+gzkAmdebuP5+qih1k3uk/6rIgwMp+0z9we2MnCgG5P2HP9qg85eU/3FJ3XXUr3D+wF4XT5T2/Pxhiqn76sN8/AGgYS1+boT8xcpAZJxntPzA4denZj9A/dn0F72Ez5T8euGYDE/PTP6ju1LBlpOA/PFNFjqZ+4T9cQoCQT6nHP+Z/XlfWBu8/WIzMWePN6D9DopQVYBDuPw/mtPdsouw//bnoIv8h4z+0YE5l/n/tP7gTQdJxp7Y/TFZVaPcVyT+g14P9ByinP/aawU420tQ/9oL6tRbg2D8aSlFUyF3RP0zVWIYEheo/xte45wvV1j/ENNu81PrRP4efGi3EXeE/SIm9FM4Jwj+8O6kAmavpP+gXgEDAFbM/KJCx6ZOU7z/SW5SpOrboP6ggsvSDb8k/AHg1B1yedj9XncuQQhjqPwZq2EqTnuY/xiMp1wZU5z/FgGwmP67oP7hBpB2X9LI/3mc1PRrx1j+AWUc9mKm9P4NwZhOLnus/zDzM6Q7y4z9gZsPobi3VPzi+3StcRbA/cMlZZSLn0z8Yz1O1zc/UPyp9XQ7vWOc/q1AZ7d5m5D+Ytj76C2TsP/Y7EPPEON4/8EMYf7qdvj+qSWW75tLmPxAN4+JZWOg/B6bxmPv14T/GNgZdw6voP9jOUthYmt8/A7jXMjq64D+6GuMA1VzbP6AtPLh4B5o/0Ht0xsWeuz8=\",\"dtype\":\"float64\",\"order\":\"little\",\"shape\":[100]},\"y\":{\"__ndarray__\":\"knU51wRVCUA9yXelP4USQKuH+K1QTBBA53SC4vfiDUCuLybJL+QEQHNij6kP5ARAEkaV87DmAkCmK/FEWakRQET1KYO/7w1AjiFaUxcOEECmQeJBmyMCQOJbAQ4utxJA7ixf9plREUCA/C/xLwkGQPia1+dwagVAna5ajqhyBUBmcx1wTecHQFRCcWeAYgxAPIpGQKl/CkD69at1mqMHQDynn1ScJw5AbpTi6zeOBECbYR++XagHQKOu0O54KglATr4aHiv9CkDmVxnZptYQQJVZDCJMxwVAwnQnHMMrDEDAAkstfMINQON89L0rqgJAhO401jIRDkCuVL9Upi8FQIKSFvrwCgNAELcn3H2AEkA6PRZvDawSQEhgbRUOExFA5dJ+PTzpB0DzMclOpbQDQE+J+OYooA9ASf8SDFyqCkCyBeRYaDMEQHLqNBueyAtA77CZmGtrAkDlW+g9kxkSQEjj2FnK+gZAumZ8UjYvD0Bur96AKA4IQA7jOFUcSgxAZS4kwbbUDEBLzKSbM3oFQARtdnxVthJA2HGxEoe8EECYppxHE2gSQLzLVz/g8xFAFn4qswXfDUBbN6TmOjoSQC7Ba8/jhANAnnmfhxi0BUBDaxDGzqMCQD4EwsICVQhAYHMr3ZCeCUCSEIfvLTwHQJ1ubrL2RxFAft5GN3z4CEC6/S34C24HQCiPxZvUvwxAm1oL5aiVBEBqnIM67QIRQPoU9edbPANAs+LCLVfjEkBaCFPnA7UQQFmsCiBQwgVA45MFCT/VAUDJtewWbiURQCuCZxjuChBAbJ+wxYtEEECvi+IHe7IQQOJUYgW6OQNAyjU/z2QBCUAAc8gtUBMEQBQvSCFboRFA470KNCdjDkC91tve+XEIQAtu90IsAwNANmLv8F0KCEDogRz5PlQIQCsi+KcaRhBAf/9J8FWtDkC+woGkEeARQJwa2hspUQtAzqsza7EmBEB10HmGixsQQG5NudE0lxBAZAOWHn8gDUBzlowmsbEQQKp3g3VuwQtAD3rGWflXDECLis31v2gKQDIRhBHCPAJAu39Ffc/pA0A=\",\"dtype\":\"float64\",\"order\":\"little\",\"shape\":[100]}},\"selected\":{\"id\":\"3280\"},\"selection_policy\":{\"id\":\"3279\"}},\"id\":\"3264\",\"type\":\"ColumnDataSource\"},{\"attributes\":{},\"id\":\"3226\",\"type\":\"WheelZoomTool\"},{\"attributes\":{\"children\":[{\"id\":\"3285\"},{\"id\":\"3206\"},{\"id\":\"3312\"}],\"margin\":[0,0,0,0],\"name\":\"Row00220\"},\"id\":\"3284\",\"type\":\"Row\"},{\"attributes\":{\"fill_alpha\":{\"value\":0.8},\"fill_color\":{\"value\":\"red\"},\"line_color\":{\"value\":\"white\"}},\"id\":\"3260\",\"type\":\"Circle\"},{\"attributes\":{},\"id\":\"3228\",\"type\":\"SaveTool\"},{\"attributes\":{\"mode\":\"append\",\"overlay\":{\"id\":\"3282\"},\"renderers\":[{\"id\":\"3244\"}]},\"id\":\"3262\",\"type\":\"BoxSelectTool\"},{\"attributes\":{\"client_comm_id\":\"4d07f04c27844de587bda7a0fd14649c\",\"comm_id\":\"9c48a50fac644fdabe4354898056d475\",\"plot_id\":\"3284\"},\"id\":\"3352\",\"type\":\"panel.models.comm_manager.CommManager\"},{\"attributes\":{\"margin\":[5,5,5,5],\"name\":\"HSpacer00216\",\"sizing_mode\":\"stretch_width\"},\"id\":\"3285\",\"type\":\"Spacer\"},{\"attributes\":{},\"id\":\"3211\",\"type\":\"DataRange1d\"},{\"attributes\":{\"label\":{\"value\":\"Learned model\"},\"renderers\":[{\"id\":\"3268\"}]},\"id\":\"3283\",\"type\":\"LegendItem\"}],\"root_ids\":[\"3284\",\"3352\"]},\"title\":\"Bokeh Application\",\"version\":\"2.4.3\"}};\n",
       "    var render_items = [{\"docid\":\"4237371a-e60b-4ea6-b198-fb872f40aeea\",\"root_ids\":[\"3284\"],\"roots\":{\"3284\":\"de16afa7-7fe6-4d17-8acb-d8027c7901bf\"}}];\n",
       "    root.Bokeh.embed.embed_items_notebook(docs_json, render_items);\n",
       "    for (const render_item of render_items) {\n",
       "      for (const root_id of render_item.root_ids) {\n",
       "\tconst id_el = document.getElementById(root_id)\n",
       "\tif (id_el.children.length && (id_el.children[0].className === 'bk-root')) {\n",
       "\t  const root_el = id_el.children[0]\n",
       "\t  root_el.id = root_el.id + '-rendered'\n",
       "\t}\n",
       "      }\n",
       "    }\n",
       "  }\n",
       "  if (root.Bokeh !== undefined && root.Bokeh.Panel !== undefined) {\n",
       "    embed_document(root);\n",
       "  } else {\n",
       "    var attempts = 0;\n",
       "    var timer = setInterval(function(root) {\n",
       "      if (root.Bokeh !== undefined && root.Bokeh.Panel !== undefined) {\n",
       "        clearInterval(timer);\n",
       "        embed_document(root);\n",
       "      } else if (document.readyState == \"complete\") {\n",
       "        attempts++;\n",
       "        if (attempts > 200) {\n",
       "          clearInterval(timer);\n",
       "          console.log(\"Bokeh: ERROR: Unable to run BokehJS code because BokehJS library is missing\");\n",
       "        }\n",
       "      }\n",
       "    }, 25, root)\n",
       "  }\n",
       "})(window);</script>"
      ],
      "text/plain": [
       "Row\n",
       "    [0] HSpacer()\n",
       "    [1] Bokeh(Figure)\n",
       "    [2] HSpacer()"
      ]
     },
     "execution_count": 40,
     "metadata": {
      "application/vnd.holoviews_exec.v0+json": {
       "id": "15821"
      }
     },
     "output_type": "execute_result"
    }
   ],
   "source": [
    "p = scatter(x, y, title=\"Simple linear regression\")\n",
    "p.line(x, w_1 * x + w_0, line_width=6, line_alpha=0.6, color=\"red\", legend_label=r\"Learned model\")\n",
    "plot = (center_plot(p))\n",
    "plot",
    "from cml.tasks import RegressionLinearSolver\n",
    "explorer = RegressionLinearSolver()\n",
    "def solve(x, y):\n",
    "    w_1, w_0 = gradient_descent(x, y, n_iter, lr)\n",
    "    x_predict = np.linspace(np.min(x), np.max(x), 200)\n",
    "    y_model = w_1 * x_predict + w_0\n",
    "    return np.array(x_predict), np.array(y_model) #np.array(np.zeros(y_model.shape))\n",
    "\n",
    "explorer.solve = solve\n",
    "explorer.render()"
   ]
  },
  {
   "cell_type": "markdown",
   "metadata": {},
   "source": [
    "### Observing our solution interactively\n",
    "\n",
    "In the following code, you can observe the behavior of the model by playing interactively with the properties of the original problem. \n",
    "\n",
    "<div class=\"alert alert-success\" markdown=\"1\" style=\"color:white; background-color: #192841; border-color: #779ecb\">\n",
    "\n",
    "> Note that each change in the properties of the original problem requires to run the gradient descent algorithm entirely each time.\n",
    "\n",
    "</div>"
   ]
  },
  {
   "cell_type": "code",
   "execution_count": 21,
   "metadata": {
    "tags": []
   },
   "outputs": [
    {
     "data": {},
     "metadata": {},
     "output_type": "display_data"
    },
    {
     "data": {
      "application/vnd.holoviews_exec.v0+json": "",
      "text/html": [
       "<div id='3496'>\n",
       "  <div class=\"bk-root\" id=\"7b35f9c9-894b-4d16-89ce-2811bc331bf6\" data-root-id=\"3496\"></div>\n",
       "</div>\n",
       "<script type=\"application/javascript\">(function(root) {\n",
       "  function embed_document(root) {\n",
       "    var docs_json = {\"314fa4b4-cf4b-4d92-bdc3-55b0ce80cafc\":{\"defs\":[{\"extends\":null,\"module\":null,\"name\":\"ReactiveHTML1\",\"overrides\":[],\"properties\":[]},{\"extends\":null,\"module\":null,\"name\":\"FlexBox1\",\"overrides\":[],\"properties\":[{\"default\":\"flex-start\",\"kind\":null,\"name\":\"align_content\"},{\"default\":\"flex-start\",\"kind\":null,\"name\":\"align_items\"},{\"default\":\"row\",\"kind\":null,\"name\":\"flex_direction\"},{\"default\":\"wrap\",\"kind\":null,\"name\":\"flex_wrap\"},{\"default\":\"flex-start\",\"kind\":null,\"name\":\"justify_content\"}]},{\"extends\":null,\"module\":null,\"name\":\"GridStack1\",\"overrides\":[],\"properties\":[{\"default\":\"warn\",\"kind\":null,\"name\":\"mode\"},{\"default\":null,\"kind\":null,\"name\":\"ncols\"},{\"default\":null,\"kind\":null,\"name\":\"nrows\"},{\"default\":true,\"kind\":null,\"name\":\"allow_resize\"},{\"default\":true,\"kind\":null,\"name\":\"allow_drag\"},{\"default\":[],\"kind\":null,\"name\":\"state\"}]},{\"extends\":null,\"module\":null,\"name\":\"click1\",\"overrides\":[],\"properties\":[{\"default\":\"\",\"kind\":null,\"name\":\"terminal_output\"},{\"default\":\"\",\"kind\":null,\"name\":\"debug_name\"},{\"default\":0,\"kind\":null,\"name\":\"clears\"}]},{\"extends\":null,\"module\":null,\"name\":\"NotificationAreaBase1\",\"overrides\":[],\"properties\":[{\"default\":\"bottom-right\",\"kind\":null,\"name\":\"position\"},{\"default\":0,\"kind\":null,\"name\":\"_clear\"}]},{\"extends\":null,\"module\":null,\"name\":\"NotificationArea1\",\"overrides\":[],\"properties\":[{\"default\":[],\"kind\":null,\"name\":\"notifications\"},{\"default\":\"bottom-right\",\"kind\":null,\"name\":\"position\"},{\"default\":0,\"kind\":null,\"name\":\"_clear\"},{\"default\":[{\"background\":\"#ffc107\",\"icon\":{\"className\":\"fas fa-exclamation-triangle\",\"color\":\"white\",\"tagName\":\"i\"},\"type\":\"warning\"},{\"background\":\"#007bff\",\"icon\":{\"className\":\"fas fa-info-circle\",\"color\":\"white\",\"tagName\":\"i\"},\"type\":\"info\"}],\"kind\":null,\"name\":\"types\"}]},{\"extends\":null,\"module\":null,\"name\":\"Notification\",\"overrides\":[],\"properties\":[{\"default\":null,\"kind\":null,\"name\":\"background\"},{\"default\":3000,\"kind\":null,\"name\":\"duration\"},{\"default\":null,\"kind\":null,\"name\":\"icon\"},{\"default\":\"\",\"kind\":null,\"name\":\"message\"},{\"default\":null,\"kind\":null,\"name\":\"notification_type\"},{\"default\":false,\"kind\":null,\"name\":\"_destroyed\"}]},{\"extends\":null,\"module\":null,\"name\":\"TemplateActions1\",\"overrides\":[],\"properties\":[{\"default\":0,\"kind\":null,\"name\":\"open_modal\"},{\"default\":0,\"kind\":null,\"name\":\"close_modal\"}]},{\"extends\":null,\"module\":null,\"name\":\"MaterialTemplateActions1\",\"overrides\":[],\"properties\":[{\"default\":0,\"kind\":null,\"name\":\"open_modal\"},{\"default\":0,\"kind\":null,\"name\":\"close_modal\"}]}],\"roots\":{\"references\":[{\"attributes\":{\"code\":\"def linear(\\n        coefficients: jnp.ndarray,\\n        n_observations: int = 100) -> [jnp.ndarray, jnp.ndarray]:\\n    x = jnp.linspace(0, 1, n_observations)\\n    y = coefficients[0] * x + coefficients[1]\\n    return x, \",\"filename\":\"\",\"height\":150,\"js_property_callbacks\":{\"change:disabled\":[{\"id\":\"3551\"}],\"change:readonly\":[{\"id\":\"3550\"}]},\"language\":\"python\",\"margin\":[5,10,5,10],\"sizing_mode\":\"stretch_both\",\"theme\":\"chaos\"},\"id\":\"3535\",\"type\":\"panel.models.ace.AcePlot\"},{\"attributes\":{\"end\":5.0,\"margin\":[5,10,5,10],\"start\":0.0,\"step\":0.1,\"title\":\"Noise level\",\"value\":0.1},\"id\":\"3503\",\"type\":\"Slider\"},{\"attributes\":{\"coordinates\":null,\"group\":null,\"text\":\"Linear regression problem\",\"text_color\":\"#E0E0E0\",\"text_font\":\"Josefin Sans\",\"text_font_size\":\"2.1em\"},\"id\":\"3419\",\"type\":\"Title\"},{\"attributes\":{\"margin\":[5,5,5,5],\"name\":\"HSpacer00224\",\"sizing_mode\":\"stretch_width\"},\"id\":\"3497\",\"type\":\"Spacer\"},{\"attributes\":{\"labels\":[\"Ground truth\"],\"margin\":[5,10,5,10]},\"id\":\"3504\",\"type\":\"CheckboxGroup\"},{\"attributes\":{\"children\":[{\"id\":\"3500\"},{\"id\":\"3508\"}],\"margin\":[0,0,0,0],\"name\":\"Row00248\"},\"id\":\"3499\",\"type\":\"Row\"},{\"attributes\":{\"axis_label\":\"$$\\\\color{white} 1.0x^1 + 0.0$$\",\"axis_label_standoff\":10,\"axis_label_text_color\":\"#FFFFFF\",\"axis_label_text_font\":\"Josefin Sans\",\"axis_label_text_font_size\":\"1.9em\",\"axis_label_text_font_style\":\"bold\",\"axis_line_alpha\":0.4,\"axis_line_color\":\"#E0E0E0\",\"coordinates\":null,\"formatter\":{\"id\":\"3460\"},\"group\":null,\"major_label_policy\":{\"id\":\"3461\"},\"major_label_text_color\":\"#E0E0E0\",\"major_label_text_font\":\"Josefin Sans\",\"major_label_text_font_size\":\"1.15em\",\"major_tick_line_alpha\":0.4,\"major_tick_line_color\":\"#E0E0E0\",\"minor_tick_line_alpha\":0.4,\"minor_tick_line_color\":\"#E0E0E0\",\"ticker\":{\"id\":\"3434\"}},\"id\":\"3433\",\"type\":\"LinearAxis\"},{\"attributes\":{\"fill_alpha\":{\"value\":0.5},\"fill_color\":{\"value\":\"midnightblue\"},\"line_color\":{\"value\":\"white\"}},\"id\":\"3473\",\"type\":\"Circle\"},{\"attributes\":{\"axis\":{\"id\":\"3433\"},\"coordinates\":null,\"dimension\":1,\"grid_line_alpha\":0.15,\"grid_line_color\":\"#E0E0E0\",\"group\":null,\"ticker\":null},\"id\":\"3436\",\"type\":\"Grid\"},{\"attributes\":{\"callback\":null,\"mode\":\"vline\",\"renderers\":[{\"id\":\"3456\"}],\"tooltips\":null},\"id\":\"3470\",\"type\":\"HoverTool\"},{\"attributes\":{\"labels\":[\"Error\"],\"margin\":[5,10,5,10]},\"id\":\"3505\",\"type\":\"CheckboxGroup\"},{\"attributes\":{\"end\":5.0,\"margin\":[5,10,5,10],\"start\":-5.0,\"step\":0.1,\"title\":\"X 1\",\"value\":1.0},\"id\":\"3506\",\"type\":\"Slider\"},{\"attributes\":{\"children\":[{\"id\":\"3497\"},{\"id\":\"3498\"},{\"id\":\"3536\"}],\"margin\":[0,0,0,0],\"name\":\"Row00253\"},\"id\":\"3496\",\"type\":\"Row\"},{\"attributes\":{\"fill_alpha\":{\"value\":0.8},\"fill_color\":{\"value\":\"red\"},\"line_color\":{\"value\":\"white\"}},\"id\":\"3472\",\"type\":\"Circle\"},{\"attributes\":{},\"id\":\"3425\",\"type\":\"LinearScale\"},{\"attributes\":{\"mode\":\"append\",\"overlay\":{\"id\":\"3494\"},\"renderers\":[{\"id\":\"3456\"}]},\"id\":\"3474\",\"type\":\"BoxSelectTool\"},{\"attributes\":{},\"id\":\"3434\",\"type\":\"BasicTicker\"},{\"attributes\":{\"data\":{\"x\":{\"__ndarray__\":\"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\",\"dtype\":\"float64\",\"order\":\"little\",\"shape\":[200]},\"y\":{\"__ndarray__\":\"7UsbPjSrHj58CiI+w2klPgvJKD5SKCw+mYcvPuHmMj4oRjY+cKU5PrcEPT7+Y0A+RsNDPo0iRz7UgUo+HOFNPmNAUT6rn1Q+8v5XPjpeWz6BvV4+yBxiPhB8ZT5X22g+njpsPuaZbz4t+XI+dVh2Pry3eT4EF30+JjuAPsnqgT5tmoM+EUqFPrT5hj5YqYg+/FiKPp8IjD5DuI0+5mePPooXkT4ux5I+0naUPnYmlj4a1pc+vYWZPmA1mz4E5Zw+qJSePkxEoD7w86E+k6OjPjZTpT7bAqc+frKoPiJiqj7GEaw+acGtPg1xrz6xILE+VNCyPvh/tD6cL7Y+QN+3PuOOuT6GPrs+K+68Ps6dvj5yTcA+Fv3BPrqswz5dXMU+AQzHPqS7yD5Ia8o+7BrMPpDKzT40es8+1inRPnrZ0j4eidQ+wjjWPmbo1z4KmNk+rkfbPlD33D70pt4+mFbgPjwG4j7gteM+hGXlPiYV5z7KxOg+bnTqPhIk7D620+0+WoPvPv4y8T6g4vI+RJL0PuhB9j6M8fc+MKH5PtRQ+z52AP0+GrD+PuAvAD+xBwE/g98BP1W3Aj8njwM/+WYEP8o+BT+cFgY/bu4GP0DGBz8Sngg/43UJP7ZNCj+IJQs/Wf0LPyvVDD/9rA0/z4QOP6FcDz9yNBA/RAwRPxbkET/ouxI/upMTP4trFD9eQxU/MBsWPwHzFj/Tyhc/paIYP3d6GT9JUho/GiobP+wBHD++2Rw/kLEdP2KJHj8zYR8/BjkgP9gQIT+p6CE/e8AiP02YIz8fcCQ/8UclP8IfJj+U9yY/Zs8nPzinKD8Kfyk/21YqP60uKz9/Biw/Ud4sPyO2LT/1jS4/xmUvP5k9MD9qFTE/PO0xPw7FMj/gnDM/snQ0P4NMNT9VJDY/J/w2P/nTNz/Lqzg/nYM5P29bOj9BMzs/Egs8P+TiPD+2uj0/iJI+P1pqPz8rQkA//RlBP8/xQT+hyUI/c6FDP0V5RD8XUUU/6ShGP7oARz+M2Ec/XrBIPzCIST8CYEo/1DdLP6UPTD9350w/Sb9NPxuXTj8=\",\"dtype\":\"float32\",\"order\":\"little\",\"shape\":[200]}},\"selected\":{\"id\":\"3492\"},\"selection_policy\":{\"id\":\"3491\"}},\"id\":\"3476\",\"type\":\"ColumnDataSource\"},{\"attributes\":{},\"id\":\"3491\",\"type\":\"UnionRenderers\"},{\"attributes\":{\"client_comm_id\":\"cba2026afc9f4174bf8dcdf5d9d5834c\",\"comm_id\":\"fe0a3eb3768b49a8aa227a807dd465ba\",\"plot_id\":\"3496\"},\"id\":\"3578\",\"type\":\"panel.models.comm_manager.CommManager\"},{\"attributes\":{\"end\":5.0,\"margin\":[5,10,5,10],\"start\":-5.0,\"step\":0.1,\"title\":\"X 0\",\"value\":0.0},\"id\":\"3507\",\"type\":\"Slider\"},{\"attributes\":{},\"id\":\"3427\",\"type\":\"LinearScale\"},{\"attributes\":{\"axis_label\":\"$$\\\\color{white} x$$\",\"axis_label_standoff\":10,\"axis_label_text_color\":\"#FFFFFF\",\"axis_label_text_font\":\"Josefin Sans\",\"axis_label_text_font_size\":\"1.9em\",\"axis_label_text_font_style\":\"bold\",\"axis_line_alpha\":0.4,\"axis_line_color\":\"#E0E0E0\",\"coordinates\":null,\"formatter\":{\"id\":\"3463\"},\"group\":null,\"major_label_policy\":{\"id\":\"3464\"},\"major_label_text_color\":\"#E0E0E0\",\"major_label_text_font\":\"Josefin Sans\",\"major_label_text_font_size\":\"1.15em\",\"major_tick_line_alpha\":0.4,\"major_tick_line_color\":\"#E0E0E0\",\"minor_tick_line_alpha\":0.4,\"minor_tick_line_color\":\"#E0E0E0\",\"ticker\":{\"id\":\"3430\"}},\"id\":\"3429\",\"type\":\"LinearAxis\"},{\"attributes\":{},\"id\":\"3460\",\"type\":\"BasicTickFormatter\"},{\"attributes\":{},\"id\":\"3442\",\"type\":\"HelpTool\"},{\"attributes\":{\"margin\":[5,10,5,10],\"name\":\"\",\"text\":\"<b>Problem parameters</b>\"},\"id\":\"3501\",\"type\":\"Div\"},{\"attributes\":{\"axis\":{\"id\":\"3429\"},\"coordinates\":null,\"grid_line_alpha\":0.15,\"grid_line_color\":\"#E0E0E0\",\"group\":null,\"ticker\":null},\"id\":\"3432\",\"type\":\"Grid\"},{\"attributes\":{},\"id\":\"3461\",\"type\":\"AllLabels\"},{\"attributes\":{\"end\":1000,\"margin\":[5,10,5,10],\"start\":10,\"title\":\"Number observations\",\"value\":100},\"id\":\"3502\",\"type\":\"Slider\"},{\"attributes\":{\"children\":[{\"id\":\"3501\"},{\"id\":\"3502\"},{\"id\":\"3503\"},{\"id\":\"3504\"},{\"id\":\"3505\"},{\"id\":\"3506\"},{\"id\":\"3507\"}],\"margin\":[5,5,5,5],\"min_width\":300,\"name\":\"Problem parameters\",\"width\":300},\"id\":\"3500\",\"type\":\"Column\"},{\"attributes\":{},\"id\":\"3463\",\"type\":\"BasicTickFormatter\"},{\"attributes\":{\"children\":[{\"id\":\"3418\"}],\"margin\":[0,0,0,0],\"name\":\"Row00245\"},\"id\":\"3508\",\"type\":\"Row\"},{\"attributes\":{\"bottom_units\":\"screen\",\"coordinates\":null,\"fill_alpha\":0.5,\"fill_color\":\"lightgrey\",\"group\":null,\"left_units\":\"screen\",\"level\":\"overlay\",\"line_alpha\":1.0,\"line_color\":\"black\",\"line_dash\":[4,4],\"line_width\":2,\"right_units\":\"screen\",\"syncable\":false,\"top_units\":\"screen\"},\"id\":\"3443\",\"type\":\"BoxAnnotation\"},{\"attributes\":{\"overlay\":{\"id\":\"3443\"}},\"id\":\"3439\",\"type\":\"BoxZoomTool\"},{\"attributes\":{},\"id\":\"3464\",\"type\":\"AllLabels\"},{\"attributes\":{},\"id\":\"3440\",\"type\":\"SaveTool\"},{\"attributes\":{},\"id\":\"3437\",\"type\":\"PanTool\"},{\"attributes\":{},\"id\":\"3430\",\"type\":\"BasicTicker\"},{\"attributes\":{\"data\":{\"x\":{\"__ndarray__\":\"AAAAALV+JTy1fqU8ED74PLV+JT1i3k49ED54Pd7OkD21fqU9jC66PWLezj05juM9ED74PfN2Bj7ezhA+yiYbPrV+JT6g1i8+jC46PneGRD5i3k4+TjZZPjmOYz4k5m0+ED54Pv1KgT7zdoY+6aKLPt7OkD7U+pU+yiabPr9SoD61fqU+q6qqPqDWrz6WArU+jC66PoFavz53hsQ+bbLJPmLezj5YCtQ+TjbZPkNi3j45juM+L7roPiTm7T4aEvM+ED74PgVq/T79SgE/+OADP/N2Bj/uDAk/6aILP+Q4Dj/ezhA/2WQTP9T6FT/PkBg/yiYbP8W8HT+/UiA/uugiP7V+JT+wFCg/q6oqP6VALT+g1i8/m2wyP5YCNT+RmDc/jC46P4bEPD+BWj8/fPBBP3eGRD9yHEc/bbJJP2dITD9i3k4/XXRRP1gKVD9ToFY/TjZZP0jMWz9DYl4/PvhgPzmOYz80JGY/L7poPylQaz8k5m0/H3xwPxoScz8VqHU/ED54PwrUej8Fan0/AACAPw==\",\"dtype\":\"float32\",\"order\":\"little\",\"shape\":[100]},\"y\":{\"__ndarray__\":\"UNy+vW3jfD3NFZ69MtBkvW6jfz0roPw9kOwWvHyk0byyUbE93J23Pd11YT2YWMw8MFHSPfPbVz4cv989qqvLPS0beT6Dm28+76MmPoc0TD7qdhg+1VXxPf/HjD5B55M+y699PvrXmT7RFLQ+QaK2PhX9hz5rG5o+gBHDPp5eij4VUcI+ul6YPhCkgD5HLso+CdOnPt1f8D5T+NU+pzLYPhPFtD4eZ7M+qNDYPu8Q1T7YTd8+TKrMPj4i3j589g4/qu/dPjxKBj9JW+4+d88EP5h0Cj9WIA8/wEznPvoDBz8c6w4/deENPxZ5Hj9H/SQ/MtoTP0Z/ND8TWx0/KcIhPyJEFD8yySk/J9USP5X5Kz8T1Ds/sz4gP02FIz8n4D4/j0RAPyWIKj/vBio/PIk5Pz0xRz8zwFk/y3ddP0dDWj8sTjo/5RNWP3sAQD//ekA/IClKP3vwSj9ti2w/P4poPy1QYz9wBX0/zSFiP1q7XT8A1Xc/8bNaP8cohj8gxGM/Wx6IP6Blcz9HQII/f/9pPw==\",\"dtype\":\"float32\",\"order\":\"little\",\"shape\":[100]}},\"selected\":{\"id\":\"3466\"},\"selection_policy\":{\"id\":\"3465\"}},\"id\":\"3451\",\"type\":\"ColumnDataSource\"},{\"attributes\":{},\"id\":\"3492\",\"type\":\"Selection\"},{\"attributes\":{},\"id\":\"3438\",\"type\":\"WheelZoomTool\"},{\"attributes\":{},\"id\":\"3441\",\"type\":\"ResetTool\"},{\"attributes\":{},\"id\":\"3465\",\"type\":\"UnionRenderers\"},{\"attributes\":{\"coordinates\":null,\"data_source\":{\"id\":\"3451\"},\"glyph\":{\"id\":\"3452\"},\"group\":null,\"hover_glyph\":{\"id\":\"3454\"},\"muted_glyph\":{\"id\":\"3455\"},\"nonselection_glyph\":{\"id\":\"3473\"},\"selection_glyph\":{\"id\":\"3472\"},\"view\":{\"id\":\"3457\"}},\"id\":\"3456\",\"type\":\"GlyphRenderer\"},{\"attributes\":{},\"id\":\"3466\",\"type\":\"Selection\"},{\"attributes\":{\"label\":{\"value\":\"Learned model\"},\"renderers\":[{\"id\":\"3480\"}]},\"id\":\"3495\",\"type\":\"LegendItem\"},{\"attributes\":{\"children\":[{\"id\":\"3499\"},{\"id\":\"3535\"}],\"margin\":[0,0,0,0],\"name\":\"Column00251\"},\"id\":\"3498\",\"type\":\"Column\"},{\"attributes\":{\"label\":{\"value\":\"Observations\"},\"renderers\":[{\"id\":\"3456\"}]},\"id\":\"3469\",\"type\":\"LegendItem\"},{\"attributes\":{\"bottom_units\":\"screen\",\"coordinates\":null,\"fill_alpha\":0.5,\"fill_color\":\"lightgrey\",\"group\":null,\"left_units\":\"screen\",\"level\":\"overlay\",\"line_alpha\":1.0,\"line_color\":\"black\",\"line_dash\":[4,4],\"line_width\":2,\"right_units\":\"screen\",\"syncable\":false,\"top_units\":\"screen\"},\"id\":\"3494\",\"type\":\"BoxAnnotation\"},{\"attributes\":{\"line_alpha\":0.1,\"line_color\":\"red\",\"line_width\":4,\"x\":{\"field\":\"x\"},\"y\":{\"field\":\"y\"}},\"id\":\"3478\",\"type\":\"Line\"},{\"attributes\":{\"source\":{\"id\":\"3476\"}},\"id\":\"3481\",\"type\":\"CDSView\"},{\"attributes\":{\"source\":{\"id\":\"3451\"}},\"id\":\"3457\",\"type\":\"CDSView\"},{\"attributes\":{\"line_alpha\":0.2,\"line_color\":\"red\",\"line_width\":4,\"x\":{\"field\":\"x\"},\"y\":{\"field\":\"y\"}},\"id\":\"3479\",\"type\":\"Line\"},{\"attributes\":{\"background_fill_alpha\":0.9,\"background_fill_color\":\"#0f0f0f\",\"below\":[{\"id\":\"3429\"}],\"border_fill_alpha\":0.8,\"border_fill_color\":\"#111111\",\"center\":[{\"id\":\"3432\"},{\"id\":\"3436\"},{\"id\":\"3468\"}],\"height\":450,\"left\":[{\"id\":\"3433\"}],\"outline_line_alpha\":0.25,\"outline_line_color\":\"#E0E0E0\",\"outline_line_width\":3,\"renderers\":[{\"id\":\"3456\"},{\"id\":\"3480\"}],\"title\":{\"id\":\"3419\"},\"toolbar\":{\"id\":\"3444\"},\"toolbar_location\":null,\"x_range\":{\"id\":\"3421\"},\"x_scale\":{\"id\":\"3425\"},\"y_range\":{\"id\":\"3423\"},\"y_scale\":{\"id\":\"3427\"}},\"id\":\"3418\",\"subtype\":\"Figure\",\"type\":\"Plot\"},{\"attributes\":{\"tools\":[{\"id\":\"3437\"},{\"id\":\"3438\"},{\"id\":\"3439\"},{\"id\":\"3440\"},{\"id\":\"3441\"},{\"id\":\"3442\"},{\"id\":\"3470\"},{\"id\":\"3474\"}]},\"id\":\"3444\",\"type\":\"Toolbar\"},{\"attributes\":{\"fill_alpha\":{\"value\":0.5},\"fill_color\":{\"value\":\"red\"},\"hatch_alpha\":{\"value\":0.5},\"line_alpha\":{\"value\":0.5},\"line_color\":{\"value\":\"white\"},\"size\":{\"value\":10},\"x\":{\"field\":\"x\"},\"y\":{\"field\":\"y\"}},\"id\":\"3454\",\"type\":\"Circle\"},{\"attributes\":{},\"id\":\"3423\",\"type\":\"DataRange1d\"},{\"attributes\":{\"fill_alpha\":{\"value\":0.2},\"fill_color\":{\"value\":\"midnightblue\"},\"hatch_alpha\":{\"value\":0.2},\"line_alpha\":{\"value\":0.2},\"line_color\":{\"value\":\"white\"},\"size\":{\"value\":10},\"x\":{\"field\":\"x\"},\"y\":{\"field\":\"y\"}},\"id\":\"3455\",\"type\":\"Circle\"},{\"attributes\":{\"args\":{\"bidirectional\":true,\"properties\":{\"readonly\":\"disabled\"},\"source\":{\"id\":\"3535\"},\"target\":{\"id\":\"3535\"}},\"code\":\"\\n    var value = source['readonly'];\\n    value = value;\\n    value = value;\\n    try {\\n      var property = target.properties['disabled'];\\n      if (property !== undefined) { property.validate(value); }\\n    } catch(err) {\\n      console.log('WARNING: Could not set disabled on target, raised error: ' + err);\\n      return;\\n    }\\n    try {\\n      target['disabled'] = value;\\n    } catch(err) {\\n      console.log(err)\\n    }\\n    \",\"tags\":[[140317417647744,[null,\"readonly\"],[null,\"disabled\"]]]},\"id\":\"3550\",\"type\":\"CustomJS\"},{\"attributes\":{\"coordinates\":null,\"data_source\":{\"id\":\"3476\"},\"glyph\":{\"id\":\"3477\"},\"group\":null,\"hover_glyph\":null,\"muted_glyph\":{\"id\":\"3479\"},\"nonselection_glyph\":{\"id\":\"3478\"},\"view\":{\"id\":\"3481\"}},\"id\":\"3480\",\"type\":\"GlyphRenderer\"},{\"attributes\":{\"background_fill_alpha\":0.25,\"background_fill_color\":\"#505050\",\"border_line_alpha\":0.25,\"coordinates\":null,\"group\":null,\"items\":[{\"id\":\"3469\"},{\"id\":\"3495\"}],\"label_standoff\":8,\"label_text_color\":\"#E0E0E0\",\"label_text_font\":\"Josefin Sans\",\"label_text_font_size\":\"1.15em\",\"spacing\":8},\"id\":\"3468\",\"type\":\"Legend\"},{\"attributes\":{\"line_alpha\":0.7,\"line_color\":\"red\",\"line_width\":4,\"x\":{\"field\":\"x\"},\"y\":{\"field\":\"y\"}},\"id\":\"3477\",\"type\":\"Line\"},{\"attributes\":{\"fill_alpha\":{\"value\":0.25},\"fill_color\":{\"value\":\"midnightblue\"},\"hatch_alpha\":{\"value\":0.25},\"line_alpha\":{\"value\":0.25},\"line_color\":{\"value\":\"white\"},\"size\":{\"value\":10},\"x\":{\"field\":\"x\"},\"y\":{\"field\":\"y\"}},\"id\":\"3452\",\"type\":\"Circle\"},{\"attributes\":{\"args\":{\"bidirectional\":true,\"properties\":{\"readonly\":\"disabled\"},\"source\":{\"id\":\"3535\"},\"target\":{\"id\":\"3535\"}},\"code\":\"\\n    var value = source['disabled'];\\n    value = value;\\n    value = value;\\n    try {\\n      var property = target.properties['readonly'];\\n      if (property !== undefined) { property.validate(value); }\\n    } catch(err) {\\n      console.log('WARNING: Could not set readonly on target, raised error: ' + err);\\n      return;\\n    }\\n    try {\\n      target['readonly'] = value;\\n    } catch(err) {\\n      console.log(err)\\n    }\\n    \",\"tags\":[[140317417647744,[null,\"readonly\"],[null,\"disabled\"]]]},\"id\":\"3551\",\"type\":\"CustomJS\"},{\"attributes\":{},\"id\":\"3421\",\"type\":\"DataRange1d\"},{\"attributes\":{\"margin\":[5,5,5,5],\"name\":\"HSpacer00252\",\"sizing_mode\":\"stretch_width\"},\"id\":\"3536\",\"type\":\"Spacer\"}],\"root_ids\":[\"3496\",\"3578\"]},\"title\":\"Bokeh Application\",\"version\":\"2.4.3\"}};\n",
       "    var render_items = [{\"docid\":\"314fa4b4-cf4b-4d92-bdc3-55b0ce80cafc\",\"root_ids\":[\"3496\"],\"roots\":{\"3496\":\"7b35f9c9-894b-4d16-89ce-2811bc331bf6\"}}];\n",
       "    root.Bokeh.embed.embed_items_notebook(docs_json, render_items);\n",
       "    for (const render_item of render_items) {\n",
       "      for (const root_id of render_item.root_ids) {\n",
       "\tconst id_el = document.getElementById(root_id)\n",
       "\tif (id_el.children.length && (id_el.children[0].className === 'bk-root')) {\n",
       "\t  const root_el = id_el.children[0]\n",
       "\t  root_el.id = root_el.id + '-rendered'\n",
       "\t}\n",
       "      }\n",
       "    }\n",
       "  }\n",
       "  if (root.Bokeh !== undefined && root.Bokeh.Panel !== undefined) {\n",
       "    embed_document(root);\n",
       "  } else {\n",
       "    var attempts = 0;\n",
       "    var timer = setInterval(function(root) {\n",
       "      if (root.Bokeh !== undefined && root.Bokeh.Panel !== undefined) {\n",
       "        clearInterval(timer);\n",
       "        embed_document(root);\n",
       "      } else if (document.readyState == \"complete\") {\n",
       "        attempts++;\n",
       "        if (attempts > 200) {\n",
       "          clearInterval(timer);\n",
       "          console.log(\"Bokeh: ERROR: Unable to run BokehJS code because BokehJS library is missing\");\n",
       "        }\n",
       "      }\n",
       "    }, 25, root)\n",
       "  }\n",
       "})(window);</script>"
      ],
      "text/plain": [
       "Row\n",
       "    [0] HSpacer()\n",
       "    [1] Column\n",
       "        [0] Row\n",
       "            [0] Param(RegressionLinearSolver, name='Problem parameters', widgets={})\n",
       "            [1] ParamMethod(method, _pane=Bokeh)\n",
       "        [1] Ace(height=150, language='python', sizing_mode='stretch_both', theme='chaos', value='def linear(\\n        coef...)\n",
       "    [2] HSpacer()"
      ]
     },
     "execution_count": 21,
     "metadata": {
      "application/vnd.holoviews_exec.v0+json": {
       "id": "3496"
      }
     },
     "output_type": "execute_result"
    }
   ],
   "source": [
    "from cml.tasks import RegressionLinearSolver\n",
    "explorer = RegressionLinearSolver()\n",
    "def solve(x, y):\n",
    "    w_1, w_0 = gradient_descent(x, y, n_iter, lr)\n",
    "    x_predict = np.linspace(np.min(x), np.max(x), 200)\n",
    "    y_model = w_1 * x_predict + w_0\n",
    "    return np.array(x_predict), np.array(y_model) #np.array(jnp.zeros(y_model.shape))\n",
    "\n",
    "explorer.solve = solve\n",
    "explorer.render()"
   ]
  },
  {
   "cell_type": "markdown",
   "metadata": {},
   "source": [
    "<div class=\"alert alert-success\" markdown=\"1\" style=\"color:white; background-color: #192841; border-color: #779ecb\">\n",
    "\n",
    "> ### Going further\n",
    "> **Exercise 1 \\[Learning rate\\]**: Experiment with different learning rates (e.g., 0.001, 0.01, 0.1, 1) and observe how they affect the convergence of the gradient descent algorithm. Plot the convergence history (cost function value vs. iteration) for each learning rate.\n",
    "\n",
    "> **Exercise 2 \\[Initialization\\]**: Experiment with different initializations of the coefficients (zeros, random values, etc.) and observe their impact on the convergence of the gradient descent algorithm.\n",
    "\n",
    "> **Exercise 3 \\[Variants\\]**: Implement and compare different variants of gradient descent, such as stochastic gradient descent (SGD) and mini-batch gradient descent. Analyze their convergence properties and computational efficiency.\n",
    "\n",
    "> **Exercise 4 \\[Regularization\\]**: Implement Lasso and Ridge regression with gradient descent by incorporating the regularization terms into the cost function and gradient calculations. Compare their performance with the standard linear regression implementation and analyze their impact on the learned coefficients.\n",
    "\n",
    "\n",
    "</div>"
   ]
  },
  {
   "cell_type": "markdown",
   "metadata": {
    "tags": []
   },
   "source": [
    "## Discovering automatic differentiation - `JAX`\n",
    "\n",
    "The previous implementation required us to perform manual differentiation of our loss function to understand how to update the parameters. However, large developments have been made in the field of **automatic differentiation**. \n",
    "\n",
    "The recent library [JAX](https://github.com/google/jax) extends NumPy with this automatic differentiation feature (*autograd*), while providing a functional approach to numerical computing, allowing for easy gradient computation and just-in-time (JIT) compilation. Its ability to handle complex and custom gradients makes JAX particularly well-suited for advanced research projects. Similar to NumPy, we strongly encourage you to learn JAX through the set of [tutorials](https://jax.readthedocs.io/en/latest/), but we will also provide here the explanation for all of the functions that we will use in this first exercise. After that, we will assume that knowledge of JAX should be found online. \n",
    "\n",
    "Note that `JAX` has been thought as an extension of `NumPy`, therefore an extremely large portion of its API simply mirrors the `NumPy` functions by adding automatic differentiation features to it.\n",
    "\n",
    "**Used functions**\n",
    "- `random.PRNGKey`: function to generate a key for the pseudorandom number generator. [Documentation](https://jax.readthedocs.io/en/latest/_autosummary/jax.random.PRNGKey.html)"
   ]
  },
  {
   "cell_type": "code",
   "execution_count": 22,
   "metadata": {
    "tags": []
   },
   "outputs": [],
   "source": [
    "import jax.numpy as jnp\n",
    "from jax import grad, jit, random\n",
    "key = random.PRNGKey(42)"
   ]
  },
  {
   "cell_type": "markdown",
   "metadata": {},
   "source": [
    "### Dataset.\n",
    "\n",
    "We can simply keep our previous approach to generating the dataset but we will rely on `jnp.ndarray` instead of `np.ndarray`. We also provide the code for splitting the dataset between a `training` and `validation` dataset, as discussed in the course\n",
    "\n",
    "**Used functions**\n",
    "- `random.split`: function to split a PRNGKey into a list of subkeys [Documentation](https://jax.readthedocs.io/en/latest/_autosummary/jax.random.split.html)\n",
    "- `random.uniform`: function to generate an array of uniformly distributed random numbers [Documentation](https://jax.readthedocs.io/en/latest/_autosummary/jax.random.uniform.html)\n",
    "- `random.normal`: function to generate an array of normally distributed random numbers [Documentation](https://jax.readthedocs.io/en/latest/_autosummary/jax.random.normal.html)"
   ]
  },
  {
   "cell_type": "code",
   "execution_count": 23,
   "metadata": {
    "tags": []
   },
   "outputs": [],
   "source": [
    "true_w0 = 2\n",
    "true_w1 = 3\n",
    "key_0, key_1, key = random.split(key, 3)\n",
    "x = random.uniform(key_0, (100,))\n",
    "y = true_w0 + true_w1 * x + (random.normal(key_1, (100,)) * 0.2)\n"
   ]
  },
  {
   "cell_type": "code",
   "execution_count": 24,
   "metadata": {
    "tags": []
   },
   "outputs": [],
   "source": [
    "# Splitting our dataset\n",
    "train_size = int(0.8 * len(x))\n",
    "x_train, x_valid = x[:train_size], x[train_size:]\n",
    "y_train, y_valid = y[:train_size], y[train_size:]"
   ]
  },
  {
   "cell_type": "markdown",
   "metadata": {},
   "source": [
    "### Loss function\n",
    "\n",
    "Similarly Define the cost function and its gradient.\n",
    "\n",
    "**Used functions**\n",
    "- `jnp.mean`: function to compute the mean of an array [Documentation](https://jax.readthedocs.io/en/latest/_autosummary/jax.numpy.mean.html)"
   ]
  },
  {
   "cell_type": "code",
   "execution_count": 148,
   "metadata": {
    "tags": []
   },
   "outputs": [],
   "source": [
    "def loss_function(x, y, w_1, w_0):\n",
    "    y_pred = x * w_1 + w_0\n",
    "    residuals = y_pred - y\n",
    "    return jnp.mean(residuals**2)"
   ]
  },
  {
   "cell_type": "markdown",
   "metadata": {},
   "source": [
    "\n",
    "**Used functions**\n",
    "- `jit`: function to compile a function for faster execution [Documentation](https://jax.readthedocs.io/en/latest/jit.html)\n",
    "- `grad`: function to compute the gradient of a function [Documentation](https://jax.readthedocs.io/en/latest/jax.html#jax.grad)"
   ]
  },
  {
   "cell_type": "code",
   "execution_count": 291,
   "metadata": {
    "tags": []
   },
   "outputs": [],
   "source": [
    "grad_loss_function = jit(grad(loss_function, argnums=[2, 3]))"
   ]
  },
  {
   "cell_type": "markdown",
   "metadata": {},
   "source": [
    "### Implement the gradient descent algorithm.\n",
    "\n",
    "Note that nowhere in the code do we need to explicitly define the gradients of the different variables. Yet, the optimization will be performed adequately."
   ]
  },
  {
   "cell_type": "code",
   "execution_count": 157,
   "metadata": {
    "tags": []
   },
   "outputs": [
    {
     "name": "stdout",
     "output_type": "stream",
     "text": [
      "Gradient Descent coefficients: [3.06206] [1.967158]\n"
     ]
    }
   ],
   "source": [
    "def gradient_descent(key, x, y, lr=0.05, n_iter=1000):\n",
    "    m = x.shape\n",
    "    k_0, k_1 = random.split(key, 2)\n",
    "    w_0 = random.normal(k_0, (1,))\n",
    "    w_1 = random.normal(k_1, (1,))\n",
    "    loss_history = []\n",
    "    for _ in range(n_iter):\n",
    "        gradients = grad_loss_function(x, y, w_1, w_0)\n",
    "        #print(gradients[0])\n",
    "        w_1 -= lr * gradients[0]\n",
    "        w_0 -= lr * gradients[1]\n",
    "        loss_history.append(loss_function(x, y, w_1, w_0))\n",
    "    return w_1, w_0, loss_history\n",
    "\n",
    "key_gd, key = random.split(key, 2)\n",
    "w_1, w_0, loss_history = gradient_descent(key_gd, x_train, y_train)\n",
    "print(\"Gradient Descent coefficients:\", w_1, w_0)"
   ]
  },
  {
   "cell_type": "markdown",
   "metadata": {},
   "source": [
    "### Evaluate our performances\n",
    "\n",
    "Thanks to our previous split of the dataset, we are now able to evaluate the performances of our model on *unseen data*, which is the overarching goal of building such machine learning models."
   ]
  },
  {
   "cell_type": "code",
   "execution_count": 28,
   "metadata": {
    "tags": []
   },
   "outputs": [
    {
     "name": "stdout",
     "output_type": "stream",
     "text": [
      "MSE for Gradient Descent: 0.03851322\n"
     ]
    }
   ],
   "source": [
    "def mean_squared_error(y_true, y_pred):\n",
    "    return np.mean((y_true - y_pred)**2)\n",
    "\n",
    "y_valid_gd = w_1 * x_valid + w_0\n",
    "mse_gd = mean_squared_error(y_valid, y_valid_gd)\n",
    "print(\"MSE for Gradient Descent:\", mse_gd)"
   ]
  },
  {
   "cell_type": "markdown",
   "metadata": {},
   "source": [
    "### Visualize the results.\n",
    "\n",
    "As previously we can witness our results, and also evaluate our solution with our interactive solver."
   ]
  },
  {
   "cell_type": "code",
   "execution_count": 29,
   "metadata": {
    "tags": []
   },
   "outputs": [
    {
     "data": {},
     "metadata": {},
     "output_type": "display_data"
    },
    {
     "data": {
      "application/vnd.holoviews_exec.v0+json": "",
      "text/html": [
       "<div id='3722'>\n",
       "  <div class=\"bk-root\" id=\"e3ef9143-c547-4fa6-aa18-8cd9ec7e5f39\" data-root-id=\"3722\"></div>\n",
       "</div>\n",
       "<script type=\"application/javascript\">(function(root) {\n",
       "  function embed_document(root) {\n",
       "    var docs_json = {\"c1874dba-71bc-49d7-9921-b67e1f8220c0\":{\"defs\":[{\"extends\":null,\"module\":null,\"name\":\"ReactiveHTML1\",\"overrides\":[],\"properties\":[]},{\"extends\":null,\"module\":null,\"name\":\"FlexBox1\",\"overrides\":[],\"properties\":[{\"default\":\"flex-start\",\"kind\":null,\"name\":\"align_content\"},{\"default\":\"flex-start\",\"kind\":null,\"name\":\"align_items\"},{\"default\":\"row\",\"kind\":null,\"name\":\"flex_direction\"},{\"default\":\"wrap\",\"kind\":null,\"name\":\"flex_wrap\"},{\"default\":\"flex-start\",\"kind\":null,\"name\":\"justify_content\"}]},{\"extends\":null,\"module\":null,\"name\":\"GridStack1\",\"overrides\":[],\"properties\":[{\"default\":\"warn\",\"kind\":null,\"name\":\"mode\"},{\"default\":null,\"kind\":null,\"name\":\"ncols\"},{\"default\":null,\"kind\":null,\"name\":\"nrows\"},{\"default\":true,\"kind\":null,\"name\":\"allow_resize\"},{\"default\":true,\"kind\":null,\"name\":\"allow_drag\"},{\"default\":[],\"kind\":null,\"name\":\"state\"}]},{\"extends\":null,\"module\":null,\"name\":\"click1\",\"overrides\":[],\"properties\":[{\"default\":\"\",\"kind\":null,\"name\":\"terminal_output\"},{\"default\":\"\",\"kind\":null,\"name\":\"debug_name\"},{\"default\":0,\"kind\":null,\"name\":\"clears\"}]},{\"extends\":null,\"module\":null,\"name\":\"NotificationAreaBase1\",\"overrides\":[],\"properties\":[{\"default\":\"bottom-right\",\"kind\":null,\"name\":\"position\"},{\"default\":0,\"kind\":null,\"name\":\"_clear\"}]},{\"extends\":null,\"module\":null,\"name\":\"NotificationArea1\",\"overrides\":[],\"properties\":[{\"default\":[],\"kind\":null,\"name\":\"notifications\"},{\"default\":\"bottom-right\",\"kind\":null,\"name\":\"position\"},{\"default\":0,\"kind\":null,\"name\":\"_clear\"},{\"default\":[{\"background\":\"#ffc107\",\"icon\":{\"className\":\"fas fa-exclamation-triangle\",\"color\":\"white\",\"tagName\":\"i\"},\"type\":\"warning\"},{\"background\":\"#007bff\",\"icon\":{\"className\":\"fas fa-info-circle\",\"color\":\"white\",\"tagName\":\"i\"},\"type\":\"info\"}],\"kind\":null,\"name\":\"types\"}]},{\"extends\":null,\"module\":null,\"name\":\"Notification\",\"overrides\":[],\"properties\":[{\"default\":null,\"kind\":null,\"name\":\"background\"},{\"default\":3000,\"kind\":null,\"name\":\"duration\"},{\"default\":null,\"kind\":null,\"name\":\"icon\"},{\"default\":\"\",\"kind\":null,\"name\":\"message\"},{\"default\":null,\"kind\":null,\"name\":\"notification_type\"},{\"default\":false,\"kind\":null,\"name\":\"_destroyed\"}]},{\"extends\":null,\"module\":null,\"name\":\"TemplateActions1\",\"overrides\":[],\"properties\":[{\"default\":0,\"kind\":null,\"name\":\"open_modal\"},{\"default\":0,\"kind\":null,\"name\":\"close_modal\"}]},{\"extends\":null,\"module\":null,\"name\":\"MaterialTemplateActions1\",\"overrides\":[],\"properties\":[{\"default\":0,\"kind\":null,\"name\":\"open_modal\"},{\"default\":0,\"kind\":null,\"name\":\"close_modal\"}]}],\"roots\":{\"references\":[{\"attributes\":{\"line_alpha\":0.6,\"line_color\":\"red\",\"line_width\":6,\"x\":{\"field\":\"x\"},\"y\":{\"field\":\"y\"}},\"id\":\"3703\",\"type\":\"Line\"},{\"attributes\":{},\"id\":\"3668\",\"type\":\"HelpTool\"},{\"attributes\":{\"label\":{\"value\":\"Learned model\"},\"renderers\":[{\"id\":\"3706\"}]},\"id\":\"3721\",\"type\":\"LegendItem\"},{\"attributes\":{},\"id\":\"3691\",\"type\":\"UnionRenderers\"},{\"attributes\":{\"fill_alpha\":{\"value\":0.2},\"fill_color\":{\"value\":\"midnightblue\"},\"hatch_alpha\":{\"value\":0.2},\"line_alpha\":{\"value\":0.2},\"line_color\":{\"value\":\"white\"},\"size\":{\"value\":10},\"x\":{\"field\":\"x\"},\"y\":{\"field\":\"y\"}},\"id\":\"3681\",\"type\":\"Circle\"},{\"attributes\":{},\"id\":\"3664\",\"type\":\"WheelZoomTool\"},{\"attributes\":{\"overlay\":{\"id\":\"3669\"}},\"id\":\"3665\",\"type\":\"BoxZoomTool\"},{\"attributes\":{\"coordinates\":null,\"data_source\":{\"id\":\"3702\"},\"glyph\":{\"id\":\"3703\"},\"group\":null,\"hover_glyph\":null,\"muted_glyph\":{\"id\":\"3705\"},\"nonselection_glyph\":{\"id\":\"3704\"},\"view\":{\"id\":\"3707\"}},\"id\":\"3706\",\"type\":\"GlyphRenderer\"},{\"attributes\":{},\"id\":\"3717\",\"type\":\"UnionRenderers\"},{\"attributes\":{},\"id\":\"3666\",\"type\":\"SaveTool\"},{\"attributes\":{},\"id\":\"3692\",\"type\":\"Selection\"},{\"attributes\":{\"fill_alpha\":{\"value\":0.5},\"fill_color\":{\"value\":\"red\"},\"hatch_alpha\":{\"value\":0.5},\"line_alpha\":{\"value\":0.5},\"line_color\":{\"value\":\"white\"},\"size\":{\"value\":10},\"x\":{\"field\":\"x\"},\"y\":{\"field\":\"y\"}},\"id\":\"3680\",\"type\":\"Circle\"},{\"attributes\":{\"background_fill_alpha\":0.9,\"background_fill_color\":\"#0f0f0f\",\"below\":[{\"id\":\"3655\"}],\"border_fill_alpha\":0.8,\"border_fill_color\":\"#111111\",\"center\":[{\"id\":\"3658\"},{\"id\":\"3662\"},{\"id\":\"3694\"}],\"height\":450,\"left\":[{\"id\":\"3659\"}],\"outline_line_alpha\":0.25,\"outline_line_color\":\"#E0E0E0\",\"outline_line_width\":3,\"renderers\":[{\"id\":\"3682\"},{\"id\":\"3706\"}],\"title\":{\"id\":\"3645\"},\"toolbar\":{\"id\":\"3670\"},\"toolbar_location\":null,\"x_range\":{\"id\":\"3647\"},\"x_scale\":{\"id\":\"3651\"},\"y_range\":{\"id\":\"3649\"},\"y_scale\":{\"id\":\"3653\"}},\"id\":\"3644\",\"subtype\":\"Figure\",\"type\":\"Plot\"},{\"attributes\":{\"fill_alpha\":{\"value\":0.25},\"fill_color\":{\"value\":\"midnightblue\"},\"hatch_alpha\":{\"value\":0.25},\"line_alpha\":{\"value\":0.25},\"line_color\":{\"value\":\"white\"},\"size\":{\"value\":10},\"x\":{\"field\":\"x\"},\"y\":{\"field\":\"y\"}},\"id\":\"3678\",\"type\":\"Circle\"},{\"attributes\":{},\"id\":\"3667\",\"type\":\"ResetTool\"},{\"attributes\":{\"data\":{\"x\":{\"__ndarray__\":\"7N0EP9Q2/z5g7bU++IQEPtBIGD7odLA+gJ3xPYCBGz7wBCQ+wCzBPFqjWz/kFmw/YGWPPUT3XT/EQYo+BPgjP/wkxj4gLeU+3D7nPiA43T3w0Qg/JmI8P+iTiD66Eis/rAqlPjgdYz6e7UI/hHlZP+gBXT5c2ME+DvAoP8DoaD7WWTI/rNGfPtJJAz/wCi0+cl4uP+DEBj9AQes+NKKAPrI1GD9OHUQ/cHTMPuwfEj+cmpw+mqxfP7iW9T50PCQ/EphXP5jmIj6WUR8/VO8xP7JYEz/8XpU+WGMPPqSE7z7exh4/CNE6PxIaTD8atGs/6oMGPyxhaD+cBjg/MI6tPvCl0T0A6A47RtlMPyYjIj+SbAc/IHYnPyg2cz9MZK8+mI4SP3RGNT/Oa2M/YLLhPlAHHD/iDwI/2BIpP7Aqbz4MGXw/VgtwP5agUD84HFc+2K94PtSOZD9YSTk/YJp7PdxJBT9klL4+qD1zPuRAzj78Cw4/cGG5PgAfxz0wOc4+6HeePtA+Uz4gIrw95GT5Pg==\",\"dtype\":\"float32\",\"order\":\"little\",\"shape\":[100]},\"y\":{\"__ndarray__\":\"CJxjQJ2UX0AGg0NAITYXQBX/GkCmakFA+fcUQAKdG0BePh1AT3UCQLQJk0C2VplAcZALQPDtk0BDyTJA9G57QBS5SUCqm1VAjmZWQAgEE0A7o2ZAQxGHQKEkMkAKcIBAcQs9QINTKUD2kolAljWSQCMoKECME0hAVD1/QJtvKkCbOYNAYAs7QH5mYkC7+B5ALrOBQAkRZUCo71dAuhkvQBBtckBGB4pAzCNMQNLDbUAk0DlAb5WUQN7kW0Bho3tAMX2RQIkHHUAY33dA0BCDQGezbkD6CjdA80oZQKiRWUDWdHdAo3eGQGoWjUDgMJlARt9kQPnql0AEZoVAME5AQGfoEUADhvw/pV+NQM4HekB+kWVA1ht+QAURnEA+AkFAmBhuQFNYhEDPBJZAg0ZUQOpZdUAEdmFA+ld/QGCiK0BMeJ9AetqaQB/SjkAJBydAFnUtQEV0lkCf4YVAK+EJQLbuY0Bf00ZAGmosQCbUTEArpGpAntVEQF3mEEAy0UxA8oY6QJBJJkAJ2Q9A+FldQA==\",\"dtype\":\"float32\",\"order\":\"little\",\"shape\":[100]}},\"selected\":{\"id\":\"3718\"},\"selection_policy\":{\"id\":\"3717\"}},\"id\":\"3702\",\"type\":\"ColumnDataSource\"},{\"attributes\":{\"axis\":{\"id\":\"3655\"},\"coordinates\":null,\"grid_line_alpha\":0.15,\"grid_line_color\":\"#E0E0E0\",\"group\":null,\"ticker\":null},\"id\":\"3658\",\"type\":\"Grid\"},{\"attributes\":{\"bottom_units\":\"screen\",\"coordinates\":null,\"fill_alpha\":0.5,\"fill_color\":\"lightgrey\",\"group\":null,\"left_units\":\"screen\",\"level\":\"overlay\",\"line_alpha\":1.0,\"line_color\":\"black\",\"line_dash\":[4,4],\"line_width\":2,\"right_units\":\"screen\",\"syncable\":false,\"top_units\":\"screen\"},\"id\":\"3669\",\"type\":\"BoxAnnotation\"},{\"attributes\":{},\"id\":\"3718\",\"type\":\"Selection\"},{\"attributes\":{\"axis\":{\"id\":\"3659\"},\"coordinates\":null,\"dimension\":1,\"grid_line_alpha\":0.15,\"grid_line_color\":\"#E0E0E0\",\"group\":null,\"ticker\":null},\"id\":\"3662\",\"type\":\"Grid\"},{\"attributes\":{\"coordinates\":null,\"group\":null,\"text\":\"Linear regression\",\"text_color\":\"#E0E0E0\",\"text_font\":\"Josefin Sans\",\"text_font_size\":\"2.1em\"},\"id\":\"3645\",\"type\":\"Title\"},{\"attributes\":{\"line_alpha\":0.1,\"line_color\":\"red\",\"line_width\":6,\"x\":{\"field\":\"x\"},\"y\":{\"field\":\"y\"}},\"id\":\"3704\",\"type\":\"Line\"},{\"attributes\":{\"fill_alpha\":{\"value\":0.5},\"fill_color\":{\"value\":\"midnightblue\"},\"line_color\":{\"value\":\"white\"}},\"id\":\"3699\",\"type\":\"Circle\"},{\"attributes\":{\"callback\":null,\"mode\":\"vline\",\"renderers\":[{\"id\":\"3682\"}],\"tooltips\":null},\"id\":\"3696\",\"type\":\"HoverTool\"},{\"attributes\":{\"source\":{\"id\":\"3677\"}},\"id\":\"3683\",\"type\":\"CDSView\"},{\"attributes\":{},\"id\":\"3647\",\"type\":\"DataRange1d\"},{\"attributes\":{\"fill_alpha\":{\"value\":0.8},\"fill_color\":{\"value\":\"red\"},\"line_color\":{\"value\":\"white\"}},\"id\":\"3698\",\"type\":\"Circle\"},{\"attributes\":{\"mode\":\"append\",\"overlay\":{\"id\":\"3720\"},\"renderers\":[{\"id\":\"3682\"}]},\"id\":\"3700\",\"type\":\"BoxSelectTool\"},{\"attributes\":{},\"id\":\"3649\",\"type\":\"DataRange1d\"},{\"attributes\":{},\"id\":\"3656\",\"type\":\"BasicTicker\"},{\"attributes\":{},\"id\":\"3663\",\"type\":\"PanTool\"},{\"attributes\":{\"axis_label\":\"x\",\"axis_label_standoff\":10,\"axis_label_text_color\":\"#FFFFFF\",\"axis_label_text_font\":\"Josefin Sans\",\"axis_label_text_font_size\":\"1.9em\",\"axis_label_text_font_style\":\"bold\",\"axis_line_alpha\":0.4,\"axis_line_color\":\"#E0E0E0\",\"coordinates\":null,\"formatter\":{\"id\":\"3689\"},\"group\":null,\"major_label_policy\":{\"id\":\"3690\"},\"major_label_text_color\":\"#E0E0E0\",\"major_label_text_font\":\"Josefin Sans\",\"major_label_text_font_size\":\"1.15em\",\"major_tick_line_alpha\":0.4,\"major_tick_line_color\":\"#E0E0E0\",\"minor_tick_line_alpha\":0.4,\"minor_tick_line_color\":\"#E0E0E0\",\"ticker\":{\"id\":\"3656\"}},\"id\":\"3655\",\"type\":\"LinearAxis\"},{\"attributes\":{\"client_comm_id\":\"61fadf2ea3eb423f9e0bcb5631f1bdfb\",\"comm_id\":\"e6382f205fe94aafab18ea6af99eb9bd\",\"plot_id\":\"3722\"},\"id\":\"3790\",\"type\":\"panel.models.comm_manager.CommManager\"},{\"attributes\":{},\"id\":\"3660\",\"type\":\"BasicTicker\"},{\"attributes\":{},\"id\":\"3686\",\"type\":\"BasicTickFormatter\"},{\"attributes\":{},\"id\":\"3653\",\"type\":\"LinearScale\"},{\"attributes\":{\"coordinates\":null,\"data_source\":{\"id\":\"3677\"},\"glyph\":{\"id\":\"3678\"},\"group\":null,\"hover_glyph\":{\"id\":\"3680\"},\"muted_glyph\":{\"id\":\"3681\"},\"nonselection_glyph\":{\"id\":\"3699\"},\"selection_glyph\":{\"id\":\"3698\"},\"view\":{\"id\":\"3683\"}},\"id\":\"3682\",\"type\":\"GlyphRenderer\"},{\"attributes\":{\"children\":[{\"id\":\"3723\"},{\"id\":\"3644\"},{\"id\":\"3750\"}],\"margin\":[0,0,0,0],\"name\":\"Row00260\"},\"id\":\"3722\",\"type\":\"Row\"},{\"attributes\":{},\"id\":\"3651\",\"type\":\"LinearScale\"},{\"attributes\":{\"background_fill_alpha\":0.25,\"background_fill_color\":\"#505050\",\"border_line_alpha\":0.25,\"coordinates\":null,\"group\":null,\"items\":[{\"id\":\"3695\"},{\"id\":\"3721\"}],\"label_standoff\":8,\"label_text_color\":\"#E0E0E0\",\"label_text_font\":\"Josefin Sans\",\"label_text_font_size\":\"1.15em\",\"spacing\":8},\"id\":\"3694\",\"type\":\"Legend\"},{\"attributes\":{\"margin\":[5,5,5,5],\"name\":\"HSpacer00257\",\"sizing_mode\":\"stretch_width\"},\"id\":\"3750\",\"type\":\"Spacer\"},{\"attributes\":{},\"id\":\"3687\",\"type\":\"AllLabels\"},{\"attributes\":{\"bottom_units\":\"screen\",\"coordinates\":null,\"fill_alpha\":0.5,\"fill_color\":\"lightgrey\",\"group\":null,\"left_units\":\"screen\",\"level\":\"overlay\",\"line_alpha\":1.0,\"line_color\":\"black\",\"line_dash\":[4,4],\"line_width\":2,\"right_units\":\"screen\",\"syncable\":false,\"top_units\":\"screen\"},\"id\":\"3720\",\"type\":\"BoxAnnotation\"},{\"attributes\":{\"margin\":[5,5,5,5],\"name\":\"HSpacer00256\",\"sizing_mode\":\"stretch_width\"},\"id\":\"3723\",\"type\":\"Spacer\"},{\"attributes\":{\"axis_label\":\"y\",\"axis_label_standoff\":10,\"axis_label_text_color\":\"#FFFFFF\",\"axis_label_text_font\":\"Josefin Sans\",\"axis_label_text_font_size\":\"1.9em\",\"axis_label_text_font_style\":\"bold\",\"axis_line_alpha\":0.4,\"axis_line_color\":\"#E0E0E0\",\"coordinates\":null,\"formatter\":{\"id\":\"3686\"},\"group\":null,\"major_label_policy\":{\"id\":\"3687\"},\"major_label_text_color\":\"#E0E0E0\",\"major_label_text_font\":\"Josefin Sans\",\"major_label_text_font_size\":\"1.15em\",\"major_tick_line_alpha\":0.4,\"major_tick_line_color\":\"#E0E0E0\",\"minor_tick_line_alpha\":0.4,\"minor_tick_line_color\":\"#E0E0E0\",\"ticker\":{\"id\":\"3660\"}},\"id\":\"3659\",\"type\":\"LinearAxis\"},{\"attributes\":{},\"id\":\"3689\",\"type\":\"BasicTickFormatter\"},{\"attributes\":{\"source\":{\"id\":\"3702\"}},\"id\":\"3707\",\"type\":\"CDSView\"},{\"attributes\":{},\"id\":\"3690\",\"type\":\"AllLabels\"},{\"attributes\":{\"label\":{\"value\":\"Observations\"},\"renderers\":[{\"id\":\"3682\"}]},\"id\":\"3695\",\"type\":\"LegendItem\"},{\"attributes\":{\"line_alpha\":0.2,\"line_color\":\"red\",\"line_width\":6,\"x\":{\"field\":\"x\"},\"y\":{\"field\":\"y\"}},\"id\":\"3705\",\"type\":\"Line\"},{\"attributes\":{\"tools\":[{\"id\":\"3663\"},{\"id\":\"3664\"},{\"id\":\"3665\"},{\"id\":\"3666\"},{\"id\":\"3667\"},{\"id\":\"3668\"},{\"id\":\"3696\"},{\"id\":\"3700\"}]},\"id\":\"3670\",\"type\":\"Toolbar\"},{\"attributes\":{\"data\":{\"x\":{\"__ndarray__\":\"7N0EP9Q2/z5g7bU++IQEPtBIGD7odLA+gJ3xPYCBGz7wBCQ+wCzBPFqjWz/kFmw/YGWPPUT3XT/EQYo+BPgjP/wkxj4gLeU+3D7nPiA43T3w0Qg/JmI8P+iTiD66Eis/rAqlPjgdYz6e7UI/hHlZP+gBXT5c2ME+DvAoP8DoaD7WWTI/rNGfPtJJAz/wCi0+cl4uP+DEBj9AQes+NKKAPrI1GD9OHUQ/cHTMPuwfEj+cmpw+mqxfP7iW9T50PCQ/EphXP5jmIj6WUR8/VO8xP7JYEz/8XpU+WGMPPqSE7z7exh4/CNE6PxIaTD8atGs/6oMGPyxhaD+cBjg/MI6tPvCl0T0A6A47RtlMPyYjIj+SbAc/IHYnPyg2cz9MZK8+mI4SP3RGNT/Oa2M/YLLhPlAHHD/iDwI/2BIpP7Aqbz4MGXw/VgtwP5agUD84HFc+2K94PtSOZD9YSTk/YJp7PdxJBT9klL4+qD1zPuRAzj78Cw4/cGG5PgAfxz0wOc4+6HeePtA+Uz4gIrw95GT5Pg==\",\"dtype\":\"float32\",\"order\":\"little\",\"shape\":[100]},\"y\":{\"__ndarray__\":\"jTtpQEHUQ0D0K0ZAA2QdQOYtDUAko1ZAgjIVQNlw+j99hSxAxcYDQK1ujED+wJRA+l7+P+r5kkA2QS9AHpR8QAn8RkBm9ldAKBVZQInyCECdtFRAqsmIQP70HkDJNYNA+fI+QG8hL0CgXIdAk1CHQHbqLUAw3ktAozOBQDyzI0DOxoZAkl06QOI3ZECT6zZACK5xQJ2VWkCbVVtARDMuQJlhgECBY4ZA8ftiQNhSZECXMzxAoIGSQChOakABt3JAAiWLQMNcKUDCI3tAQjWOQFMdd0CcdCdAOQEXQGiuSkA50IhAeIyRQEJIjEB6nJRApXdfQOofmEClpolA3jhGQAeWEkB0K/Q/69uNQH0GiUDOpGFAX79yQDM3pUBhiUpAQzloQMdniUDZ/JNAr+xMQOzockASOWZA/aODQGtvIUCw56JAx0ObQH4xkkCP6zhA9r4rQDbBnUBhFIVAsNYfQF6sX0CpQDlAojoqQOaFOUDbe29AFv5YQCCVLkCxf0hAqSk/QHnbKkACNxlADmheQA==\",\"dtype\":\"float32\",\"order\":\"little\",\"shape\":[100]}},\"selected\":{\"id\":\"3692\"},\"selection_policy\":{\"id\":\"3691\"}},\"id\":\"3677\",\"type\":\"ColumnDataSource\"}],\"root_ids\":[\"3722\",\"3790\"]},\"title\":\"Bokeh Application\",\"version\":\"2.4.3\"}};\n",
       "    var render_items = [{\"docid\":\"c1874dba-71bc-49d7-9921-b67e1f8220c0\",\"root_ids\":[\"3722\"],\"roots\":{\"3722\":\"e3ef9143-c547-4fa6-aa18-8cd9ec7e5f39\"}}];\n",
       "    root.Bokeh.embed.embed_items_notebook(docs_json, render_items);\n",
       "    for (const render_item of render_items) {\n",
       "      for (const root_id of render_item.root_ids) {\n",
       "\tconst id_el = document.getElementById(root_id)\n",
       "\tif (id_el.children.length && (id_el.children[0].className === 'bk-root')) {\n",
       "\t  const root_el = id_el.children[0]\n",
       "\t  root_el.id = root_el.id + '-rendered'\n",
       "\t}\n",
       "      }\n",
       "    }\n",
       "  }\n",
       "  if (root.Bokeh !== undefined && root.Bokeh.Panel !== undefined) {\n",
       "    embed_document(root);\n",
       "  } else {\n",
       "    var attempts = 0;\n",
       "    var timer = setInterval(function(root) {\n",
       "      if (root.Bokeh !== undefined && root.Bokeh.Panel !== undefined) {\n",
       "        clearInterval(timer);\n",
       "        embed_document(root);\n",
       "      } else if (document.readyState == \"complete\") {\n",
       "        attempts++;\n",
       "        if (attempts > 200) {\n",
       "          clearInterval(timer);\n",
       "          console.log(\"Bokeh: ERROR: Unable to run BokehJS code because BokehJS library is missing\");\n",
       "        }\n",
       "      }\n",
       "    }, 25, root)\n",
       "  }\n",
       "})(window);</script>"
      ],
      "text/plain": [
       "Row\n",
       "    [0] HSpacer()\n",
       "    [1] Bokeh(Figure)\n",
       "    [2] HSpacer()"
      ]
     },
     "execution_count": 29,
     "metadata": {
      "application/vnd.holoviews_exec.v0+json": {
       "id": "3722"
      }
     },
     "output_type": "execute_result"
    }
   ],
   "source": [
    "p = scatter(np.array(x), np.array(y), title=\"Linear regression\")\n",
    "p.line(np.array(x), np.array(w_1 * x + w_0), line_width=6, line_alpha=0.6, color=\"red\", legend_label=r\"Learned model\")\n",
    "plot = (center_plot(p))\n",
    "plot"
   ]
  },
  {
   "cell_type": "code",
   "execution_count": 30,
   "metadata": {
    "tags": []
   },
   "outputs": [
    {
     "data": {},
     "metadata": {},
     "output_type": "display_data"
    },
    {
     "data": {
      "application/vnd.holoviews_exec.v0+json": "",
      "text/html": [
       "<div id='3934'>\n",
       "  <div class=\"bk-root\" id=\"b798ab73-6fba-4fb2-94d1-4e01cdb061bb\" data-root-id=\"3934\"></div>\n",
       "</div>\n",
       "<script type=\"application/javascript\">(function(root) {\n",
       "  function embed_document(root) {\n",
       "    var docs_json = {\"1d7b754d-48ae-4750-bbc6-2f3093d85791\":{\"defs\":[{\"extends\":null,\"module\":null,\"name\":\"ReactiveHTML1\",\"overrides\":[],\"properties\":[]},{\"extends\":null,\"module\":null,\"name\":\"FlexBox1\",\"overrides\":[],\"properties\":[{\"default\":\"flex-start\",\"kind\":null,\"name\":\"align_content\"},{\"default\":\"flex-start\",\"kind\":null,\"name\":\"align_items\"},{\"default\":\"row\",\"kind\":null,\"name\":\"flex_direction\"},{\"default\":\"wrap\",\"kind\":null,\"name\":\"flex_wrap\"},{\"default\":\"flex-start\",\"kind\":null,\"name\":\"justify_content\"}]},{\"extends\":null,\"module\":null,\"name\":\"GridStack1\",\"overrides\":[],\"properties\":[{\"default\":\"warn\",\"kind\":null,\"name\":\"mode\"},{\"default\":null,\"kind\":null,\"name\":\"ncols\"},{\"default\":null,\"kind\":null,\"name\":\"nrows\"},{\"default\":true,\"kind\":null,\"name\":\"allow_resize\"},{\"default\":true,\"kind\":null,\"name\":\"allow_drag\"},{\"default\":[],\"kind\":null,\"name\":\"state\"}]},{\"extends\":null,\"module\":null,\"name\":\"click1\",\"overrides\":[],\"properties\":[{\"default\":\"\",\"kind\":null,\"name\":\"terminal_output\"},{\"default\":\"\",\"kind\":null,\"name\":\"debug_name\"},{\"default\":0,\"kind\":null,\"name\":\"clears\"}]},{\"extends\":null,\"module\":null,\"name\":\"NotificationAreaBase1\",\"overrides\":[],\"properties\":[{\"default\":\"bottom-right\",\"kind\":null,\"name\":\"position\"},{\"default\":0,\"kind\":null,\"name\":\"_clear\"}]},{\"extends\":null,\"module\":null,\"name\":\"NotificationArea1\",\"overrides\":[],\"properties\":[{\"default\":[],\"kind\":null,\"name\":\"notifications\"},{\"default\":\"bottom-right\",\"kind\":null,\"name\":\"position\"},{\"default\":0,\"kind\":null,\"name\":\"_clear\"},{\"default\":[{\"background\":\"#ffc107\",\"icon\":{\"className\":\"fas fa-exclamation-triangle\",\"color\":\"white\",\"tagName\":\"i\"},\"type\":\"warning\"},{\"background\":\"#007bff\",\"icon\":{\"className\":\"fas fa-info-circle\",\"color\":\"white\",\"tagName\":\"i\"},\"type\":\"info\"}],\"kind\":null,\"name\":\"types\"}]},{\"extends\":null,\"module\":null,\"name\":\"Notification\",\"overrides\":[],\"properties\":[{\"default\":null,\"kind\":null,\"name\":\"background\"},{\"default\":3000,\"kind\":null,\"name\":\"duration\"},{\"default\":null,\"kind\":null,\"name\":\"icon\"},{\"default\":\"\",\"kind\":null,\"name\":\"message\"},{\"default\":null,\"kind\":null,\"name\":\"notification_type\"},{\"default\":false,\"kind\":null,\"name\":\"_destroyed\"}]},{\"extends\":null,\"module\":null,\"name\":\"TemplateActions1\",\"overrides\":[],\"properties\":[{\"default\":0,\"kind\":null,\"name\":\"open_modal\"},{\"default\":0,\"kind\":null,\"name\":\"close_modal\"}]},{\"extends\":null,\"module\":null,\"name\":\"MaterialTemplateActions1\",\"overrides\":[],\"properties\":[{\"default\":0,\"kind\":null,\"name\":\"open_modal\"},{\"default\":0,\"kind\":null,\"name\":\"close_modal\"}]}],\"roots\":{\"references\":[{\"attributes\":{},\"id\":\"3898\",\"type\":\"BasicTickFormatter\"},{\"attributes\":{\"children\":[{\"id\":\"3935\"},{\"id\":\"3936\"},{\"id\":\"3974\"}],\"margin\":[0,0,0,0],\"name\":\"Row00293\"},\"id\":\"3934\",\"type\":\"Row\"},{\"attributes\":{},\"id\":\"3899\",\"type\":\"AllLabels\"},{\"attributes\":{},\"id\":\"3901\",\"type\":\"BasicTickFormatter\"},{\"attributes\":{\"coordinates\":null,\"group\":null,\"text\":\"Linear regression problem\",\"text_color\":\"#E0E0E0\",\"text_font\":\"Josefin Sans\",\"text_font_size\":\"2.1em\"},\"id\":\"3857\",\"type\":\"Title\"},{\"attributes\":{},\"id\":\"3872\",\"type\":\"BasicTicker\"},{\"attributes\":{},\"id\":\"3902\",\"type\":\"AllLabels\"},{\"attributes\":{\"axis\":{\"id\":\"3867\"},\"coordinates\":null,\"grid_line_alpha\":0.15,\"grid_line_color\":\"#E0E0E0\",\"group\":null,\"ticker\":null},\"id\":\"3870\",\"type\":\"Grid\"},{\"attributes\":{\"axis_label\":\"$$\\\\color{white} 1.0x^1 + 0.0$$\",\"axis_label_standoff\":10,\"axis_label_text_color\":\"#FFFFFF\",\"axis_label_text_font\":\"Josefin Sans\",\"axis_label_text_font_size\":\"1.9em\",\"axis_label_text_font_style\":\"bold\",\"axis_line_alpha\":0.4,\"axis_line_color\":\"#E0E0E0\",\"coordinates\":null,\"formatter\":{\"id\":\"3898\"},\"group\":null,\"major_label_policy\":{\"id\":\"3899\"},\"major_label_text_color\":\"#E0E0E0\",\"major_label_text_font\":\"Josefin Sans\",\"major_label_text_font_size\":\"1.15em\",\"major_tick_line_alpha\":0.4,\"major_tick_line_color\":\"#E0E0E0\",\"minor_tick_line_alpha\":0.4,\"minor_tick_line_color\":\"#E0E0E0\",\"ticker\":{\"id\":\"3872\"}},\"id\":\"3871\",\"type\":\"LinearAxis\"},{\"attributes\":{\"axis\":{\"id\":\"3871\"},\"coordinates\":null,\"dimension\":1,\"grid_line_alpha\":0.15,\"grid_line_color\":\"#E0E0E0\",\"group\":null,\"ticker\":null},\"id\":\"3874\",\"type\":\"Grid\"},{\"attributes\":{\"fill_alpha\":{\"value\":0.25},\"fill_color\":{\"value\":\"midnightblue\"},\"hatch_alpha\":{\"value\":0.25},\"line_alpha\":{\"value\":0.25},\"line_color\":{\"value\":\"white\"},\"size\":{\"value\":10},\"x\":{\"field\":\"x\"},\"y\":{\"field\":\"y\"}},\"id\":\"3890\",\"type\":\"Circle\"},{\"attributes\":{},\"id\":\"3880\",\"type\":\"HelpTool\"},{\"attributes\":{\"data\":{\"x\":{\"__ndarray__\":\"AAAAALV+JTy1fqU8ED74PLV+JT1i3k49ED54Pd7OkD21fqU9jC66PWLezj05juM9ED74PfN2Bj7ezhA+yiYbPrV+JT6g1i8+jC46PneGRD5i3k4+TjZZPjmOYz4k5m0+ED54Pv1KgT7zdoY+6aKLPt7OkD7U+pU+yiabPr9SoD61fqU+q6qqPqDWrz6WArU+jC66PoFavz53hsQ+bbLJPmLezj5YCtQ+TjbZPkNi3j45juM+L7roPiTm7T4aEvM+ED74PgVq/T79SgE/+OADP/N2Bj/uDAk/6aILP+Q4Dj/ezhA/2WQTP9T6FT/PkBg/yiYbP8W8HT+/UiA/uugiP7V+JT+wFCg/q6oqP6VALT+g1i8/m2wyP5YCNT+RmDc/jC46P4bEPD+BWj8/fPBBP3eGRD9yHEc/bbJJP2dITD9i3k4/XXRRP1gKVD9ToFY/TjZZP0jMWz9DYl4/PvhgPzmOYz80JGY/L7poPylQaz8k5m0/H3xwPxoScz8VqHU/ED54PwrUej8Fan0/AACAPw==\",\"dtype\":\"float32\",\"order\":\"little\",\"shape\":[100]},\"y\":{\"__ndarray__\":\"R2wsvdqiGL16vzi9LliyPeC3VLvovuw9QBJhuzgZjTxE/Hw9uBMEPcfYAz6wd808Mm4APnbe4z2E1gE+Yo40PjjMED55tNg9EkL2PcQRYj50rwc+nSeCPr+zTT5JbUM+cME3PnVgfj7mm7E+rRi9PnrdeD5Ph5Y+WQqnPqUuuT7kUoA+2c92Pr090T7DecA+YaqZPjSm8T6iDeU+7d+wPnbwqD6mff4+rTC4PnpPrj4u2bw+QPLlPrJRvj6QJdk+e9T9PhhqzD5ebRk/1X8EP8YqAz+Ckv8+3sjmPtCpJz9uwv4+xKoWP25ZHj+fzSI/AwUrP9kHND+93DQ/tlk2Px09Ij+Lnj4/HNIcPyO8QT9S2kA/FKYgP45UHj95BEA/DbwgP/JQLj/RCkA/vi9aPwtjTT/ywDo/y0dHPwOCNj/ugEI/z19JP/I5YD9vqk4/lkxPP5djcD8ioW8/CXpqP93Pbj+zglw/vrlQP+QXej+i41U/cIiEPxHLXT8nW14/e2yGP/zMgT9OxnI/PPZ8Pw==\",\"dtype\":\"float32\",\"order\":\"little\",\"shape\":[100]}},\"selected\":{\"id\":\"3904\"},\"selection_policy\":{\"id\":\"3903\"}},\"id\":\"3889\",\"type\":\"ColumnDataSource\"},{\"attributes\":{},\"id\":\"3876\",\"type\":\"WheelZoomTool\"},{\"attributes\":{},\"id\":\"3859\",\"type\":\"DataRange1d\"},{\"attributes\":{},\"id\":\"3875\",\"type\":\"PanTool\"},{\"attributes\":{\"margin\":[5,10,5,10],\"name\":\"\",\"text\":\"<b>Problem parameters</b>\"},\"id\":\"3939\",\"type\":\"Div\"},{\"attributes\":{\"overlay\":{\"id\":\"3881\"}},\"id\":\"3877\",\"type\":\"BoxZoomTool\"},{\"attributes\":{},\"id\":\"3878\",\"type\":\"SaveTool\"},{\"attributes\":{},\"id\":\"3903\",\"type\":\"UnionRenderers\"},{\"attributes\":{},\"id\":\"3879\",\"type\":\"ResetTool\"},{\"attributes\":{\"children\":[{\"id\":\"3937\"},{\"id\":\"3973\"}],\"margin\":[0,0,0,0],\"name\":\"Column00291\"},\"id\":\"3936\",\"type\":\"Column\"},{\"attributes\":{},\"id\":\"3904\",\"type\":\"Selection\"},{\"attributes\":{\"args\":{\"bidirectional\":true,\"properties\":{\"readonly\":\"disabled\"},\"source\":{\"id\":\"3973\"},\"target\":{\"id\":\"3973\"}},\"code\":\"\\n    var value = source['readonly'];\\n    value = value;\\n    value = value;\\n    try {\\n      var property = target.properties['disabled'];\\n      if (property !== undefined) { property.validate(value); }\\n    } catch(err) {\\n      console.log('WARNING: Could not set disabled on target, raised error: ' + err);\\n      return;\\n    }\\n    try {\\n      target['disabled'] = value;\\n    } catch(err) {\\n      console.log(err)\\n    }\\n    \",\"tags\":[[140317425293392,[null,\"readonly\"],[null,\"disabled\"]]]},\"id\":\"3988\",\"type\":\"CustomJS\"},{\"attributes\":{\"bottom_units\":\"screen\",\"coordinates\":null,\"fill_alpha\":0.5,\"fill_color\":\"lightgrey\",\"group\":null,\"left_units\":\"screen\",\"level\":\"overlay\",\"line_alpha\":1.0,\"line_color\":\"black\",\"line_dash\":[4,4],\"line_width\":2,\"right_units\":\"screen\",\"syncable\":false,\"top_units\":\"screen\"},\"id\":\"3881\",\"type\":\"BoxAnnotation\"},{\"attributes\":{\"coordinates\":null,\"data_source\":{\"id\":\"3889\"},\"glyph\":{\"id\":\"3890\"},\"group\":null,\"hover_glyph\":{\"id\":\"3892\"},\"muted_glyph\":{\"id\":\"3893\"},\"nonselection_glyph\":{\"id\":\"3911\"},\"selection_glyph\":{\"id\":\"3910\"},\"view\":{\"id\":\"3895\"}},\"id\":\"3894\",\"type\":\"GlyphRenderer\"},{\"attributes\":{\"args\":{\"bidirectional\":true,\"properties\":{\"readonly\":\"disabled\"},\"source\":{\"id\":\"3973\"},\"target\":{\"id\":\"3973\"}},\"code\":\"\\n    var value = source['disabled'];\\n    value = value;\\n    value = value;\\n    try {\\n      var property = target.properties['readonly'];\\n      if (property !== undefined) { property.validate(value); }\\n    } catch(err) {\\n      console.log('WARNING: Could not set readonly on target, raised error: ' + err);\\n      return;\\n    }\\n    try {\\n      target['readonly'] = value;\\n    } catch(err) {\\n      console.log(err)\\n    }\\n    \",\"tags\":[[140317425293392,[null,\"readonly\"],[null,\"disabled\"]]]},\"id\":\"3989\",\"type\":\"CustomJS\"},{\"attributes\":{\"background_fill_alpha\":0.9,\"background_fill_color\":\"#0f0f0f\",\"below\":[{\"id\":\"3867\"}],\"border_fill_alpha\":0.8,\"border_fill_color\":\"#111111\",\"center\":[{\"id\":\"3870\"},{\"id\":\"3874\"},{\"id\":\"3906\"}],\"height\":450,\"left\":[{\"id\":\"3871\"}],\"outline_line_alpha\":0.25,\"outline_line_color\":\"#E0E0E0\",\"outline_line_width\":3,\"renderers\":[{\"id\":\"3894\"},{\"id\":\"3918\"}],\"title\":{\"id\":\"3857\"},\"toolbar\":{\"id\":\"3882\"},\"toolbar_location\":null,\"x_range\":{\"id\":\"3859\"},\"x_scale\":{\"id\":\"3863\"},\"y_range\":{\"id\":\"3861\"},\"y_scale\":{\"id\":\"3865\"}},\"id\":\"3856\",\"subtype\":\"Figure\",\"type\":\"Plot\"},{\"attributes\":{\"line_alpha\":0.7,\"line_color\":\"red\",\"line_width\":4,\"x\":{\"field\":\"x\"},\"y\":{\"field\":\"y\"}},\"id\":\"3915\",\"type\":\"Line\"},{\"attributes\":{\"label\":{\"value\":\"Learned model\"},\"renderers\":[{\"id\":\"3918\"}]},\"id\":\"3933\",\"type\":\"LegendItem\"},{\"attributes\":{\"children\":[{\"id\":\"3938\"},{\"id\":\"3946\"}],\"margin\":[0,0,0,0],\"name\":\"Row00288\"},\"id\":\"3937\",\"type\":\"Row\"},{\"attributes\":{},\"id\":\"3861\",\"type\":\"DataRange1d\"},{\"attributes\":{\"line_alpha\":0.2,\"line_color\":\"red\",\"line_width\":4,\"x\":{\"field\":\"x\"},\"y\":{\"field\":\"y\"}},\"id\":\"3917\",\"type\":\"Line\"},{\"attributes\":{\"children\":[{\"id\":\"3939\"},{\"id\":\"3940\"},{\"id\":\"3941\"},{\"id\":\"3942\"},{\"id\":\"3943\"},{\"id\":\"3944\"},{\"id\":\"3945\"}],\"margin\":[5,5,5,5],\"min_width\":300,\"name\":\"Problem parameters\",\"width\":300},\"id\":\"3938\",\"type\":\"Column\"},{\"attributes\":{\"fill_alpha\":{\"value\":0.8},\"fill_color\":{\"value\":\"red\"},\"line_color\":{\"value\":\"white\"}},\"id\":\"3910\",\"type\":\"Circle\"},{\"attributes\":{\"code\":\"def linear(\\n        coefficients: jnp.ndarray,\\n        n_observations: int = 100) -> [jnp.ndarray, jnp.ndarray]:\\n    x = jnp.linspace(0, 1, n_observations)\\n    y = coefficients[0] * x + coefficients[1]\\n    return x, \",\"filename\":\"\",\"height\":150,\"js_property_callbacks\":{\"change:disabled\":[{\"id\":\"3989\"}],\"change:readonly\":[{\"id\":\"3988\"}]},\"language\":\"python\",\"margin\":[5,10,5,10],\"sizing_mode\":\"stretch_both\",\"theme\":\"chaos\"},\"id\":\"3973\",\"type\":\"panel.models.ace.AcePlot\"},{\"attributes\":{\"labels\":[\"Ground truth\"],\"margin\":[5,10,5,10]},\"id\":\"3942\",\"type\":\"CheckboxGroup\"},{\"attributes\":{\"coordinates\":null,\"data_source\":{\"id\":\"3914\"},\"glyph\":{\"id\":\"3915\"},\"group\":null,\"hover_glyph\":null,\"muted_glyph\":{\"id\":\"3917\"},\"nonselection_glyph\":{\"id\":\"3916\"},\"view\":{\"id\":\"3919\"}},\"id\":\"3918\",\"type\":\"GlyphRenderer\"},{\"attributes\":{\"end\":1000,\"margin\":[5,10,5,10],\"start\":10,\"title\":\"Number observations\",\"value\":100},\"id\":\"3940\",\"type\":\"Slider\"},{\"attributes\":{},\"id\":\"3929\",\"type\":\"UnionRenderers\"},{\"attributes\":{\"end\":5.0,\"margin\":[5,10,5,10],\"start\":0.0,\"step\":0.1,\"title\":\"Noise level\",\"value\":0.1},\"id\":\"3941\",\"type\":\"Slider\"},{\"attributes\":{\"label\":{\"value\":\"Observations\"},\"renderers\":[{\"id\":\"3894\"}]},\"id\":\"3907\",\"type\":\"LegendItem\"},{\"attributes\":{\"labels\":[\"Error\"],\"margin\":[5,10,5,10]},\"id\":\"3943\",\"type\":\"CheckboxGroup\"},{\"attributes\":{\"end\":5.0,\"margin\":[5,10,5,10],\"start\":-5.0,\"step\":0.1,\"title\":\"X 1\",\"value\":1.0},\"id\":\"3944\",\"type\":\"Slider\"},{\"attributes\":{\"end\":5.0,\"margin\":[5,10,5,10],\"start\":-5.0,\"step\":0.1,\"title\":\"X 0\",\"value\":0.0},\"id\":\"3945\",\"type\":\"Slider\"},{\"attributes\":{\"children\":[{\"id\":\"3856\"}],\"margin\":[0,0,0,0],\"name\":\"Row00285\"},\"id\":\"3946\",\"type\":\"Row\"},{\"attributes\":{\"line_alpha\":0.1,\"line_color\":\"red\",\"line_width\":4,\"x\":{\"field\":\"x\"},\"y\":{\"field\":\"y\"}},\"id\":\"3916\",\"type\":\"Line\"},{\"attributes\":{\"margin\":[5,5,5,5],\"name\":\"HSpacer00264\",\"sizing_mode\":\"stretch_width\"},\"id\":\"3935\",\"type\":\"Spacer\"},{\"attributes\":{\"source\":{\"id\":\"3889\"}},\"id\":\"3895\",\"type\":\"CDSView\"},{\"attributes\":{},\"id\":\"3865\",\"type\":\"LinearScale\"},{\"attributes\":{\"tools\":[{\"id\":\"3875\"},{\"id\":\"3876\"},{\"id\":\"3877\"},{\"id\":\"3878\"},{\"id\":\"3879\"},{\"id\":\"3880\"},{\"id\":\"3908\"},{\"id\":\"3912\"}]},\"id\":\"3882\",\"type\":\"Toolbar\"},{\"attributes\":{},\"id\":\"3930\",\"type\":\"Selection\"},{\"attributes\":{\"margin\":[5,5,5,5],\"name\":\"HSpacer00292\",\"sizing_mode\":\"stretch_width\"},\"id\":\"3974\",\"type\":\"Spacer\"},{\"attributes\":{\"fill_alpha\":{\"value\":0.5},\"fill_color\":{\"value\":\"red\"},\"hatch_alpha\":{\"value\":0.5},\"line_alpha\":{\"value\":0.5},\"line_color\":{\"value\":\"white\"},\"size\":{\"value\":10},\"x\":{\"field\":\"x\"},\"y\":{\"field\":\"y\"}},\"id\":\"3892\",\"type\":\"Circle\"},{\"attributes\":{},\"id\":\"3868\",\"type\":\"BasicTicker\"},{\"attributes\":{\"axis_label\":\"$$\\\\color{white} x$$\",\"axis_label_standoff\":10,\"axis_label_text_color\":\"#FFFFFF\",\"axis_label_text_font\":\"Josefin Sans\",\"axis_label_text_font_size\":\"1.9em\",\"axis_label_text_font_style\":\"bold\",\"axis_line_alpha\":0.4,\"axis_line_color\":\"#E0E0E0\",\"coordinates\":null,\"formatter\":{\"id\":\"3901\"},\"group\":null,\"major_label_policy\":{\"id\":\"3902\"},\"major_label_text_color\":\"#E0E0E0\",\"major_label_text_font\":\"Josefin Sans\",\"major_label_text_font_size\":\"1.15em\",\"major_tick_line_alpha\":0.4,\"major_tick_line_color\":\"#E0E0E0\",\"minor_tick_line_alpha\":0.4,\"minor_tick_line_color\":\"#E0E0E0\",\"ticker\":{\"id\":\"3868\"}},\"id\":\"3867\",\"type\":\"LinearAxis\"},{\"attributes\":{\"fill_alpha\":{\"value\":0.2},\"fill_color\":{\"value\":\"midnightblue\"},\"hatch_alpha\":{\"value\":0.2},\"line_alpha\":{\"value\":0.2},\"line_color\":{\"value\":\"white\"},\"size\":{\"value\":10},\"x\":{\"field\":\"x\"},\"y\":{\"field\":\"y\"}},\"id\":\"3893\",\"type\":\"Circle\"},{\"attributes\":{\"client_comm_id\":\"b57ff62ce82645e4b0c0665557542843\",\"comm_id\":\"947911582c484edcaa5260f3d4b4c4c7\",\"plot_id\":\"3934\"},\"id\":\"4016\",\"type\":\"panel.models.comm_manager.CommManager\"},{\"attributes\":{},\"id\":\"3863\",\"type\":\"LinearScale\"},{\"attributes\":{\"background_fill_alpha\":0.25,\"background_fill_color\":\"#505050\",\"border_line_alpha\":0.25,\"coordinates\":null,\"group\":null,\"items\":[{\"id\":\"3907\"},{\"id\":\"3933\"}],\"label_standoff\":8,\"label_text_color\":\"#E0E0E0\",\"label_text_font\":\"Josefin Sans\",\"label_text_font_size\":\"1.15em\",\"spacing\":8},\"id\":\"3906\",\"type\":\"Legend\"},{\"attributes\":{\"source\":{\"id\":\"3914\"}},\"id\":\"3919\",\"type\":\"CDSView\"},{\"attributes\":{\"mode\":\"append\",\"overlay\":{\"id\":\"3932\"},\"renderers\":[{\"id\":\"3894\"}]},\"id\":\"3912\",\"type\":\"BoxSelectTool\"},{\"attributes\":{\"fill_alpha\":{\"value\":0.5},\"fill_color\":{\"value\":\"midnightblue\"},\"line_color\":{\"value\":\"white\"}},\"id\":\"3911\",\"type\":\"Circle\"},{\"attributes\":{\"callback\":null,\"mode\":\"vline\",\"renderers\":[{\"id\":\"3894\"}],\"tooltips\":null},\"id\":\"3908\",\"type\":\"HoverTool\"},{\"attributes\":{\"bottom_units\":\"screen\",\"coordinates\":null,\"fill_alpha\":0.5,\"fill_color\":\"lightgrey\",\"group\":null,\"left_units\":\"screen\",\"level\":\"overlay\",\"line_alpha\":1.0,\"line_color\":\"black\",\"line_dash\":[4,4],\"line_width\":2,\"right_units\":\"screen\",\"syncable\":false,\"top_units\":\"screen\"},\"id\":\"3932\",\"type\":\"BoxAnnotation\"},{\"attributes\":{\"data\":{\"x\":{\"__ndarray__\":\"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\",\"dtype\":\"float64\",\"order\":\"little\",\"shape\":[200]},\"y\":{\"__ndarray__\":\"ylKPvFKRSrwi+uy7PKMJu8itRju0vwU89tNZPBz0ljw8/sA8XgjrPD+JCj1Qjh89YJM0PW+YST2BnV49kaJzPdBThD1Y1o494liZPWrboz3yXa49euC4PQJjwz2K5c09EmjYPZzq4j0ibe09rO/3PRo5AT5eegY+orsLPub8ED4qPhY+b38bPrLAID73ASY+O0MrPn6EMD7DxTU+Bgc7PktIQD6PiUU+08pKPhcMUD5cTVU+n45aPuTPXz4oEWU+bFJqPq+Tbz711HQ+ORZ6PntXfz5gTII+Au2EPqSNhz5GLoo+586MPopvjz4sEJI+zrCUPnBRlz4S8pk+tJKcPlYznz7406E+m3SkPj0Vpz7etak+gFasPiP3rj7Fl7E+Zzi0PgjZtj6qebk+TRq8Pu+6vj6RW8E+MvzDPtWcxj53Pck+Gd7LPrt+zj5eH9E+/7/TPqFg1j5DAdk+5qHbPohC3j4p4+A+y4PjPm0k5j4Qxeg+smXrPlQG7j71pvA+mEfzPjro9T7biPg+fSn7PiHK/T5hNQA/s4UBPwTWAj9UJgQ/pnYFP/fGBj9IFwg/mWcJP+m3Cj87CAw/jFgNP92oDj8u+Q8/fkkRP9CZEj8h6hM/cjoVP8OKFj8U2xc/ZSsZP7Z7Gj8HzBs/WBwdP6lsHj/6vB8/Sw0hP5xdIj/trSM/P/4kP49OJj/gnic/Mu8oP4I/Kj/Ujys/JOAsP3UwLj/HgC8/F9EwP2khMj+6cTM/CsI0P1wSNj+sYjc//rI4P08DOj+fUzs/8aM8P0H0PT+TRD8/5JRAPzTlQT+GNUM/14VEPyjWRT95Jkc/yXZIPxvHST9sF0s/vWdMPw64TT9gCE8/sFhQPwGpUT9S+VI/o0lUP/WZVT9F6lY/ljpYP+eKWT8421o/iitcP9p7XT8rzF4/fRxgP81sYT8fvWI/bw1kP8BdZT8SrmY/Yv5nP7ROaT8En2o/Ve9rP6c/bT/3j24/SeBvP5owcT/rgHI/PNFzP4whdT/ecXY/L8J3P4ASeT/RYno/IrN7P3IDfT/EU34/FKR/PzN6gD8=\",\"dtype\":\"float32\",\"order\":\"little\",\"shape\":[200]}},\"selected\":{\"id\":\"3930\"},\"selection_policy\":{\"id\":\"3929\"}},\"id\":\"3914\",\"type\":\"ColumnDataSource\"}],\"root_ids\":[\"3934\",\"4016\"]},\"title\":\"Bokeh Application\",\"version\":\"2.4.3\"}};\n",
       "    var render_items = [{\"docid\":\"1d7b754d-48ae-4750-bbc6-2f3093d85791\",\"root_ids\":[\"3934\"],\"roots\":{\"3934\":\"b798ab73-6fba-4fb2-94d1-4e01cdb061bb\"}}];\n",
       "    root.Bokeh.embed.embed_items_notebook(docs_json, render_items);\n",
       "    for (const render_item of render_items) {\n",
       "      for (const root_id of render_item.root_ids) {\n",
       "\tconst id_el = document.getElementById(root_id)\n",
       "\tif (id_el.children.length && (id_el.children[0].className === 'bk-root')) {\n",
       "\t  const root_el = id_el.children[0]\n",
       "\t  root_el.id = root_el.id + '-rendered'\n",
       "\t}\n",
       "      }\n",
       "    }\n",
       "  }\n",
       "  if (root.Bokeh !== undefined && root.Bokeh.Panel !== undefined) {\n",
       "    embed_document(root);\n",
       "  } else {\n",
       "    var attempts = 0;\n",
       "    var timer = setInterval(function(root) {\n",
       "      if (root.Bokeh !== undefined && root.Bokeh.Panel !== undefined) {\n",
       "        clearInterval(timer);\n",
       "        embed_document(root);\n",
       "      } else if (document.readyState == \"complete\") {\n",
       "        attempts++;\n",
       "        if (attempts > 200) {\n",
       "          clearInterval(timer);\n",
       "          console.log(\"Bokeh: ERROR: Unable to run BokehJS code because BokehJS library is missing\");\n",
       "        }\n",
       "      }\n",
       "    }, 25, root)\n",
       "  }\n",
       "})(window);</script>"
      ],
      "text/plain": [
       "Row\n",
       "    [0] HSpacer()\n",
       "    [1] Column\n",
       "        [0] Row\n",
       "            [0] Param(RegressionLinearSolver, name='Problem parameters', widgets={})\n",
       "            [1] ParamMethod(method, _pane=Bokeh)\n",
       "        [1] Ace(height=150, language='python', sizing_mode='stretch_both', theme='chaos', value='def linear(\\n        coef...)\n",
       "    [2] HSpacer()"
      ]
     },
     "execution_count": 30,
     "metadata": {
      "application/vnd.holoviews_exec.v0+json": {
       "id": "3934"
      }
     },
     "output_type": "execute_result"
    }
   ],
   "source": [
    "from cml.tasks import RegressionLinearSolver\n",
    "explorer = RegressionLinearSolver()\n",
    "global key\n",
    "key = random.PRNGKey(23)\n",
    "def solve(x, y):\n",
    "    global key\n",
    "    key_gd, key = random.split(key, 2)\n",
    "    w_1, w_0, loss_history = gradient_descent(key_gd, x, y)\n",
    "    x_predict = np.linspace(np.min(x), np.max(x), 200)\n",
    "    y_model = w_1 * x_predict + w_0\n",
    "    return np.array(x_predict), np.array(y_model) #np.array(jnp.zeros(y_model.shape))\n",
    "\n",
    "explorer.solve = solve\n",
    "explorer.render()"
   ]
  },
  {
   "cell_type": "markdown",
   "metadata": {},
   "source": [
    "<div class=\"alert alert-success\" markdown=\"1\" style=\"color:white; background-color: #192841; border-color: #779ecb\">\n",
    "\n",
    "> ### Going further\n",
    "\n",
    "> You are encouraged to experiment in a similar way as outlined for NumPy with different learning rates, maximum number of iterations, and regularization techniques, as well as compare the performance (both accuracy and speed) of the implemented algorithms with `scikit-learn` built-in linear regression functions.\n",
    "\n",
    "</div>"
   ]
  },
  {
   "cell_type": "markdown",
   "metadata": {},
   "source": [
    "<a id=\"capacity\"></a>\n",
    "## Understanding model capacity and selection\n",
    "\n",
    "\n",
    "In real-life problem, we are aiming to find the parameters of a model, but we do not really know what is the _real_ function underlying this process. So what we can decide to select _any_ function of _any_ **capacity** (complexity of the function). One of the problem with that, is that if we have a too simple function, it will _underfit_ (it is not complex enough for our observations). On the opposite end, if we have a function which is too complex, it might be able to _fit through all training points exactly_ ... even though there is noise in our observations ! This is examplified in the following\n",
    "\n",
    "<img src=\"images/01_soa_function_families.png\" align=\"center\"/>\n",
    "\n",
    "We can observe this idea and play with it directly by trying to find a function approximating our previous observations with a polynomial function chosen to have a degree inside \\([1,2,8]\\).\n"
   ]
  },
  {
   "cell_type": "markdown",
   "metadata": {},
   "source": [
    "\n",
    "Depending on the _capacity_ of the model, what we can observe is that\n",
    "\n",
    "- `capacity too low   -> underfitting   : prediction variance >  noise variance`\n",
    "- `adequate capacity  -> good fit       : prediction variance == noise variance`\n",
    "- `capacity too high  -> overfitting    : prediction variance <  noise variance`\n"
   ]
  },
  {
   "cell_type": "markdown",
   "metadata": {},
   "source": [
    "A similar example can be given for a classification problem in two dimensions as follows\n",
    "\n",
    "<img src=\"images/01_underfit.png\" align=\"center\"/>\n"
   ]
  },
  {
   "cell_type": "markdown",
   "metadata": {},
   "source": [
    "# Exercises\n",
    "\n",
    "In the following, we define the exercises that you should fill for this session. These go further than what we have seen together in the course, but they are based on the exact same principles, simply with slightly more complex definitions. We provide an overall guideline for successfully implementing each of the exercise."
   ]
  },
  {
   "cell_type": "markdown",
   "metadata": {},
   "source": [
    "## Exercise 1 - Linear classification"
   ]
  },
  {
   "cell_type": "markdown",
   "metadata": {},
   "source": [
    "<div class=\"alert alert-success\" markdown=\"1\" style=\"color:white; background-color: #013220; border-color: #03C03C\">\n",
    "\n",
    "> In this exercise, we will implement linear classification using NumPy and JAX. The goal of this exercise is to gain a better understanding of how linear classification works and how to implement it ourselves using our two first libraries of choice, namely NumPy and JAX. To complete this exercise, you will need to have a basic understanding of NumPy and JAX. You can use the resources provided in the previous exercises to learn more about these libraries.\n",
    "\n",
    "We help you out by first defining a simple linear classification problem to solve\n",
    "\n",
    "</div>"
   ]
  },
  {
   "cell_type": "code",
   "execution_count": 50,
   "metadata": {},
   "outputs": [
    {
     "name": "stdout",
     "output_type": "stream",
     "text": [
      "[-1  1  1 -1 -1 -1  1 -1 -1 -1  1 -1  1  1 -1  1  1 -1  1 -1  1  1 -1 -1\n",
      "  1  1 -1 -1 -1  1 -1  1 -1  1  1  1 -1 -1  1 -1  1 -1  1 -1 -1 -1  1  1\n",
      "  1 -1 -1  1  1  1  1  1  1 -1 -1 -1  1  1  1 -1 -1  1 -1  1 -1 -1 -1  1\n",
      "  1  1 -1 -1  1  1 -1  1  1 -1  1 -1  1  1 -1 -1  1 -1 -1 -1 -1 -1  1  1\n",
      "  1 -1 -1  1  1 -1 -1  1  1 -1 -1  1  1 -1 -1 -1  1 -1 -1 -1 -1 -1  1  1\n",
      "  1  1  1 -1  1  1  1 -1 -1  1 -1  1 -1 -1 -1 -1  1  1  1  1 -1 -1 -1 -1\n",
      "  1 -1 -1 -1 -1  1  1  1 -1 -1 -1  1  1  1  1  1  1 -1  1 -1 -1 -1 -1  1\n",
      "  1  1 -1 -1 -1 -1  1 -1 -1 -1  1  1  1  1  1  1  1 -1 -1  1 -1  1 -1  1\n",
      " -1 -1  1 -1  1  1  1  1]\n"
     ]
    }
   ],
   "source": [
    "import numpy as np\n",
    "from sklearn.datasets import make_blobs\n",
    "# Properties of the problem\n",
    "n_observations = 200\n",
    "noise = 0.4\n",
    "c1_center = [1, 3]\n",
    "c2_center = [-2, -1]\n",
    "# Create points\n",
    "x_coords, y_class = make_blobs(n_samples=n_observations, centers=[c1_center, c2_center], n_features=2, cluster_std=0.55)\n",
    "x_data = x_coords + (noise * np.random.randn(n_observations, 2))\n",
    "#x_data = x_coords\n",
    "y_classes = y_class"
   ]
  },
  {
   "cell_type": "markdown",
   "metadata": {},
   "source": [
    "<div class=\"alert alert-success\" markdown=\"1\" style=\"color:white; background-color: #013220; border-color: #03C03C\">\n",
    "\n",
    "> ### Question 1.1 - Implement linear classification with NumPy\n",
    "\n",
    "> 1. Check the training data with two classes that are linearly separable.\n",
    "> 2. Initialize weights and bias.\n",
    "> 3. Implement the forward pass of the linear classifier.\n",
    "> 4. Implement the hinge loss for classification.\n",
    "> 5. Derive the gradients (backward pass) of the linear classifier.\n",
    "> 6. Implement gradient descent to optimize the weights and bias.\n",
    "\n",
    "</div>"
   ]
  },
  {
   "cell_type": "markdown",
   "metadata": {},
   "source": [
    "> 1. Check the training data with two classes that are linearly separable.\n",
    "\n"
   ]
  },
  {
   "cell_type": "code",
   "execution_count": 618,
   "metadata": {
    "tags": []
   },
   "outputs": [
    {
     "data": {},
     "metadata": {},
     "output_type": "display_data"
    },
    {
     "data": {
      "application/vnd.holoviews_exec.v0+json": "",
      "text/html": [
       "<div id='11322'>\n",
       "  <div class=\"bk-root\" id=\"040d5ef9-c7e0-44a0-a197-ad5e586c476a\" data-root-id=\"11322\"></div>\n",
       "</div>\n",
       "<script type=\"application/javascript\">(function(root) {\n",
       "  function embed_document(root) {\n",
       "    var docs_json = {\"4df6716f-36a8-466a-8bf1-9803842b6851\":{\"defs\":[{\"extends\":null,\"module\":null,\"name\":\"ReactiveHTML1\",\"overrides\":[],\"properties\":[]},{\"extends\":null,\"module\":null,\"name\":\"FlexBox1\",\"overrides\":[],\"properties\":[{\"default\":\"flex-start\",\"kind\":null,\"name\":\"align_content\"},{\"default\":\"flex-start\",\"kind\":null,\"name\":\"align_items\"},{\"default\":\"row\",\"kind\":null,\"name\":\"flex_direction\"},{\"default\":\"wrap\",\"kind\":null,\"name\":\"flex_wrap\"},{\"default\":\"flex-start\",\"kind\":null,\"name\":\"justify_content\"}]},{\"extends\":null,\"module\":null,\"name\":\"GridStack1\",\"overrides\":[],\"properties\":[{\"default\":\"warn\",\"kind\":null,\"name\":\"mode\"},{\"default\":null,\"kind\":null,\"name\":\"ncols\"},{\"default\":null,\"kind\":null,\"name\":\"nrows\"},{\"default\":true,\"kind\":null,\"name\":\"allow_resize\"},{\"default\":true,\"kind\":null,\"name\":\"allow_drag\"},{\"default\":[],\"kind\":null,\"name\":\"state\"}]},{\"extends\":null,\"module\":null,\"name\":\"click1\",\"overrides\":[],\"properties\":[{\"default\":\"\",\"kind\":null,\"name\":\"terminal_output\"},{\"default\":\"\",\"kind\":null,\"name\":\"debug_name\"},{\"default\":0,\"kind\":null,\"name\":\"clears\"}]},{\"extends\":null,\"module\":null,\"name\":\"NotificationAreaBase1\",\"overrides\":[],\"properties\":[{\"default\":\"bottom-right\",\"kind\":null,\"name\":\"position\"},{\"default\":0,\"kind\":null,\"name\":\"_clear\"}]},{\"extends\":null,\"module\":null,\"name\":\"NotificationArea1\",\"overrides\":[],\"properties\":[{\"default\":[],\"kind\":null,\"name\":\"notifications\"},{\"default\":\"bottom-right\",\"kind\":null,\"name\":\"position\"},{\"default\":0,\"kind\":null,\"name\":\"_clear\"},{\"default\":[{\"background\":\"#ffc107\",\"icon\":{\"className\":\"fas fa-exclamation-triangle\",\"color\":\"white\",\"tagName\":\"i\"},\"type\":\"warning\"},{\"background\":\"#007bff\",\"icon\":{\"className\":\"fas fa-info-circle\",\"color\":\"white\",\"tagName\":\"i\"},\"type\":\"info\"}],\"kind\":null,\"name\":\"types\"}]},{\"extends\":null,\"module\":null,\"name\":\"Notification\",\"overrides\":[],\"properties\":[{\"default\":null,\"kind\":null,\"name\":\"background\"},{\"default\":3000,\"kind\":null,\"name\":\"duration\"},{\"default\":null,\"kind\":null,\"name\":\"icon\"},{\"default\":\"\",\"kind\":null,\"name\":\"message\"},{\"default\":null,\"kind\":null,\"name\":\"notification_type\"},{\"default\":false,\"kind\":null,\"name\":\"_destroyed\"}]},{\"extends\":null,\"module\":null,\"name\":\"TemplateActions1\",\"overrides\":[],\"properties\":[{\"default\":0,\"kind\":null,\"name\":\"open_modal\"},{\"default\":0,\"kind\":null,\"name\":\"close_modal\"}]},{\"extends\":null,\"module\":null,\"name\":\"MaterialTemplateActions1\",\"overrides\":[],\"properties\":[{\"default\":0,\"kind\":null,\"name\":\"open_modal\"},{\"default\":0,\"kind\":null,\"name\":\"close_modal\"}]}],\"roots\":{\"references\":[{\"attributes\":{\"data\":{\"fill_color\":{\"__ndarray__\":\"ZMgAZMgAZMgAZAD/ZMgAZAD/ZAD/ZAD/ZMgAZMgAZMgAZAD/ZMgAZAD/ZAD/ZAD/ZMgAZAD/ZMgAZAD/ZMgAZMgAZAD/ZMgAZAD/ZAD/ZAD/ZMgAZMgAZMgAZAD/ZMgAZAD/ZAD/ZAD/ZMgAZMgAZAD/ZMgAZMgAZMgAZAD/ZAD/ZMgAZAD/ZMgAZMgAZAD/ZMgAZAD/ZAD/ZAD/ZMgAZAD/ZAD/ZMgAZMgAZAD/ZAD/ZMgAZMgAZMgAZMgAZAD/ZMgAZAD/ZAD/ZMgAZAD/ZMgAZMgAZAD/ZMgAZMgAZAD/ZAD/ZMgAZAD/ZMgAZAD/ZAD/ZMgAZAD/ZMgAZMgAZAD/ZMgAZAD/ZAD/ZMgAZMgAZAD/ZAD/ZAD/ZAD/ZMgAZMgAZAD/ZMgAZAD/ZAD/ZMgAZMgAZAD/ZAD/ZMgAZMgAZMgAZAD/ZAD/ZMgAZMgAZAD/ZAD/ZMgAZAD/ZMgAZAD/ZMgAZMgAZMgAZAD/ZAD/ZAD/ZMgAZAD/ZAD/ZAD/ZMgAZAD/ZMgAZAD/ZAD/ZMgAZMgAZMgAZAD/ZAD/ZAD/ZMgAZAD/ZAD/ZAD/ZAD/ZAD/ZAD/ZMgAZAD/ZAD/ZMgAZAD/ZAD/ZAD/ZMgAZMgAZMgAZMgAZAD/ZAD/ZAD/ZMgAZMgAZAD/ZMgAZMgAZAD/ZAD/ZMgAZAD/ZAD/ZAD/ZMgAZMgAZAD/ZMgAZMgAZMgAZMgAZMgAZMgAZMgAZAD/ZAD/ZMgAZAD/ZAD/ZMgAZMgAZMgAZAD/ZMgAZAD/ZAD/ZAD/ZMgAZMgAZMgAZMgAZMgAZMgA\",\"dtype\":\"uint8\",\"order\":\"little\",\"shape\":[200,3]},\"x\":{\"__ndarray__\":\"WAgWwNbNsL8mrTPAezulP/7JKsBCJgFAkuyDP5DkiT8inAzAej4FwGqi67+x9bg/HITxv6Qsoj4+tRY/LFM6veZ+N8ACxps/54a5vwMbrT8N2zrAYzNNwK2t2T+e20LAts1gPyIthD85puk+r+rbv4hpTsCnyTDACe5FP+3IQ8DwuNM+WoxMPtvUej/Epvq/4dYNwFD2cz+7zwzAna6nv813IMBhMlk/uos3v1BJs7+xapA/82P0v4gaB8DYMh8/IUJDv8myBb8X5/U/60P2PRMgBsDB3gy/WRLSPsB7mb/caxXARJouP/lasz+jRBDA7RmEv1NdBMCZOpy/0oASP1C+zr96kfI/4qmlPtrhDsBM2h1AW5phv8GS67+kW2Y/rDEWwJP+1b+P9Ro+bw6CP9lQCMC+fay+EkMIwJW/qz7p4AlAzZ8Nv7Ez8T/t9iDATWXhv/+JNT+snsS/pqUJQC6QUj+vWqC/cd/mvq9xvj/E8Gg/dLfTPyxIyD+Ti6u/oknJvylO0D8+xgTAVXBhP9R1lT9ugMq/moH/v8cijz55djM+kUgPwHYuK8Dr2/2/+ukbP4mElz+MGJK/WkYewOPjEECK8Xw/YvOcv8+LyT8wP7m/YLK4P2NkqL+trSDA9fr9v5lZlz/hjHE9xeLQPyYQ3b9fRhs+N+SevpjHDD7mmhjAfXpBP7wTFMDw3P0/g5CNP0Glq78t8WXA4MXxv02YXz9xDpM+U9oKv9i0FcC5b/Q+GCWdP9AINL/v1oQ/bylwP/3fnb6I5RPADZSqP1Td2D9A9wPAZOCnPxLnob6ucw0/51SCv1tcJMDOdh3A7CxIwLbKDT9oHrE/2kmgP9GchL/N57e/YY1yP80Fs79oRi3AJs42P2MuMD/i2RDATai9P5n6qz80/fk+GXYHwKTBFcCMhNw+JeUSwOkvI8BbwiLAyfQZwPCnIMBvzC/AgeMqwH/NyT+nc3o/McFSwFeZoj9IJt8/yNcawPItR79D2ve/Xz+bvnl2879qwc09paJeP9PYaj+SlhTA6apEwOJVSr/E/SnAJ+QuwCSWScA=\",\"dtype\":\"float32\",\"order\":\"little\",\"shape\":[200]},\"y\":{\"__ndarray__\":\"9N5Fv2mFib2V/JO9zSlCQALHRb9D6JVAWupGQIqYJUAx8JC/gybVvTs8G755dkFALLQUwEndAEDawjxAHkUnQFcmNr/7h0pAMPhOv/TkcEBNrHq+ENmuvxjlV0Div9i/aIkuQANIXUCsZC9AntsJv6aqjz7bZXy/P9WDQNf5Mz/Q2mBA95ZAQInZJkACEGS/D3+mvsM4XUAhn1O/dOjJv/TLAsDuRlNAlJVnQHbDNr9ns1VAo4LbvbHYeb9biilAi+xDwKomdUA8oAJAvDhtQJ1AVb/8ST1AedcJQHFgw76inJG/Jr8UQOYmIkC1OA6/oLCLv9ENLb+D/UK/79NSQEqhHD5dFhtA1FgzQEXTjb+srEpAImVtvwfm3r4IByNAiAhgv9wTE8DdJoxAhxwWQAV4CMASZvM/liePv/I8l0B7JQtAtkuhv/y9D0Anfdi+1nmVv8VDOED22BA+tU9pQEZ0QUCxSb6/ek7rvyCHVUCUcVlAY7EuQIvUYkDh3Q7AWE/Dv1GAhkBSsyXAEYM4QMJSWkDu7OC/FsmZv3Z+QUC8MgNA0bAMwH/vir8b8p2/RVtGQGSlU0DCs8S/0vKov2TwUkBBQEFAd1n7vjyK5j/nxBTAokhtQLnNrL8Xqug+XcmPv/VQnD/VtIJA6KldQLHSmD8QamRAXBxNQGWUVUB39pE/rK9tQDG/er/qoiZAPAFEQGUzuL9IniO/G/4Wv/CUUEAgr+o/8bRCQIRBPb9a6UNAjegFQI1eRUDPunNAhAoeQPn7TEClQAi/E05xQEK3GkCbC76/ugdaQLV9e0A/bkdAUVTRvx4Vvb53OrO/rWd4v77+RkCV2UdAlumHQBSSlL9PNr6/4Dx2QClsmL6Hh/a/JVE+QPtMaECxG1G/JHdRQEP39j+IzyhA9JHBv7oExL63OTlAuq6Iv+sdqL/sW6O/P49kv/Wcir+bZQK/cMQOPucfL0AZVlNAy0xDv+3emj9gWxlAmtmiv5tra78zoFy/wTgKQHcI6L+TgXlA9pVkQKjCQ0Auvba/dle3v8WGtb92F8a+SjrYv/UVmb8=\",\"dtype\":\"float32\",\"order\":\"little\",\"shape\":[200]}},\"selected\":{\"id\":\"11332\"},\"selection_policy\":{\"id\":\"11331\"}},\"id\":\"11314\",\"type\":\"ColumnDataSource\"},{\"attributes\":{\"margin\":[5,5,5,5],\"name\":\"HSpacer00527\",\"sizing_mode\":\"stretch_width\"},\"id\":\"11350\",\"type\":\"Spacer\"},{\"attributes\":{\"source\":{\"id\":\"11314\"}},\"id\":\"11319\",\"type\":\"CDSView\"},{\"attributes\":{\"fill_alpha\":{\"value\":0.6},\"fill_color\":{\"field\":\"fill_color\"},\"line_color\":{\"value\":null},\"radius\":{\"value\":0.05},\"x\":{\"field\":\"x\"},\"y\":{\"field\":\"y\"}},\"id\":\"11315\",\"type\":\"Circle\"},{\"attributes\":{},\"id\":\"11272\",\"type\":\"BasicTicker\"},{\"attributes\":{},\"id\":\"11269\",\"type\":\"LinearScale\"},{\"attributes\":{\"coordinates\":null,\"data_source\":{\"id\":\"11314\"},\"glyph\":{\"id\":\"11315\"},\"group\":null,\"hover_glyph\":null,\"muted_glyph\":{\"id\":\"11317\"},\"nonselection_glyph\":{\"id\":\"11316\"},\"view\":{\"id\":\"11319\"}},\"id\":\"11318\",\"type\":\"GlyphRenderer\"},{\"attributes\":{},\"id\":\"11280\",\"type\":\"CrosshairTool\"},{\"attributes\":{},\"id\":\"11276\",\"type\":\"BasicTicker\"},{\"attributes\":{},\"id\":\"11284\",\"type\":\"ZoomOutTool\"},{\"attributes\":{},\"id\":\"11331\",\"type\":\"UnionRenderers\"},{\"attributes\":{\"coordinates\":null,\"formatter\":{\"id\":\"11329\"},\"group\":null,\"major_label_policy\":{\"id\":\"11330\"},\"ticker\":{\"id\":\"11272\"}},\"id\":\"11271\",\"type\":\"LinearAxis\"},{\"attributes\":{\"fill_alpha\":{\"value\":0.1},\"fill_color\":{\"field\":\"fill_color\"},\"hatch_alpha\":{\"value\":0.1},\"line_alpha\":{\"value\":0.1},\"line_color\":{\"value\":null},\"radius\":{\"value\":0.05},\"x\":{\"field\":\"x\"},\"y\":{\"field\":\"y\"}},\"id\":\"11316\",\"type\":\"Circle\"},{\"attributes\":{},\"id\":\"11332\",\"type\":\"Selection\"},{\"attributes\":{\"bottom_units\":\"screen\",\"coordinates\":null,\"fill_alpha\":0.5,\"fill_color\":\"lightgrey\",\"group\":null,\"left_units\":\"screen\",\"level\":\"overlay\",\"line_alpha\":1.0,\"line_color\":\"black\",\"line_dash\":[4,4],\"line_width\":2,\"right_units\":\"screen\",\"syncable\":false,\"top_units\":\"screen\"},\"id\":\"11294\",\"type\":\"BoxAnnotation\"},{\"attributes\":{\"axis\":{\"id\":\"11275\"},\"coordinates\":null,\"dimension\":1,\"group\":null,\"ticker\":null},\"id\":\"11278\",\"type\":\"Grid\"},{\"attributes\":{},\"id\":\"11267\",\"type\":\"LinearScale\"},{\"attributes\":{},\"id\":\"11290\",\"type\":\"SaveTool\"},{\"attributes\":{\"coordinates\":null,\"fill_alpha\":0.5,\"fill_color\":\"lightgrey\",\"group\":null,\"level\":\"overlay\",\"line_alpha\":1.0,\"line_color\":\"black\",\"line_dash\":[4,4],\"line_width\":2,\"syncable\":false,\"xs_units\":\"screen\",\"ys_units\":\"screen\"},\"id\":\"11297\",\"type\":\"PolyAnnotation\"},{\"attributes\":{\"overlay\":{\"id\":\"11295\"}},\"id\":\"11285\",\"type\":\"BoxZoomTool\"},{\"attributes\":{},\"id\":\"11283\",\"type\":\"ZoomInTool\"},{\"attributes\":{\"coordinates\":null,\"group\":null,\"text\":\"Data for Linear Classification\",\"text_font_size\":\"20pt\"},\"id\":\"11320\",\"type\":\"Title\"},{\"attributes\":{\"bottom_units\":\"screen\",\"coordinates\":null,\"fill_alpha\":0.5,\"fill_color\":\"lightgrey\",\"group\":null,\"left_units\":\"screen\",\"level\":\"overlay\",\"line_alpha\":1.0,\"line_color\":\"black\",\"line_dash\":[4,4],\"line_width\":2,\"right_units\":\"screen\",\"syncable\":false,\"top_units\":\"screen\"},\"id\":\"11295\",\"type\":\"BoxAnnotation\"},{\"attributes\":{\"fill_alpha\":{\"value\":0.2},\"fill_color\":{\"field\":\"fill_color\"},\"hatch_alpha\":{\"value\":0.2},\"line_alpha\":{\"value\":0.2},\"line_color\":{\"value\":null},\"radius\":{\"value\":0.05},\"x\":{\"field\":\"x\"},\"y\":{\"field\":\"y\"}},\"id\":\"11317\",\"type\":\"Circle\"},{\"attributes\":{\"callback\":null},\"id\":\"11279\",\"type\":\"HoverTool\"},{\"attributes\":{},\"id\":\"11281\",\"type\":\"PanTool\"},{\"attributes\":{},\"id\":\"11288\",\"type\":\"ResetTool\"},{\"attributes\":{\"callback\":null},\"id\":\"11289\",\"type\":\"TapTool\"},{\"attributes\":{},\"id\":\"11286\",\"type\":\"UndoTool\"},{\"attributes\":{},\"id\":\"11282\",\"type\":\"WheelZoomTool\"},{\"attributes\":{},\"id\":\"11287\",\"type\":\"RedoTool\"},{\"attributes\":{\"axis\":{\"id\":\"11271\"},\"coordinates\":null,\"group\":null,\"ticker\":null},\"id\":\"11274\",\"type\":\"Grid\"},{\"attributes\":{\"overlay\":{\"id\":\"11294\"}},\"id\":\"11291\",\"type\":\"BoxSelectTool\"},{\"attributes\":{\"overlay\":{\"id\":\"11297\"}},\"id\":\"11292\",\"type\":\"PolySelectTool\"},{\"attributes\":{},\"id\":\"11265\",\"type\":\"DataRange1d\"},{\"attributes\":{\"below\":[{\"id\":\"11271\"}],\"center\":[{\"id\":\"11274\"},{\"id\":\"11278\"}],\"left\":[{\"id\":\"11275\"}],\"match_aspect\":true,\"renderers\":[{\"id\":\"11318\"}],\"title\":{\"id\":\"11320\"},\"toolbar\":{\"id\":\"11298\"},\"x_range\":{\"id\":\"11263\"},\"x_scale\":{\"id\":\"11267\"},\"y_range\":{\"id\":\"11265\"},\"y_scale\":{\"id\":\"11269\"}},\"id\":\"11262\",\"subtype\":\"Figure\",\"type\":\"Plot\"},{\"attributes\":{},\"id\":\"11326\",\"type\":\"BasicTickFormatter\"},{\"attributes\":{\"coordinates\":null,\"formatter\":{\"id\":\"11326\"},\"group\":null,\"major_label_policy\":{\"id\":\"11327\"},\"ticker\":{\"id\":\"11276\"}},\"id\":\"11275\",\"type\":\"LinearAxis\"},{\"attributes\":{\"coordinates\":null,\"fill_alpha\":0.5,\"fill_color\":\"lightgrey\",\"group\":null,\"level\":\"overlay\",\"line_alpha\":1.0,\"line_color\":\"black\",\"line_dash\":[4,4],\"line_width\":2,\"syncable\":false,\"xs_units\":\"screen\",\"ys_units\":\"screen\"},\"id\":\"11296\",\"type\":\"PolyAnnotation\"},{\"attributes\":{},\"id\":\"11327\",\"type\":\"AllLabels\"},{\"attributes\":{\"children\":[{\"id\":\"11323\"},{\"id\":\"11262\"},{\"id\":\"11350\"}],\"margin\":[0,0,0,0],\"name\":\"Row00530\"},\"id\":\"11322\",\"type\":\"Row\"},{\"attributes\":{},\"id\":\"11263\",\"type\":\"DataRange1d\"},{\"attributes\":{\"margin\":[5,5,5,5],\"name\":\"HSpacer00526\",\"sizing_mode\":\"stretch_width\"},\"id\":\"11323\",\"type\":\"Spacer\"},{\"attributes\":{},\"id\":\"11329\",\"type\":\"BasicTickFormatter\"},{\"attributes\":{\"tools\":[{\"id\":\"11279\"},{\"id\":\"11280\"},{\"id\":\"11281\"},{\"id\":\"11282\"},{\"id\":\"11283\"},{\"id\":\"11284\"},{\"id\":\"11285\"},{\"id\":\"11286\"},{\"id\":\"11287\"},{\"id\":\"11288\"},{\"id\":\"11289\"},{\"id\":\"11290\"},{\"id\":\"11291\"},{\"id\":\"11292\"},{\"id\":\"11293\"}]},\"id\":\"11298\",\"type\":\"Toolbar\"},{\"attributes\":{\"client_comm_id\":\"98ecf76577ee4889ab1c36429f93072a\",\"comm_id\":\"8468034b7e094928a5b9ab58548001ca\",\"plot_id\":\"11322\"},\"id\":\"11390\",\"type\":\"panel.models.comm_manager.CommManager\"},{\"attributes\":{},\"id\":\"11330\",\"type\":\"AllLabels\"},{\"attributes\":{\"overlay\":{\"id\":\"11296\"}},\"id\":\"11293\",\"type\":\"LassoSelectTool\"}],\"root_ids\":[\"11322\",\"11390\"]},\"title\":\"Bokeh Application\",\"version\":\"2.4.3\"}};\n",
       "    var render_items = [{\"docid\":\"4df6716f-36a8-466a-8bf1-9803842b6851\",\"root_ids\":[\"11322\"],\"roots\":{\"11322\":\"040d5ef9-c7e0-44a0-a197-ad5e586c476a\"}}];\n",
       "    root.Bokeh.embed.embed_items_notebook(docs_json, render_items);\n",
       "    for (const render_item of render_items) {\n",
       "      for (const root_id of render_item.root_ids) {\n",
       "\tconst id_el = document.getElementById(root_id)\n",
       "\tif (id_el.children.length && (id_el.children[0].className === 'bk-root')) {\n",
       "\t  const root_el = id_el.children[0]\n",
       "\t  root_el.id = root_el.id + '-rendered'\n",
       "\t}\n",
       "      }\n",
       "    }\n",
       "  }\n",
       "  if (root.Bokeh !== undefined && root.Bokeh.Panel !== undefined) {\n",
       "    embed_document(root);\n",
       "  } else {\n",
       "    var attempts = 0;\n",
       "    var timer = setInterval(function(root) {\n",
       "      if (root.Bokeh !== undefined && root.Bokeh.Panel !== undefined) {\n",
       "        clearInterval(timer);\n",
       "        embed_document(root);\n",
       "      } else if (document.readyState == \"complete\") {\n",
       "        attempts++;\n",
       "        if (attempts > 200) {\n",
       "          clearInterval(timer);\n",
       "          console.log(\"Bokeh: ERROR: Unable to run BokehJS code because BokehJS library is missing\");\n",
       "        }\n",
       "      }\n",
       "    }, 25, root)\n",
       "  }\n",
       "})(window);</script>"
      ],
      "text/plain": [
       "Row\n",
       "    [0] HSpacer()\n",
       "    [1] Bokeh(Figure)\n",
       "    [2] HSpacer()"
      ]
     },
     "execution_count": 618,
     "metadata": {
      "application/vnd.holoviews_exec.v0+json": {
       "id": "11322"
      }
     },
     "output_type": "execute_result"
    }
   ],
   "source": [
    "# Check the data\n",
    "def plot_points(x_data,y_class):\n",
    "    plot_data = jnp.transpose(x_data)\n",
    "    colors = np.array([ [100, g, b] for g, b in zip(200*y_class, 255*(1-y_class))], dtype=\"uint8\")\n",
    "\n",
    "    TOOLS=\"hover,crosshair,pan,wheel_zoom,zoom_in,zoom_out,box_zoom,undo,redo,reset,tap,save,box_select,poly_select,lasso_select,\"\n",
    "    p = figure(tools=TOOLS, match_aspect=True)\n",
    "    p.scatter(np.array(plot_data[0]), np.array(plot_data[1]), radius=0.05, fill_color=colors,fill_alpha=0.6,\n",
    "              line_color=None)\n",
    "    return p\n",
    "\n",
    "p = plot_points(x_data,y_class)\n",
    "p.title = \"Data for Linear Classification\"\n",
    "p.title.text_font_size = '20pt'\n",
    "plot = (center_plot(p))\n",
    "\n",
    "plot"
   ]
  },
  {
   "cell_type": "markdown",
   "metadata": {},
   "source": [
    "> 2. Initialize weights and bias.\n",
    "\n"
   ]
  },
  {
   "cell_type": "code",
   "execution_count": 619,
   "metadata": {
    "tags": []
   },
   "outputs": [],
   "source": [
    "def init_ran_weights(num_features):\n",
    "    key = random.PRNGKey(23)\n",
    "    subkeys = random.split(key, num_features + 1)\n",
    "\n",
    "    # w = [w_1 w_2 ... w_n b]\n",
    "    w = np.array([random.normal(k) for k in subkeys])\n",
    "    return w\n",
    "\n",
    "def init_for_linclass(x_data, y_class, num_features):\n",
    "    # Initialize random weights and bias\n",
    "    w = init_ran_weights(num_features)\n",
    "    \n",
    "    # Append to feature data to use matrix form\n",
    "    x = np.pad(x_data, ((0,0),(0,1)), mode='constant', constant_values=1)\n",
    "\n",
    "    # If we use y_classes, where elements are in {0,1}. We need an array of the intended output: 0 \\mapsto -1, 1 \\mapsto 1.\n",
    "    f = lambda t: 1 if (t == 1) else -1\n",
    "    vfunc = np.vectorize(f)\n",
    "    y = vfunc(y_class)\n",
    "    \n",
    "    return x,w,y"
   ]
  },
  {
   "cell_type": "markdown",
   "metadata": {
    "tags": []
   },
   "source": [
    "> 3. Implement the forward pass of the linear classifier.\n",
    "\n"
   ]
  },
  {
   "cell_type": "code",
   "execution_count": 620,
   "metadata": {
    "tags": []
   },
   "outputs": [],
   "source": [
    "def linclass_forward(x, w):\n",
    "    return np.matmul(x,w)\n"
   ]
  },
  {
   "cell_type": "markdown",
   "metadata": {},
   "source": [
    "> 4. Implement the hinge loss for classification.\n",
    "\n"
   ]
  },
  {
   "cell_type": "code",
   "execution_count": 621,
   "metadata": {
    "tags": []
   },
   "outputs": [],
   "source": [
    "def hinge_loss(y, y_bar):\n",
    "    return np.maximum(0, 1-np.multiply(y,y_bar))\n",
    "\n",
    "\n",
    "# For Examining the workings of the Hinge Loss function\n",
    "DEBUG = False\n",
    "if DEBUG:\n",
    "    y_bar = linclass_forward(x,w)\n",
    "    hl = hinge_loss(y, y_bar)\n",
    "    pred = linclass_forward(x,w)\n",
    "    for i in range(len(y)):\n",
    "        print(\"y: {}, pred: {}, hl: {}\".format(y[i],pred[i], hl[i]))\n",
    "\n"
   ]
  },
  {
   "cell_type": "markdown",
   "metadata": {},
   "source": [
    "> 5. Derive the gradients (backward pass) of the linear classifier.\n",
    "\n",
    "We notice that if $y_i(w^Tx_i) \\geq 1$, then the Hinge loss function will take the constant value 0 due to the applied max. In contrast, if $y_i(w^Tx_i) < 1$ we get precisely $1-y_i(w^Tx_i)$ as the value. This gives us the partial derivate\n",
    "\n",
    "\\begin{align}\n",
    "    \\frac{\\partial \\mathcal{L}(w,x,y)}{\\partial w_i} = \n",
    "    \\begin{cases}\n",
    "      -y\\cdot x_i & \\text{if } y({w}^Tx) < 1 \\\\\n",
    "      0 & \\text{if } y(w^Tx) \\geq 1\n",
    "    \\end{cases}\n",
    "\\end{align}\n",
    "\n",
    "\\begin{align}\n",
    "    \\frac{\\partial \\mathcal{L}(w,x,y)}{\\partial b} = \n",
    "    \\begin{cases}\n",
    "      -y & \\text{if } y({w}^Tx) < 1 \\\\\n",
    "      0 & \\text{if } y(w^Tx) \\geq 1\n",
    "    \\end{cases}\n",
    "\\end{align}\n",
    "\n"
   ]
  },
  {
   "cell_type": "code",
   "execution_count": 622,
   "metadata": {
    "tags": []
   },
   "outputs": [],
   "source": [
    "# Calculate gradients\n",
    "\n",
    "def linclass_backward(x,w,y):\n",
    "    # Create a mask for the data points that should contribute to the mean gradient with a non-zero value\n",
    "    y_bar = linclass_forward(x,w)\n",
    "    tmp = np.multiply(y,y_bar)\n",
    "    mask = (tmp < 1)*1\n",
    "\n",
    "    # Initialize weight updates\n",
    "    dw = np.zeros(len(w))\n",
    "\n",
    "    # Partial derivatives for weights\n",
    "    for i in range(len(w)-1):\n",
    "        # Summing the non-zero partial derivates indicated by the mask\n",
    "        dw[i] = (1/n_observations)*(-np.matmul(y,np.multiply(x[:,i], mask)))\n",
    "    \n",
    "   # Partial derivate for bias term\n",
    "    dw[len(w)-1] = (1/n_observations)*(-np.dot(y,mask))\n",
    "    return dw\n",
    "\n"
   ]
  },
  {
   "cell_type": "markdown",
   "metadata": {},
   "source": [
    "> 6. Implement gradient descent to optimize the weights and bias.\n",
    "\n"
   ]
  },
  {
   "cell_type": "code",
   "execution_count": 623,
   "metadata": {
    "tags": []
   },
   "outputs": [
    {
     "name": "stdout",
     "output_type": "stream",
     "text": [
      "[-0.4175704   1.3649743  -0.25356248]\n",
      "[-1.1770327  -0.56005454 -0.35556287]\n",
      "[-1.1770327  -0.56005454 -0.35556287]\n"
     ]
    }
   ],
   "source": [
    "# Parameters\n",
    "n_iter = 100000\n",
    "lr = 0.1\n",
    "num_features = 2 # Number of linear features\n",
    "\n",
    "x, w, y = init_for_linclass(x_data, y_class, num_features)\n",
    "print(w)\n",
    "def gradient_descent(x, w, y, n_iter, lr, loss_func, grad_func):\n",
    "    # Perform gradient descent\n",
    "    for i in range(n_iter):\n",
    "        # 1. Calculate the predictions\n",
    "        y_bar = np.matmul(x,w)\n",
    "        # 2. Compute the loss\n",
    "        loss = loss_func(y, y_bar)\n",
    "        # 3. Calculate the gradients\n",
    "        dw = grad_func(x,w,y)\n",
    "        # 4. Update the parameters\n",
    "        w -= np.multiply(lr,dw)\n",
    "    return w\n",
    "\n",
    "w_model = gradient_descent(x, w, y, n_iter, lr, hinge_loss, linclass_backward)\n",
    "print(w_model)\n",
    "print(w)"
   ]
  },
  {
   "cell_type": "code",
   "execution_count": 624,
   "metadata": {
    "tags": []
   },
   "outputs": [
    {
     "data": {},
     "metadata": {},
     "output_type": "display_data"
    },
    {
     "data": {
      "application/vnd.holoviews_exec.v0+json": "",
      "text/html": [
       "<div id='11539'>\n",
       "  <div class=\"bk-root\" id=\"10e66294-91df-4140-94a4-c98979e3b069\" data-root-id=\"11539\"></div>\n",
       "</div>\n",
       "<script type=\"application/javascript\">(function(root) {\n",
       "  function embed_document(root) {\n",
       "    var docs_json = {\"39d086fb-16f5-4abb-a29c-8bc9042320bc\":{\"defs\":[{\"extends\":null,\"module\":null,\"name\":\"ReactiveHTML1\",\"overrides\":[],\"properties\":[]},{\"extends\":null,\"module\":null,\"name\":\"FlexBox1\",\"overrides\":[],\"properties\":[{\"default\":\"flex-start\",\"kind\":null,\"name\":\"align_content\"},{\"default\":\"flex-start\",\"kind\":null,\"name\":\"align_items\"},{\"default\":\"row\",\"kind\":null,\"name\":\"flex_direction\"},{\"default\":\"wrap\",\"kind\":null,\"name\":\"flex_wrap\"},{\"default\":\"flex-start\",\"kind\":null,\"name\":\"justify_content\"}]},{\"extends\":null,\"module\":null,\"name\":\"GridStack1\",\"overrides\":[],\"properties\":[{\"default\":\"warn\",\"kind\":null,\"name\":\"mode\"},{\"default\":null,\"kind\":null,\"name\":\"ncols\"},{\"default\":null,\"kind\":null,\"name\":\"nrows\"},{\"default\":true,\"kind\":null,\"name\":\"allow_resize\"},{\"default\":true,\"kind\":null,\"name\":\"allow_drag\"},{\"default\":[],\"kind\":null,\"name\":\"state\"}]},{\"extends\":null,\"module\":null,\"name\":\"click1\",\"overrides\":[],\"properties\":[{\"default\":\"\",\"kind\":null,\"name\":\"terminal_output\"},{\"default\":\"\",\"kind\":null,\"name\":\"debug_name\"},{\"default\":0,\"kind\":null,\"name\":\"clears\"}]},{\"extends\":null,\"module\":null,\"name\":\"NotificationAreaBase1\",\"overrides\":[],\"properties\":[{\"default\":\"bottom-right\",\"kind\":null,\"name\":\"position\"},{\"default\":0,\"kind\":null,\"name\":\"_clear\"}]},{\"extends\":null,\"module\":null,\"name\":\"NotificationArea1\",\"overrides\":[],\"properties\":[{\"default\":[],\"kind\":null,\"name\":\"notifications\"},{\"default\":\"bottom-right\",\"kind\":null,\"name\":\"position\"},{\"default\":0,\"kind\":null,\"name\":\"_clear\"},{\"default\":[{\"background\":\"#ffc107\",\"icon\":{\"className\":\"fas fa-exclamation-triangle\",\"color\":\"white\",\"tagName\":\"i\"},\"type\":\"warning\"},{\"background\":\"#007bff\",\"icon\":{\"className\":\"fas fa-info-circle\",\"color\":\"white\",\"tagName\":\"i\"},\"type\":\"info\"}],\"kind\":null,\"name\":\"types\"}]},{\"extends\":null,\"module\":null,\"name\":\"Notification\",\"overrides\":[],\"properties\":[{\"default\":null,\"kind\":null,\"name\":\"background\"},{\"default\":3000,\"kind\":null,\"name\":\"duration\"},{\"default\":null,\"kind\":null,\"name\":\"icon\"},{\"default\":\"\",\"kind\":null,\"name\":\"message\"},{\"default\":null,\"kind\":null,\"name\":\"notification_type\"},{\"default\":false,\"kind\":null,\"name\":\"_destroyed\"}]},{\"extends\":null,\"module\":null,\"name\":\"TemplateActions1\",\"overrides\":[],\"properties\":[{\"default\":0,\"kind\":null,\"name\":\"open_modal\"},{\"default\":0,\"kind\":null,\"name\":\"close_modal\"}]},{\"extends\":null,\"module\":null,\"name\":\"MaterialTemplateActions1\",\"overrides\":[],\"properties\":[{\"default\":0,\"kind\":null,\"name\":\"open_modal\"},{\"default\":0,\"kind\":null,\"name\":\"close_modal\"}]}],\"roots\":{\"references\":[{\"attributes\":{\"source\":{\"id\":\"11508\"}},\"id\":\"11513\",\"type\":\"CDSView\"},{\"attributes\":{},\"id\":\"11476\",\"type\":\"WheelZoomTool\"},{\"attributes\":{\"axis\":{\"id\":\"11469\"},\"coordinates\":null,\"dimension\":1,\"group\":null,\"ticker\":null},\"id\":\"11472\",\"type\":\"Grid\"},{\"attributes\":{\"children\":[{\"id\":\"11540\"},{\"id\":\"11456\"},{\"id\":\"11571\"}],\"margin\":[0,0,0,0],\"name\":\"Row00537\"},\"id\":\"11539\",\"type\":\"Row\"},{\"attributes\":{\"data\":{\"fill_color\":{\"__ndarray__\":\"ZMgAZMgAZMgAZAD/ZMgAZAD/ZAD/ZAD/ZMgAZMgAZMgAZAD/ZMgAZAD/ZAD/ZAD/ZMgAZAD/ZMgAZAD/ZMgAZMgAZAD/ZMgAZAD/ZAD/ZAD/ZMgAZMgAZMgAZAD/ZMgAZAD/ZAD/ZAD/ZMgAZMgAZAD/ZMgAZMgAZMgAZAD/ZAD/ZMgAZAD/ZMgAZMgAZAD/ZMgAZAD/ZAD/ZAD/ZMgAZAD/ZAD/ZMgAZMgAZAD/ZAD/ZMgAZMgAZMgAZMgAZAD/ZMgAZAD/ZAD/ZMgAZAD/ZMgAZMgAZAD/ZMgAZMgAZAD/ZAD/ZMgAZAD/ZMgAZAD/ZAD/ZMgAZAD/ZMgAZMgAZAD/ZMgAZAD/ZAD/ZMgAZMgAZAD/ZAD/ZAD/ZAD/ZMgAZMgAZAD/ZMgAZAD/ZAD/ZMgAZMgAZAD/ZAD/ZMgAZMgAZMgAZAD/ZAD/ZMgAZMgAZAD/ZAD/ZMgAZAD/ZMgAZAD/ZMgAZMgAZMgAZAD/ZAD/ZAD/ZMgAZAD/ZAD/ZAD/ZMgAZAD/ZMgAZAD/ZAD/ZMgAZMgAZMgAZAD/ZAD/ZAD/ZMgAZAD/ZAD/ZAD/ZAD/ZAD/ZAD/ZMgAZAD/ZAD/ZMgAZAD/ZAD/ZAD/ZMgAZMgAZMgAZMgAZAD/ZAD/ZAD/ZMgAZMgAZAD/ZMgAZMgAZAD/ZAD/ZMgAZAD/ZAD/ZAD/ZMgAZMgAZAD/ZMgAZMgAZMgAZMgAZMgAZMgAZMgAZAD/ZAD/ZMgAZAD/ZAD/ZMgAZMgAZMgAZAD/ZMgAZAD/ZAD/ZAD/ZMgAZMgAZMgAZMgAZMgAZMgA\",\"dtype\":\"uint8\",\"order\":\"little\",\"shape\":[200,3]},\"x\":{\"__ndarray__\":\"WAgWwNbNsL8mrTPAezulP/7JKsBCJgFAkuyDP5DkiT8inAzAej4FwGqi67+x9bg/HITxv6Qsoj4+tRY/LFM6veZ+N8ACxps/54a5vwMbrT8N2zrAYzNNwK2t2T+e20LAts1gPyIthD85puk+r+rbv4hpTsCnyTDACe5FP+3IQ8DwuNM+WoxMPtvUej/Epvq/4dYNwFD2cz+7zwzAna6nv813IMBhMlk/uos3v1BJs7+xapA/82P0v4gaB8DYMh8/IUJDv8myBb8X5/U/60P2PRMgBsDB3gy/WRLSPsB7mb/caxXARJouP/lasz+jRBDA7RmEv1NdBMCZOpy/0oASP1C+zr96kfI/4qmlPtrhDsBM2h1AW5phv8GS67+kW2Y/rDEWwJP+1b+P9Ro+bw6CP9lQCMC+fay+EkMIwJW/qz7p4AlAzZ8Nv7Ez8T/t9iDATWXhv/+JNT+snsS/pqUJQC6QUj+vWqC/cd/mvq9xvj/E8Gg/dLfTPyxIyD+Ti6u/oknJvylO0D8+xgTAVXBhP9R1lT9ugMq/moH/v8cijz55djM+kUgPwHYuK8Dr2/2/+ukbP4mElz+MGJK/WkYewOPjEECK8Xw/YvOcv8+LyT8wP7m/YLK4P2NkqL+trSDA9fr9v5lZlz/hjHE9xeLQPyYQ3b9fRhs+N+SevpjHDD7mmhjAfXpBP7wTFMDw3P0/g5CNP0Glq78t8WXA4MXxv02YXz9xDpM+U9oKv9i0FcC5b/Q+GCWdP9AINL/v1oQ/bylwP/3fnb6I5RPADZSqP1Td2D9A9wPAZOCnPxLnob6ucw0/51SCv1tcJMDOdh3A7CxIwLbKDT9oHrE/2kmgP9GchL/N57e/YY1yP80Fs79oRi3AJs42P2MuMD/i2RDATai9P5n6qz80/fk+GXYHwKTBFcCMhNw+JeUSwOkvI8BbwiLAyfQZwPCnIMBvzC/AgeMqwH/NyT+nc3o/McFSwFeZoj9IJt8/yNcawPItR79D2ve/Xz+bvnl2879qwc09paJeP9PYaj+SlhTA6apEwOJVSr/E/SnAJ+QuwCSWScA=\",\"dtype\":\"float32\",\"order\":\"little\",\"shape\":[200]},\"y\":{\"__ndarray__\":\"9N5Fv2mFib2V/JO9zSlCQALHRb9D6JVAWupGQIqYJUAx8JC/gybVvTs8G755dkFALLQUwEndAEDawjxAHkUnQFcmNr/7h0pAMPhOv/TkcEBNrHq+ENmuvxjlV0Div9i/aIkuQANIXUCsZC9AntsJv6aqjz7bZXy/P9WDQNf5Mz/Q2mBA95ZAQInZJkACEGS/D3+mvsM4XUAhn1O/dOjJv/TLAsDuRlNAlJVnQHbDNr9ns1VAo4LbvbHYeb9biilAi+xDwKomdUA8oAJAvDhtQJ1AVb/8ST1AedcJQHFgw76inJG/Jr8UQOYmIkC1OA6/oLCLv9ENLb+D/UK/79NSQEqhHD5dFhtA1FgzQEXTjb+srEpAImVtvwfm3r4IByNAiAhgv9wTE8DdJoxAhxwWQAV4CMASZvM/liePv/I8l0B7JQtAtkuhv/y9D0Anfdi+1nmVv8VDOED22BA+tU9pQEZ0QUCxSb6/ek7rvyCHVUCUcVlAY7EuQIvUYkDh3Q7AWE/Dv1GAhkBSsyXAEYM4QMJSWkDu7OC/FsmZv3Z+QUC8MgNA0bAMwH/vir8b8p2/RVtGQGSlU0DCs8S/0vKov2TwUkBBQEFAd1n7vjyK5j/nxBTAokhtQLnNrL8Xqug+XcmPv/VQnD/VtIJA6KldQLHSmD8QamRAXBxNQGWUVUB39pE/rK9tQDG/er/qoiZAPAFEQGUzuL9IniO/G/4Wv/CUUEAgr+o/8bRCQIRBPb9a6UNAjegFQI1eRUDPunNAhAoeQPn7TEClQAi/E05xQEK3GkCbC76/ugdaQLV9e0A/bkdAUVTRvx4Vvb53OrO/rWd4v77+RkCV2UdAlumHQBSSlL9PNr6/4Dx2QClsmL6Hh/a/JVE+QPtMaECxG1G/JHdRQEP39j+IzyhA9JHBv7oExL63OTlAuq6Iv+sdqL/sW6O/P49kv/Wcir+bZQK/cMQOPucfL0AZVlNAy0xDv+3emj9gWxlAmtmiv5tra78zoFy/wTgKQHcI6L+TgXlA9pVkQKjCQ0Auvba/dle3v8WGtb92F8a+SjrYv/UVmb8=\",\"dtype\":\"float32\",\"order\":\"little\",\"shape\":[200]}},\"selected\":{\"id\":\"11530\"},\"selection_policy\":{\"id\":\"11529\"}},\"id\":\"11508\",\"type\":\"ColumnDataSource\"},{\"attributes\":{\"margin\":[5,5,5,5],\"name\":\"HSpacer00534\",\"sizing_mode\":\"stretch_width\"},\"id\":\"11571\",\"type\":\"Spacer\"},{\"attributes\":{\"coordinates\":null,\"data_source\":{\"id\":\"11508\"},\"glyph\":{\"id\":\"11509\"},\"group\":null,\"hover_glyph\":null,\"muted_glyph\":{\"id\":\"11511\"},\"nonselection_glyph\":{\"id\":\"11510\"},\"view\":{\"id\":\"11513\"}},\"id\":\"11512\",\"type\":\"GlyphRenderer\"},{\"attributes\":{},\"id\":\"11477\",\"type\":\"ZoomInTool\"},{\"attributes\":{\"margin\":[5,5,5,5],\"name\":\"HSpacer00533\",\"sizing_mode\":\"stretch_width\"},\"id\":\"11540\",\"type\":\"Spacer\"},{\"attributes\":{},\"id\":\"11474\",\"type\":\"CrosshairTool\"},{\"attributes\":{\"callback\":null},\"id\":\"11473\",\"type\":\"HoverTool\"},{\"attributes\":{},\"id\":\"11475\",\"type\":\"PanTool\"},{\"attributes\":{},\"id\":\"11531\",\"type\":\"UnionRenderers\"},{\"attributes\":{},\"id\":\"11482\",\"type\":\"ResetTool\"},{\"attributes\":{\"coordinates\":null,\"fill_alpha\":0.5,\"fill_color\":\"lightgrey\",\"group\":null,\"level\":\"overlay\",\"line_alpha\":1.0,\"line_color\":\"black\",\"line_dash\":[4,4],\"line_width\":2,\"syncable\":false,\"xs_units\":\"screen\",\"ys_units\":\"screen\"},\"id\":\"11491\",\"type\":\"PolyAnnotation\"},{\"attributes\":{\"callback\":null},\"id\":\"11483\",\"type\":\"TapTool\"},{\"attributes\":{\"fill_alpha\":{\"value\":0.1},\"fill_color\":{\"field\":\"fill_color\"},\"hatch_alpha\":{\"value\":0.1},\"line_alpha\":{\"value\":0.1},\"line_color\":{\"value\":null},\"radius\":{\"value\":0.05},\"x\":{\"field\":\"x\"},\"y\":{\"field\":\"y\"}},\"id\":\"11510\",\"type\":\"Circle\"},{\"attributes\":{},\"id\":\"11478\",\"type\":\"ZoomOutTool\"},{\"attributes\":{},\"id\":\"11532\",\"type\":\"Selection\"},{\"attributes\":{\"coordinates\":null,\"group\":null,\"text\":\"Trained Model for Linear Classification\",\"text_font_size\":\"20pt\"},\"id\":\"11514\",\"type\":\"Title\"},{\"attributes\":{\"overlay\":{\"id\":\"11489\"}},\"id\":\"11479\",\"type\":\"BoxZoomTool\"},{\"attributes\":{},\"id\":\"11524\",\"type\":\"BasicTickFormatter\"},{\"attributes\":{},\"id\":\"11480\",\"type\":\"UndoTool\"},{\"attributes\":{},\"id\":\"11481\",\"type\":\"RedoTool\"},{\"attributes\":{\"source\":{\"id\":\"11516\"}},\"id\":\"11521\",\"type\":\"CDSView\"},{\"attributes\":{},\"id\":\"11484\",\"type\":\"SaveTool\"},{\"attributes\":{},\"id\":\"11525\",\"type\":\"AllLabels\"},{\"attributes\":{\"line_alpha\":0.1,\"line_color\":\"green\",\"line_dash\":[6],\"line_width\":6,\"x\":{\"field\":\"x\"},\"y\":{\"field\":\"y\"}},\"id\":\"11518\",\"type\":\"Line\"},{\"attributes\":{\"overlay\":{\"id\":\"11488\"}},\"id\":\"11485\",\"type\":\"BoxSelectTool\"},{\"attributes\":{\"line_alpha\":0.2,\"line_color\":\"green\",\"line_dash\":[6],\"line_width\":6,\"x\":{\"field\":\"x\"},\"y\":{\"field\":\"y\"}},\"id\":\"11519\",\"type\":\"Line\"},{\"attributes\":{\"overlay\":{\"id\":\"11491\"}},\"id\":\"11486\",\"type\":\"PolySelectTool\"},{\"attributes\":{\"overlay\":{\"id\":\"11490\"}},\"id\":\"11487\",\"type\":\"LassoSelectTool\"},{\"attributes\":{},\"id\":\"11527\",\"type\":\"BasicTickFormatter\"},{\"attributes\":{\"fill_alpha\":{\"value\":0.2},\"fill_color\":{\"field\":\"fill_color\"},\"hatch_alpha\":{\"value\":0.2},\"line_alpha\":{\"value\":0.2},\"line_color\":{\"value\":null},\"radius\":{\"value\":0.05},\"x\":{\"field\":\"x\"},\"y\":{\"field\":\"y\"}},\"id\":\"11511\",\"type\":\"Circle\"},{\"attributes\":{\"label\":{\"value\":\"Decision Boundary\"},\"renderers\":[{\"id\":\"11520\"}]},\"id\":\"11538\",\"type\":\"LegendItem\"},{\"attributes\":{\"data\":{\"x\":{\"__ndarray__\":\"osFj1OLtA8A8eOnJiXADwNQub78w8wLAbuX0tNd1AsAHnHqqfvgBwKBSAKAlewHAOgmGlcz9AMDTvwuLc4AAwGx2kYAaAwDAC1ou7IIL/789xznX0BD+v3A0RcIeFv2/oqFQrWwb/L/VDlyYuiD7vwd8Z4MIJvq/OulyblYr+b9sVn5ZpDD4v57DiUTyNfe/0DCVL0A79r8EnqAajkD1vzYLrAXcRfS/aHi38ClL87+a5cLbd1Dyv85SzsbFVfG/AMDZsRNb8L9kWso5w8Duv8g04Q9fy+y/MA/45frV6r+U6Q68luDov/jDJZIy6+a/XJ48aM715L/AeFM+agDjvyhTahQGC+G/GFsC1UMr3r/gDzCBe0Dav6jEXS2zVda/eHmL2epq0r+AXHILRQDNvxDGzWO0KsW/QF9SeEequr8AZRJSTP6lv4Dp/5jsr5I/QCeJdRxXtD8QKmniHgHCP3DADYqv1sk/cCvZGCDW0D+odqts6MDUP+DBfcCwq9g/EA1QFHmW3D8oLBG0oEDgP8BR+t0ENuI/WHfjB2kr5D/4nMwxzSDmP5DCtVsxFug/MOiehZUL6j/IDYiv+QDsP2Azcdld9u0/AFlaA8Lr7z9Mv6EWk/DwPxhSlitF6/E/\",\"dtype\":\"float64\",\"order\":\"little\",\"shape\":[60]},\"y\":{\"__ndarray__\":\"czI+vg1nEkBqlDnyVeMRQF72NCaeXxFAVVgwWubbEEBLuiuOLlgQQII4ToTtqA9AbvxE7H2hDkBbwDtUDpoNQEWEMryekgxAMkgpJC+LC0AeDCCMv4MKQAvQFvRPfAlA9ZMNXOB0CEDjVwTEcG0HQM4b+ysBZgZAu9/xk5FeBUCmo+j7IVcEQJJn32OyTwNAfSvWy0JIAkBr78wz00ABQFazw5tjOQBAhO50B+hj/j9bdmLXCFX8Pzb+T6cpRvo/DYY9d0o3+D/kDStHayj2P7uVGBeMGfQ/lh0G56wK8j/ZSudtm/fvP4dawg3d2es/NmqdrR685z/keXhNYJ7jPzITp9pDAd8/jzJdGsfF1j/Xoya0lBTNPx/FJWc2O7k/vvQGaPLKnr/fn5TNV1DEv5QwFKeoY9K/OBFeZyWf2r/l+NMTUW3hvzfp+HMPi+W/itkd1M2o6b/cyUI0jMbtvxPdM0ol8vC/O1VGegQB879kzViq4w/1v41Fa9rCHve/s719CqIt+b/fNZA6gTz7vwSuompgS/2/KSa1mj9a/78rz2Nlj7QAwD0Lbf3+uwHAVEd2lW7DAsBmg38t3soDwHm/iMVN0gTAj/uRXb3ZBcCiN5v1LOEGwLRzpI2c6AfA\",\"dtype\":\"float64\",\"order\":\"little\",\"shape\":[60]}},\"selected\":{\"id\":\"11532\"},\"selection_policy\":{\"id\":\"11531\"}},\"id\":\"11516\",\"type\":\"ColumnDataSource\"},{\"attributes\":{},\"id\":\"11528\",\"type\":\"AllLabels\"},{\"attributes\":{\"bottom_units\":\"screen\",\"coordinates\":null,\"fill_alpha\":0.5,\"fill_color\":\"lightgrey\",\"group\":null,\"left_units\":\"screen\",\"level\":\"overlay\",\"line_alpha\":1.0,\"line_color\":\"black\",\"line_dash\":[4,4],\"line_width\":2,\"right_units\":\"screen\",\"syncable\":false,\"top_units\":\"screen\"},\"id\":\"11488\",\"type\":\"BoxAnnotation\"},{\"attributes\":{\"coordinates\":null,\"data_source\":{\"id\":\"11516\"},\"glyph\":{\"id\":\"11517\"},\"group\":null,\"hover_glyph\":null,\"muted_glyph\":{\"id\":\"11519\"},\"nonselection_glyph\":{\"id\":\"11518\"},\"view\":{\"id\":\"11521\"}},\"id\":\"11520\",\"type\":\"GlyphRenderer\"},{\"attributes\":{\"bottom_units\":\"screen\",\"coordinates\":null,\"fill_alpha\":0.5,\"fill_color\":\"lightgrey\",\"group\":null,\"left_units\":\"screen\",\"level\":\"overlay\",\"line_alpha\":1.0,\"line_color\":\"black\",\"line_dash\":[4,4],\"line_width\":2,\"right_units\":\"screen\",\"syncable\":false,\"top_units\":\"screen\"},\"id\":\"11489\",\"type\":\"BoxAnnotation\"},{\"attributes\":{\"tools\":[{\"id\":\"11473\"},{\"id\":\"11474\"},{\"id\":\"11475\"},{\"id\":\"11476\"},{\"id\":\"11477\"},{\"id\":\"11478\"},{\"id\":\"11479\"},{\"id\":\"11480\"},{\"id\":\"11481\"},{\"id\":\"11482\"},{\"id\":\"11483\"},{\"id\":\"11484\"},{\"id\":\"11485\"},{\"id\":\"11486\"},{\"id\":\"11487\"}]},\"id\":\"11492\",\"type\":\"Toolbar\"},{\"attributes\":{\"client_comm_id\":\"3f2b932c18004106ba91018ecb3a25a2\",\"comm_id\":\"5a96f106d7654df29d6d8b3c459d5b4b\",\"plot_id\":\"11539\"},\"id\":\"11617\",\"type\":\"panel.models.comm_manager.CommManager\"},{\"attributes\":{\"coordinates\":null,\"group\":null,\"items\":[{\"id\":\"11538\"}]},\"id\":\"11537\",\"type\":\"Legend\"},{\"attributes\":{\"below\":[{\"id\":\"11465\"}],\"center\":[{\"id\":\"11468\"},{\"id\":\"11472\"},{\"id\":\"11537\"}],\"left\":[{\"id\":\"11469\"}],\"match_aspect\":true,\"renderers\":[{\"id\":\"11512\"},{\"id\":\"11520\"}],\"title\":{\"id\":\"11514\"},\"toolbar\":{\"id\":\"11492\"},\"x_range\":{\"id\":\"11457\"},\"x_scale\":{\"id\":\"11461\"},\"y_range\":{\"id\":\"11459\"},\"y_scale\":{\"id\":\"11463\"}},\"id\":\"11456\",\"subtype\":\"Figure\",\"type\":\"Plot\"},{\"attributes\":{},\"id\":\"11457\",\"type\":\"DataRange1d\"},{\"attributes\":{},\"id\":\"11470\",\"type\":\"BasicTicker\"},{\"attributes\":{},\"id\":\"11530\",\"type\":\"Selection\"},{\"attributes\":{\"fill_alpha\":{\"value\":0.6},\"fill_color\":{\"field\":\"fill_color\"},\"line_color\":{\"value\":null},\"radius\":{\"value\":0.05},\"x\":{\"field\":\"x\"},\"y\":{\"field\":\"y\"}},\"id\":\"11509\",\"type\":\"Circle\"},{\"attributes\":{},\"id\":\"11529\",\"type\":\"UnionRenderers\"},{\"attributes\":{},\"id\":\"11463\",\"type\":\"LinearScale\"},{\"attributes\":{},\"id\":\"11459\",\"type\":\"DataRange1d\"},{\"attributes\":{\"coordinates\":null,\"formatter\":{\"id\":\"11527\"},\"group\":null,\"major_label_policy\":{\"id\":\"11528\"},\"ticker\":{\"id\":\"11466\"}},\"id\":\"11465\",\"type\":\"LinearAxis\"},{\"attributes\":{},\"id\":\"11461\",\"type\":\"LinearScale\"},{\"attributes\":{\"coordinates\":null,\"formatter\":{\"id\":\"11524\"},\"group\":null,\"major_label_policy\":{\"id\":\"11525\"},\"ticker\":{\"id\":\"11470\"}},\"id\":\"11469\",\"type\":\"LinearAxis\"},{\"attributes\":{},\"id\":\"11466\",\"type\":\"BasicTicker\"},{\"attributes\":{\"axis\":{\"id\":\"11465\"},\"coordinates\":null,\"group\":null,\"ticker\":null},\"id\":\"11468\",\"type\":\"Grid\"},{\"attributes\":{\"coordinates\":null,\"fill_alpha\":0.5,\"fill_color\":\"lightgrey\",\"group\":null,\"level\":\"overlay\",\"line_alpha\":1.0,\"line_color\":\"black\",\"line_dash\":[4,4],\"line_width\":2,\"syncable\":false,\"xs_units\":\"screen\",\"ys_units\":\"screen\"},\"id\":\"11490\",\"type\":\"PolyAnnotation\"},{\"attributes\":{\"line_alpha\":0.6,\"line_color\":\"green\",\"line_dash\":[6],\"line_width\":6,\"x\":{\"field\":\"x\"},\"y\":{\"field\":\"y\"}},\"id\":\"11517\",\"type\":\"Line\"}],\"root_ids\":[\"11539\",\"11617\"]},\"title\":\"Bokeh Application\",\"version\":\"2.4.3\"}};\n",
       "    var render_items = [{\"docid\":\"39d086fb-16f5-4abb-a29c-8bc9042320bc\",\"root_ids\":[\"11539\"],\"roots\":{\"11539\":\"10e66294-91df-4140-94a4-c98979e3b069\"}}];\n",
       "    root.Bokeh.embed.embed_items_notebook(docs_json, render_items);\n",
       "    for (const render_item of render_items) {\n",
       "      for (const root_id of render_item.root_ids) {\n",
       "\tconst id_el = document.getElementById(root_id)\n",
       "\tif (id_el.children.length && (id_el.children[0].className === 'bk-root')) {\n",
       "\t  const root_el = id_el.children[0]\n",
       "\t  root_el.id = root_el.id + '-rendered'\n",
       "\t}\n",
       "      }\n",
       "    }\n",
       "  }\n",
       "  if (root.Bokeh !== undefined && root.Bokeh.Panel !== undefined) {\n",
       "    embed_document(root);\n",
       "  } else {\n",
       "    var attempts = 0;\n",
       "    var timer = setInterval(function(root) {\n",
       "      if (root.Bokeh !== undefined && root.Bokeh.Panel !== undefined) {\n",
       "        clearInterval(timer);\n",
       "        embed_document(root);\n",
       "      } else if (document.readyState == \"complete\") {\n",
       "        attempts++;\n",
       "        if (attempts > 200) {\n",
       "          clearInterval(timer);\n",
       "          console.log(\"Bokeh: ERROR: Unable to run BokehJS code because BokehJS library is missing\");\n",
       "        }\n",
       "      }\n",
       "    }, 25, root)\n",
       "  }\n",
       "})(window);</script>"
      ],
      "text/plain": [
       "Row\n",
       "    [0] HSpacer()\n",
       "    [1] Bokeh(Figure)\n",
       "    [2] HSpacer()"
      ]
     },
     "execution_count": 624,
     "metadata": {
      "application/vnd.holoviews_exec.v0+json": {
       "id": "11539"
      }
     },
     "output_type": "execute_result"
    }
   ],
   "source": [
    "def plot_decision_boundary_2Dlinclass(x_data,y_class,w):\n",
    "    w_1, w_2, b = w[0], w[1], w[2]\n",
    "\n",
    "    p = plot_points(x_data,y_class)\n",
    "    p.title = \"Trained Model for Linear Classification\"\n",
    "    p.title.text_font_size = '20pt'\n",
    "\n",
    "\n",
    "    # The decision boundary is where y_bar = 0, when using the adapted values {-1,1} for classes {0,1}\n",
    "    # So the boundary consists of points (x_1,x_2) where x_2 = -(x_1*w_1 + b)/w_2\n",
    "\n",
    "    x1_boundary = np.linspace(min(x_data[:,0]), max(x_data[:,0]), 100)\n",
    "    x2_boundary = -(x1_boundary*w_1 + b)/w_2\n",
    "\n",
    "    boundary = np.transpose([x1_boundary, x2_boundary])\n",
    "    condition = ((boundary[:,1] < max(x_data[:,1])) & (boundary[:,1] > min(x_data[:,1])))\n",
    "    boundary_ranged = boundary[condition].transpose()\n",
    "\n",
    "\n",
    "    p.line(boundary_ranged[0], boundary_ranged[1], line_width=6, line_alpha=0.6, line_dash=\"dashed\", color=\"green\", legend_label=r\"Decision Boundary\")\n",
    "\n",
    "\n",
    "    return p\n",
    "\n",
    "\n",
    "p = plot_decision_boundary_2Dlinclass(x_data,y_class, w_model)\n",
    "plot = (center_plot(p))\n",
    "plot\n",
    "\n"
   ]
  },
  {
   "cell_type": "markdown",
   "metadata": {},
   "source": [
    "<div class=\"alert alert-success\" markdown=\"1\" style=\"color:white; background-color: #192841; border-color: #779ecb\">\n",
    "\n",
    "> ### Going further (optional)\n",
    "> Try to replace the Hinge loss by the cross-entropy loss in your implementation\n",
    "\n",
    "</div>"
   ]
  },
  {
   "cell_type": "markdown",
   "metadata": {},
   "source": [
    "<div class=\"alert alert-success\" markdown=\"1\" style=\"color:white; background-color: #013220; border-color: #03C03C\">\n",
    "\n",
    "> ### Question 1.2 - Implement linear classification with JAX\n",
    "\n",
    "> 1. Initialize weights and bias.\n",
    "> 2. Define the loss function using the jax.nn.softmax_cross_entropy_with_logits function.\n",
    "> 3. Implement gradient descent to optimize the weights and bias.\n",
    "\n",
    "</div>"
   ]
  },
  {
   "cell_type": "code",
   "execution_count": 215,
   "metadata": {},
   "outputs": [
    {
     "name": "stdout",
     "output_type": "stream",
     "text": [
      "tf.Tensor([9.10564132e-02 4.53988992e-05 7.25442810e+00 7.25442810e+00], shape=(4,), dtype=float64)\n",
      "tf.Tensor(3.6499895042058346, shape=(), dtype=float64)\n"
     ]
    }
   ],
   "source": [
    "import tensorflow as tf\n",
    "\n",
    "logits = [[np.exp(1),np.exp(-1)], [0,10],[7.38905609893,0.135335283237],[0.135335283237,7.38905609893]]\n",
    "labels = [[1,0], [0,1], [0,1],[1,0]]\n",
    "\n",
    "\n",
    "l = tf.nn.softmax_cross_entropy_with_logits(labels, logits)\n",
    "print(l)\n",
    "print(sum(l)/len(l))\n",
    "\n",
    "#print(l*np.array([[6],[-0.8]]))\n"
   ]
  },
  {
   "cell_type": "code",
   "execution_count": 183,
   "metadata": {
    "tags": []
   },
   "outputs": [
    {
     "name": "stdout",
     "output_type": "stream",
     "text": [
      "[[-1.67655089 -1.13317582  1.        ]\n",
      " [-0.8307874  -1.56740504  1.        ]\n",
      " [-2.01632815 -0.97193719  1.        ]\n",
      " [ 1.61203192  1.23421619  1.        ]\n",
      " [-2.45071523 -0.90167626  1.        ]]\n",
      "[ 7.14695427  6.06536149  7.61598677 -7.65602166  8.57064516]\n",
      "[ 1  1  1 -1  1]\n"
     ]
    }
   ],
   "source": [
    "print(x[:5])\n",
    "print(linclass_forward(x[:5],w))\n",
    "print(y[:5])"
   ]
  },
  {
   "cell_type": "code",
   "execution_count": 484,
   "metadata": {
    "tags": []
   },
   "outputs": [
    {
     "name": "stdout",
     "output_type": "stream",
     "text": [
      "lables:  [0 0 1 1]\n",
      "logits:  [ -1  -2 -10   1]\n",
      "log_p:  [ -1.3132617  -2.126928  -10.000046   -0.3132617]\n",
      "log_not_p:  [-3.1326169e-01 -1.2692800e-01 -4.5398901e-05 -1.3132617e+00]\n",
      "expression:  [ -0.3132617  -0.126928  -10.000046   -0.3132617]\n",
      "[ 0.3132617  0.126928  10.000046   0.3132617]\n",
      "2.6883743\n"
     ]
    }
   ],
   "source": [
    "def test_loss(x, y, w_1, w_2, b):\n",
    "    #logits = jnp.array([1, -0.5,2,0])\n",
    "    #labels = jnp.array([1, -1,1,1])\n",
    "    logits = jnp.array([-1,-2,-10,1])\n",
    "    labels = jnp.array([0,0,1,1])\n",
    "    print(\"lables: \", labels)\n",
    "    print(\"logits: \", logits)\n",
    "    \n",
    "    return sigmoid_xent(logits, labels)\n",
    "\n",
    "\n",
    "\n",
    "print(test_loss(x, y, w_1, w_2, b))\n",
    "#grad_loss_function = jit(jax.grad(my_loss_function, argnums=[2,3,4]))\n",
    "\n",
    "#gradients = grad_loss_function(x, y, w_1, w_2, b)\n",
    "\n",
    "\n"
   ]
  },
  {
   "cell_type": "code",
   "execution_count": null,
   "metadata": {},
   "outputs": [],
   "source": [
    "softmax()\n",
    "jnp.exp()"
   ]
  },
  {
   "cell_type": "code",
   "execution_count": 657,
   "metadata": {
    "tags": []
   },
   "outputs": [],
   "source": [
    "def sigmoid_cross_ent(logits, labels):\n",
    "    log_p = jax.nn.log_sigmoid(logits)\n",
    "    log_not_p = jax.nn.log_sigmoid(-logits)\n",
    "    #print(\"log_p: \", log_p)\n",
    "    #print(\"log_not_p: \", log_not_p)\n",
    "    nll = -(labels * log_p + (1 - labels) * log_not_p)\n",
    "    # Version 2\n",
    "    probs = 1 / (1 + np.exp(-logits))\n",
    "    \n",
    "    # Compute binary cross-entropy loss\n",
    "    loss = -labels * np.log(probs) - (1 - labels) * np.log(1 - probs)\n",
    "    loss = np.mean(loss)\n",
    "    print(loss)\n",
    "    assert loss == jnp.mean(nll)\n",
    "    #print(\"expression: \", labels * log_p + (1. - labels) * log_not_p)\n",
    "    #print(nll)\n",
    "    return jnp.mean(nll)"
   ]
  },
  {
   "cell_type": "code",
   "execution_count": 662,
   "metadata": {
    "tags": []
   },
   "outputs": [
    {
     "name": "stdout",
     "output_type": "stream",
     "text": [
      "[-1.8932104 -0.2564178 -0.6302582]\n",
      "[-0.16321044 -1.4864178  -0.7602582 ]\n",
      "0.3932955\n",
      "0.3932955\n"
     ]
    }
   ],
   "source": [
    "logits = jnp.array([-1.73, 1.23, 0.13])\n",
    "print(jax.nn.log_sigmoid(logits))\n",
    "print(jax.nn.log_sigmoid(-logits))\n",
    "\n",
    "print(sigmoid_cross_ent(logits, jnp.array([0,1,0])))\n",
    "\n"
   ]
  },
  {
   "cell_type": "code",
   "execution_count": 660,
   "metadata": {
    "tags": []
   },
   "outputs": [
    {
     "data": {
      "text/plain": [
       "'\\ndef my_loss_function(x, y, w_1, w_2, b):\\n    y_pred = w_1*x[:,0] + w_2*x[:,1] + b\\n    #logits = jnp.transpose(jnp.array([y_pred, -y_pred]))#[np.exp(y_pred), np.exp(-y_pred)])\\n    #labels = jnp.transpose(jnp.array([jnp.maximum(y,0), jnp.maximum(-y,0)]))\\n\\n \\n    sigmoid_logits = y_pred\\n    hard_labels = y\\n    #y_logits = np.zeros((len(y_pred),2))\\n    #y_logits[:,0] = y_pred\\n    #y_logits[:,1] = -y_pred\\n    #y_labels = np.zeros((len(y_pred),2))\\n    #y_labels[:,0] = y\\n    #y_labels[:,1] = -y\\n    #y_labels = (y_labels + 1)/2\\n    #print(labels[:10])\\n    print(type(labels))\\n    print(type(logits))\\n    #print(sigmoid_logits)\\n    #print(hard_labels)\\n    error_tensor = sigmoid_xent(sigmoid_logits, hard_labels)#tf.nn.softmax_cross_entropy_with_logits(labels, logits)\\n\\n    #print(type(jax.nn.softmax(labels,logits)))\\n    #print(type(error_tensor))\\n    #print(error_tensor)\\n    return error_tensor#(1/len(x))*jnp.sum(error_tensor)\\n\\n#print(my_loss_function(x[:1],y[:1],w[0],w[1], w[2]))\\n#print(my_loss_function(x[:],y[:],w[0],w[1], w[2]))\\nprint(my2nd_loss_function(x,y,w[0],w[1],w[2]))\\n\\n#print(w_1*x[:,0] + w_2*x[:,1] + b)\\n#print(linclass_forward(x,w))\\n'"
      ]
     },
     "execution_count": 660,
     "metadata": {},
     "output_type": "execute_result"
    }
   ],
   "source": [
    "def my2nd_loss_function(x,y,w_1,w_2,b):\n",
    "    y_pred = w_1*x[:,0] + w_2*x[:,1] + b\n",
    "    logits = y_pred\n",
    "    hard_labels = y\n",
    "    return sigmoid_cross_ent(logits, hard_labels)\n",
    "\n",
    "\n",
    "\"\"\"\n",
    "def my_loss_function(x, y, w_1, w_2, b):\n",
    "    y_pred = w_1*x[:,0] + w_2*x[:,1] + b\n",
    "    #logits = jnp.transpose(jnp.array([y_pred, -y_pred]))#[np.exp(y_pred), np.exp(-y_pred)])\n",
    "    #labels = jnp.transpose(jnp.array([jnp.maximum(y,0), jnp.maximum(-y,0)]))\n",
    "\n",
    " \n",
    "    sigmoid_logits = y_pred\n",
    "    hard_labels = y\n",
    "    #y_logits = np.zeros((len(y_pred),2))\n",
    "    #y_logits[:,0] = y_pred\n",
    "    #y_logits[:,1] = -y_pred\n",
    "    #y_labels = np.zeros((len(y_pred),2))\n",
    "    #y_labels[:,0] = y\n",
    "    #y_labels[:,1] = -y\n",
    "    #y_labels = (y_labels + 1)/2\n",
    "    #print(labels[:10])\n",
    "    print(type(labels))\n",
    "    print(type(logits))\n",
    "    #print(sigmoid_logits)\n",
    "    #print(hard_labels)\n",
    "    error_tensor = sigmoid_xent(sigmoid_logits, hard_labels)#tf.nn.softmax_cross_entropy_with_logits(labels, logits)\n",
    "\n",
    "    #print(type(jax.nn.softmax(labels,logits)))\n",
    "    #print(type(error_tensor))\n",
    "    #print(error_tensor)\n",
    "    return error_tensor#(1/len(x))*jnp.sum(error_tensor)\n",
    "\n",
    "#print(my_loss_function(x[:1],y[:1],w[0],w[1], w[2]))\n",
    "#print(my_loss_function(x[:],y[:],w[0],w[1], w[2]))\n",
    "print(my2nd_loss_function(x,y,w[0],w[1],w[2]))\n",
    "\n",
    "#print(w_1*x[:,0] + w_2*x[:,1] + b)\n",
    "#print(linclass_forward(x,w))\n",
    "\"\"\"\n"
   ]
  },
  {
   "cell_type": "code",
   "execution_count": 627,
   "metadata": {
    "tags": []
   },
   "outputs": [
    {
     "name": "stdout",
     "output_type": "stream",
     "text": [
      "[-1.1770327  -0.56005454 -0.35556287]\n",
      "(Array(0.51644397, dtype=float32), Array(1.6492624, dtype=float32), Array(0.4866529, dtype=float32), 1, 1, 1)\n"
     ]
    }
   ],
   "source": [
    "grad_loss_function = jit(jax.grad(my2nd_loss_function, argnums=[2,3,4]))\n",
    "w_1 = w[0]\n",
    "w_2 = w[1]\n",
    "b = w[2]\n",
    "gradients = grad_loss_function(x, y, w_1,w_2,b)\n",
    "print(w)\n",
    "print(gradients + (1,1,1))\n"
   ]
  },
  {
   "cell_type": "markdown",
   "metadata": {},
   "source": [
    "> Gradient Descent"
   ]
  },
  {
   "cell_type": "code",
   "execution_count": 644,
   "metadata": {
    "tags": []
   },
   "outputs": [
    {
     "name": "stdout",
     "output_type": "stream",
     "text": [
      "[-0.57239056  0.5117083   2.207908  ]\n",
      "[1 1 1 0 1 0 0 0 1 1 1 0 1 0 0 0 1 0 1 0 1 1 0 1 0 0 0 1 1 1 0 1 0 0 0 1 1\n",
      " 0 1 1 1 0 0 1 0 1 1 0 1 0 0 0 1 0 0 1 1 0 0 1 1 1 1 0 1 0 0 1 0 1 1 0 1 1\n",
      " 0 0 1 0 1 0 0 1 0 1 1 0 1 0 0 1 1 0 0 0 0 1 1 0 1 0 0 1 1 0 0 1 1 1 0 0 1\n",
      " 1 0 0 1 0 1 0 1 1 1 0 0 0 1 0 0 0 1 0 1 0 0 1 1 1 0 0 0 1 0 0 0 0 0 0 1 0\n",
      " 0 1 0 0 0 1 1 1 1 0 0 0 1 1 0 1 1 0 0 1 0 0 0 1 1 0 1 1 1 1 1 1 1 0 0 1 0\n",
      " 0 1 1 1 0 1 0 0 0 1 1 1 1 1 1]\n",
      "0.03761614\n",
      "[Array(-1.0580198, dtype=float32), Array(-1.3042995, dtype=float32), Array(1.635888, dtype=float32)]\n"
     ]
    }
   ],
   "source": [
    "num_features = 2\n",
    "\n",
    "key = random.PRNGKey(13)\n",
    "subkeys = random.split(key, num_features + 1)\n",
    "\n",
    "# w = [w_1 w_2 ... w_n b]\n",
    "w = jnp.array([random.normal(k) for k in subkeys])\n",
    "\n",
    "print(w)\n",
    "\n",
    "def gradient_descent(x, y, w, lr=0.05, n_iter=100):\n",
    "    loss_history = []\n",
    "    for _ in range(n_iter):\n",
    "        gradients = grad_loss_function(x, y, w[0], w[1], w[2])\n",
    "        #print(gradients[0])\n",
    "        #print(\"grads: \", jnp.asarray(gradients))\n",
    "        #print(w)\n",
    "        w -= lr * jnp.asarray(gradients)\n",
    "        #print(w)\n",
    "        loss_history.append(my2nd_loss_function(x, y, w[0], w[1], w[2]))\n",
    "    return w[0], w[1], w[2], loss_history\n",
    "\n",
    "key_gd, key = random.split(key, 2)\n",
    "print(y_classes)\n",
    "w_1, w_2, b, loss_history = gradient_descent(x, y_classes, w)\n",
    "print(loss_history[-1])\n",
    "print([w_1,w_2,b])\n"
   ]
  },
  {
   "cell_type": "code",
   "execution_count": 645,
   "metadata": {
    "tags": []
   },
   "outputs": [
    {
     "data": {},
     "metadata": {},
     "output_type": "display_data"
    },
    {
     "data": {
      "application/vnd.holoviews_exec.v0+json": "",
      "text/html": [
       "<div id='14344'>\n",
       "  <div class=\"bk-root\" id=\"2ae2fac1-d722-4589-806c-63eb2c3ea226\" data-root-id=\"14344\"></div>\n",
       "</div>\n",
       "<script type=\"application/javascript\">(function(root) {\n",
       "  function embed_document(root) {\n",
       "    var docs_json = {\"9eaab6e9-862c-4a53-8658-6fc6d5053256\":{\"defs\":[{\"extends\":null,\"module\":null,\"name\":\"ReactiveHTML1\",\"overrides\":[],\"properties\":[]},{\"extends\":null,\"module\":null,\"name\":\"FlexBox1\",\"overrides\":[],\"properties\":[{\"default\":\"flex-start\",\"kind\":null,\"name\":\"align_content\"},{\"default\":\"flex-start\",\"kind\":null,\"name\":\"align_items\"},{\"default\":\"row\",\"kind\":null,\"name\":\"flex_direction\"},{\"default\":\"wrap\",\"kind\":null,\"name\":\"flex_wrap\"},{\"default\":\"flex-start\",\"kind\":null,\"name\":\"justify_content\"}]},{\"extends\":null,\"module\":null,\"name\":\"GridStack1\",\"overrides\":[],\"properties\":[{\"default\":\"warn\",\"kind\":null,\"name\":\"mode\"},{\"default\":null,\"kind\":null,\"name\":\"ncols\"},{\"default\":null,\"kind\":null,\"name\":\"nrows\"},{\"default\":true,\"kind\":null,\"name\":\"allow_resize\"},{\"default\":true,\"kind\":null,\"name\":\"allow_drag\"},{\"default\":[],\"kind\":null,\"name\":\"state\"}]},{\"extends\":null,\"module\":null,\"name\":\"click1\",\"overrides\":[],\"properties\":[{\"default\":\"\",\"kind\":null,\"name\":\"terminal_output\"},{\"default\":\"\",\"kind\":null,\"name\":\"debug_name\"},{\"default\":0,\"kind\":null,\"name\":\"clears\"}]},{\"extends\":null,\"module\":null,\"name\":\"NotificationAreaBase1\",\"overrides\":[],\"properties\":[{\"default\":\"bottom-right\",\"kind\":null,\"name\":\"position\"},{\"default\":0,\"kind\":null,\"name\":\"_clear\"}]},{\"extends\":null,\"module\":null,\"name\":\"NotificationArea1\",\"overrides\":[],\"properties\":[{\"default\":[],\"kind\":null,\"name\":\"notifications\"},{\"default\":\"bottom-right\",\"kind\":null,\"name\":\"position\"},{\"default\":0,\"kind\":null,\"name\":\"_clear\"},{\"default\":[{\"background\":\"#ffc107\",\"icon\":{\"className\":\"fas fa-exclamation-triangle\",\"color\":\"white\",\"tagName\":\"i\"},\"type\":\"warning\"},{\"background\":\"#007bff\",\"icon\":{\"className\":\"fas fa-info-circle\",\"color\":\"white\",\"tagName\":\"i\"},\"type\":\"info\"}],\"kind\":null,\"name\":\"types\"}]},{\"extends\":null,\"module\":null,\"name\":\"Notification\",\"overrides\":[],\"properties\":[{\"default\":null,\"kind\":null,\"name\":\"background\"},{\"default\":3000,\"kind\":null,\"name\":\"duration\"},{\"default\":null,\"kind\":null,\"name\":\"icon\"},{\"default\":\"\",\"kind\":null,\"name\":\"message\"},{\"default\":null,\"kind\":null,\"name\":\"notification_type\"},{\"default\":false,\"kind\":null,\"name\":\"_destroyed\"}]},{\"extends\":null,\"module\":null,\"name\":\"TemplateActions1\",\"overrides\":[],\"properties\":[{\"default\":0,\"kind\":null,\"name\":\"open_modal\"},{\"default\":0,\"kind\":null,\"name\":\"close_modal\"}]},{\"extends\":null,\"module\":null,\"name\":\"MaterialTemplateActions1\",\"overrides\":[],\"properties\":[{\"default\":0,\"kind\":null,\"name\":\"open_modal\"},{\"default\":0,\"kind\":null,\"name\":\"close_modal\"}]}],\"roots\":{\"references\":[{\"attributes\":{\"overlay\":{\"id\":\"14295\"}},\"id\":\"14292\",\"type\":\"LassoSelectTool\"},{\"attributes\":{},\"id\":\"14286\",\"type\":\"RedoTool\"},{\"attributes\":{\"children\":[{\"id\":\"14347\"},{\"id\":\"14261\"},{\"id\":\"14378\"}],\"margin\":[0,0,0,0],\"name\":\"Row00649\"},\"id\":\"14346\",\"type\":\"Row\"},{\"attributes\":{\"source\":{\"id\":\"14313\"}},\"id\":\"14318\",\"type\":\"CDSView\"},{\"attributes\":{},\"id\":\"14289\",\"type\":\"SaveTool\"},{\"attributes\":{\"coordinates\":null,\"formatter\":{\"id\":\"14329\"},\"group\":null,\"major_label_policy\":{\"id\":\"14330\"},\"ticker\":{\"id\":\"14275\"}},\"id\":\"14274\",\"type\":\"LinearAxis\"},{\"attributes\":{\"overlay\":{\"id\":\"14294\"}},\"id\":\"14284\",\"type\":\"BoxZoomTool\"},{\"attributes\":{\"overlay\":{\"id\":\"14293\"}},\"id\":\"14290\",\"type\":\"BoxSelectTool\"},{\"attributes\":{\"margin\":[5,5,5,5],\"name\":\"HSpacer00646\",\"sizing_mode\":\"stretch_width\"},\"id\":\"14378\",\"type\":\"Spacer\"},{\"attributes\":{\"children\":[{\"id\":\"14345\"},{\"id\":\"14346\"},{\"id\":\"14379\"}],\"margin\":[0,0,0,0],\"name\":\"Row00652\"},\"id\":\"14344\",\"type\":\"Row\"},{\"attributes\":{\"coordinates\":null,\"group\":null,\"items\":[{\"id\":\"14343\"}]},\"id\":\"14342\",\"type\":\"Legend\"},{\"attributes\":{\"line_alpha\":0.2,\"line_color\":\"green\",\"line_dash\":[6],\"line_width\":6,\"x\":{\"field\":\"x\"},\"y\":{\"field\":\"y\"}},\"id\":\"14324\",\"type\":\"Line\"},{\"attributes\":{\"margin\":[5,5,5,5],\"name\":\"HSpacer00645\",\"sizing_mode\":\"stretch_width\"},\"id\":\"14347\",\"type\":\"Spacer\"},{\"attributes\":{},\"id\":\"14268\",\"type\":\"LinearScale\"},{\"attributes\":{\"fill_alpha\":{\"value\":0.2},\"fill_color\":{\"field\":\"fill_color\"},\"hatch_alpha\":{\"value\":0.2},\"line_alpha\":{\"value\":0.2},\"line_color\":{\"value\":null},\"radius\":{\"value\":0.05},\"x\":{\"field\":\"x\"},\"y\":{\"field\":\"y\"}},\"id\":\"14316\",\"type\":\"Circle\"},{\"attributes\":{\"coordinates\":null,\"data_source\":{\"id\":\"14313\"},\"glyph\":{\"id\":\"14314\"},\"group\":null,\"hover_glyph\":null,\"muted_glyph\":{\"id\":\"14316\"},\"nonselection_glyph\":{\"id\":\"14315\"},\"view\":{\"id\":\"14318\"}},\"id\":\"14317\",\"type\":\"GlyphRenderer\"},{\"attributes\":{\"coordinates\":null,\"fill_alpha\":0.5,\"fill_color\":\"lightgrey\",\"group\":null,\"level\":\"overlay\",\"line_alpha\":1.0,\"line_color\":\"black\",\"line_dash\":[4,4],\"line_width\":2,\"syncable\":false,\"xs_units\":\"screen\",\"ys_units\":\"screen\"},\"id\":\"14296\",\"type\":\"PolyAnnotation\"},{\"attributes\":{\"data\":{\"fill_color\":{\"__ndarray__\":\"ZMgAZMgAZMgAZAD/ZMgAZAD/ZAD/ZAD/ZMgAZMgAZMgAZAD/ZMgAZAD/ZAD/ZAD/ZMgAZAD/ZMgAZAD/ZMgAZMgAZAD/ZMgAZAD/ZAD/ZAD/ZMgAZMgAZMgAZAD/ZMgAZAD/ZAD/ZAD/ZMgAZMgAZAD/ZMgAZMgAZMgAZAD/ZAD/ZMgAZAD/ZMgAZMgAZAD/ZMgAZAD/ZAD/ZAD/ZMgAZAD/ZAD/ZMgAZMgAZAD/ZAD/ZMgAZMgAZMgAZMgAZAD/ZMgAZAD/ZAD/ZMgAZAD/ZMgAZMgAZAD/ZMgAZMgAZAD/ZAD/ZMgAZAD/ZMgAZAD/ZAD/ZMgAZAD/ZMgAZMgAZAD/ZMgAZAD/ZAD/ZMgAZMgAZAD/ZAD/ZAD/ZAD/ZMgAZMgAZAD/ZMgAZAD/ZAD/ZMgAZMgAZAD/ZAD/ZMgAZMgAZMgAZAD/ZAD/ZMgAZMgAZAD/ZAD/ZMgAZAD/ZMgAZAD/ZMgAZMgAZMgAZAD/ZAD/ZAD/ZMgAZAD/ZAD/ZAD/ZMgAZAD/ZMgAZAD/ZAD/ZMgAZMgAZMgAZAD/ZAD/ZAD/ZMgAZAD/ZAD/ZAD/ZAD/ZAD/ZAD/ZMgAZAD/ZAD/ZMgAZAD/ZAD/ZAD/ZMgAZMgAZMgAZMgAZAD/ZAD/ZAD/ZMgAZMgAZAD/ZMgAZMgAZAD/ZAD/ZMgAZAD/ZAD/ZAD/ZMgAZMgAZAD/ZMgAZMgAZMgAZMgAZMgAZMgAZMgAZAD/ZAD/ZMgAZAD/ZAD/ZMgAZMgAZMgAZAD/ZMgAZAD/ZAD/ZAD/ZMgAZMgAZMgAZMgAZMgAZMgA\",\"dtype\":\"uint8\",\"order\":\"little\",\"shape\":[200,3]},\"x\":{\"__ndarray__\":\"WAgWwNbNsL8mrTPAezulP/7JKsBCJgFAkuyDP5DkiT8inAzAej4FwGqi67+x9bg/HITxv6Qsoj4+tRY/LFM6veZ+N8ACxps/54a5vwMbrT8N2zrAYzNNwK2t2T+e20LAts1gPyIthD85puk+r+rbv4hpTsCnyTDACe5FP+3IQ8DwuNM+WoxMPtvUej/Epvq/4dYNwFD2cz+7zwzAna6nv813IMBhMlk/uos3v1BJs7+xapA/82P0v4gaB8DYMh8/IUJDv8myBb8X5/U/60P2PRMgBsDB3gy/WRLSPsB7mb/caxXARJouP/lasz+jRBDA7RmEv1NdBMCZOpy/0oASP1C+zr96kfI/4qmlPtrhDsBM2h1AW5phv8GS67+kW2Y/rDEWwJP+1b+P9Ro+bw6CP9lQCMC+fay+EkMIwJW/qz7p4AlAzZ8Nv7Ez8T/t9iDATWXhv/+JNT+snsS/pqUJQC6QUj+vWqC/cd/mvq9xvj/E8Gg/dLfTPyxIyD+Ti6u/oknJvylO0D8+xgTAVXBhP9R1lT9ugMq/moH/v8cijz55djM+kUgPwHYuK8Dr2/2/+ukbP4mElz+MGJK/WkYewOPjEECK8Xw/YvOcv8+LyT8wP7m/YLK4P2NkqL+trSDA9fr9v5lZlz/hjHE9xeLQPyYQ3b9fRhs+N+SevpjHDD7mmhjAfXpBP7wTFMDw3P0/g5CNP0Glq78t8WXA4MXxv02YXz9xDpM+U9oKv9i0FcC5b/Q+GCWdP9AINL/v1oQ/bylwP/3fnb6I5RPADZSqP1Td2D9A9wPAZOCnPxLnob6ucw0/51SCv1tcJMDOdh3A7CxIwLbKDT9oHrE/2kmgP9GchL/N57e/YY1yP80Fs79oRi3AJs42P2MuMD/i2RDATai9P5n6qz80/fk+GXYHwKTBFcCMhNw+JeUSwOkvI8BbwiLAyfQZwPCnIMBvzC/AgeMqwH/NyT+nc3o/McFSwFeZoj9IJt8/yNcawPItR79D2ve/Xz+bvnl2879qwc09paJeP9PYaj+SlhTA6apEwOJVSr/E/SnAJ+QuwCSWScA=\",\"dtype\":\"float32\",\"order\":\"little\",\"shape\":[200]},\"y\":{\"__ndarray__\":\"9N5Fv2mFib2V/JO9zSlCQALHRb9D6JVAWupGQIqYJUAx8JC/gybVvTs8G755dkFALLQUwEndAEDawjxAHkUnQFcmNr/7h0pAMPhOv/TkcEBNrHq+ENmuvxjlV0Div9i/aIkuQANIXUCsZC9AntsJv6aqjz7bZXy/P9WDQNf5Mz/Q2mBA95ZAQInZJkACEGS/D3+mvsM4XUAhn1O/dOjJv/TLAsDuRlNAlJVnQHbDNr9ns1VAo4LbvbHYeb9biilAi+xDwKomdUA8oAJAvDhtQJ1AVb/8ST1AedcJQHFgw76inJG/Jr8UQOYmIkC1OA6/oLCLv9ENLb+D/UK/79NSQEqhHD5dFhtA1FgzQEXTjb+srEpAImVtvwfm3r4IByNAiAhgv9wTE8DdJoxAhxwWQAV4CMASZvM/liePv/I8l0B7JQtAtkuhv/y9D0Anfdi+1nmVv8VDOED22BA+tU9pQEZ0QUCxSb6/ek7rvyCHVUCUcVlAY7EuQIvUYkDh3Q7AWE/Dv1GAhkBSsyXAEYM4QMJSWkDu7OC/FsmZv3Z+QUC8MgNA0bAMwH/vir8b8p2/RVtGQGSlU0DCs8S/0vKov2TwUkBBQEFAd1n7vjyK5j/nxBTAokhtQLnNrL8Xqug+XcmPv/VQnD/VtIJA6KldQLHSmD8QamRAXBxNQGWUVUB39pE/rK9tQDG/er/qoiZAPAFEQGUzuL9IniO/G/4Wv/CUUEAgr+o/8bRCQIRBPb9a6UNAjegFQI1eRUDPunNAhAoeQPn7TEClQAi/E05xQEK3GkCbC76/ugdaQLV9e0A/bkdAUVTRvx4Vvb53OrO/rWd4v77+RkCV2UdAlumHQBSSlL9PNr6/4Dx2QClsmL6Hh/a/JVE+QPtMaECxG1G/JHdRQEP39j+IzyhA9JHBv7oExL63OTlAuq6Iv+sdqL/sW6O/P49kv/Wcir+bZQK/cMQOPucfL0AZVlNAy0xDv+3emj9gWxlAmtmiv5tra78zoFy/wTgKQHcI6L+TgXlA9pVkQKjCQ0Auvba/dle3v8WGtb92F8a+SjrYv/UVmb8=\",\"dtype\":\"float32\",\"order\":\"little\",\"shape\":[200]}},\"selected\":{\"id\":\"14335\"},\"selection_policy\":{\"id\":\"14334\"}},\"id\":\"14313\",\"type\":\"ColumnDataSource\"},{\"attributes\":{\"below\":[{\"id\":\"14270\"}],\"center\":[{\"id\":\"14273\"},{\"id\":\"14277\"},{\"id\":\"14342\"}],\"left\":[{\"id\":\"14274\"}],\"match_aspect\":true,\"renderers\":[{\"id\":\"14317\"},{\"id\":\"14325\"}],\"title\":{\"id\":\"14319\"},\"toolbar\":{\"id\":\"14297\"},\"x_range\":{\"id\":\"14262\"},\"x_scale\":{\"id\":\"14266\"},\"y_range\":{\"id\":\"14264\"},\"y_scale\":{\"id\":\"14268\"}},\"id\":\"14261\",\"subtype\":\"Figure\",\"type\":\"Plot\"},{\"attributes\":{\"fill_alpha\":{\"value\":0.6},\"fill_color\":{\"field\":\"fill_color\"},\"line_color\":{\"value\":null},\"radius\":{\"value\":0.05},\"x\":{\"field\":\"x\"},\"y\":{\"field\":\"y\"}},\"id\":\"14314\",\"type\":\"Circle\"},{\"attributes\":{\"axis\":{\"id\":\"14274\"},\"coordinates\":null,\"dimension\":1,\"group\":null,\"ticker\":null},\"id\":\"14277\",\"type\":\"Grid\"},{\"attributes\":{\"line_alpha\":0.6,\"line_color\":\"green\",\"line_dash\":[6],\"line_width\":6,\"x\":{\"field\":\"x\"},\"y\":{\"field\":\"y\"}},\"id\":\"14322\",\"type\":\"Line\"},{\"attributes\":{},\"id\":\"14329\",\"type\":\"BasicTickFormatter\"},{\"attributes\":{\"fill_alpha\":{\"value\":0.1},\"fill_color\":{\"field\":\"fill_color\"},\"hatch_alpha\":{\"value\":0.1},\"line_alpha\":{\"value\":0.1},\"line_color\":{\"value\":null},\"radius\":{\"value\":0.05},\"x\":{\"field\":\"x\"},\"y\":{\"field\":\"y\"}},\"id\":\"14315\",\"type\":\"Circle\"},{\"attributes\":{\"callback\":null},\"id\":\"14278\",\"type\":\"HoverTool\"},{\"attributes\":{\"margin\":[5,5,5,5],\"name\":\"HSpacer00651\",\"sizing_mode\":\"stretch_width\"},\"id\":\"14379\",\"type\":\"Spacer\"},{\"attributes\":{\"coordinates\":null,\"group\":null,\"text\":\"Trained Model for Linear Classification\",\"text_font_size\":\"20pt\"},\"id\":\"14319\",\"type\":\"Title\"},{\"attributes\":{},\"id\":\"14281\",\"type\":\"WheelZoomTool\"},{\"attributes\":{\"callback\":null},\"id\":\"14288\",\"type\":\"TapTool\"},{\"attributes\":{},\"id\":\"14266\",\"type\":\"LinearScale\"},{\"attributes\":{},\"id\":\"14336\",\"type\":\"UnionRenderers\"},{\"attributes\":{},\"id\":\"14330\",\"type\":\"AllLabels\"},{\"attributes\":{\"line_alpha\":0.1,\"line_color\":\"green\",\"line_dash\":[6],\"line_width\":6,\"x\":{\"field\":\"x\"},\"y\":{\"field\":\"y\"}},\"id\":\"14323\",\"type\":\"Line\"},{\"attributes\":{\"bottom_units\":\"screen\",\"coordinates\":null,\"fill_alpha\":0.5,\"fill_color\":\"lightgrey\",\"group\":null,\"left_units\":\"screen\",\"level\":\"overlay\",\"line_alpha\":1.0,\"line_color\":\"black\",\"line_dash\":[4,4],\"line_width\":2,\"right_units\":\"screen\",\"syncable\":false,\"top_units\":\"screen\"},\"id\":\"14293\",\"type\":\"BoxAnnotation\"},{\"attributes\":{\"client_comm_id\":\"38b3e869f179494eb468e50ba0aa1b48\",\"comm_id\":\"5503d1e632804e6c97fdd91e18f13e6b\",\"plot_id\":\"14344\"},\"id\":\"14425\",\"type\":\"panel.models.comm_manager.CommManager\"},{\"attributes\":{\"tools\":[{\"id\":\"14278\"},{\"id\":\"14279\"},{\"id\":\"14280\"},{\"id\":\"14281\"},{\"id\":\"14282\"},{\"id\":\"14283\"},{\"id\":\"14284\"},{\"id\":\"14285\"},{\"id\":\"14286\"},{\"id\":\"14287\"},{\"id\":\"14288\"},{\"id\":\"14289\"},{\"id\":\"14290\"},{\"id\":\"14291\"},{\"id\":\"14292\"}]},\"id\":\"14297\",\"type\":\"Toolbar\"},{\"attributes\":{\"margin\":[5,5,5,5],\"name\":\"HSpacer00650\",\"sizing_mode\":\"stretch_width\"},\"id\":\"14345\",\"type\":\"Spacer\"},{\"attributes\":{\"source\":{\"id\":\"14321\"}},\"id\":\"14326\",\"type\":\"CDSView\"},{\"attributes\":{},\"id\":\"14332\",\"type\":\"BasicTickFormatter\"},{\"attributes\":{},\"id\":\"14287\",\"type\":\"ResetTool\"},{\"attributes\":{},\"id\":\"14275\",\"type\":\"BasicTicker\"},{\"attributes\":{},\"id\":\"14280\",\"type\":\"PanTool\"},{\"attributes\":{},\"id\":\"14333\",\"type\":\"AllLabels\"},{\"attributes\":{},\"id\":\"14337\",\"type\":\"Selection\"},{\"attributes\":{},\"id\":\"14279\",\"type\":\"CrosshairTool\"},{\"attributes\":{\"coordinates\":null,\"formatter\":{\"id\":\"14332\"},\"group\":null,\"major_label_policy\":{\"id\":\"14333\"},\"ticker\":{\"id\":\"14271\"}},\"id\":\"14270\",\"type\":\"LinearAxis\"},{\"attributes\":{\"coordinates\":null,\"fill_alpha\":0.5,\"fill_color\":\"lightgrey\",\"group\":null,\"level\":\"overlay\",\"line_alpha\":1.0,\"line_color\":\"black\",\"line_dash\":[4,4],\"line_width\":2,\"syncable\":false,\"xs_units\":\"screen\",\"ys_units\":\"screen\"},\"id\":\"14295\",\"type\":\"PolyAnnotation\"},{\"attributes\":{},\"id\":\"14282\",\"type\":\"ZoomInTool\"},{\"attributes\":{\"bottom_units\":\"screen\",\"coordinates\":null,\"fill_alpha\":0.5,\"fill_color\":\"lightgrey\",\"group\":null,\"left_units\":\"screen\",\"level\":\"overlay\",\"line_alpha\":1.0,\"line_color\":\"black\",\"line_dash\":[4,4],\"line_width\":2,\"right_units\":\"screen\",\"syncable\":false,\"top_units\":\"screen\"},\"id\":\"14294\",\"type\":\"BoxAnnotation\"},{\"attributes\":{\"axis\":{\"id\":\"14270\"},\"coordinates\":null,\"group\":null,\"ticker\":null},\"id\":\"14273\",\"type\":\"Grid\"},{\"attributes\":{\"coordinates\":null,\"data_source\":{\"id\":\"14321\"},\"glyph\":{\"id\":\"14322\"},\"group\":null,\"hover_glyph\":null,\"muted_glyph\":{\"id\":\"14324\"},\"nonselection_glyph\":{\"id\":\"14323\"},\"view\":{\"id\":\"14326\"}},\"id\":\"14325\",\"type\":\"GlyphRenderer\"},{\"attributes\":{},\"id\":\"14285\",\"type\":\"UndoTool\"},{\"attributes\":{},\"id\":\"14271\",\"type\":\"BasicTicker\"},{\"attributes\":{},\"id\":\"14264\",\"type\":\"DataRange1d\"},{\"attributes\":{},\"id\":\"14334\",\"type\":\"UnionRenderers\"},{\"attributes\":{},\"id\":\"14283\",\"type\":\"ZoomOutTool\"},{\"attributes\":{\"label\":{\"value\":\"Decision Boundary\"},\"renderers\":[{\"id\":\"14325\"}]},\"id\":\"14343\",\"type\":\"LegendItem\"},{\"attributes\":{},\"id\":\"14335\",\"type\":\"Selection\"},{\"attributes\":{},\"id\":\"14262\",\"type\":\"DataRange1d\"},{\"attributes\":{\"overlay\":{\"id\":\"14296\"}},\"id\":\"14291\",\"type\":\"PolySelectTool\"},{\"attributes\":{\"data\":{\"x\":{\"__ndarray__\":\"cDRFwh4W/b+ioVCtbBv8v9UOXJi6IPu/B3xngwgm+r866XJuViv5v2xWflmkMPi/nsOJRPI197/QMJUvQDv2vwSeoBqOQPW/NgusBdxF9L9oeLfwKUvzv5rlwtt3UPK/zlLOxsVV8b8AwNmxE1vwv2RayjnDwO6/yDThD1/L7L8wD/jl+tXqv5TpDryW4Oi/+MMlkjLr5r9cnjxozvXkv8B4Uz5qAOO/KFNqFAYL4b8YWwLVQyvev+APMIF7QNq/qMRdLbNV1r94eYvZ6mrSv4BccgtFAM2/EMbNY7Qqxb9AX1J4R6q6vwBlElJM/qW/gOn/mOyvkj9AJ4l1HFe0PxAqaeIeAcI/cMANiq/WyT9wK9kYINbQP6h2q2zowNQ/4MF9wLCr2D8QDVAUeZbcPygsEbSgQOA/wFH63QQ24j9Yd+MHaSvkP/iczDHNIOY/kMK1WzEW6D8w6J6FlQvqP8gNiK/5AOw/YDNx2V327T8AWVoDwuvvP0y/oRaT8PA/GFKWK0Xr8T/o5IpA9+XyP7R3f1Wp4PM/\",\"dtype\":\"float64\",\"order\":\"little\",\"shape\":[51]},\"y\":{\"__ndarray__\":\"+XOebAZhEkA4mIUfV8QRQHi8bNKnJxFAt+BThfiKEEDvCXZwktwPQG1SRNYzow5A7JoSPNVpDUBq4+ChdjAMQOsrrwcY9wpAanR9bbm9CUDovEvTWoQIQGcFGjn8SgdA6E3onp0RBkBmlrYEP9gEQOXehGrgngNAYydT0IFlAkDkbyE2IywBQMZw3zeJ5f8/wwF8A8xy/T/AkhjPDgD7P70jtZpRjfg/v7RRZpQa9j+8Re4x16fzP7nWiv0ZNfE/bM9OkrmE7T9w8YcpP5/oP2kTwcDEueM/xmr0r5So3T+7rmben93TP4blsRlWJcQ/zq3N0o7tcT+pCoUsfQbDv2BB0GczTtO/Wf1dOSgZ3b+y3HWFDnLjv7i6PO6IV+i/vpgDVwM97b9dO+XfPhHxv2WqSBT8g/O/YxmsSLn29b9hiA99dmn4v2n3crEz3Pq/Z2bW5fBO/b9v1TkarsH/vzaiTqc1GgHAtVmAQZRTAsA5EbLb8owDwLjI43VRxgTAN4AVELD/BcC7N0eqDjkHwDrveERtcgjA\",\"dtype\":\"float64\",\"order\":\"little\",\"shape\":[51]}},\"selected\":{\"id\":\"14337\"},\"selection_policy\":{\"id\":\"14336\"}},\"id\":\"14321\",\"type\":\"ColumnDataSource\"}],\"root_ids\":[\"14344\",\"14425\"]},\"title\":\"Bokeh Application\",\"version\":\"2.4.3\"}};\n",
       "    var render_items = [{\"docid\":\"9eaab6e9-862c-4a53-8658-6fc6d5053256\",\"root_ids\":[\"14344\"],\"roots\":{\"14344\":\"2ae2fac1-d722-4589-806c-63eb2c3ea226\"}}];\n",
       "    root.Bokeh.embed.embed_items_notebook(docs_json, render_items);\n",
       "    for (const render_item of render_items) {\n",
       "      for (const root_id of render_item.root_ids) {\n",
       "\tconst id_el = document.getElementById(root_id)\n",
       "\tif (id_el.children.length && (id_el.children[0].className === 'bk-root')) {\n",
       "\t  const root_el = id_el.children[0]\n",
       "\t  root_el.id = root_el.id + '-rendered'\n",
       "\t}\n",
       "      }\n",
       "    }\n",
       "  }\n",
       "  if (root.Bokeh !== undefined && root.Bokeh.Panel !== undefined) {\n",
       "    embed_document(root);\n",
       "  } else {\n",
       "    var attempts = 0;\n",
       "    var timer = setInterval(function(root) {\n",
       "      if (root.Bokeh !== undefined && root.Bokeh.Panel !== undefined) {\n",
       "        clearInterval(timer);\n",
       "        embed_document(root);\n",
       "      } else if (document.readyState == \"complete\") {\n",
       "        attempts++;\n",
       "        if (attempts > 200) {\n",
       "          clearInterval(timer);\n",
       "          console.log(\"Bokeh: ERROR: Unable to run BokehJS code because BokehJS library is missing\");\n",
       "        }\n",
       "      }\n",
       "    }, 25, root)\n",
       "  }\n",
       "})(window);</script>"
      ],
      "text/plain": [
       "Row\n",
       "    [0] HSpacer()\n",
       "    [1] Row\n",
       "        [0] HSpacer()\n",
       "        [1] Bokeh(Figure)\n",
       "        [2] HSpacer()\n",
       "    [2] HSpacer()"
      ]
     },
     "execution_count": 645,
     "metadata": {
      "application/vnd.holoviews_exec.v0+json": {
       "id": "14344"
      }
     },
     "output_type": "execute_result"
    }
   ],
   "source": [
    "p = plot_decision_boundary_2Dlinclass(x_data,y_class, [-0.5,-0.2,0.01])\n",
    "plot = (center_plot(p))\n",
    "plot\n",
    "\n",
    "\n"
   ]
  },
  {
   "cell_type": "code",
   "execution_count": 664,
   "metadata": {
    "tags": []
   },
   "outputs": [
    {
     "data": {},
     "metadata": {},
     "output_type": "display_data"
    },
    {
     "data": {
      "application/vnd.holoviews_exec.v0+json": "",
      "text/html": [
       "<div id='14903'>\n",
       "  <div class=\"bk-root\" id=\"bca8d26b-b75d-496e-8251-98472063722e\" data-root-id=\"14903\"></div>\n",
       "</div>\n",
       "<script type=\"application/javascript\">(function(root) {\n",
       "  function embed_document(root) {\n",
       "    var docs_json = {\"f461999d-7d62-4388-871f-3390c1c0a790\":{\"defs\":[{\"extends\":null,\"module\":null,\"name\":\"ReactiveHTML1\",\"overrides\":[],\"properties\":[]},{\"extends\":null,\"module\":null,\"name\":\"FlexBox1\",\"overrides\":[],\"properties\":[{\"default\":\"flex-start\",\"kind\":null,\"name\":\"align_content\"},{\"default\":\"flex-start\",\"kind\":null,\"name\":\"align_items\"},{\"default\":\"row\",\"kind\":null,\"name\":\"flex_direction\"},{\"default\":\"wrap\",\"kind\":null,\"name\":\"flex_wrap\"},{\"default\":\"flex-start\",\"kind\":null,\"name\":\"justify_content\"}]},{\"extends\":null,\"module\":null,\"name\":\"GridStack1\",\"overrides\":[],\"properties\":[{\"default\":\"warn\",\"kind\":null,\"name\":\"mode\"},{\"default\":null,\"kind\":null,\"name\":\"ncols\"},{\"default\":null,\"kind\":null,\"name\":\"nrows\"},{\"default\":true,\"kind\":null,\"name\":\"allow_resize\"},{\"default\":true,\"kind\":null,\"name\":\"allow_drag\"},{\"default\":[],\"kind\":null,\"name\":\"state\"}]},{\"extends\":null,\"module\":null,\"name\":\"click1\",\"overrides\":[],\"properties\":[{\"default\":\"\",\"kind\":null,\"name\":\"terminal_output\"},{\"default\":\"\",\"kind\":null,\"name\":\"debug_name\"},{\"default\":0,\"kind\":null,\"name\":\"clears\"}]},{\"extends\":null,\"module\":null,\"name\":\"NotificationAreaBase1\",\"overrides\":[],\"properties\":[{\"default\":\"bottom-right\",\"kind\":null,\"name\":\"position\"},{\"default\":0,\"kind\":null,\"name\":\"_clear\"}]},{\"extends\":null,\"module\":null,\"name\":\"NotificationArea1\",\"overrides\":[],\"properties\":[{\"default\":[],\"kind\":null,\"name\":\"notifications\"},{\"default\":\"bottom-right\",\"kind\":null,\"name\":\"position\"},{\"default\":0,\"kind\":null,\"name\":\"_clear\"},{\"default\":[{\"background\":\"#ffc107\",\"icon\":{\"className\":\"fas fa-exclamation-triangle\",\"color\":\"white\",\"tagName\":\"i\"},\"type\":\"warning\"},{\"background\":\"#007bff\",\"icon\":{\"className\":\"fas fa-info-circle\",\"color\":\"white\",\"tagName\":\"i\"},\"type\":\"info\"}],\"kind\":null,\"name\":\"types\"}]},{\"extends\":null,\"module\":null,\"name\":\"Notification\",\"overrides\":[],\"properties\":[{\"default\":null,\"kind\":null,\"name\":\"background\"},{\"default\":3000,\"kind\":null,\"name\":\"duration\"},{\"default\":null,\"kind\":null,\"name\":\"icon\"},{\"default\":\"\",\"kind\":null,\"name\":\"message\"},{\"default\":null,\"kind\":null,\"name\":\"notification_type\"},{\"default\":false,\"kind\":null,\"name\":\"_destroyed\"}]},{\"extends\":null,\"module\":null,\"name\":\"TemplateActions1\",\"overrides\":[],\"properties\":[{\"default\":0,\"kind\":null,\"name\":\"open_modal\"},{\"default\":0,\"kind\":null,\"name\":\"close_modal\"}]},{\"extends\":null,\"module\":null,\"name\":\"MaterialTemplateActions1\",\"overrides\":[],\"properties\":[{\"default\":0,\"kind\":null,\"name\":\"open_modal\"},{\"default\":0,\"kind\":null,\"name\":\"close_modal\"}]}],\"roots\":{\"references\":[{\"attributes\":{\"fill_alpha\":{\"value\":0.25},\"fill_color\":{\"value\":\"midnightblue\"},\"hatch_alpha\":{\"value\":0.25},\"line_alpha\":{\"value\":0.25},\"line_color\":{\"value\":\"white\"},\"size\":{\"value\":10},\"x\":{\"field\":\"x\"},\"y\":{\"field\":\"y\"}},\"id\":\"14879\",\"type\":\"Circle\"},{\"attributes\":{\"label\":{\"value\":\"Learning rate: 0.0001\"},\"renderers\":[{\"id\":\"14883\"}]},\"id\":\"14896\",\"type\":\"LegendItem\"},{\"attributes\":{\"fill_alpha\":{\"value\":0.5},\"fill_color\":{\"value\":\"midnightblue\"},\"line_color\":{\"value\":\"white\"}},\"id\":\"14900\",\"type\":\"Circle\"},{\"attributes\":{\"callback\":null,\"mode\":\"vline\",\"renderers\":[{\"id\":\"14883\"}],\"tooltips\":null},\"id\":\"14897\",\"type\":\"HoverTool\"},{\"attributes\":{\"fill_alpha\":{\"value\":0.8},\"fill_color\":{\"value\":\"red\"},\"line_color\":{\"value\":\"white\"}},\"id\":\"14899\",\"type\":\"Circle\"},{\"attributes\":{\"mode\":\"append\",\"overlay\":{\"id\":\"14915\"},\"renderers\":[{\"id\":\"14883\"}]},\"id\":\"14901\",\"type\":\"BoxSelectTool\"},{\"attributes\":{\"background_fill_alpha\":0.25,\"background_fill_color\":\"#505050\",\"border_line_alpha\":0.25,\"coordinates\":null,\"group\":null,\"items\":[{\"id\":\"14896\"}],\"label_standoff\":8,\"label_text_color\":\"#E0E0E0\",\"label_text_font\":\"Josefin Sans\",\"label_text_font_size\":\"1.15em\",\"spacing\":8},\"id\":\"14895\",\"type\":\"Legend\"},{\"attributes\":{\"bottom_units\":\"screen\",\"coordinates\":null,\"fill_alpha\":0.5,\"fill_color\":\"lightgrey\",\"group\":null,\"left_units\":\"screen\",\"level\":\"overlay\",\"line_alpha\":1.0,\"line_color\":\"black\",\"line_dash\":[4,4],\"line_width\":2,\"right_units\":\"screen\",\"syncable\":false,\"top_units\":\"screen\"},\"id\":\"14915\",\"type\":\"BoxAnnotation\"},{\"attributes\":{},\"id\":\"14893\",\"type\":\"Selection\"},{\"attributes\":{\"data\":{\"x\":{\"__ndarray__\":\"AAAAAAAA8D8AAAAAAAAAQAAAAAAAAAhAAAAAAAAAEEAAAAAAAAAUQAAAAAAAABhAAAAAAAAAHEAAAAAAAAAgQAAAAAAAACJAAAAAAAAAJEAAAAAAAAAmQAAAAAAAAChAAAAAAAAAKkAAAAAAAAAsQAAAAAAAAC5AAAAAAAAAMEAAAAAAAAAxQAAAAAAAADJAAAAAAAAAM0AAAAAAAAA0QAAAAAAAADVAAAAAAAAANkAAAAAAAAA3QAAAAAAAADhAAAAAAAAAOUAAAAAAAAA6QAAAAAAAADtAAAAAAAAAPEAAAAAAAAA9QAAAAAAAAD5AAAAAAAAAP0AAAAAAAABAQAAAAAAAgEBAAAAAAAAAQUAAAAAAAIBBQAAAAAAAAEJAAAAAAACAQkAAAAAAAABDQAAAAAAAgENAAAAAAAAAREAAAAAAAIBEQAAAAAAAAEVAAAAAAACARUAAAAAAAABGQAAAAAAAgEZAAAAAAAAAR0AAAAAAAIBHQAAAAAAAAEhAAAAAAACASEAAAAAAAABJQAAAAAAAgElAAAAAAAAASkAAAAAAAIBKQAAAAAAAAEtAAAAAAACAS0AAAAAAAABMQAAAAAAAgExAAAAAAAAATUAAAAAAAIBNQAAAAAAAAE5AAAAAAACATkAAAAAAAABPQAAAAAAAgE9AAAAAAAAAUEAAAAAAAEBQQAAAAAAAgFBAAAAAAADAUEAAAAAAAABRQAAAAAAAQFFAAAAAAACAUUAAAAAAAMBRQAAAAAAAAFJAAAAAAABAUkAAAAAAAIBSQAAAAAAAwFJAAAAAAAAAU0AAAAAAAEBTQAAAAAAAgFNAAAAAAADAU0AAAAAAAABUQAAAAAAAQFRAAAAAAACAVEAAAAAAAMBUQAAAAAAAAFVAAAAAAABAVUAAAAAAAIBVQAAAAAAAwFVAAAAAAAAAVkAAAAAAAEBWQAAAAAAAgFZAAAAAAADAVkAAAAAAAABXQAAAAAAAQFdAAAAAAACAV0AAAAAAAMBXQAAAAAAAAFhAAAAAAABAWEAAAAAAAIBYQAAAAAAAwFhAAAAAAAAAWUA=\",\"dtype\":\"float64\",\"order\":\"little\",\"shape\":[100]},\"y\":{\"__ndarray__\":\"5kTHP9Sttj9XtaY/0nSXP54HiT8mEXc/BB5ePyJXRz/FyzI/TncgP7dCED+JCAI/SjTrPqmJ1T7Nq8I+7TqyPh3goz6WTpc+1UOMPvaGgj5rz3M+oXpkPubKVj5phko+Znw/PrWDNT5+eSw+JEAkPm6+HD7M3hU+u44PPki+CT6rXwQ+3c3+PU+T9T19/ew9a/zkPRKC3T0PgtY9bvHPPXDGyT1r+MM9pX++PS9VuT3ScrQ999KvPZRwqz0bR6c9aVKjPcGOnz27+Js9PI2YPW9JlT27KpI9wC6PPU9TjD1plok9MvaGPfhwhD0pBYI9oGJ/PSboej1nmHY9D3FyPfVvbj0Zk2o9nNhmPbw+Yz3Xw189amZcPQUlWT1T/lU9D/FSPRL8Tz04Hk09eVZKPdyjRz11BUU9YnpCPdQBQD3+mj09K0U7Pab/OD3EyTY966I0PYCKMj32fzA9woIuPWKSLD1grio9RdYoPaAJJz0HSCU9F5EjPW/kIT2zQSA9i6gePaUYHT2zkRs9YhMaPQ==\",\"dtype\":\"float32\",\"order\":\"little\",\"shape\":[100]}},\"selected\":{\"id\":\"14893\"},\"selection_policy\":{\"id\":\"14892\"}},\"id\":\"14878\",\"type\":\"ColumnDataSource\"},{\"attributes\":{},\"id\":\"14891\",\"type\":\"AllLabels\"},{\"attributes\":{\"background_fill_alpha\":0.9,\"background_fill_color\":\"#0f0f0f\",\"below\":[{\"id\":\"14856\"}],\"border_fill_alpha\":0.8,\"border_fill_color\":\"#111111\",\"center\":[{\"id\":\"14859\"},{\"id\":\"14863\"},{\"id\":\"14895\"}],\"height\":450,\"left\":[{\"id\":\"14860\"}],\"outline_line_alpha\":0.25,\"outline_line_color\":\"#E0E0E0\",\"outline_line_width\":3,\"renderers\":[{\"id\":\"14883\"}],\"title\":{\"id\":\"14846\"},\"toolbar\":{\"id\":\"14871\"},\"toolbar_location\":\"left\",\"x_range\":{\"id\":\"14848\"},\"x_scale\":{\"id\":\"14852\"},\"y_range\":{\"id\":\"14850\"},\"y_scale\":{\"id\":\"14854\"}},\"id\":\"14845\",\"subtype\":\"Figure\",\"type\":\"Plot\"},{\"attributes\":{},\"id\":\"14848\",\"type\":\"DataRange1d\"},{\"attributes\":{\"source\":{\"id\":\"14878\"}},\"id\":\"14884\",\"type\":\"CDSView\"},{\"attributes\":{\"axis_label\":\"Sigmoid Cross Entropy\",\"axis_label_standoff\":10,\"axis_label_text_color\":\"#FFFFFF\",\"axis_label_text_font\":\"Josefin Sans\",\"axis_label_text_font_size\":\"1.9em\",\"axis_label_text_font_style\":\"bold\",\"axis_line_alpha\":0.4,\"axis_line_color\":\"#E0E0E0\",\"coordinates\":null,\"formatter\":{\"id\":\"14887\"},\"group\":null,\"major_label_policy\":{\"id\":\"14888\"},\"major_label_text_color\":\"#E0E0E0\",\"major_label_text_font\":\"Josefin Sans\",\"major_label_text_font_size\":\"1.15em\",\"major_tick_line_alpha\":0.4,\"major_tick_line_color\":\"#E0E0E0\",\"minor_tick_line_alpha\":0.4,\"minor_tick_line_color\":\"#E0E0E0\",\"ticker\":{\"id\":\"14861\"}},\"id\":\"14860\",\"type\":\"LinearAxis\"},{\"attributes\":{\"coordinates\":null,\"data_source\":{\"id\":\"14878\"},\"glyph\":{\"id\":\"14879\"},\"group\":null,\"hover_glyph\":{\"id\":\"14881\"},\"muted_glyph\":{\"id\":\"14882\"},\"nonselection_glyph\":{\"id\":\"14900\"},\"selection_glyph\":{\"id\":\"14899\"},\"view\":{\"id\":\"14884\"}},\"id\":\"14883\",\"type\":\"GlyphRenderer\"},{\"attributes\":{},\"id\":\"14887\",\"type\":\"BasicTickFormatter\"},{\"attributes\":{},\"id\":\"14857\",\"type\":\"BasicTicker\"},{\"attributes\":{\"axis\":{\"id\":\"14856\"},\"coordinates\":null,\"grid_line_alpha\":0.15,\"grid_line_color\":\"#E0E0E0\",\"group\":null,\"ticker\":null},\"id\":\"14859\",\"type\":\"Grid\"},{\"attributes\":{},\"id\":\"14854\",\"type\":\"LinearScale\"},{\"attributes\":{},\"id\":\"14888\",\"type\":\"AllLabels\"},{\"attributes\":{\"coordinates\":null,\"group\":null,\"text\":\"Convergence of Loss Function\",\"text_color\":\"#E0E0E0\",\"text_font\":\"Josefin Sans\",\"text_font_size\":\"2.1em\"},\"id\":\"14846\",\"type\":\"Title\"},{\"attributes\":{},\"id\":\"14850\",\"type\":\"DataRange1d\"},{\"attributes\":{},\"id\":\"14852\",\"type\":\"LinearScale\"},{\"attributes\":{},\"id\":\"14890\",\"type\":\"BasicTickFormatter\"},{\"attributes\":{\"axis_label\":\"Iteration\",\"axis_label_standoff\":10,\"axis_label_text_color\":\"#FFFFFF\",\"axis_label_text_font\":\"Josefin Sans\",\"axis_label_text_font_size\":\"1.9em\",\"axis_label_text_font_style\":\"bold\",\"axis_line_alpha\":0.4,\"axis_line_color\":\"#E0E0E0\",\"coordinates\":null,\"formatter\":{\"id\":\"14890\"},\"group\":null,\"major_label_policy\":{\"id\":\"14891\"},\"major_label_text_color\":\"#E0E0E0\",\"major_label_text_font\":\"Josefin Sans\",\"major_label_text_font_size\":\"1.15em\",\"major_tick_line_alpha\":0.4,\"major_tick_line_color\":\"#E0E0E0\",\"minor_tick_line_alpha\":0.4,\"minor_tick_line_color\":\"#E0E0E0\",\"ticker\":{\"id\":\"14857\"}},\"id\":\"14856\",\"type\":\"LinearAxis\"},{\"attributes\":{\"client_comm_id\":\"72eb2381b561400abf90144080d9fcfb\",\"comm_id\":\"1573817bc02049b29874fc46f2ec9b66\",\"plot_id\":\"14903\"},\"id\":\"14961\",\"type\":\"panel.models.comm_manager.CommManager\"},{\"attributes\":{},\"id\":\"14869\",\"type\":\"HelpTool\"},{\"attributes\":{\"fill_alpha\":{\"value\":0.2},\"fill_color\":{\"value\":\"midnightblue\"},\"hatch_alpha\":{\"value\":0.2},\"line_alpha\":{\"value\":0.2},\"line_color\":{\"value\":\"white\"},\"size\":{\"value\":10},\"x\":{\"field\":\"x\"},\"y\":{\"field\":\"y\"}},\"id\":\"14882\",\"type\":\"Circle\"},{\"attributes\":{\"children\":[{\"id\":\"14904\"},{\"id\":\"14845\"},{\"id\":\"14927\"}],\"margin\":[0,0,0,0],\"name\":\"Row00673\"},\"id\":\"14903\",\"type\":\"Row\"},{\"attributes\":{\"margin\":[5,5,5,5],\"name\":\"HSpacer00670\",\"sizing_mode\":\"stretch_width\"},\"id\":\"14927\",\"type\":\"Spacer\"},{\"attributes\":{\"axis\":{\"id\":\"14860\"},\"coordinates\":null,\"dimension\":1,\"grid_line_alpha\":0.15,\"grid_line_color\":\"#E0E0E0\",\"group\":null,\"ticker\":null},\"id\":\"14863\",\"type\":\"Grid\"},{\"attributes\":{\"margin\":[5,5,5,5],\"name\":\"HSpacer00669\",\"sizing_mode\":\"stretch_width\"},\"id\":\"14904\",\"type\":\"Spacer\"},{\"attributes\":{},\"id\":\"14861\",\"type\":\"BasicTicker\"},{\"attributes\":{\"tools\":[{\"id\":\"14864\"},{\"id\":\"14865\"},{\"id\":\"14866\"},{\"id\":\"14867\"},{\"id\":\"14868\"},{\"id\":\"14869\"},{\"id\":\"14897\"},{\"id\":\"14901\"}]},\"id\":\"14871\",\"type\":\"Toolbar\"},{\"attributes\":{\"fill_alpha\":{\"value\":0.5},\"fill_color\":{\"value\":\"red\"},\"hatch_alpha\":{\"value\":0.5},\"line_alpha\":{\"value\":0.5},\"line_color\":{\"value\":\"white\"},\"size\":{\"value\":10},\"x\":{\"field\":\"x\"},\"y\":{\"field\":\"y\"}},\"id\":\"14881\",\"type\":\"Circle\"},{\"attributes\":{},\"id\":\"14865\",\"type\":\"WheelZoomTool\"},{\"attributes\":{},\"id\":\"14864\",\"type\":\"PanTool\"},{\"attributes\":{\"overlay\":{\"id\":\"14870\"}},\"id\":\"14866\",\"type\":\"BoxZoomTool\"},{\"attributes\":{},\"id\":\"14867\",\"type\":\"SaveTool\"},{\"attributes\":{},\"id\":\"14868\",\"type\":\"ResetTool\"},{\"attributes\":{},\"id\":\"14892\",\"type\":\"UnionRenderers\"},{\"attributes\":{\"bottom_units\":\"screen\",\"coordinates\":null,\"fill_alpha\":0.5,\"fill_color\":\"lightgrey\",\"group\":null,\"left_units\":\"screen\",\"level\":\"overlay\",\"line_alpha\":1.0,\"line_color\":\"black\",\"line_dash\":[4,4],\"line_width\":2,\"right_units\":\"screen\",\"syncable\":false,\"top_units\":\"screen\"},\"id\":\"14870\",\"type\":\"BoxAnnotation\"}],\"root_ids\":[\"14903\",\"14961\"]},\"title\":\"Bokeh Application\",\"version\":\"2.4.3\"}};\n",
       "    var render_items = [{\"docid\":\"f461999d-7d62-4388-871f-3390c1c0a790\",\"root_ids\":[\"14903\"],\"roots\":{\"14903\":\"bca8d26b-b75d-496e-8251-98472063722e\"}}];\n",
       "    root.Bokeh.embed.embed_items_notebook(docs_json, render_items);\n",
       "    for (const render_item of render_items) {\n",
       "      for (const root_id of render_item.root_ids) {\n",
       "\tconst id_el = document.getElementById(root_id)\n",
       "\tif (id_el.children.length && (id_el.children[0].className === 'bk-root')) {\n",
       "\t  const root_el = id_el.children[0]\n",
       "\t  root_el.id = root_el.id + '-rendered'\n",
       "\t}\n",
       "      }\n",
       "    }\n",
       "  }\n",
       "  if (root.Bokeh !== undefined && root.Bokeh.Panel !== undefined) {\n",
       "    embed_document(root);\n",
       "  } else {\n",
       "    var attempts = 0;\n",
       "    var timer = setInterval(function(root) {\n",
       "      if (root.Bokeh !== undefined && root.Bokeh.Panel !== undefined) {\n",
       "        clearInterval(timer);\n",
       "        embed_document(root);\n",
       "      } else if (document.readyState == \"complete\") {\n",
       "        attempts++;\n",
       "        if (attempts > 200) {\n",
       "          clearInterval(timer);\n",
       "          console.log(\"Bokeh: ERROR: Unable to run BokehJS code because BokehJS library is missing\");\n",
       "        }\n",
       "      }\n",
       "    }, 25, root)\n",
       "  }\n",
       "})(window);</script>"
      ],
      "text/plain": [
       "Row\n",
       "    [0] HSpacer()\n",
       "    [1] Bokeh(Figure)\n",
       "    [2] HSpacer()"
      ]
     },
     "execution_count": 664,
     "metadata": {
      "application/vnd.holoviews_exec.v0+json": {
       "id": "14903"
      }
     },
     "output_type": "execute_result"
    }
   ],
   "source": [
    "# Create figure\n",
    "N_values = np.linspace(1, len(loss_history), len(loss_history))\n",
    "#label = \"Learning rate: {}\".format(lr_rates[j])\n",
    "p = scatter(N_values, loss_history, title=\"Convergence of Loss Function\", toolbar_location=\"left\", legend_labels=label)\n",
    "p.xaxis.axis_label = \"Iteration\"\n",
    "p.yaxis.axis_label = \"Sigmoid Cross Entropy\"\n",
    "plot = (center_plot(p))\n",
    "plot \n",
    "\n"
   ]
  },
  {
   "cell_type": "markdown",
   "metadata": {},
   "source": [
    "<div class=\"alert alert-success\" markdown=\"1\" style=\"color:white; background-color: #013220; border-color: #03C03C\">\n",
    "\n",
    "> ### Question 1.3 - Compare the results of the NumPy and JAX implementations.\n",
    "> 1. Plot the decision boundary for each implementation.\n",
    "> 2. Compare the training time and accuracy of each implementation.\n",
    "\n",
    "</div>"
   ]
  },
  {
   "cell_type": "code",
   "execution_count": null,
   "metadata": {},
   "outputs": [],
   "source": []
  },
  {
   "cell_type": "markdown",
   "metadata": {},
   "source": [
    "<div class=\"alert alert-success\" markdown=\"1\" style=\"color:white; background-color: #192841; border-color: #779ecb\">\n",
    "\n",
    "> ### Going further (optional)\n",
    "> Implement a more complex dataset and compare the results of the NumPy and JAX implementations.\n",
    "\n",
    "</div>"
   ]
  },
  {
   "cell_type": "code",
   "execution_count": null,
   "metadata": {},
   "outputs": [],
   "source": []
  },
  {
   "cell_type": "markdown",
   "metadata": {},
   "source": [
    "## Exercise 2 - Polynomial regression"
   ]
  },
  {
   "cell_type": "markdown",
   "metadata": {},
   "source": [
    "<div class=\"alert alert-success\" markdown=\"1\" style=\"color:white; background-color: #013220; border-color: #03C03C\">\n",
    "\n",
    "> In this exercise, you will implement polynomial regression using NumPy and JAX. This should be a quite straightforward extension of what we have seen until now. We deliberately removed details of the implementation (list of points to adress) so that you can start defining your first entire machine learning setup by yourself.\n",
    "\n",
    "</div>"
   ]
  },
  {
   "cell_type": "code",
   "execution_count": 970,
   "metadata": {},
   "outputs": [
    {
     "name": "stdout",
     "output_type": "stream",
     "text": [
      "poly:          9         8         7         6         5         4         3\n",
      "-9.787 x - 2.549 x + 4.216 x - 4.959 x - 2.228 x + 1.792 x + 7.962 x\n",
      "         2\n",
      " + 7.21 x - 6.999 x + 4.638\n"
     ]
    }
   ],
   "source": [
    "# Generating the data and subsampling\n",
    "np.random.seed(413)\n",
    "\n",
    "# Generate a Random Polynomial\n",
    "max_degree = 10\n",
    "ran_degree = np.random.randint(2, max_degree)\n",
    "w_real = np.random.uniform(low=-10, high=10, size=(ran_degree + 1,))\n",
    "poly = np.poly1d(w_real)\n",
    "print(\"poly: \", poly)\n"
   ]
  },
  {
   "cell_type": "code",
   "execution_count": 996,
   "metadata": {
    "tags": []
   },
   "outputs": [
    {
     "name": "stdout",
     "output_type": "stream",
     "text": [
      "Actual Degree:  9\n"
     ]
    },
    {
     "data": {},
     "metadata": {},
     "output_type": "display_data"
    },
    {
     "data": {
      "application/vnd.holoviews_exec.v0+json": "",
      "text/html": [
       "<div id='47322'>\n",
       "  <div class=\"bk-root\" id=\"8c3ed1bf-2247-426a-a9d7-dc31f854c99a\" data-root-id=\"47322\"></div>\n",
       "</div>\n",
       "<script type=\"application/javascript\">(function(root) {\n",
       "  function embed_document(root) {\n",
       "    var docs_json = {\"c259cd34-e2ca-4374-a529-5c949ddec220\":{\"defs\":[{\"extends\":null,\"module\":null,\"name\":\"ReactiveHTML1\",\"overrides\":[],\"properties\":[]},{\"extends\":null,\"module\":null,\"name\":\"FlexBox1\",\"overrides\":[],\"properties\":[{\"default\":\"flex-start\",\"kind\":null,\"name\":\"align_content\"},{\"default\":\"flex-start\",\"kind\":null,\"name\":\"align_items\"},{\"default\":\"row\",\"kind\":null,\"name\":\"flex_direction\"},{\"default\":\"wrap\",\"kind\":null,\"name\":\"flex_wrap\"},{\"default\":\"flex-start\",\"kind\":null,\"name\":\"justify_content\"}]},{\"extends\":null,\"module\":null,\"name\":\"GridStack1\",\"overrides\":[],\"properties\":[{\"default\":\"warn\",\"kind\":null,\"name\":\"mode\"},{\"default\":null,\"kind\":null,\"name\":\"ncols\"},{\"default\":null,\"kind\":null,\"name\":\"nrows\"},{\"default\":true,\"kind\":null,\"name\":\"allow_resize\"},{\"default\":true,\"kind\":null,\"name\":\"allow_drag\"},{\"default\":[],\"kind\":null,\"name\":\"state\"}]},{\"extends\":null,\"module\":null,\"name\":\"click1\",\"overrides\":[],\"properties\":[{\"default\":\"\",\"kind\":null,\"name\":\"terminal_output\"},{\"default\":\"\",\"kind\":null,\"name\":\"debug_name\"},{\"default\":0,\"kind\":null,\"name\":\"clears\"}]},{\"extends\":null,\"module\":null,\"name\":\"NotificationAreaBase1\",\"overrides\":[],\"properties\":[{\"default\":\"bottom-right\",\"kind\":null,\"name\":\"position\"},{\"default\":0,\"kind\":null,\"name\":\"_clear\"}]},{\"extends\":null,\"module\":null,\"name\":\"NotificationArea1\",\"overrides\":[],\"properties\":[{\"default\":[],\"kind\":null,\"name\":\"notifications\"},{\"default\":\"bottom-right\",\"kind\":null,\"name\":\"position\"},{\"default\":0,\"kind\":null,\"name\":\"_clear\"},{\"default\":[{\"background\":\"#ffc107\",\"icon\":{\"className\":\"fas fa-exclamation-triangle\",\"color\":\"white\",\"tagName\":\"i\"},\"type\":\"warning\"},{\"background\":\"#007bff\",\"icon\":{\"className\":\"fas fa-info-circle\",\"color\":\"white\",\"tagName\":\"i\"},\"type\":\"info\"}],\"kind\":null,\"name\":\"types\"}]},{\"extends\":null,\"module\":null,\"name\":\"Notification\",\"overrides\":[],\"properties\":[{\"default\":null,\"kind\":null,\"name\":\"background\"},{\"default\":3000,\"kind\":null,\"name\":\"duration\"},{\"default\":null,\"kind\":null,\"name\":\"icon\"},{\"default\":\"\",\"kind\":null,\"name\":\"message\"},{\"default\":null,\"kind\":null,\"name\":\"notification_type\"},{\"default\":false,\"kind\":null,\"name\":\"_destroyed\"}]},{\"extends\":null,\"module\":null,\"name\":\"TemplateActions1\",\"overrides\":[],\"properties\":[{\"default\":0,\"kind\":null,\"name\":\"open_modal\"},{\"default\":0,\"kind\":null,\"name\":\"close_modal\"}]},{\"extends\":null,\"module\":null,\"name\":\"MaterialTemplateActions1\",\"overrides\":[],\"properties\":[{\"default\":0,\"kind\":null,\"name\":\"open_modal\"},{\"default\":0,\"kind\":null,\"name\":\"close_modal\"}]}],\"roots\":{\"references\":[{\"attributes\":{},\"id\":\"47306\",\"type\":\"BasicTickFormatter\"},{\"attributes\":{\"bottom_units\":\"screen\",\"coordinates\":null,\"fill_alpha\":0.5,\"fill_color\":\"lightgrey\",\"group\":null,\"left_units\":\"screen\",\"level\":\"overlay\",\"line_alpha\":1.0,\"line_color\":\"black\",\"line_dash\":[4,4],\"line_width\":2,\"right_units\":\"screen\",\"syncable\":false,\"top_units\":\"screen\"},\"id\":\"47334\",\"type\":\"BoxAnnotation\"},{\"attributes\":{\"bottom_units\":\"screen\",\"coordinates\":null,\"fill_alpha\":0.5,\"fill_color\":\"lightgrey\",\"group\":null,\"left_units\":\"screen\",\"level\":\"overlay\",\"line_alpha\":1.0,\"line_color\":\"black\",\"line_dash\":[4,4],\"line_width\":2,\"right_units\":\"screen\",\"syncable\":false,\"top_units\":\"screen\"},\"id\":\"47289\",\"type\":\"BoxAnnotation\"},{\"attributes\":{},\"id\":\"47273\",\"type\":\"LinearScale\"},{\"attributes\":{\"client_comm_id\":\"d3f14165272c4b0bb9054444179f4b77\",\"comm_id\":\"ec478f84825e4ea2b6c4424e7d35066f\",\"plot_id\":\"47322\"},\"id\":\"47380\",\"type\":\"panel.models.comm_manager.CommManager\"},{\"attributes\":{\"overlay\":{\"id\":\"47289\"}},\"id\":\"47285\",\"type\":\"BoxZoomTool\"},{\"attributes\":{},\"id\":\"47276\",\"type\":\"BasicTicker\"},{\"attributes\":{},\"id\":\"47309\",\"type\":\"BasicTickFormatter\"},{\"attributes\":{\"label\":{\"value\":\"Observations\"},\"renderers\":[{\"id\":\"47302\"}]},\"id\":\"47315\",\"type\":\"LegendItem\"},{\"attributes\":{},\"id\":\"47310\",\"type\":\"AllLabels\"},{\"attributes\":{},\"id\":\"47280\",\"type\":\"BasicTicker\"},{\"attributes\":{\"tools\":[{\"id\":\"47283\"},{\"id\":\"47284\"},{\"id\":\"47285\"},{\"id\":\"47286\"},{\"id\":\"47287\"},{\"id\":\"47288\"},{\"id\":\"47316\"},{\"id\":\"47320\"}]},\"id\":\"47290\",\"type\":\"Toolbar\"},{\"attributes\":{},\"id\":\"47286\",\"type\":\"SaveTool\"},{\"attributes\":{\"children\":[{\"id\":\"47323\"},{\"id\":\"47264\"},{\"id\":\"47346\"}],\"margin\":[0,0,0,0],\"name\":\"Row01900\"},\"id\":\"47322\",\"type\":\"Row\"},{\"attributes\":{\"axis_label\":\"y\",\"axis_label_standoff\":10,\"axis_label_text_color\":\"#FFFFFF\",\"axis_label_text_font\":\"Josefin Sans\",\"axis_label_text_font_size\":\"1.9em\",\"axis_label_text_font_style\":\"bold\",\"axis_line_alpha\":0.4,\"axis_line_color\":\"#E0E0E0\",\"coordinates\":null,\"formatter\":{\"id\":\"47306\"},\"group\":null,\"major_label_policy\":{\"id\":\"47307\"},\"major_label_text_color\":\"#E0E0E0\",\"major_label_text_font\":\"Josefin Sans\",\"major_label_text_font_size\":\"1.15em\",\"major_tick_line_alpha\":0.4,\"major_tick_line_color\":\"#E0E0E0\",\"minor_tick_line_alpha\":0.4,\"minor_tick_line_color\":\"#E0E0E0\",\"ticker\":{\"id\":\"47280\"}},\"id\":\"47279\",\"type\":\"LinearAxis\"},{\"attributes\":{\"margin\":[5,5,5,5],\"name\":\"HSpacer01897\",\"sizing_mode\":\"stretch_width\"},\"id\":\"47346\",\"type\":\"Spacer\"},{\"attributes\":{\"axis\":{\"id\":\"47279\"},\"coordinates\":null,\"dimension\":1,\"grid_line_alpha\":0.15,\"grid_line_color\":\"#E0E0E0\",\"group\":null,\"ticker\":null},\"id\":\"47282\",\"type\":\"Grid\"},{\"attributes\":{\"margin\":[5,5,5,5],\"name\":\"HSpacer01896\",\"sizing_mode\":\"stretch_width\"},\"id\":\"47323\",\"type\":\"Spacer\"},{\"attributes\":{\"fill_alpha\":{\"value\":0.25},\"fill_color\":{\"value\":\"midnightblue\"},\"hatch_alpha\":{\"value\":0.25},\"line_alpha\":{\"value\":0.25},\"line_color\":{\"value\":\"white\"},\"size\":{\"value\":10},\"x\":{\"field\":\"x\"},\"y\":{\"field\":\"y\"}},\"id\":\"47298\",\"type\":\"Circle\"},{\"attributes\":{\"source\":{\"id\":\"47297\"}},\"id\":\"47303\",\"type\":\"CDSView\"},{\"attributes\":{},\"id\":\"47311\",\"type\":\"UnionRenderers\"},{\"attributes\":{\"background_fill_alpha\":0.25,\"background_fill_color\":\"#505050\",\"border_line_alpha\":0.25,\"coordinates\":null,\"group\":null,\"items\":[{\"id\":\"47315\"}],\"label_standoff\":8,\"label_text_color\":\"#E0E0E0\",\"label_text_font\":\"Josefin Sans\",\"label_text_font_size\":\"1.15em\",\"spacing\":8},\"id\":\"47314\",\"type\":\"Legend\"},{\"attributes\":{},\"id\":\"47287\",\"type\":\"ResetTool\"},{\"attributes\":{},\"id\":\"47288\",\"type\":\"HelpTool\"},{\"attributes\":{\"fill_alpha\":{\"value\":0.2},\"fill_color\":{\"value\":\"midnightblue\"},\"hatch_alpha\":{\"value\":0.2},\"line_alpha\":{\"value\":0.2},\"line_color\":{\"value\":\"white\"},\"size\":{\"value\":10},\"x\":{\"field\":\"x\"},\"y\":{\"field\":\"y\"}},\"id\":\"47301\",\"type\":\"Circle\"},{\"attributes\":{},\"id\":\"47312\",\"type\":\"Selection\"},{\"attributes\":{\"coordinates\":null,\"data_source\":{\"id\":\"47297\"},\"glyph\":{\"id\":\"47298\"},\"group\":null,\"hover_glyph\":{\"id\":\"47300\"},\"muted_glyph\":{\"id\":\"47301\"},\"nonselection_glyph\":{\"id\":\"47319\"},\"selection_glyph\":{\"id\":\"47318\"},\"view\":{\"id\":\"47303\"}},\"id\":\"47302\",\"type\":\"GlyphRenderer\"},{\"attributes\":{},\"id\":\"47283\",\"type\":\"PanTool\"},{\"attributes\":{\"axis_label\":\"x\",\"axis_label_standoff\":10,\"axis_label_text_color\":\"#FFFFFF\",\"axis_label_text_font\":\"Josefin Sans\",\"axis_label_text_font_size\":\"1.9em\",\"axis_label_text_font_style\":\"bold\",\"axis_line_alpha\":0.4,\"axis_line_color\":\"#E0E0E0\",\"coordinates\":null,\"formatter\":{\"id\":\"47309\"},\"group\":null,\"major_label_policy\":{\"id\":\"47310\"},\"major_label_text_color\":\"#E0E0E0\",\"major_label_text_font\":\"Josefin Sans\",\"major_label_text_font_size\":\"1.15em\",\"major_tick_line_alpha\":0.4,\"major_tick_line_color\":\"#E0E0E0\",\"minor_tick_line_alpha\":0.4,\"minor_tick_line_color\":\"#E0E0E0\",\"ticker\":{\"id\":\"47276\"}},\"id\":\"47275\",\"type\":\"LinearAxis\"},{\"attributes\":{\"axis\":{\"id\":\"47275\"},\"coordinates\":null,\"grid_line_alpha\":0.15,\"grid_line_color\":\"#E0E0E0\",\"group\":null,\"ticker\":null},\"id\":\"47278\",\"type\":\"Grid\"},{\"attributes\":{},\"id\":\"47307\",\"type\":\"AllLabels\"},{\"attributes\":{\"fill_alpha\":{\"value\":0.5},\"fill_color\":{\"value\":\"midnightblue\"},\"line_color\":{\"value\":\"white\"}},\"id\":\"47319\",\"type\":\"Circle\"},{\"attributes\":{},\"id\":\"47284\",\"type\":\"WheelZoomTool\"},{\"attributes\":{},\"id\":\"47269\",\"type\":\"DataRange1d\"},{\"attributes\":{\"callback\":null,\"mode\":\"vline\",\"renderers\":[{\"id\":\"47302\"}],\"tooltips\":null},\"id\":\"47316\",\"type\":\"HoverTool\"},{\"attributes\":{},\"id\":\"47267\",\"type\":\"DataRange1d\"},{\"attributes\":{},\"id\":\"47271\",\"type\":\"LinearScale\"},{\"attributes\":{\"data\":{\"x\":{\"__ndarray__\":\"fWniMFZb7787nlNJAQnvv/rSxGGstu6/uAc2eldk7r9wD2z0rsjsv6utvz2w0eu/Y7X1twc26r8i6mbQsuPpv+Ae2Ohdkem/08RhrLb+5r+S+dLEYazmvw5jtfW3B+a/zJcmDmO15b+LzJcmDmPlv0oBCT+5EOW/xmrrbw9s5L+En1yIuhnkv35yIepm0OK/eEXmSxOH4b/0rsh8aeLgv7PjOZUUkOC/YJo4jNXW379Ybf3tgY3ev9bW3x7Y6N2/UkDCTy5E3b9ME4ex2vrbv8h8aeIwVtu/wk8uRN0M2r8+uRB1M2jZv67IfGniMNa/LDJfmjiM1b+om0HLjufUv5xBy47nVNK/En5yIepm0L8Yom4GLTvOvwhI+MmFqMu/BBu9KzJfyr/kOZUUkPDDv9jfHtjoXcG/0LLjOZUUwL94V2S+NHG4v1BJAQk/ubC/kN4VmS9NrL9wKikg4Senv2B2PKeSAqK/gDiM1dbfjr+A0LLjOZV0v4A4jNXW344/gN4VmS9NrD9go3dF5kuzP3D97YGN3rU/gFdkvjRxuD/QsuM5lRTAP9jfHtjoXcE/4Axadjynwj/oZtCy4znFP/jARu+KzMc/AO6Bjd4VyT8IG70rMl/KPxR+ciHqZtA/nEHLjudU0j8g2OhdkfnSP6RuBi07ntM/JAUk/ORC1D8sMl+aOIzVP7DIfGniMNY/OIzV1t8e2D+8IvOlicPYP0C5EHUzaNk/xE8uRN0M2j9E5ksTh7HaP8h8aeIwVts/0KmkgISf3D9UQMJPLkTdP1ht/e2Bjd4/3AMbvSsy3z9yGKutvz3gP/SuyHxp4uA/uhB1M2jZ4T/82wMbvSviPzynkgISfuI/fnIh6mbQ4j/APbDRuyLjP0TUzaBlx+M/CDZ6V2S+5D9KAQk/uRDlP1AuRN0MWuY/kvnSxGGs5j/UxGGstv7mPxSQ8JMLUec/XIi6GbTs6D9ktfW3BzbqP6SAhJ9ciOo/5ksTh7Ha6j8uRN0MWnbsP/SlicNYbe0/NHEYq62/7T/60sRhrLbuP35p4jBWW+8/vjRxGKut7z8=\",\"dtype\":\"float64\",\"order\":\"little\",\"shape\":[100]},\"y\":{\"__ndarray__\":\"hPe+ZL6wKECqERG4VeMoQLYKtGu11SZAortYPRWxJkDZPTblWo4mQJEHnKX7xSVAnEDm1slOJkDafMiPyTwlQMglTbNBviRAGy4dlb5KJkBTysb2e9UkQCw9O0Uz2SRA1sj9pQSKI0Ai2ey/zB8kQMgGOZGGhiRAbo0o3zpCI0BdTUFBiVgkQLiOTGz+/SJAYTm6+VadIkDimBNfjAkiQA0dfJUE1SNA1urPZ/j+IUDTTrOMIc8gQAjUJFOKIiJA43e4XPxRIEDwNjYJlxkhQGvF6ePSXB5AouSyXrahHkD1va+tbVkgQBob5tE0rx9AWWUOuztmHkB9DYmP+Y8dQP5RO3ojwhtA/2+Cn7nAGED67d1LyzkZQE9oLYUS6BhAJZFSDpT4GkAmfQyF6wsYQBwtwGWn+xNAc6tAZyH7FkAUuUzuENgUQLZnfnRTaRNAEzVSRwgpFUBJBozW6IUVQF7zBbx1DxVAstYZvBCjEUAAbUeDqDISQMvUGfFzqhJAhlF8zHeoEkDQ1GhPL7QPQNVLkSfXFxBA/RzLOl3MDED5IJGdmkcLQIc1cJ9BqhBA7TTbfdNaEUCx7gxan3gNQDsziOi2KBBAmkS7Urn+DUD+I8oVHIYKQL7Ei45bzQxAUXdS/B8hEEDKuVAxEioLQOjUPzUVIBBAGf3vHDzZAkAWwSqRhegNQFANPKycnQtA8VoNSLmzCkB/Ow4lyBsMQKggYRadogVABvEP12B/C0AiEHcIqpINQL7XD7bttBBAXS/DNFybC0APDyoEOAELQEYSQfDKtQxAPJFLQhrSEEAr9EfyxE8QQFtckR+T0Q5A0TKbLvjaEUDdFjea/HYRQDfff8Y8JBNAJHRAYbjBEEDrtIajKqYRQIvVmym2JBJAxScf9BNVEUCHmsrTxnEUQAn0w3IzgBVAEPhgUL9WFUDSlZiXZi8VQJzNqkc5gRNADW4ZfuSxFUC5PbUyr3sVQAV0He6ygBRAIv4Le3M0FUBiFIXRpwUTQMW/uaEPARJAk1jPSxSeC0B8mS/poccAQC8n8SFtEug/bli+Mkkh5r8=\",\"dtype\":\"float64\",\"order\":\"little\",\"shape\":[100]}},\"selected\":{\"id\":\"47312\"},\"selection_policy\":{\"id\":\"47311\"}},\"id\":\"47297\",\"type\":\"ColumnDataSource\"},{\"attributes\":{\"fill_alpha\":{\"value\":0.8},\"fill_color\":{\"value\":\"red\"},\"line_color\":{\"value\":\"white\"}},\"id\":\"47318\",\"type\":\"Circle\"},{\"attributes\":{\"fill_alpha\":{\"value\":0.5},\"fill_color\":{\"value\":\"red\"},\"hatch_alpha\":{\"value\":0.5},\"line_alpha\":{\"value\":0.5},\"line_color\":{\"value\":\"white\"},\"size\":{\"value\":10},\"x\":{\"field\":\"x\"},\"y\":{\"field\":\"y\"}},\"id\":\"47300\",\"type\":\"Circle\"},{\"attributes\":{\"mode\":\"append\",\"overlay\":{\"id\":\"47334\"},\"renderers\":[{\"id\":\"47302\"}]},\"id\":\"47320\",\"type\":\"BoxSelectTool\"},{\"attributes\":{\"coordinates\":null,\"group\":null,\"text\":\"A Generated Random Polynomial Data Set\",\"text_color\":\"#E0E0E0\",\"text_font\":\"Josefin Sans\",\"text_font_size\":\"2.1em\"},\"id\":\"47265\",\"type\":\"Title\"},{\"attributes\":{\"background_fill_alpha\":0.9,\"background_fill_color\":\"#0f0f0f\",\"below\":[{\"id\":\"47275\"}],\"border_fill_alpha\":0.8,\"border_fill_color\":\"#111111\",\"center\":[{\"id\":\"47278\"},{\"id\":\"47282\"},{\"id\":\"47314\"}],\"height\":450,\"left\":[{\"id\":\"47279\"}],\"outline_line_alpha\":0.25,\"outline_line_color\":\"#E0E0E0\",\"outline_line_width\":3,\"renderers\":[{\"id\":\"47302\"}],\"title\":{\"id\":\"47265\"},\"toolbar\":{\"id\":\"47290\"},\"toolbar_location\":null,\"x_range\":{\"id\":\"47267\"},\"x_scale\":{\"id\":\"47271\"},\"y_range\":{\"id\":\"47269\"},\"y_scale\":{\"id\":\"47273\"}},\"id\":\"47264\",\"subtype\":\"Figure\",\"type\":\"Plot\"}],\"root_ids\":[\"47322\",\"47380\"]},\"title\":\"Bokeh Application\",\"version\":\"2.4.3\"}};\n",
       "    var render_items = [{\"docid\":\"c259cd34-e2ca-4374-a529-5c949ddec220\",\"root_ids\":[\"47322\"],\"roots\":{\"47322\":\"8c3ed1bf-2247-426a-a9d7-dc31f854c99a\"}}];\n",
       "    root.Bokeh.embed.embed_items_notebook(docs_json, render_items);\n",
       "    for (const render_item of render_items) {\n",
       "      for (const root_id of render_item.root_ids) {\n",
       "\tconst id_el = document.getElementById(root_id)\n",
       "\tif (id_el.children.length && (id_el.children[0].className === 'bk-root')) {\n",
       "\t  const root_el = id_el.children[0]\n",
       "\t  root_el.id = root_el.id + '-rendered'\n",
       "\t}\n",
       "      }\n",
       "    }\n",
       "  }\n",
       "  if (root.Bokeh !== undefined && root.Bokeh.Panel !== undefined) {\n",
       "    embed_document(root);\n",
       "  } else {\n",
       "    var attempts = 0;\n",
       "    var timer = setInterval(function(root) {\n",
       "      if (root.Bokeh !== undefined && root.Bokeh.Panel !== undefined) {\n",
       "        clearInterval(timer);\n",
       "        embed_document(root);\n",
       "      } else if (document.readyState == \"complete\") {\n",
       "        attempts++;\n",
       "        if (attempts > 200) {\n",
       "          clearInterval(timer);\n",
       "          console.log(\"Bokeh: ERROR: Unable to run BokehJS code because BokehJS library is missing\");\n",
       "        }\n",
       "      }\n",
       "    }, 25, root)\n",
       "  }\n",
       "})(window);</script>"
      ],
      "text/plain": [
       "Row\n",
       "    [0] HSpacer()\n",
       "    [1] Bokeh(Figure)\n",
       "    [2] HSpacer()"
      ]
     },
     "execution_count": 996,
     "metadata": {
      "application/vnd.holoviews_exec.v0+json": {
       "id": "47322"
      }
     },
     "output_type": "execute_result"
    }
   ],
   "source": [
    "# Subsampling\n",
    "n_observations = 100\n",
    "x_all = np.linspace(-1, 1, 2*n_observations)\n",
    "rng.shuffle(x_all); x_data = np.sort(x_all[:n_observations])\n",
    "\n",
    "# Adding some external noise\n",
    "#epsilon = np.random.uniform(0,0.2,x.shape)\n",
    "gaussian_noise = np.random.normal(0, 0.4, x_data.shape)\n",
    "y_data = poly(x_data) + gaussian_noise\n",
    "print(\"Actual Degree: \", len(poly))\n",
    "\n",
    "\n",
    "p = scatter(x_data, y_data, title=\"A Generated Random Polynomial Data Set\")\n",
    "plot = (center_plot(p))\n",
    "plot\n",
    "\n",
    "\n"
   ]
  },
  {
   "cell_type": "markdown",
   "metadata": {},
   "source": [
    "<div class=\"alert alert-success\" markdown=\"1\" style=\"color:white; background-color: #013220; border-color: #03C03C\">\n",
    "\n",
    "> ### Question 2.1 - Implement polynomial regression using NumPy with gradient descent.\n",
    "\n",
    "</div>"
   ]
  },
  {
   "cell_type": "code",
   "execution_count": 997,
   "metadata": {
    "tags": []
   },
   "outputs": [],
   "source": [
    "# Every x maps to [1, x, x^2, ...]\n",
    "def higher_order_feat_matrix(x, model_max_degree):\n",
    "    l = lambda x:[pow(x,i) for i in range(0,model_max_degree + 1)]\n",
    "    return np.array([x for x in map(l, x)])\n",
    "\n",
    "# Define Loss Function\n",
    "def MSE_LossPoly(x_matrix,y,w):\n",
    "    y_bar = np.matmul(x_matrix,w)\n",
    "    return np.mean(np.square(y-y_bar))\n",
    "\n",
    "def grad_MSE_LossPoly(x_matrix,y,w):\n",
    "    y_bar = np.matmul(x_matrix,w)\n",
    "    #print(\"xT: \", x_matrix.transpose())\n",
    "    #print(\"y_diff: \", (y-y_bar))\n",
    "    return (-2/len(y))*np.matmul(x_matrix.transpose(),(y-y_bar)) # + or - ??\n",
    "\n",
    "##### NOTE PLUS OR MINUS IN GRAD #####\n",
    "\n",
    "\n"
   ]
  },
  {
   "cell_type": "code",
   "execution_count": 998,
   "metadata": {
    "tags": []
   },
   "outputs": [],
   "source": [
    "# Create Higher-Order Feature Matrix\n",
    "model_max_degree = 10\n",
    "x_matrix = higher_order_feat_matrix(x_data, model_max_degree)\n",
    "\n",
    "\n",
    "# TESTING\n",
    "if False:\n",
    "    print(x_matrix)\n",
    "    y_test = [2,2]\n",
    "    x_test = [1,2]\n",
    "\n",
    "    w_test = [1,2,3]\n",
    "\n",
    "    x_matrix_test = higher_order_feat_matrix([1,2], 2)\n",
    "\n",
    "\n",
    "    res = MSE_LossPoly(x_matrix_test, y_test, w_test)\n",
    "    print(\"res: \", res)\n",
    "\n",
    "    grad_test = grad_MSE_LossPoly(x_matrix_test, y_test, w_test)\n",
    "    print(grad_test)"
   ]
  },
  {
   "cell_type": "code",
   "execution_count": 999,
   "metadata": {
    "tags": []
   },
   "outputs": [
    {
     "name": "stdout",
     "output_type": "stream",
     "text": [
      "Initial w:  [ 0.49671415 -0.1382643   0.64768854  1.52302986 -0.23415337 -0.23413696\n",
      "  1.57921282  0.76743473 -0.46947439  0.54256004 -0.46341769]\n",
      "New model w:  [ 4.67340914 -6.67518282  6.68158719  6.68820437  0.23827086  1.23105227\n",
      " -0.03371345 -2.07006268 -2.84271503 -5.61005595 -3.15690721]\n",
      "Real w:  [-9.787265   -2.54886373  4.21561444 -4.95869585 -2.22758789  1.79183821\n",
      "  7.96244174  7.21047824 -6.99924647  4.63780274]\n"
     ]
    }
   ],
   "source": [
    "\n",
    "\n",
    "# Initialize \n",
    "np.random.seed(42)\n",
    "\n",
    "# w = [w_1 w_2 ... w_n b]\n",
    "w = np.array([np.random.normal(0,1) for _ in range(model_max_degree + 1)])\n",
    "# Gradient Descent\n",
    "def gradient_descent(x_matrix, y, w_initial, lr=0.05, n_iter=10000):\n",
    "    loss_history = []\n",
    "    w = np.array(w_initial)\n",
    "    for _ in range(n_iter):\n",
    "        gradients = grad_MSE_LossPoly(x_matrix, y, w)\n",
    "        w -= lr * gradients\n",
    "        #print(w)\n",
    "        loss_history.append(MSE_LossPoly(x_matrix, y, w))\n",
    "    return w, loss_history\n",
    "\n",
    "w_model, loss_history = gradient_descent(x_matrix, y_data, w)\n",
    "\n",
    "print(\"Initial w: \", w)\n",
    "print(\"New model w: \", w_model)\n",
    "print(\"Real w: \", w_real)\n"
   ]
  },
  {
   "cell_type": "code",
   "execution_count": 1000,
   "metadata": {
    "tags": []
   },
   "outputs": [
    {
     "data": {},
     "metadata": {},
     "output_type": "display_data"
    },
    {
     "data": {
      "application/vnd.holoviews_exec.v0+json": "",
      "text/html": [
       "<div id='47494'>\n",
       "  <div class=\"bk-root\" id=\"c0d1d817-701d-408d-a15c-f0fec98735bb\" data-root-id=\"47494\"></div>\n",
       "</div>\n",
       "<script type=\"application/javascript\">(function(root) {\n",
       "  function embed_document(root) {\n",
       "    var docs_json = {\"d40ab6d9-ba40-4fda-881d-67298e08e7e9\":{\"defs\":[{\"extends\":null,\"module\":null,\"name\":\"ReactiveHTML1\",\"overrides\":[],\"properties\":[]},{\"extends\":null,\"module\":null,\"name\":\"FlexBox1\",\"overrides\":[],\"properties\":[{\"default\":\"flex-start\",\"kind\":null,\"name\":\"align_content\"},{\"default\":\"flex-start\",\"kind\":null,\"name\":\"align_items\"},{\"default\":\"row\",\"kind\":null,\"name\":\"flex_direction\"},{\"default\":\"wrap\",\"kind\":null,\"name\":\"flex_wrap\"},{\"default\":\"flex-start\",\"kind\":null,\"name\":\"justify_content\"}]},{\"extends\":null,\"module\":null,\"name\":\"GridStack1\",\"overrides\":[],\"properties\":[{\"default\":\"warn\",\"kind\":null,\"name\":\"mode\"},{\"default\":null,\"kind\":null,\"name\":\"ncols\"},{\"default\":null,\"kind\":null,\"name\":\"nrows\"},{\"default\":true,\"kind\":null,\"name\":\"allow_resize\"},{\"default\":true,\"kind\":null,\"name\":\"allow_drag\"},{\"default\":[],\"kind\":null,\"name\":\"state\"}]},{\"extends\":null,\"module\":null,\"name\":\"click1\",\"overrides\":[],\"properties\":[{\"default\":\"\",\"kind\":null,\"name\":\"terminal_output\"},{\"default\":\"\",\"kind\":null,\"name\":\"debug_name\"},{\"default\":0,\"kind\":null,\"name\":\"clears\"}]},{\"extends\":null,\"module\":null,\"name\":\"NotificationAreaBase1\",\"overrides\":[],\"properties\":[{\"default\":\"bottom-right\",\"kind\":null,\"name\":\"position\"},{\"default\":0,\"kind\":null,\"name\":\"_clear\"}]},{\"extends\":null,\"module\":null,\"name\":\"NotificationArea1\",\"overrides\":[],\"properties\":[{\"default\":[],\"kind\":null,\"name\":\"notifications\"},{\"default\":\"bottom-right\",\"kind\":null,\"name\":\"position\"},{\"default\":0,\"kind\":null,\"name\":\"_clear\"},{\"default\":[{\"background\":\"#ffc107\",\"icon\":{\"className\":\"fas fa-exclamation-triangle\",\"color\":\"white\",\"tagName\":\"i\"},\"type\":\"warning\"},{\"background\":\"#007bff\",\"icon\":{\"className\":\"fas fa-info-circle\",\"color\":\"white\",\"tagName\":\"i\"},\"type\":\"info\"}],\"kind\":null,\"name\":\"types\"}]},{\"extends\":null,\"module\":null,\"name\":\"Notification\",\"overrides\":[],\"properties\":[{\"default\":null,\"kind\":null,\"name\":\"background\"},{\"default\":3000,\"kind\":null,\"name\":\"duration\"},{\"default\":null,\"kind\":null,\"name\":\"icon\"},{\"default\":\"\",\"kind\":null,\"name\":\"message\"},{\"default\":null,\"kind\":null,\"name\":\"notification_type\"},{\"default\":false,\"kind\":null,\"name\":\"_destroyed\"}]},{\"extends\":null,\"module\":null,\"name\":\"TemplateActions1\",\"overrides\":[],\"properties\":[{\"default\":0,\"kind\":null,\"name\":\"open_modal\"},{\"default\":0,\"kind\":null,\"name\":\"close_modal\"}]},{\"extends\":null,\"module\":null,\"name\":\"MaterialTemplateActions1\",\"overrides\":[],\"properties\":[{\"default\":0,\"kind\":null,\"name\":\"open_modal\"},{\"default\":0,\"kind\":null,\"name\":\"close_modal\"}]}],\"roots\":{\"references\":[{\"attributes\":{},\"id\":\"47439\",\"type\":\"DataRange1d\"},{\"attributes\":{},\"id\":\"47448\",\"type\":\"BasicTicker\"},{\"attributes\":{\"fill_alpha\":{\"value\":0.2},\"fill_color\":{\"value\":\"midnightblue\"},\"hatch_alpha\":{\"value\":0.2},\"line_alpha\":{\"value\":0.2},\"line_color\":{\"value\":\"white\"},\"size\":{\"value\":10},\"x\":{\"field\":\"x\"},\"y\":{\"field\":\"y\"}},\"id\":\"47473\",\"type\":\"Circle\"},{\"attributes\":{\"margin\":[5,5,5,5],\"name\":\"HSpacer01903\",\"sizing_mode\":\"stretch_width\"},\"id\":\"47495\",\"type\":\"Spacer\"},{\"attributes\":{},\"id\":\"47443\",\"type\":\"LinearScale\"},{\"attributes\":{},\"id\":\"47483\",\"type\":\"UnionRenderers\"},{\"attributes\":{\"label\":{\"value\":\"Observations\"},\"renderers\":[{\"id\":\"47474\"}]},\"id\":\"47487\",\"type\":\"LegendItem\"},{\"attributes\":{},\"id\":\"47484\",\"type\":\"Selection\"},{\"attributes\":{\"margin\":[5,5,5,5],\"name\":\"HSpacer01904\",\"sizing_mode\":\"stretch_width\"},\"id\":\"47518\",\"type\":\"Spacer\"},{\"attributes\":{\"coordinates\":null,\"data_source\":{\"id\":\"47469\"},\"glyph\":{\"id\":\"47470\"},\"group\":null,\"hover_glyph\":{\"id\":\"47472\"},\"muted_glyph\":{\"id\":\"47473\"},\"nonselection_glyph\":{\"id\":\"47491\"},\"selection_glyph\":{\"id\":\"47490\"},\"view\":{\"id\":\"47475\"}},\"id\":\"47474\",\"type\":\"GlyphRenderer\"},{\"attributes\":{},\"id\":\"47479\",\"type\":\"AllLabels\"},{\"attributes\":{},\"id\":\"47478\",\"type\":\"BasicTickFormatter\"},{\"attributes\":{\"tools\":[{\"id\":\"47455\"},{\"id\":\"47456\"},{\"id\":\"47457\"},{\"id\":\"47458\"},{\"id\":\"47459\"},{\"id\":\"47460\"},{\"id\":\"47488\"},{\"id\":\"47492\"}]},\"id\":\"47462\",\"type\":\"Toolbar\"},{\"attributes\":{\"bottom_units\":\"screen\",\"coordinates\":null,\"fill_alpha\":0.5,\"fill_color\":\"lightgrey\",\"group\":null,\"left_units\":\"screen\",\"level\":\"overlay\",\"line_alpha\":1.0,\"line_color\":\"black\",\"line_dash\":[4,4],\"line_width\":2,\"right_units\":\"screen\",\"syncable\":false,\"top_units\":\"screen\"},\"id\":\"47506\",\"type\":\"BoxAnnotation\"},{\"attributes\":{},\"id\":\"47482\",\"type\":\"AllLabels\"},{\"attributes\":{\"children\":[{\"id\":\"47495\"},{\"id\":\"47436\"},{\"id\":\"47518\"}],\"margin\":[0,0,0,0],\"name\":\"Row01907\"},\"id\":\"47494\",\"type\":\"Row\"},{\"attributes\":{\"fill_alpha\":{\"value\":0.5},\"fill_color\":{\"value\":\"midnightblue\"},\"line_color\":{\"value\":\"white\"}},\"id\":\"47491\",\"type\":\"Circle\"},{\"attributes\":{\"axis\":{\"id\":\"47447\"},\"coordinates\":null,\"grid_line_alpha\":0.15,\"grid_line_color\":\"#E0E0E0\",\"group\":null,\"ticker\":null},\"id\":\"47450\",\"type\":\"Grid\"},{\"attributes\":{\"callback\":null,\"mode\":\"vline\",\"renderers\":[{\"id\":\"47474\"}],\"tooltips\":null},\"id\":\"47488\",\"type\":\"HoverTool\"},{\"attributes\":{\"coordinates\":null,\"group\":null,\"text\":\"Observations\",\"text_color\":\"#E0E0E0\",\"text_font\":\"Josefin Sans\",\"text_font_size\":\"2.1em\"},\"id\":\"47437\",\"type\":\"Title\"},{\"attributes\":{\"background_fill_alpha\":0.25,\"background_fill_color\":\"#505050\",\"border_line_alpha\":0.25,\"coordinates\":null,\"group\":null,\"items\":[{\"id\":\"47487\"}],\"label_standoff\":8,\"label_text_color\":\"#E0E0E0\",\"label_text_font\":\"Josefin Sans\",\"label_text_font_size\":\"1.15em\",\"spacing\":8},\"id\":\"47486\",\"type\":\"Legend\"},{\"attributes\":{\"fill_alpha\":{\"value\":0.5},\"fill_color\":{\"value\":\"red\"},\"hatch_alpha\":{\"value\":0.5},\"line_alpha\":{\"value\":0.5},\"line_color\":{\"value\":\"white\"},\"size\":{\"value\":10},\"x\":{\"field\":\"x\"},\"y\":{\"field\":\"y\"}},\"id\":\"47472\",\"type\":\"Circle\"},{\"attributes\":{\"fill_alpha\":{\"value\":0.8},\"fill_color\":{\"value\":\"red\"},\"line_color\":{\"value\":\"white\"}},\"id\":\"47490\",\"type\":\"Circle\"},{\"attributes\":{},\"id\":\"47456\",\"type\":\"WheelZoomTool\"},{\"attributes\":{},\"id\":\"47481\",\"type\":\"BasicTickFormatter\"},{\"attributes\":{\"mode\":\"append\",\"overlay\":{\"id\":\"47506\"},\"renderers\":[{\"id\":\"47474\"}]},\"id\":\"47492\",\"type\":\"BoxSelectTool\"},{\"attributes\":{\"background_fill_alpha\":0.9,\"background_fill_color\":\"#0f0f0f\",\"below\":[{\"id\":\"47447\"}],\"border_fill_alpha\":0.8,\"border_fill_color\":\"#111111\",\"center\":[{\"id\":\"47450\"},{\"id\":\"47454\"},{\"id\":\"47486\"}],\"height\":450,\"left\":[{\"id\":\"47451\"}],\"outline_line_alpha\":0.25,\"outline_line_color\":\"#E0E0E0\",\"outline_line_width\":3,\"renderers\":[{\"id\":\"47474\"}],\"title\":{\"id\":\"47437\"},\"toolbar\":{\"id\":\"47462\"},\"toolbar_location\":null,\"x_range\":{\"id\":\"47439\"},\"x_scale\":{\"id\":\"47443\"},\"y_range\":{\"id\":\"47441\"},\"y_scale\":{\"id\":\"47445\"}},\"id\":\"47436\",\"subtype\":\"Figure\",\"type\":\"Plot\"},{\"attributes\":{\"client_comm_id\":\"a4de158aeb6942c497407d5c76e984db\",\"comm_id\":\"ea11906640504541862424912753efc3\",\"plot_id\":\"47494\"},\"id\":\"47552\",\"type\":\"panel.models.comm_manager.CommManager\"},{\"attributes\":{\"axis\":{\"id\":\"47451\"},\"coordinates\":null,\"dimension\":1,\"grid_line_alpha\":0.15,\"grid_line_color\":\"#E0E0E0\",\"group\":null,\"ticker\":null},\"id\":\"47454\",\"type\":\"Grid\"},{\"attributes\":{\"overlay\":{\"id\":\"47461\"}},\"id\":\"47457\",\"type\":\"BoxZoomTool\"},{\"attributes\":{\"data\":{\"x\":{\"__ndarray__\":\"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\",\"dtype\":\"float64\",\"order\":\"little\",\"shape\":[10000]},\"y\":{\"__ndarray__\":\"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\",\"dtype\":\"float64\",\"order\":\"little\",\"shape\":[10000]}},\"selected\":{\"id\":\"47484\"},\"selection_policy\":{\"id\":\"47483\"}},\"id\":\"47469\",\"type\":\"ColumnDataSource\"},{\"attributes\":{\"bottom_units\":\"screen\",\"coordinates\":null,\"fill_alpha\":0.5,\"fill_color\":\"lightgrey\",\"group\":null,\"left_units\":\"screen\",\"level\":\"overlay\",\"line_alpha\":1.0,\"line_color\":\"black\",\"line_dash\":[4,4],\"line_width\":2,\"right_units\":\"screen\",\"syncable\":false,\"top_units\":\"screen\"},\"id\":\"47461\",\"type\":\"BoxAnnotation\"},{\"attributes\":{},\"id\":\"47452\",\"type\":\"BasicTicker\"},{\"attributes\":{},\"id\":\"47458\",\"type\":\"SaveTool\"},{\"attributes\":{},\"id\":\"47441\",\"type\":\"DataRange1d\"},{\"attributes\":{},\"id\":\"47460\",\"type\":\"HelpTool\"},{\"attributes\":{\"axis_label\":\"x\",\"axis_label_standoff\":10,\"axis_label_text_color\":\"#FFFFFF\",\"axis_label_text_font\":\"Josefin Sans\",\"axis_label_text_font_size\":\"1.9em\",\"axis_label_text_font_style\":\"bold\",\"axis_line_alpha\":0.4,\"axis_line_color\":\"#E0E0E0\",\"coordinates\":null,\"formatter\":{\"id\":\"47481\"},\"group\":null,\"major_label_policy\":{\"id\":\"47482\"},\"major_label_text_color\":\"#E0E0E0\",\"major_label_text_font\":\"Josefin Sans\",\"major_label_text_font_size\":\"1.15em\",\"major_tick_line_alpha\":0.4,\"major_tick_line_color\":\"#E0E0E0\",\"minor_tick_line_alpha\":0.4,\"minor_tick_line_color\":\"#E0E0E0\",\"ticker\":{\"id\":\"47448\"}},\"id\":\"47447\",\"type\":\"LinearAxis\"},{\"attributes\":{},\"id\":\"47455\",\"type\":\"PanTool\"},{\"attributes\":{\"source\":{\"id\":\"47469\"}},\"id\":\"47475\",\"type\":\"CDSView\"},{\"attributes\":{\"fill_alpha\":{\"value\":0.25},\"fill_color\":{\"value\":\"midnightblue\"},\"hatch_alpha\":{\"value\":0.25},\"line_alpha\":{\"value\":0.25},\"line_color\":{\"value\":\"white\"},\"size\":{\"value\":10},\"x\":{\"field\":\"x\"},\"y\":{\"field\":\"y\"}},\"id\":\"47470\",\"type\":\"Circle\"},{\"attributes\":{},\"id\":\"47459\",\"type\":\"ResetTool\"},{\"attributes\":{\"axis_label\":\"y\",\"axis_label_standoff\":10,\"axis_label_text_color\":\"#FFFFFF\",\"axis_label_text_font\":\"Josefin Sans\",\"axis_label_text_font_size\":\"1.9em\",\"axis_label_text_font_style\":\"bold\",\"axis_line_alpha\":0.4,\"axis_line_color\":\"#E0E0E0\",\"coordinates\":null,\"formatter\":{\"id\":\"47478\"},\"group\":null,\"major_label_policy\":{\"id\":\"47479\"},\"major_label_text_color\":\"#E0E0E0\",\"major_label_text_font\":\"Josefin Sans\",\"major_label_text_font_size\":\"1.15em\",\"major_tick_line_alpha\":0.4,\"major_tick_line_color\":\"#E0E0E0\",\"minor_tick_line_alpha\":0.4,\"minor_tick_line_color\":\"#E0E0E0\",\"ticker\":{\"id\":\"47452\"}},\"id\":\"47451\",\"type\":\"LinearAxis\"},{\"attributes\":{},\"id\":\"47445\",\"type\":\"LinearScale\"}],\"root_ids\":[\"47494\",\"47552\"]},\"title\":\"Bokeh Application\",\"version\":\"2.4.3\"}};\n",
       "    var render_items = [{\"docid\":\"d40ab6d9-ba40-4fda-881d-67298e08e7e9\",\"root_ids\":[\"47494\"],\"roots\":{\"47494\":\"c0d1d817-701d-408d-a15c-f0fec98735bb\"}}];\n",
       "    root.Bokeh.embed.embed_items_notebook(docs_json, render_items);\n",
       "    for (const render_item of render_items) {\n",
       "      for (const root_id of render_item.root_ids) {\n",
       "\tconst id_el = document.getElementById(root_id)\n",
       "\tif (id_el.children.length && (id_el.children[0].className === 'bk-root')) {\n",
       "\t  const root_el = id_el.children[0]\n",
       "\t  root_el.id = root_el.id + '-rendered'\n",
       "\t}\n",
       "      }\n",
       "    }\n",
       "  }\n",
       "  if (root.Bokeh !== undefined && root.Bokeh.Panel !== undefined) {\n",
       "    embed_document(root);\n",
       "  } else {\n",
       "    var attempts = 0;\n",
       "    var timer = setInterval(function(root) {\n",
       "      if (root.Bokeh !== undefined && root.Bokeh.Panel !== undefined) {\n",
       "        clearInterval(timer);\n",
       "        embed_document(root);\n",
       "      } else if (document.readyState == \"complete\") {\n",
       "        attempts++;\n",
       "        if (attempts > 200) {\n",
       "          clearInterval(timer);\n",
       "          console.log(\"Bokeh: ERROR: Unable to run BokehJS code because BokehJS library is missing\");\n",
       "        }\n",
       "      }\n",
       "    }, 25, root)\n",
       "  }\n",
       "})(window);</script>"
      ],
      "text/plain": [
       "Row\n",
       "    [0] HSpacer()\n",
       "    [1] Bokeh(Figure)\n",
       "    [2] HSpacer()"
      ]
     },
     "execution_count": 1000,
     "metadata": {
      "application/vnd.holoviews_exec.v0+json": {
       "id": "47494"
      }
     },
     "output_type": "execute_result"
    }
   ],
   "source": [
    "N_iter = np.linspace(1,len(loss_history), len(loss_history))\n",
    "p = scatter(N_iter, loss_history)\n",
    "plot = (center_plot(p))\n",
    "plot"
   ]
  },
  {
   "cell_type": "code",
   "execution_count": 1001,
   "metadata": {
    "tags": []
   },
   "outputs": [
    {
     "data": {},
     "metadata": {},
     "output_type": "display_data"
    },
    {
     "data": {
      "application/vnd.holoviews_exec.v0+json": "",
      "text/html": [
       "<div id='47686'>\n",
       "  <div class=\"bk-root\" id=\"a2c51de2-cad8-4707-9cbe-2fec58cead5a\" data-root-id=\"47686\"></div>\n",
       "</div>\n",
       "<script type=\"application/javascript\">(function(root) {\n",
       "  function embed_document(root) {\n",
       "    var docs_json = {\"fc22e1e6-a10a-4e03-b0ae-dea47e3f6b2d\":{\"defs\":[{\"extends\":null,\"module\":null,\"name\":\"ReactiveHTML1\",\"overrides\":[],\"properties\":[]},{\"extends\":null,\"module\":null,\"name\":\"FlexBox1\",\"overrides\":[],\"properties\":[{\"default\":\"flex-start\",\"kind\":null,\"name\":\"align_content\"},{\"default\":\"flex-start\",\"kind\":null,\"name\":\"align_items\"},{\"default\":\"row\",\"kind\":null,\"name\":\"flex_direction\"},{\"default\":\"wrap\",\"kind\":null,\"name\":\"flex_wrap\"},{\"default\":\"flex-start\",\"kind\":null,\"name\":\"justify_content\"}]},{\"extends\":null,\"module\":null,\"name\":\"GridStack1\",\"overrides\":[],\"properties\":[{\"default\":\"warn\",\"kind\":null,\"name\":\"mode\"},{\"default\":null,\"kind\":null,\"name\":\"ncols\"},{\"default\":null,\"kind\":null,\"name\":\"nrows\"},{\"default\":true,\"kind\":null,\"name\":\"allow_resize\"},{\"default\":true,\"kind\":null,\"name\":\"allow_drag\"},{\"default\":[],\"kind\":null,\"name\":\"state\"}]},{\"extends\":null,\"module\":null,\"name\":\"click1\",\"overrides\":[],\"properties\":[{\"default\":\"\",\"kind\":null,\"name\":\"terminal_output\"},{\"default\":\"\",\"kind\":null,\"name\":\"debug_name\"},{\"default\":0,\"kind\":null,\"name\":\"clears\"}]},{\"extends\":null,\"module\":null,\"name\":\"NotificationAreaBase1\",\"overrides\":[],\"properties\":[{\"default\":\"bottom-right\",\"kind\":null,\"name\":\"position\"},{\"default\":0,\"kind\":null,\"name\":\"_clear\"}]},{\"extends\":null,\"module\":null,\"name\":\"NotificationArea1\",\"overrides\":[],\"properties\":[{\"default\":[],\"kind\":null,\"name\":\"notifications\"},{\"default\":\"bottom-right\",\"kind\":null,\"name\":\"position\"},{\"default\":0,\"kind\":null,\"name\":\"_clear\"},{\"default\":[{\"background\":\"#ffc107\",\"icon\":{\"className\":\"fas fa-exclamation-triangle\",\"color\":\"white\",\"tagName\":\"i\"},\"type\":\"warning\"},{\"background\":\"#007bff\",\"icon\":{\"className\":\"fas fa-info-circle\",\"color\":\"white\",\"tagName\":\"i\"},\"type\":\"info\"}],\"kind\":null,\"name\":\"types\"}]},{\"extends\":null,\"module\":null,\"name\":\"Notification\",\"overrides\":[],\"properties\":[{\"default\":null,\"kind\":null,\"name\":\"background\"},{\"default\":3000,\"kind\":null,\"name\":\"duration\"},{\"default\":null,\"kind\":null,\"name\":\"icon\"},{\"default\":\"\",\"kind\":null,\"name\":\"message\"},{\"default\":null,\"kind\":null,\"name\":\"notification_type\"},{\"default\":false,\"kind\":null,\"name\":\"_destroyed\"}]},{\"extends\":null,\"module\":null,\"name\":\"TemplateActions1\",\"overrides\":[],\"properties\":[{\"default\":0,\"kind\":null,\"name\":\"open_modal\"},{\"default\":0,\"kind\":null,\"name\":\"close_modal\"}]},{\"extends\":null,\"module\":null,\"name\":\"MaterialTemplateActions1\",\"overrides\":[],\"properties\":[{\"default\":0,\"kind\":null,\"name\":\"open_modal\"},{\"default\":0,\"kind\":null,\"name\":\"close_modal\"}]}],\"roots\":{\"references\":[{\"attributes\":{\"data\":{\"x\":{\"__ndarray__\":\"AAAAAAAA8L++NHEYq63vv31p4jBWW++/O55TSQEJ77/60sRhrLbuv7gHNnpXZO6/djynkgIS7r81cRirrb/tv/OlicNYbe2/str62wMb7b9wD2z0rsjsvy5E3Qxaduy/7XhOJQUk7L+rrb89sNHrv2riMFZbf+u/KBeibgYt67/mSxOHsdrqv6WAhJ9ciOq/Y7X1twc26r8i6mbQsuPpv+Ae2Ohdkem/nlNJAQk/6b9ciLoZtOzovxu9KzJfmui/2vGcSgpI6L+YJg5jtfXnv1Zbf3tgo+e/FJDwkwtR57/TxGGstv7mv5L50sRhrOa/UC5E3Qxa5r8OY7X1twfmv8yXJg5jteW/i8yXJg5j5b9KAQk/uRDlvwg2eldkvuS/xmrrbw9s5L+En1yIuhnkv0PUzaBlx+O/AQk/uRB147/APbDRuyLjv35yIepm0OK/PKeSAhJ+4r/72wMbvSviv7kQdTNo2eG/eEXmSxOH4b82eldkvjThv/SuyHxp4uC/s+M5lRSQ4L9xGKutvz3gv2CaOIzV1t+/3AMbvSsy379Ybf3tgY3ev9bW3x7Y6N2/UkDCTy5E3b/OqaSAhJ/cv0wTh7Ha+tu/yHxp4jBW279G5ksTh7Hav8JPLkTdDNq/PrkQdTNo2b+8IvOlicPYvziM1dbfHti/tvW3BzZ6178yX5o4jNXWv67IfGniMNa/LDJfmjiM1b+om0HLjufUvyYFJPzkQtS/om4GLTue078e2OhdkfnSv5xBy47nVNK/GKutvz2w0b+WFJDwkwvRvxJ+ciHqZtC/HM+ppICEz78Yom4GLTvOvxB1M2jZ8cy/CEj4yYWoy78EG70rMl/Kv/ztgY3eFcm/+MBG74rMx7/wkwtRN4PGv+hm0LLjOcW/5DmVFJDww7/cDFp2PKfCv9jfHtjoXcG/0LLjOZUUwL+QC1E3g5a9v4ix2vrbA7u/eFdkvjRxuL9w/e2Bjd61v2Cjd0XmS7O/UEkBCT+5sL+Q3hWZL02sv3AqKSDhJ6e/YHY8p5ICor+AhJ9ciLqZv4A4jNXW346/gNCy4zmVdL8A0LLjOZV0P4A4jNXW344/gISfXIi6mT9gdjynkgKiP4AqKSDhJ6c/gN4VmS9NrD9QSQEJP7mwP2Cjd0XmS7M/cP3tgY3etT+AV2S+NHG4P5Cx2vrbA7s/kAtRN4OWvT/QsuM5lRTAP9jfHtjoXcE/4Axadjynwj/oOZUUkPDDP+hm0LLjOcU/8JMLUTeDxj/4wEbviszHPwDugY3eFck/CBu9KzJfyj8ISPjJhajLPxB1M2jZ8cw/GKJuBi07zj8gz6mkgITPPxR+ciHqZtA/lBSQ8JML0T8Yq62/PbDRP5xBy47nVNI/INjoXZH50j+kbgYtO57TPyQFJPzkQtQ/qJtBy47n1D8sMl+aOIzVP7DIfGniMNY/NF+aOIzV1j+09bcHNnrXPziM1dbfHtg/vCLzpYnD2D9AuRB1M2jZP8RPLkTdDNo/ROZLE4ex2j/IfGniMFbbP0wTh7Ha+ts/0KmkgISf3D9UQMJPLkTdP9TW3x7Y6N0/WG397YGN3j/cAxu9KzLfP2CaOIzV1t8/chirrb894D+04zmVFJDgP/SuyHxp4uA/NnpXZL404T94ReZLE4fhP7oQdTNo2eE//NsDG70r4j88p5ICEn7iP35yIepm0OI/wD2w0bsi4z8CCT+5EHXjP0TUzaBlx+M/hJ9ciLoZ5D/GautvD2zkPwg2eldkvuQ/SgEJP7kQ5T+MzJcmDmPlP8yXJg5jteU/DmO19bcH5j9QLkTdDFrmP5L50sRhrOY/1MRhrLb+5j8UkPCTC1HnP1Zbf3tgo+c/mCYOY7X15z/a8ZxKCkjoPxy9KzJfmug/XIi6GbTs6D+eU0kBCT/pP+Ae2Ohdkek/Iupm0LLj6T9ktfW3BzbqP6SAhJ9ciOo/5ksTh7Ha6j8oF6JuBi3rP2riMFZbf+s/rK2/PbDR6z/seE4lBSTsPy5E3Qxaduw/cA9s9K7I7D+y2vrbAxvtP/SlicNYbe0/NHEYq62/7T92PKeSAhLuP7gHNnpXZO4/+tLEYay27j88nlNJAQnvP35p4jBWW+8/vjRxGKut7z8AAAAAAADwPw==\",\"dtype\":\"float64\",\"order\":\"little\",\"shape\":[200]},\"y\":{\"__ndarray__\":\"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\",\"dtype\":\"float64\",\"order\":\"little\",\"shape\":[200]}},\"selected\":{\"id\":\"47682\"},\"selection_policy\":{\"id\":\"47681\"}},\"id\":\"47666\",\"type\":\"ColumnDataSource\"},{\"attributes\":{},\"id\":\"47611\",\"type\":\"DataRange1d\"},{\"attributes\":{\"line_alpha\":0.2,\"line_color\":\"red\",\"x\":{\"field\":\"x\"},\"y\":{\"field\":\"y\"}},\"id\":\"47669\",\"type\":\"Line\"},{\"attributes\":{\"client_comm_id\":\"984861557dbe424ea92e281a49b29665\",\"comm_id\":\"fd53956522fb483d950e5449cb8088c4\",\"plot_id\":\"47686\"},\"id\":\"47754\",\"type\":\"panel.models.comm_manager.CommManager\"},{\"attributes\":{\"coordinates\":null,\"data_source\":{\"id\":\"47641\"},\"glyph\":{\"id\":\"47642\"},\"group\":null,\"hover_glyph\":{\"id\":\"47644\"},\"muted_glyph\":{\"id\":\"47645\"},\"nonselection_glyph\":{\"id\":\"47663\"},\"selection_glyph\":{\"id\":\"47662\"},\"view\":{\"id\":\"47647\"}},\"id\":\"47646\",\"type\":\"GlyphRenderer\"},{\"attributes\":{\"axis_label\":\"y\",\"axis_label_standoff\":10,\"axis_label_text_color\":\"#FFFFFF\",\"axis_label_text_font\":\"Josefin Sans\",\"axis_label_text_font_size\":\"1.9em\",\"axis_label_text_font_style\":\"bold\",\"axis_line_alpha\":0.4,\"axis_line_color\":\"#E0E0E0\",\"coordinates\":null,\"formatter\":{\"id\":\"47650\"},\"group\":null,\"major_label_policy\":{\"id\":\"47651\"},\"major_label_text_color\":\"#E0E0E0\",\"major_label_text_font\":\"Josefin Sans\",\"major_label_text_font_size\":\"1.15em\",\"major_tick_line_alpha\":0.4,\"major_tick_line_color\":\"#E0E0E0\",\"minor_tick_line_alpha\":0.4,\"minor_tick_line_color\":\"#E0E0E0\",\"ticker\":{\"id\":\"47624\"}},\"id\":\"47623\",\"type\":\"LinearAxis\"},{\"attributes\":{\"source\":{\"id\":\"47666\"}},\"id\":\"47671\",\"type\":\"CDSView\"},{\"attributes\":{},\"id\":\"47650\",\"type\":\"BasicTickFormatter\"},{\"attributes\":{\"line_alpha\":0.1,\"line_color\":\"red\",\"x\":{\"field\":\"x\"},\"y\":{\"field\":\"y\"}},\"id\":\"47668\",\"type\":\"Line\"},{\"attributes\":{},\"id\":\"47620\",\"type\":\"BasicTicker\"},{\"attributes\":{\"axis\":{\"id\":\"47619\"},\"coordinates\":null,\"grid_line_alpha\":0.15,\"grid_line_color\":\"#E0E0E0\",\"group\":null,\"ticker\":null},\"id\":\"47622\",\"type\":\"Grid\"},{\"attributes\":{},\"id\":\"47617\",\"type\":\"LinearScale\"},{\"attributes\":{},\"id\":\"47651\",\"type\":\"AllLabels\"},{\"attributes\":{\"data\":{\"x\":{\"__ndarray__\":\"fWniMFZb7787nlNJAQnvv/rSxGGstu6/uAc2eldk7r9wD2z0rsjsv6utvz2w0eu/Y7X1twc26r8i6mbQsuPpv+Ae2Ohdkem/08RhrLb+5r+S+dLEYazmvw5jtfW3B+a/zJcmDmO15b+LzJcmDmPlv0oBCT+5EOW/xmrrbw9s5L+En1yIuhnkv35yIepm0OK/eEXmSxOH4b/0rsh8aeLgv7PjOZUUkOC/YJo4jNXW379Ybf3tgY3ev9bW3x7Y6N2/UkDCTy5E3b9ME4ex2vrbv8h8aeIwVtu/wk8uRN0M2r8+uRB1M2jZv67IfGniMNa/LDJfmjiM1b+om0HLjufUv5xBy47nVNK/En5yIepm0L8Yom4GLTvOvwhI+MmFqMu/BBu9KzJfyr/kOZUUkPDDv9jfHtjoXcG/0LLjOZUUwL94V2S+NHG4v1BJAQk/ubC/kN4VmS9NrL9wKikg4Senv2B2PKeSAqK/gDiM1dbfjr+A0LLjOZV0v4A4jNXW344/gN4VmS9NrD9go3dF5kuzP3D97YGN3rU/gFdkvjRxuD/QsuM5lRTAP9jfHtjoXcE/4Axadjynwj/oZtCy4znFP/jARu+KzMc/AO6Bjd4VyT8IG70rMl/KPxR+ciHqZtA/nEHLjudU0j8g2OhdkfnSP6RuBi07ntM/JAUk/ORC1D8sMl+aOIzVP7DIfGniMNY/OIzV1t8e2D+8IvOlicPYP0C5EHUzaNk/xE8uRN0M2j9E5ksTh7HaP8h8aeIwVts/0KmkgISf3D9UQMJPLkTdP1ht/e2Bjd4/3AMbvSsy3z9yGKutvz3gP/SuyHxp4uA/uhB1M2jZ4T/82wMbvSviPzynkgISfuI/fnIh6mbQ4j/APbDRuyLjP0TUzaBlx+M/CDZ6V2S+5D9KAQk/uRDlP1AuRN0MWuY/kvnSxGGs5j/UxGGstv7mPxSQ8JMLUec/XIi6GbTs6D9ktfW3BzbqP6SAhJ9ciOo/5ksTh7Ha6j8uRN0MWnbsP/SlicNYbe0/NHEYq62/7T/60sRhrLbuP35p4jBWW+8/vjRxGKut7z8=\",\"dtype\":\"float64\",\"order\":\"little\",\"shape\":[100]},\"y\":{\"__ndarray__\":\"hPe+ZL6wKECqERG4VeMoQLYKtGu11SZAortYPRWxJkDZPTblWo4mQJEHnKX7xSVAnEDm1slOJkDafMiPyTwlQMglTbNBviRAGy4dlb5KJkBTysb2e9UkQCw9O0Uz2SRA1sj9pQSKI0Ai2ey/zB8kQMgGOZGGhiRAbo0o3zpCI0BdTUFBiVgkQLiOTGz+/SJAYTm6+VadIkDimBNfjAkiQA0dfJUE1SNA1urPZ/j+IUDTTrOMIc8gQAjUJFOKIiJA43e4XPxRIEDwNjYJlxkhQGvF6ePSXB5AouSyXrahHkD1va+tbVkgQBob5tE0rx9AWWUOuztmHkB9DYmP+Y8dQP5RO3ojwhtA/2+Cn7nAGED67d1LyzkZQE9oLYUS6BhAJZFSDpT4GkAmfQyF6wsYQBwtwGWn+xNAc6tAZyH7FkAUuUzuENgUQLZnfnRTaRNAEzVSRwgpFUBJBozW6IUVQF7zBbx1DxVAstYZvBCjEUAAbUeDqDISQMvUGfFzqhJAhlF8zHeoEkDQ1GhPL7QPQNVLkSfXFxBA/RzLOl3MDED5IJGdmkcLQIc1cJ9BqhBA7TTbfdNaEUCx7gxan3gNQDsziOi2KBBAmkS7Urn+DUD+I8oVHIYKQL7Ei45bzQxAUXdS/B8hEEDKuVAxEioLQOjUPzUVIBBAGf3vHDzZAkAWwSqRhegNQFANPKycnQtA8VoNSLmzCkB/Ow4lyBsMQKggYRadogVABvEP12B/C0AiEHcIqpINQL7XD7bttBBAXS/DNFybC0APDyoEOAELQEYSQfDKtQxAPJFLQhrSEEAr9EfyxE8QQFtckR+T0Q5A0TKbLvjaEUDdFjea/HYRQDfff8Y8JBNAJHRAYbjBEEDrtIajKqYRQIvVmym2JBJAxScf9BNVEUCHmsrTxnEUQAn0w3IzgBVAEPhgUL9WFUDSlZiXZi8VQJzNqkc5gRNADW4ZfuSxFUC5PbUyr3sVQAV0He6ygBRAIv4Le3M0FUBiFIXRpwUTQMW/uaEPARJAk1jPSxSeC0B8mS/poccAQC8n8SFtEug/bli+Mkkh5r8=\",\"dtype\":\"float64\",\"order\":\"little\",\"shape\":[100]}},\"selected\":{\"id\":\"47656\"},\"selection_policy\":{\"id\":\"47655\"}},\"id\":\"47641\",\"type\":\"ColumnDataSource\"},{\"attributes\":{\"coordinates\":null,\"group\":null,\"text\":\"A Generated Random Polynomial Data Set\",\"text_color\":\"#E0E0E0\",\"text_font\":\"Josefin Sans\",\"text_font_size\":\"2.1em\"},\"id\":\"47609\",\"type\":\"Title\"},{\"attributes\":{},\"id\":\"47613\",\"type\":\"DataRange1d\"},{\"attributes\":{},\"id\":\"47615\",\"type\":\"LinearScale\"},{\"attributes\":{},\"id\":\"47653\",\"type\":\"BasicTickFormatter\"},{\"attributes\":{\"axis_label\":\"x\",\"axis_label_standoff\":10,\"axis_label_text_color\":\"#FFFFFF\",\"axis_label_text_font\":\"Josefin Sans\",\"axis_label_text_font_size\":\"1.9em\",\"axis_label_text_font_style\":\"bold\",\"axis_line_alpha\":0.4,\"axis_line_color\":\"#E0E0E0\",\"coordinates\":null,\"formatter\":{\"id\":\"47653\"},\"group\":null,\"major_label_policy\":{\"id\":\"47654\"},\"major_label_text_color\":\"#E0E0E0\",\"major_label_text_font\":\"Josefin Sans\",\"major_label_text_font_size\":\"1.15em\",\"major_tick_line_alpha\":0.4,\"major_tick_line_color\":\"#E0E0E0\",\"minor_tick_line_alpha\":0.4,\"minor_tick_line_color\":\"#E0E0E0\",\"ticker\":{\"id\":\"47620\"}},\"id\":\"47619\",\"type\":\"LinearAxis\"},{\"attributes\":{\"fill_alpha\":{\"value\":0.5},\"fill_color\":{\"value\":\"red\"},\"hatch_alpha\":{\"value\":0.5},\"line_alpha\":{\"value\":0.5},\"line_color\":{\"value\":\"white\"},\"size\":{\"value\":10},\"x\":{\"field\":\"x\"},\"y\":{\"field\":\"y\"}},\"id\":\"47644\",\"type\":\"Circle\"},{\"attributes\":{\"tools\":[{\"id\":\"47627\"},{\"id\":\"47628\"},{\"id\":\"47629\"},{\"id\":\"47630\"},{\"id\":\"47631\"},{\"id\":\"47632\"},{\"id\":\"47660\"},{\"id\":\"47664\"}]},\"id\":\"47634\",\"type\":\"Toolbar\"},{\"attributes\":{},\"id\":\"47632\",\"type\":\"HelpTool\"},{\"attributes\":{},\"id\":\"47654\",\"type\":\"AllLabels\"},{\"attributes\":{},\"id\":\"47681\",\"type\":\"UnionRenderers\"},{\"attributes\":{\"children\":[{\"id\":\"47687\"},{\"id\":\"47608\"},{\"id\":\"47714\"}],\"margin\":[0,0,0,0],\"name\":\"Row01914\"},\"id\":\"47686\",\"type\":\"Row\"},{\"attributes\":{\"margin\":[5,5,5,5],\"name\":\"HSpacer01911\",\"sizing_mode\":\"stretch_width\"},\"id\":\"47714\",\"type\":\"Spacer\"},{\"attributes\":{\"line_alpha\":0.6,\"line_color\":\"red\",\"x\":{\"field\":\"x\"},\"y\":{\"field\":\"y\"}},\"id\":\"47667\",\"type\":\"Line\"},{\"attributes\":{\"margin\":[5,5,5,5],\"name\":\"HSpacer01910\",\"sizing_mode\":\"stretch_width\"},\"id\":\"47687\",\"type\":\"Spacer\"},{\"attributes\":{\"fill_alpha\":{\"value\":0.2},\"fill_color\":{\"value\":\"midnightblue\"},\"hatch_alpha\":{\"value\":0.2},\"line_alpha\":{\"value\":0.2},\"line_color\":{\"value\":\"white\"},\"size\":{\"value\":10},\"x\":{\"field\":\"x\"},\"y\":{\"field\":\"y\"}},\"id\":\"47645\",\"type\":\"Circle\"},{\"attributes\":{\"axis\":{\"id\":\"47623\"},\"coordinates\":null,\"dimension\":1,\"grid_line_alpha\":0.15,\"grid_line_color\":\"#E0E0E0\",\"group\":null,\"ticker\":null},\"id\":\"47626\",\"type\":\"Grid\"},{\"attributes\":{},\"id\":\"47624\",\"type\":\"BasicTicker\"},{\"attributes\":{},\"id\":\"47628\",\"type\":\"WheelZoomTool\"},{\"attributes\":{\"label\":{\"value\":\"Model function\"},\"renderers\":[{\"id\":\"47670\"}]},\"id\":\"47685\",\"type\":\"LegendItem\"},{\"attributes\":{\"overlay\":{\"id\":\"47633\"}},\"id\":\"47629\",\"type\":\"BoxZoomTool\"},{\"attributes\":{},\"id\":\"47682\",\"type\":\"Selection\"},{\"attributes\":{},\"id\":\"47627\",\"type\":\"PanTool\"},{\"attributes\":{\"background_fill_alpha\":0.25,\"background_fill_color\":\"#505050\",\"border_line_alpha\":0.25,\"coordinates\":null,\"group\":null,\"items\":[{\"id\":\"47659\"},{\"id\":\"47685\"}],\"label_standoff\":8,\"label_text_color\":\"#E0E0E0\",\"label_text_font\":\"Josefin Sans\",\"label_text_font_size\":\"1.15em\",\"spacing\":8},\"id\":\"47658\",\"type\":\"Legend\"},{\"attributes\":{},\"id\":\"47630\",\"type\":\"SaveTool\"},{\"attributes\":{\"background_fill_alpha\":0.9,\"background_fill_color\":\"#0f0f0f\",\"below\":[{\"id\":\"47619\"}],\"border_fill_alpha\":0.8,\"border_fill_color\":\"#111111\",\"center\":[{\"id\":\"47622\"},{\"id\":\"47626\"},{\"id\":\"47658\"}],\"height\":450,\"left\":[{\"id\":\"47623\"}],\"outline_line_alpha\":0.25,\"outline_line_color\":\"#E0E0E0\",\"outline_line_width\":3,\"renderers\":[{\"id\":\"47646\"},{\"id\":\"47670\"}],\"title\":{\"id\":\"47609\"},\"toolbar\":{\"id\":\"47634\"},\"toolbar_location\":null,\"x_range\":{\"id\":\"47611\"},\"x_scale\":{\"id\":\"47615\"},\"y_range\":{\"id\":\"47613\"},\"y_scale\":{\"id\":\"47617\"}},\"id\":\"47608\",\"subtype\":\"Figure\",\"type\":\"Plot\"},{\"attributes\":{},\"id\":\"47655\",\"type\":\"UnionRenderers\"},{\"attributes\":{},\"id\":\"47631\",\"type\":\"ResetTool\"},{\"attributes\":{\"coordinates\":null,\"data_source\":{\"id\":\"47666\"},\"glyph\":{\"id\":\"47667\"},\"group\":null,\"hover_glyph\":null,\"muted_glyph\":{\"id\":\"47669\"},\"nonselection_glyph\":{\"id\":\"47668\"},\"view\":{\"id\":\"47671\"}},\"id\":\"47670\",\"type\":\"GlyphRenderer\"},{\"attributes\":{\"bottom_units\":\"screen\",\"coordinates\":null,\"fill_alpha\":0.5,\"fill_color\":\"lightgrey\",\"group\":null,\"left_units\":\"screen\",\"level\":\"overlay\",\"line_alpha\":1.0,\"line_color\":\"black\",\"line_dash\":[4,4],\"line_width\":2,\"right_units\":\"screen\",\"syncable\":false,\"top_units\":\"screen\"},\"id\":\"47633\",\"type\":\"BoxAnnotation\"},{\"attributes\":{},\"id\":\"47656\",\"type\":\"Selection\"},{\"attributes\":{\"source\":{\"id\":\"47641\"}},\"id\":\"47647\",\"type\":\"CDSView\"},{\"attributes\":{\"fill_alpha\":{\"value\":0.25},\"fill_color\":{\"value\":\"midnightblue\"},\"hatch_alpha\":{\"value\":0.25},\"line_alpha\":{\"value\":0.25},\"line_color\":{\"value\":\"white\"},\"size\":{\"value\":10},\"x\":{\"field\":\"x\"},\"y\":{\"field\":\"y\"}},\"id\":\"47642\",\"type\":\"Circle\"},{\"attributes\":{\"fill_alpha\":{\"value\":0.5},\"fill_color\":{\"value\":\"midnightblue\"},\"line_color\":{\"value\":\"white\"}},\"id\":\"47663\",\"type\":\"Circle\"},{\"attributes\":{\"callback\":null,\"mode\":\"vline\",\"renderers\":[{\"id\":\"47646\"}],\"tooltips\":null},\"id\":\"47660\",\"type\":\"HoverTool\"},{\"attributes\":{\"bottom_units\":\"screen\",\"coordinates\":null,\"fill_alpha\":0.5,\"fill_color\":\"lightgrey\",\"group\":null,\"left_units\":\"screen\",\"level\":\"overlay\",\"line_alpha\":1.0,\"line_color\":\"black\",\"line_dash\":[4,4],\"line_width\":2,\"right_units\":\"screen\",\"syncable\":false,\"top_units\":\"screen\"},\"id\":\"47684\",\"type\":\"BoxAnnotation\"},{\"attributes\":{\"fill_alpha\":{\"value\":0.8},\"fill_color\":{\"value\":\"red\"},\"line_color\":{\"value\":\"white\"}},\"id\":\"47662\",\"type\":\"Circle\"},{\"attributes\":{\"mode\":\"append\",\"overlay\":{\"id\":\"47684\"},\"renderers\":[{\"id\":\"47646\"}]},\"id\":\"47664\",\"type\":\"BoxSelectTool\"},{\"attributes\":{\"label\":{\"value\":\"Observations\"},\"renderers\":[{\"id\":\"47646\"}]},\"id\":\"47659\",\"type\":\"LegendItem\"}],\"root_ids\":[\"47686\",\"47754\"]},\"title\":\"Bokeh Application\",\"version\":\"2.4.3\"}};\n",
       "    var render_items = [{\"docid\":\"fc22e1e6-a10a-4e03-b0ae-dea47e3f6b2d\",\"root_ids\":[\"47686\"],\"roots\":{\"47686\":\"a2c51de2-cad8-4707-9cbe-2fec58cead5a\"}}];\n",
       "    root.Bokeh.embed.embed_items_notebook(docs_json, render_items);\n",
       "    for (const render_item of render_items) {\n",
       "      for (const root_id of render_item.root_ids) {\n",
       "\tconst id_el = document.getElementById(root_id)\n",
       "\tif (id_el.children.length && (id_el.children[0].className === 'bk-root')) {\n",
       "\t  const root_el = id_el.children[0]\n",
       "\t  root_el.id = root_el.id + '-rendered'\n",
       "\t}\n",
       "      }\n",
       "    }\n",
       "  }\n",
       "  if (root.Bokeh !== undefined && root.Bokeh.Panel !== undefined) {\n",
       "    embed_document(root);\n",
       "  } else {\n",
       "    var attempts = 0;\n",
       "    var timer = setInterval(function(root) {\n",
       "      if (root.Bokeh !== undefined && root.Bokeh.Panel !== undefined) {\n",
       "        clearInterval(timer);\n",
       "        embed_document(root);\n",
       "      } else if (document.readyState == \"complete\") {\n",
       "        attempts++;\n",
       "        if (attempts > 200) {\n",
       "          clearInterval(timer);\n",
       "          console.log(\"Bokeh: ERROR: Unable to run BokehJS code because BokehJS library is missing\");\n",
       "        }\n",
       "      }\n",
       "    }, 25, root)\n",
       "  }\n",
       "})(window);</script>"
      ],
      "text/plain": [
       "Row\n",
       "    [0] HSpacer()\n",
       "    [1] Bokeh(Figure)\n",
       "    [2] HSpacer()"
      ]
     },
     "execution_count": 1001,
     "metadata": {
      "application/vnd.holoviews_exec.v0+json": {
       "id": "47686"
      }
     },
     "output_type": "execute_result"
    }
   ],
   "source": [
    "# Ploit\n",
    "p = scatter(x_data, y_data, title=\"A Generated Random Polynomial Data Set\")\n",
    "poly_model = np.poly1d(w_model[::-1])\n",
    "\n",
    "\n",
    "x_all.sort()\n",
    "\n",
    "p.line(x_all, poly_model(x_all), line_width=1, line_alpha=0.6, color=\"red\", legend_label=r\"Model function\")\n",
    "plot = (center_plot(p))\n",
    "plot"
   ]
  },
  {
   "cell_type": "code",
   "execution_count": null,
   "metadata": {},
   "outputs": [],
   "source": [
    "# Regularization\n",
    "\n"
   ]
  },
  {
   "cell_type": "markdown",
   "metadata": {},
   "source": [
    "<div class=\"alert alert-success\" markdown=\"1\" style=\"color:white; background-color: #013220; border-color: #03C03C\">\n",
    "\n",
    "> ### Question 2.2. Implement polynomial regression using JAX with gradient descent.\n",
    "\n",
    "</div>"
   ]
  },
  {
   "cell_type": "code",
   "execution_count": null,
   "metadata": {},
   "outputs": [],
   "source": []
  },
  {
   "cell_type": "markdown",
   "metadata": {},
   "source": [
    "<div class=\"alert alert-success\" markdown=\"1\" style=\"color:white; background-color: #013220; border-color: #03C03C\">\n",
    "\n",
    "> ### Question 2.3 - Compare the results of both implementations and the speed of the optimization algorithm.\n",
    "\n",
    "</div>"
   ]
  },
  {
   "cell_type": "markdown",
   "metadata": {},
   "source": [
    "<a id=\"audio\"></a>\n",
    "# Audio applications\n",
    "\n",
    "In order to test our algorithms on audio and music data, we will work with several datasets. We will both be using well-known state-of-art datasets (through the TF dataset system). But first, we will rely on a simple dataset (`Musclefish`) that should be downloaded on your local computer first from this [link](https://nubo.ircam.fr/index.php/s/ByK4QL7nE4Mq5MA)\n",
    "\n",
    "**The following set of instructions will perform that automatically for you :)**"
   ]
  },
  {
   "cell_type": "code",
   "execution_count": null,
   "metadata": {},
   "outputs": [],
   "source": [
    "!curl https://nubo.ircam.fr/index.php/s/ByK4QL7nE4Mq5MA/download/musclefish.zip --output musclefish.zip\n",
    "!unzip musclefish.zip\n",
    "!mkdir data\n",
    "!mv musclefish data/"
   ]
  },
  {
   "cell_type": "markdown",
   "metadata": {},
   "source": [
    "## Dataset details\n",
    "\n",
    "  |**Type**|*Origin*|\n",
    "  |-------:|:---------|\n",
    "  |**Classification**|[*MuscleFish*](http://knight.cis.temple.edu/~vasilis/Courses/CIS750/Papers/muscle_fish.pdf) dataset|\n",
    "  |**Music-speech**|[*MIREX Recognition*](http://www.music-ir.org/mirex/wiki/2015:Music/Speech_Classification_and_Detection) set|\n",
    "  |**Source separation**|[*SMC Mirum*](http://smc.inesctec.pt/research/data-2/) dataset|\n",
    "  |**Speech recognition**|[*CMU Arctic*](http://festvox.org/cmu_arctic/) dataset|\n",
    "\n",
    "**Unzip the file and place the `musclefish` folder inside a `data` folder in the root of this notebook**\n",
    "For the first parts of the tutorial, we will mostly rely solely on the classification dataset. In order to facilitate the interactions, we provide a dataset class called `AudioSupervisedDataset` that will allow to import all audio datasets along the tutorials. This class also contains a set of holders and will allow us to perform batch-wise gradient descent.\n",
    "\n",
    "```Python\n",
    "class AudioSupervisedDataset():\n",
    "    \"\"\"\n",
    "    Helper class to import datasets\n",
    "    % class_path  : Path to the dataset (string)\n",
    "    % type       : Type of dataset (string: 'classify', 'plain', 'metadata')\n",
    "    \"\"\" \n",
    "    audio_files\n",
    "    labels\n",
    "    labels_names\n",
    "    num_examples \n",
    "    num_classes \n",
    "```\n",
    "\n",
    "We also provide a simplified function `import_dataset` that is demonstrated below.\n",
    "\n",
    "***\n",
    "<div class=\"alert alert-success\" markdown=\"1\" style=\"color:white; background-color: #192841; border-color: #779ecb\">\n",
    "\n",
    "**_Exercise_**  \n",
    "\n",
    "  1. Launch the import procedure and check the corresponding structure\n",
    "  2. Code a count function that prints the name and number of examples for each classes \n",
    "\n",
    "</div>\n",
    "\n",
    "***"
   ]
  },
  {
   "cell_type": "code",
   "execution_count": 1,
   "metadata": {},
   "outputs": [
    {
     "name": "stdout",
     "output_type": "stream",
     "text": [
      "Recursive search in /tmp/data//musclefish\n",
      "Metal device set to: Apple M1 Pro\n",
      "(16, 44100)\n",
      "(16,)\n"
     ]
    }
   ],
   "source": [
    "from cml.data import import_dataset, AudioSupervisedDataset\n",
    "data_path = \"data/\"\n",
    "batch_size = 16\n",
    "# Instantiate the dataset class\n",
    "train_dataset = import_dataset(data_path, \"musclefish\", 'train', batch_size=batch_size)\n",
    "# Generate a batch of data from the train dataset\n",
    "batch_x, batch_y = next(train_dataset)\n",
    "# Print the shape of the input and output batch tensors\n",
    "print(batch_x.shape)  # (16, 44100)\n",
    "print(batch_y.shape)  # (16,)"
   ]
  },
  {
   "cell_type": "code",
   "execution_count": 2,
   "metadata": {},
   "outputs": [
    {
     "name": "stdout",
     "output_type": "stream",
     "text": [
      "52\n"
     ]
    }
   ],
   "source": [
    "#%% Q-0.1.2 - Count function to print the number of examples in each class along with class label\n",
    "\n",
    "n_batch = 0\n",
    "train_dataset._reset_generator()\n",
    "for batch_x, batch_y in iter(train_dataset):\n",
    "    n_batch += 1\n",
    "    ######################\n",
    "    # YOUR CODE GOES HERE\n",
    "    ######################\n",
    "\n",
    "print(n_batch)"
   ]
  },
  {
   "cell_type": "markdown",
   "metadata": {},
   "source": [
    "### Preprocessing\n",
    "\n",
    "We will rely on a set of spectral transforms that allow to obtain a more descriptive view over the audio information. As most of these are out of the scope of the machine learning course, we redirect you to a [signal processing course](https://ccrma.stanford.edu/~jos/sasp/) proposed by [Julius O. Smith](https://ccrma.stanford.edu/~jos/).  \n",
    "\n",
    "The following functions to compute various types of transforms are given as part of the basic audio dataset class, in the `cml.data.audio` package\n",
    "\n",
    "  |**Name**|*Transform*|\n",
    "  |-------:|:----------|\n",
    "  |`stft`       |[Short-term Fourier transform](https://en.wikipedia.org/wiki/Short-time_Fourier_transform)|\n",
    "  |`mel`  |[Mel scale](https://en.wikipedia.org/wiki/Mel_scale) transform|\n",
    "  |`chroma` |[Chromas vector](https://en.wikipedia.org/wiki/Harmonic_pitch_class_profiles)|\n",
    "  |`cqt`        |[Constant-Q](https://en.wikipedia.org/wiki/Constant_Q_transform) transform|\n",
    "\n",
    "In order to perform the various computations, we provide the following function, in the `AudioSupervisedDataset` which performs the different transforms on a complete dataset.  \n",
    "\n",
    "``` Python\n",
    "dataset.transform(index, name)\n",
    "    \"\"\" index   : Specific index in our dataset \"\"\"\n",
    "    \"\"\" name    : Name of the transform to apply \"\"\"\n",
    "\n",
    "# The name can be selected in \n",
    "\"stft\"      # Power spectrum (STFT)\n",
    "\"mel\"       # Spectrum in Mel scale\n",
    "\"chroma\"    # Chroma vectors\n",
    "\"cqt\"       # Constant-Q transform\n",
    "```\n"
   ]
  },
  {
   "cell_type": "markdown",
   "metadata": {},
   "source": [
    "***\n",
    "<div class=\"alert alert-success\" markdown=\"1\" style=\"color:white; background-color: #192841; border-color: #779ecb\">\n",
    "\n",
    "**Exercise**  \n",
    "\n",
    "  1. Launch the transform computation procedure and check the corresponding structure\n",
    "  2. For each class, select a random element and plot its various transforms on a single plot. You should obtain plots similar to those shown afterwards.\n",
    "  3. For each transform, try to spot major pros and cons of their representation.\n",
    "  \n",
    "</div>\n",
    "\n",
    "***"
   ]
  },
  {
   "cell_type": "code",
   "execution_count": 3,
   "metadata": {},
   "outputs": [],
   "source": [
    "# 0.2 - Pre-process the audio to obtain spectral transforms \n",
    "power_spec = train_dataset.transform(0, \"stft\")"
   ]
  },
  {
   "cell_type": "code",
   "execution_count": 4,
   "metadata": {},
   "outputs": [],
   "source": [
    "#%% Q-0.2.2 - Plot the various transforms \n",
    "\n",
    "######################\n",
    "# YOUR CODE GOES HERE\n",
    "######################\n"
   ]
  },
  {
   "cell_type": "markdown",
   "metadata": {},
   "source": [
    "### Features\n",
    "\n",
    "<div markdown = \"1\">\n",
    "\n",
    "As you might have noted from the previous exercice, most spectral transforms have a very high dimensionality, and might not be suited to exhibit the relevant structure of different classes. To that end, we provide a set of functions for computing several spectral features in the `cml.data` package, we redirect interested readers to this [exhaustive article](http://recherche.ircam.fr/anasyn/peeters/ARTICLES/Peeters_2003_cuidadoaudiofeatures.pdf) on spectral features computation.\n",
    "\n",
    "  |**File**|*Transform*|\n",
    "  |-------:|:----------|\n",
    "  |`spectral_centroid`|Spectral centroid|\n",
    "  |`spectral_bandwidth`|Spectral bandwidth|\n",
    "  |`spectral_contrast`|Spectral contrast|\n",
    "  |`spectral_flatness`|Spectral flatness|\n",
    "  |`spectral_rolloff`|Spectral rolloff|\n",
    "\n",
    "Once again, we provide a function to perform the computation of different features on a complete set. Note that for each feature, we obtain the temporal evolution in a vector. Therefore, for further learning tasks, if you wish to obtain simplified spaces, you might need to compute the mean and standard deviation of each feature.\n",
    "\n",
    "``` Python\n",
    "dataset.feature(index, name)\n",
    "    \"\"\" index   : Specific index in our dataset \"\"\"\n",
    "    \"\"\" name    : Name of the feature to obtain \"\"\"\n",
    "\n",
    "# Name can be chosen inside the following\n",
    "\"loudness\"    # Loudness\n",
    "\"centroid\"    # Spectral centroid\n",
    "\"bandwidth\"   # Spectral bandwidth\n",
    "\"contrast\"    # Spectral contrast\n",
    "\"flatness\"    # Spectral flatness\n",
    "\"rolloff\"     # Spectral rolloff\n",
    "\n",
    "```"
   ]
  },
  {
   "cell_type": "markdown",
   "metadata": {},
   "source": [
    "***\n",
    "<div class=\"alert alert-success\" markdown=\"1\" style=\"color:white; background-color: #192841; border-color: #779ecb\">\n",
    "\n",
    "**Exercise**\n",
    "\n",
    "  1. Launch the feature computation procedure and check the corresponding structure\n",
    "  2. This time for each class, superimpose the plots of various features on a single plot, along with a boxplot of mean and standard deviations. You should obtain plots similar to those shown afterwards.\n",
    "  3. What conclusions can you make on the discriminative power of each feature ?\n",
    "  4. Perform scatter plots of the mean features for all the dataset, while coloring different classes.\n",
    "  5. What conclusions can you make on the discriminative power of mean features ?\n",
    "\n",
    "</div>\n",
    "\n",
    "***"
   ]
  },
  {
   "cell_type": "code",
   "execution_count": 5,
   "metadata": {},
   "outputs": [],
   "source": [
    "# 0.3 - Compute temporal spectral features\n",
    "power_spec = train_dataset.feature(0, \"centroid\")"
   ]
  },
  {
   "cell_type": "code",
   "execution_count": 14,
   "metadata": {},
   "outputs": [],
   "source": [
    "#%% Q-0.3.2 - Plot the various features \n",
    "\n",
    "# Use these styles for boxplot\n",
    "boxprops=dict(linewidth=3, color='white')\n",
    "whiskerprops=dict(linewidth=3, color='white')\n",
    "medianprops=dict(linewidth=2.5, color='firebrick')\n",
    "flierprops = dict(markeredgecolor='white', markerfacecolor='firebrick')\n",
    "\n",
    "######################\n",
    "# YOUR CODE GOES HERE\n",
    "######################\n"
   ]
  },
  {
   "cell_type": "code",
   "execution_count": null,
   "metadata": {},
   "outputs": [],
   "source": [
    "#%% Q-0.3.4 - Observe the distribution of classes for different features\n",
    "\n",
    "# This allows to use 3D rendering in matplotlib\n",
    "from mpl_toolkits.mplot3d import Axes3D\n",
    "plt.figure(figsize=(12,8))\n",
    "# Create a vector of random colors for each class\n",
    "colorVect = np.zeros((3, len(data_struct[\"class_names\"])));\n",
    "for c in range(len(data_struct[\"class_names\"])):\n",
    "    colorVect[:,c] = np.random.rand(3);\n",
    "\n",
    "######################\n",
    "# YOUR CODE GOES HERE\n",
    "######################\n"
   ]
  },
  {
   "cell_type": "markdown",
   "metadata": {},
   "source": [
    "That's it for this tutorial, now remember that we can use any form of description (features) as a basis for learning algorithms. We will see in the next tutorial what we an do with these features."
   ]
  }
 ],
 "metadata": {
  "kernelspec": {
   "display_name": "Python 3 (ipykernel)",
   "language": "python",
   "name": "python3"
  },
  "language_info": {
   "codemirror_mode": {
    "name": "ipython",
    "version": 3
   },
   "file_extension": ".py",
   "mimetype": "text/x-python",
   "name": "python",
   "nbconvert_exporter": "python",
   "pygments_lexer": "ipython3",
   "version": "3.8.8"
  },
  "latex_envs": {
   "LaTeX_envs_menu_present": true,
   "autoclose": false,
   "autocomplete": true,
   "bibliofile": "biblio.bib",
   "cite_by": "apalike",
   "current_citInitial": 1,
   "eqLabelWithNumbers": true,
   "eqNumInitial": 1,
   "hotkeys": {
    "equation": "Ctrl-E",
    "itemize": "Ctrl-I"
   },
   "labels_anchors": false,
   "latex_user_defs": false,
   "report_style_numbering": false,
   "user_envs_cfg": false
  }
 },
 "nbformat": 4,
 "nbformat_minor": 4
}
